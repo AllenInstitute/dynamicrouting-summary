{
 "cells": [
  {
   "cell_type": "code",
   "execution_count": 1,
   "id": "9fe4a4d6-dd3b-4cbf-8a7a-740de7a159c3",
   "metadata": {
    "tags": []
   },
   "outputs": [],
   "source": [
    "%load_ext autoreload\n",
    "%autoreload 2"
   ]
  },
  {
   "cell_type": "code",
   "execution_count": 2,
   "id": "4067586c-ee16-414c-986c-182f2c999791",
   "metadata": {
    "tags": []
   },
   "outputs": [],
   "source": [
    "import polars as pl\n",
    "import pandas as pd\n",
    "import seaborn as sns\n",
    "import matplotlib.pyplot as plt\n",
    "import pyarrow.dataset as ds\n",
    "import npc_lims\n",
    "\n",
    "import utils\n",
    "\n",
    "dfs = utils.get_dfs()\n",
    "units = ds.dataset(npc_lims.get_cache_path('units')).filter(ds.field('default_qc') == True)\n",
    "epochs = utils.add_is_task_first_column(\n",
    "    utils.add_epoch_name_column(dfs['epochs'])\n",
    ")"
   ]
  },
  {
   "cell_type": "code",
   "execution_count": 3,
   "id": "01947408-70a6-4c1f-8416-f1fc14ff8d22",
   "metadata": {
    "tags": []
   },
   "outputs": [
    {
     "name": "stdout",
     "output_type": "stream",
     "text": [
      "CPU times: user 3 µs, sys: 1e+03 ns, total: 4 µs\n",
      "Wall time: 7.87 µs\n"
     ]
    }
   ],
   "source": [
    "%time\n",
    "units = pl.scan_pyarrow_dataset(units)"
   ]
  },
  {
   "cell_type": "code",
   "execution_count": 7,
   "id": "aff5e13e-3b31-4a53-ace2-5ee2f8e7ae6e",
   "metadata": {
    "tags": []
   },
   "outputs": [
    {
     "data": {
      "text/html": [
       "<div><style>\n",
       ".dataframe > thead > tr,\n",
       ".dataframe > tbody > tr {\n",
       "  text-align: right;\n",
       "  white-space: pre-wrap;\n",
       "}\n",
       "</style>\n",
       "<small>shape: (1, 46)</small><table border=\"1\" class=\"dataframe\"><thead><tr><th>num_spikes</th><th>firing_rate</th><th>presence_ratio</th><th>snr</th><th>isi_violations_ratio</th><th>isi_violations_count</th><th>rp_contamination</th><th>rp_violations</th><th>sliding_rp_violation</th><th>amplitude_cutoff</th><th>drift_ptp</th><th>drift_std</th><th>drift_mad</th><th>isolation_distance</th><th>l_ratio</th><th>d_prime</th><th>peak_to_valley</th><th>peak_trough_ratio</th><th>half_width</th><th>repolarization_slope</th><th>recovery_slope</th><th>electrode_group_name</th><th>peak_channel</th><th>cluster_id</th><th>default_qc</th><th>amplitude</th><th>channels</th><th>unit_id</th><th>group_name</th><th>ccf_ap</th><th>ccf_dv</th><th>ccf_ml</th><th>structure</th><th>location</th><th>peak_electrode</th><th>spike_times</th><th>obs_intervals</th><th>electrodes</th><th>waveform_mean</th><th>waveform_sd</th><th>device_name</th><th>session_idx</th><th>date</th><th>subject_id</th><th>id</th><th>session_id</th></tr><tr><td>f64</td><td>f64</td><td>f64</td><td>f64</td><td>f64</td><td>f64</td><td>f64</td><td>f64</td><td>f64</td><td>f64</td><td>f64</td><td>f64</td><td>f64</td><td>f64</td><td>f64</td><td>f64</td><td>f64</td><td>f64</td><td>f64</td><td>f64</td><td>f64</td><td>str</td><td>i64</td><td>i64</td><td>bool</td><td>f64</td><td>list[i64]</td><td>str</td><td>str</td><td>f64</td><td>f64</td><td>f64</td><td>str</td><td>str</td><td>i64</td><td>list[f64]</td><td>list[list[f64]]</td><td>list[i64]</td><td>list[list[f32]]</td><td>list[list[f32]]</td><td>str</td><td>i64</td><td>date</td><td>i64</td><td>i64</td><td>str</td></tr></thead><tbody><tr><td>28697.0</td><td>7.602027</td><td>0.951613</td><td>13.738011</td><td>0.003056</td><td>2.0</td><td>0.004594</td><td>2.0</td><td>0.005</td><td>0.00005</td><td>15.307829</td><td>3.058937</td><td>4.272146</td><td>101.515747</td><td>0.743907</td><td>4.411215</td><td>0.00074</td><td>-0.260198</td><td>0.000217</td><td>749399.217529</td><td>-81810.487934</td><td>&quot;probeF&quot;</td><td>127</td><td>434</td><td>true</td><td>190.644531</td><td>[119, 120, … 136]</td><td>&quot;620263_2022-07…</td><td>&quot;probeF&quot;</td><td>4700.0</td><td>2100.0</td><td>5300.0</td><td>&quot;ACAd&quot;</td><td>&quot;ACAd5&quot;</td><td>895</td><td>[186.06981, 231.10156, … 3815.526702]</td><td>[[40.681284, 3815.585968]]</td><td>[887, 888, … 904]</td><td>[[-0.73476, 0.09828, … -0.739439], [-0.2106, 0.72072, … -0.29952], … [0.702, -0.996841, … 0.3276]]</td><td>[[18.319595, 24.935675, … 22.614162], [18.689837, 23.324684, … 21.559978], … [18.158464, 29.49519, … 22.509325]]</td><td>&quot;18005121302&quot;</td><td>0</td><td>2022-07-26</td><td>620263</td><td>851</td><td>&quot;620263_2022-07…</td></tr></tbody></table></div>"
      ],
      "text/plain": [
       "shape: (1, 46)\n",
       "┌────────────┬────────────┬────────────┬───────────┬───┬────────────┬────────────┬─────┬───────────┐\n",
       "│ num_spikes ┆ firing_rat ┆ presence_r ┆ snr       ┆ … ┆ date       ┆ subject_id ┆ id  ┆ session_i │\n",
       "│ ---        ┆ e          ┆ atio       ┆ ---       ┆   ┆ ---        ┆ ---        ┆ --- ┆ d         │\n",
       "│ f64        ┆ ---        ┆ ---        ┆ f64       ┆   ┆ date       ┆ i64        ┆ i64 ┆ ---       │\n",
       "│            ┆ f64        ┆ f64        ┆           ┆   ┆            ┆            ┆     ┆ str       │\n",
       "╞════════════╪════════════╪════════════╪═══════════╪═══╪════════════╪════════════╪═════╪═══════════╡\n",
       "│ 28697.0    ┆ 7.602027   ┆ 0.951613   ┆ 13.738011 ┆ … ┆ 2022-07-26 ┆ 620263     ┆ 851 ┆ 620263_20 │\n",
       "│            ┆            ┆            ┆           ┆   ┆            ┆            ┆     ┆ 22-07-26_ │\n",
       "│            ┆            ┆            ┆           ┆   ┆            ┆            ┆     ┆ 0         │\n",
       "└────────────┴────────────┴────────────┴───────────┴───┴────────────┴────────────┴─────┴───────────┘"
      ]
     },
     "execution_count": 7,
     "metadata": {},
     "output_type": "execute_result"
    }
   ],
   "source": [
    "units = utils.add_session_id_column(units)\n",
    "units.head(1).collect(streaming=True)"
   ]
  },
  {
   "cell_type": "code",
   "execution_count": null,
   "id": "33427236-9c4e-4fe0-80bc-aa0b2637505b",
   "metadata": {
    "tags": []
   },
   "outputs": [],
   "source": [
    "units.partition_by('subject_id', 'date', 'electrode_group_name', as_dict=True)"
   ]
  }
 ],
 "metadata": {
  "kernelspec": {
   "display_name": "Python 3 (ipykernel)",
   "language": "python",
   "name": "python3"
  },
  "language_info": {
   "codemirror_mode": {
    "name": "ipython",
    "version": 3
   },
   "file_extension": ".py",
   "mimetype": "text/x-python",
   "name": "python",
   "nbconvert_exporter": "python",
   "pygments_lexer": "ipython3",
   "version": "3.9.12"
  }
 },
 "nbformat": 4,
 "nbformat_minor": 5
}
