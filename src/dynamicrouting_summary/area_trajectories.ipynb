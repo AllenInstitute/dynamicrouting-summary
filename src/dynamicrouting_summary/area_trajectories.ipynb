{
 "cells": [
  {
   "cell_type": "code",
   "execution_count": 19,
   "metadata": {},
   "outputs": [],
   "source": [
    "import dynamicrouting_summary as dr\n",
    "import pandas as pd\n",
    "import seaborn as sns\n",
    "import matplotlib.pyplot as plt\n",
    "import oursin as urchin\n",
    "import numpy as np\n",
    "import pathlib\n",
    "import npc_session\n",
    "import npc_lims\n",
    "import sqlite3\n",
    "from sqlalchemy import create_engine"
   ]
  },
  {
   "cell_type": "code",
   "execution_count": 2,
   "metadata": {},
   "outputs": [
    {
     "data": {
      "text/html": [
       "<div>\n",
       "<style scoped>\n",
       "    .dataframe tbody tr th:only-of-type {\n",
       "        vertical-align: middle;\n",
       "    }\n",
       "\n",
       "    .dataframe tbody tr th {\n",
       "        vertical-align: top;\n",
       "    }\n",
       "\n",
       "    .dataframe thead th {\n",
       "        text-align: right;\n",
       "    }\n",
       "</style>\n",
       "<table border=\"1\" class=\"dataframe\">\n",
       "  <thead>\n",
       "    <tr style=\"text-align: right;\">\n",
       "      <th></th>\n",
       "      <th>session</th>\n",
       "      <th>MID</th>\n",
       "      <th>Probe</th>\n",
       "      <th>Implant</th>\n",
       "      <th>Hole</th>\n",
       "    </tr>\n",
       "  </thead>\n",
       "  <tbody>\n",
       "    <tr>\n",
       "      <th>0</th>\n",
       "      <td>1167400342</td>\n",
       "      <td>599657</td>\n",
       "      <td>A</td>\n",
       "      <td>41</td>\n",
       "      <td>None</td>\n",
       "    </tr>\n",
       "    <tr>\n",
       "      <th>1</th>\n",
       "      <td>1167400342</td>\n",
       "      <td>599657</td>\n",
       "      <td>B</td>\n",
       "      <td>41</td>\n",
       "      <td>None</td>\n",
       "    </tr>\n",
       "    <tr>\n",
       "      <th>2</th>\n",
       "      <td>1167400342</td>\n",
       "      <td>599657</td>\n",
       "      <td>C</td>\n",
       "      <td>41</td>\n",
       "      <td>None</td>\n",
       "    </tr>\n",
       "    <tr>\n",
       "      <th>3</th>\n",
       "      <td>1167400342</td>\n",
       "      <td>599657</td>\n",
       "      <td>D</td>\n",
       "      <td>41</td>\n",
       "      <td>None</td>\n",
       "    </tr>\n",
       "    <tr>\n",
       "      <th>4</th>\n",
       "      <td>1167400342</td>\n",
       "      <td>599657</td>\n",
       "      <td>E</td>\n",
       "      <td>41</td>\n",
       "      <td>None</td>\n",
       "    </tr>\n",
       "    <tr>\n",
       "      <th>...</th>\n",
       "      <td>...</td>\n",
       "      <td>...</td>\n",
       "      <td>...</td>\n",
       "      <td>...</td>\n",
       "      <td>...</td>\n",
       "    </tr>\n",
       "    <tr>\n",
       "      <th>1207</th>\n",
       "      <td>686176_2023-12-07</td>\n",
       "      <td>686176</td>\n",
       "      <td>B</td>\n",
       "      <td>2002</td>\n",
       "      <td>F1</td>\n",
       "    </tr>\n",
       "    <tr>\n",
       "      <th>1208</th>\n",
       "      <td>686176_2023-12-07</td>\n",
       "      <td>686176</td>\n",
       "      <td>C</td>\n",
       "      <td>2002</td>\n",
       "      <td>F3</td>\n",
       "    </tr>\n",
       "    <tr>\n",
       "      <th>1209</th>\n",
       "      <td>686176_2023-12-07</td>\n",
       "      <td>686176</td>\n",
       "      <td>D</td>\n",
       "      <td>2002</td>\n",
       "      <td>D2</td>\n",
       "    </tr>\n",
       "    <tr>\n",
       "      <th>1210</th>\n",
       "      <td>686176_2023-12-07</td>\n",
       "      <td>686176</td>\n",
       "      <td>E</td>\n",
       "      <td>2002</td>\n",
       "      <td>E2</td>\n",
       "    </tr>\n",
       "    <tr>\n",
       "      <th>1211</th>\n",
       "      <td>686176_2023-12-07</td>\n",
       "      <td>686176</td>\n",
       "      <td>F</td>\n",
       "      <td>2002</td>\n",
       "      <td>E1</td>\n",
       "    </tr>\n",
       "  </tbody>\n",
       "</table>\n",
       "<p>1212 rows × 5 columns</p>\n",
       "</div>"
      ],
      "text/plain": [
       "                session     MID Probe Implant  Hole\n",
       "0            1167400342  599657     A      41  None\n",
       "1            1167400342  599657     B      41  None\n",
       "2            1167400342  599657     C      41  None\n",
       "3            1167400342  599657     D      41  None\n",
       "4            1167400342  599657     E      41  None\n",
       "...                 ...     ...   ...     ...   ...\n",
       "1207  686176_2023-12-07  686176     B    2002    F1\n",
       "1208  686176_2023-12-07  686176     C    2002    F3\n",
       "1209  686176_2023-12-07  686176     D    2002    D2\n",
       "1210  686176_2023-12-07  686176     E    2002    E2\n",
       "1211  686176_2023-12-07  686176     F    2002    E1\n",
       "\n",
       "[1212 rows x 5 columns]"
      ]
     },
     "execution_count": 2,
     "metadata": {},
     "output_type": "execute_result"
    }
   ],
   "source": [
    " # allow integers >8 bytes to be stored in sqlite3\n",
    "sqlite3.register_adapter(np.int64, lambda val: int(val))\n",
    "sqlite3.register_adapter(np.int32, lambda val: int(val))\n",
    "# ------------------------------------------------------------------------------------\n",
    "DB_PATH = pathlib.Path('//allen/programs/mindscope/workgroups/dynamicrouting/dynamic_gating_insertions/dr_master.db')\n",
    "# with contextlib.suppress(OSError):\n",
    "#     DB_PATH.unlink()\n",
    "sqlite3.connect(DB_PATH).close()\n",
    "DB = f\"sqlite:///{DB_PATH}\"\n",
    "ENGINE = create_engine(DB, echo=False)\n",
    "\n",
    "df_ccf = pd.read_sql('channel_ccf_coords', con=ENGINE)[['session', 'MID', 'Probe', 'Implant', 'Hole']]\n",
    "df_ccf"
   ]
  },
  {
   "cell_type": "code",
   "execution_count": 15,
   "metadata": {},
   "outputs": [],
   "source": [
    "dfs = dr.get_dfs(version='v0.0.184')"
   ]
  },
  {
   "cell_type": "code",
   "execution_count": 16,
   "metadata": {},
   "outputs": [
    {
     "data": {
      "text/plain": [
       "KeysView(LazyDict(keys=['session', 'subject', 'epochs', 'trials', 'performance', 'vis_rf_mapping', 'aud_rf_mapping', 'optotagging', 'invalid_times', 'devices', 'electrode_groups', 'electrodes']))"
      ]
     },
     "execution_count": 16,
     "metadata": {},
     "output_type": "execute_result"
    }
   ],
   "source": [
    "dfs.keys()"
   ]
  },
  {
   "cell_type": "code",
   "execution_count": 17,
   "metadata": {},
   "outputs": [
    {
     "ename": "FileNotFoundError",
     "evalue": "aind-scratch-data/ben.hardcastle/cache/nwb_components/v0.0.188/consolidated/session.parquet",
     "output_type": "error",
     "traceback": [
      "\u001b[1;31m---------------------------------------------------------------------------\u001b[0m",
      "\u001b[1;31mFileNotFoundError\u001b[0m                         Traceback (most recent call last)",
      "Cell \u001b[1;32mIn[17], line 1\u001b[0m\n\u001b[1;32m----> 1\u001b[0m electrodes_original \u001b[38;5;241m=\u001b[39m \u001b[43mdfs\u001b[49m\u001b[43m[\u001b[49m\u001b[38;5;124;43m'\u001b[39;49m\u001b[38;5;124;43melectrodes\u001b[39;49m\u001b[38;5;124;43m'\u001b[39;49m\u001b[43m]\u001b[49m\n\u001b[0;32m      2\u001b[0m electrodes_original\n",
      "File \u001b[1;32m~\\source\\repos\\dynamicrouting-summary\\src\\dynamicrouting_summary\\utils.py:112\u001b[0m, in \u001b[0;36mLazyDict.__getitem__\u001b[1;34m(self, key)\u001b[0m\n\u001b[0;32m    110\u001b[0m \u001b[38;5;28;01mwith\u001b[39;00m contextlib\u001b[38;5;241m.\u001b[39msuppress(\u001b[38;5;167;01mTypeError\u001b[39;00m):\n\u001b[0;32m    111\u001b[0m     func, args, \u001b[38;5;241m*\u001b[39mkwargs \u001b[38;5;241m=\u001b[39m \u001b[38;5;28mself\u001b[39m\u001b[38;5;241m.\u001b[39m_raw_dict\u001b[38;5;241m.\u001b[39m\u001b[38;5;21m__getitem__\u001b[39m(key)\n\u001b[1;32m--> 112\u001b[0m     \u001b[38;5;28mself\u001b[39m\u001b[38;5;241m.\u001b[39m_raw_dict\u001b[38;5;241m.\u001b[39m\u001b[38;5;21m__setitem__\u001b[39m(key, func(\u001b[38;5;241m*\u001b[39margs, \u001b[38;5;241m*\u001b[39m\u001b[38;5;241m*\u001b[39mkwargs[\u001b[38;5;241m0\u001b[39m]))\n\u001b[0;32m    113\u001b[0m \u001b[38;5;28;01mreturn\u001b[39;00m \u001b[38;5;28mself\u001b[39m\u001b[38;5;241m.\u001b[39m_raw_dict\u001b[38;5;241m.\u001b[39m\u001b[38;5;21m__getitem__\u001b[39m(key)\n",
      "File \u001b[1;32m~\\source\\repos\\dynamicrouting-summary\\src\\dynamicrouting_summary\\dataframes.py:16\u001b[0m, in \u001b[0;36mget_dfs.<locals>._helper\u001b[1;34m(component, version, with_bool_columns)\u001b[0m\n\u001b[0;32m     14\u001b[0m df \u001b[38;5;241m=\u001b[39m pd\u001b[38;5;241m.\u001b[39mread_parquet(npc_lims\u001b[38;5;241m.\u001b[39mget_cache_path(component, version\u001b[38;5;241m=\u001b[39mversion))\n\u001b[0;32m     15\u001b[0m \u001b[38;5;28;01mif\u001b[39;00m with_bool_columns:\n\u001b[1;32m---> 16\u001b[0m     df \u001b[38;5;241m=\u001b[39m \u001b[43mutils\u001b[49m\u001b[38;5;241;43m.\u001b[39;49m\u001b[43madd_bool_columns\u001b[49m\u001b[43m(\u001b[49m\u001b[43mdf\u001b[49m\u001b[43m)\u001b[49m\n\u001b[0;32m     17\u001b[0m \u001b[38;5;28;01mreturn\u001b[39;00m df\n",
      "File \u001b[1;32m~\\source\\repos\\dynamicrouting-summary\\src\\dynamicrouting_summary\\utils.py:79\u001b[0m, in \u001b[0;36madd_bool_columns\u001b[1;34m(df, version)\u001b[0m\n\u001b[0;32m     66\u001b[0m \u001b[38;5;28;01mdef\u001b[39;00m \u001b[38;5;21madd_bool_columns\u001b[39m(df: pd\u001b[38;5;241m.\u001b[39mDataFrame, version: \u001b[38;5;28mstr\u001b[39m \u001b[38;5;241m|\u001b[39m \u001b[38;5;28;01mNone\u001b[39;00m \u001b[38;5;241m=\u001b[39m \u001b[38;5;28;01mNone\u001b[39;00m) \u001b[38;5;241m-\u001b[39m\u001b[38;5;241m>\u001b[39m pd\u001b[38;5;241m.\u001b[39mDataFrame:\n\u001b[0;32m     67\u001b[0m \u001b[38;5;250m    \u001b[39m\u001b[38;5;124;03m\"\"\"\u001b[39;00m\n\u001b[0;32m     68\u001b[0m \u001b[38;5;124;03m    Function to add bool columns: is_ephys, is_templeton, is_training as columns to row of dataframe\u001b[39;00m\n\u001b[0;32m     69\u001b[0m \u001b[38;5;124;03m    Assumes each row has subject_id, date, and session idx columns\u001b[39;00m\n\u001b[1;32m   (...)\u001b[0m\n\u001b[0;32m     77\u001b[0m \u001b[38;5;124;03m    0       660023  2023-08-09            0  660023_2023-08-09_0      True         False        False                True    False\u001b[39;00m\n\u001b[0;32m     78\u001b[0m \u001b[38;5;124;03m    \"\"\"\u001b[39;00m\n\u001b[1;32m---> 79\u001b[0m     session_bools_df \u001b[38;5;241m=\u001b[39m \u001b[43mget_session_bools_df\u001b[49m\u001b[43m(\u001b[49m\u001b[43mversion\u001b[49m\u001b[38;5;241;43m=\u001b[39;49m\u001b[43mversion\u001b[49m\u001b[43m)\u001b[49m\n\u001b[0;32m     80\u001b[0m     \u001b[38;5;28;01mreturn\u001b[39;00m add_session_id_column(df)\u001b[38;5;241m.\u001b[39mmerge(session_bools_df, on\u001b[38;5;241m=\u001b[39m[\u001b[38;5;124m'\u001b[39m\u001b[38;5;124msession_id\u001b[39m\u001b[38;5;124m'\u001b[39m])\n",
      "File \u001b[1;32m~\\source\\repos\\dynamicrouting-summary\\src\\dynamicrouting_summary\\utils.py:38\u001b[0m, in \u001b[0;36mget_session_bools_df\u001b[1;34m(version)\u001b[0m\n\u001b[0;32m     29\u001b[0m \u001b[38;5;129m@functools\u001b[39m\u001b[38;5;241m.\u001b[39mcache\n\u001b[0;32m     30\u001b[0m \u001b[38;5;28;01mdef\u001b[39;00m \u001b[38;5;21mget_session_bools_df\u001b[39m(version: \u001b[38;5;28mstr\u001b[39m \u001b[38;5;241m|\u001b[39m \u001b[38;5;28;01mNone\u001b[39;00m \u001b[38;5;241m=\u001b[39m \u001b[38;5;28;01mNone\u001b[39;00m) \u001b[38;5;241m-\u001b[39m\u001b[38;5;241m>\u001b[39m pd\u001b[38;5;241m.\u001b[39mDataFrame:\n\u001b[0;32m     31\u001b[0m \u001b[38;5;250m    \u001b[39m\u001b[38;5;124;03m\"\"\"Get a dataframe with session_id, is_ephys, is_templeton, is_training, is_dynamic_routing columns.\u001b[39;00m\n\u001b[0;32m     32\u001b[0m \u001b[38;5;124;03m    \u001b[39;00m\n\u001b[0;32m     33\u001b[0m \u001b[38;5;124;03m    >>> get_session_bools_df().columns\u001b[39;00m\n\u001b[1;32m   (...)\u001b[0m\n\u001b[0;32m     36\u001b[0m \u001b[38;5;124;03m          dtype='object')\u001b[39;00m\n\u001b[0;32m     37\u001b[0m \u001b[38;5;124;03m    \"\"\"\u001b[39;00m\n\u001b[1;32m---> 38\u001b[0m     session_df \u001b[38;5;241m=\u001b[39m \u001b[43mpd\u001b[49m\u001b[38;5;241;43m.\u001b[39;49m\u001b[43mread_parquet\u001b[49m\u001b[43m(\u001b[49m\u001b[43mnpc_lims\u001b[49m\u001b[38;5;241;43m.\u001b[39;49m\u001b[43mget_cache_path\u001b[49m\u001b[43m(\u001b[49m\u001b[38;5;124;43m'\u001b[39;49m\u001b[38;5;124;43msession\u001b[39;49m\u001b[38;5;124;43m'\u001b[39;49m\u001b[43m,\u001b[49m\u001b[43m \u001b[49m\u001b[43mversion\u001b[49m\u001b[38;5;241;43m=\u001b[39;49m\u001b[43mversion\u001b[49m\u001b[43m)\u001b[49m\u001b[43m)\u001b[49m\n\u001b[0;32m     39\u001b[0m     session_df \u001b[38;5;241m=\u001b[39m add_session_id_column(session_df)\n\u001b[0;32m     40\u001b[0m     bools_df \u001b[38;5;241m=\u001b[39m pd\u001b[38;5;241m.\u001b[39mDataFrame(\n\u001b[0;32m     41\u001b[0m         \u001b[38;5;28mdict\u001b[39m(\n\u001b[0;32m     42\u001b[0m             is_ephys \u001b[38;5;241m=\u001b[39m session_df\u001b[38;5;241m.\u001b[39mkeywords\u001b[38;5;241m.\u001b[39mmap({\u001b[38;5;124m'\u001b[39m\u001b[38;5;124mephys\u001b[39m\u001b[38;5;124m'\u001b[39m}\u001b[38;5;241m.\u001b[39missubset),\n\u001b[1;32m   (...)\u001b[0m\n\u001b[0;32m     47\u001b[0m         )\n\u001b[0;32m     48\u001b[0m     )\n",
      "File \u001b[1;32mc:\\Users\\arjun.sridhar\\Anaconda3\\envs\\dr_summary\\lib\\site-packages\\pandas\\io\\parquet.py:667\u001b[0m, in \u001b[0;36mread_parquet\u001b[1;34m(path, engine, columns, storage_options, use_nullable_dtypes, dtype_backend, filesystem, filters, **kwargs)\u001b[0m\n\u001b[0;32m    664\u001b[0m     use_nullable_dtypes \u001b[38;5;241m=\u001b[39m \u001b[38;5;28;01mFalse\u001b[39;00m\n\u001b[0;32m    665\u001b[0m check_dtype_backend(dtype_backend)\n\u001b[1;32m--> 667\u001b[0m \u001b[38;5;28;01mreturn\u001b[39;00m impl\u001b[38;5;241m.\u001b[39mread(\n\u001b[0;32m    668\u001b[0m     path,\n\u001b[0;32m    669\u001b[0m     columns\u001b[38;5;241m=\u001b[39mcolumns,\n\u001b[0;32m    670\u001b[0m     filters\u001b[38;5;241m=\u001b[39mfilters,\n\u001b[0;32m    671\u001b[0m     storage_options\u001b[38;5;241m=\u001b[39mstorage_options,\n\u001b[0;32m    672\u001b[0m     use_nullable_dtypes\u001b[38;5;241m=\u001b[39muse_nullable_dtypes,\n\u001b[0;32m    673\u001b[0m     dtype_backend\u001b[38;5;241m=\u001b[39mdtype_backend,\n\u001b[0;32m    674\u001b[0m     filesystem\u001b[38;5;241m=\u001b[39mfilesystem,\n\u001b[0;32m    675\u001b[0m     \u001b[38;5;241m*\u001b[39m\u001b[38;5;241m*\u001b[39mkwargs,\n\u001b[0;32m    676\u001b[0m )\n",
      "File \u001b[1;32mc:\\Users\\arjun.sridhar\\Anaconda3\\envs\\dr_summary\\lib\\site-packages\\pandas\\io\\parquet.py:274\u001b[0m, in \u001b[0;36mPyArrowImpl.read\u001b[1;34m(self, path, columns, filters, use_nullable_dtypes, dtype_backend, storage_options, filesystem, **kwargs)\u001b[0m\n\u001b[0;32m    267\u001b[0m path_or_handle, handles, filesystem \u001b[38;5;241m=\u001b[39m _get_path_or_handle(\n\u001b[0;32m    268\u001b[0m     path,\n\u001b[0;32m    269\u001b[0m     filesystem,\n\u001b[0;32m    270\u001b[0m     storage_options\u001b[38;5;241m=\u001b[39mstorage_options,\n\u001b[0;32m    271\u001b[0m     mode\u001b[38;5;241m=\u001b[39m\u001b[38;5;124m\"\u001b[39m\u001b[38;5;124mrb\u001b[39m\u001b[38;5;124m\"\u001b[39m,\n\u001b[0;32m    272\u001b[0m )\n\u001b[0;32m    273\u001b[0m \u001b[38;5;28;01mtry\u001b[39;00m:\n\u001b[1;32m--> 274\u001b[0m     pa_table \u001b[38;5;241m=\u001b[39m \u001b[38;5;28mself\u001b[39m\u001b[38;5;241m.\u001b[39mapi\u001b[38;5;241m.\u001b[39mparquet\u001b[38;5;241m.\u001b[39mread_table(\n\u001b[0;32m    275\u001b[0m         path_or_handle,\n\u001b[0;32m    276\u001b[0m         columns\u001b[38;5;241m=\u001b[39mcolumns,\n\u001b[0;32m    277\u001b[0m         filesystem\u001b[38;5;241m=\u001b[39mfilesystem,\n\u001b[0;32m    278\u001b[0m         filters\u001b[38;5;241m=\u001b[39mfilters,\n\u001b[0;32m    279\u001b[0m         \u001b[38;5;241m*\u001b[39m\u001b[38;5;241m*\u001b[39mkwargs,\n\u001b[0;32m    280\u001b[0m     )\n\u001b[0;32m    281\u001b[0m     result \u001b[38;5;241m=\u001b[39m pa_table\u001b[38;5;241m.\u001b[39mto_pandas(\u001b[38;5;241m*\u001b[39m\u001b[38;5;241m*\u001b[39mto_pandas_kwargs)\n\u001b[0;32m    283\u001b[0m     \u001b[38;5;28;01mif\u001b[39;00m manager \u001b[38;5;241m==\u001b[39m \u001b[38;5;124m\"\u001b[39m\u001b[38;5;124marray\u001b[39m\u001b[38;5;124m\"\u001b[39m:\n",
      "File \u001b[1;32mc:\\Users\\arjun.sridhar\\Anaconda3\\envs\\dr_summary\\lib\\site-packages\\pyarrow\\parquet\\core.py:1776\u001b[0m, in \u001b[0;36mread_table\u001b[1;34m(source, columns, use_threads, schema, use_pandas_metadata, read_dictionary, memory_map, buffer_size, partitioning, filesystem, filters, use_legacy_dataset, ignore_prefixes, pre_buffer, coerce_int96_timestamp_unit, decryption_properties, thrift_string_size_limit, thrift_container_size_limit, page_checksum_verification)\u001b[0m\n\u001b[0;32m   1770\u001b[0m     warnings\u001b[38;5;241m.\u001b[39mwarn(\n\u001b[0;32m   1771\u001b[0m         \u001b[38;5;124m\"\u001b[39m\u001b[38;5;124mPassing \u001b[39m\u001b[38;5;124m'\u001b[39m\u001b[38;5;124muse_legacy_dataset\u001b[39m\u001b[38;5;124m'\u001b[39m\u001b[38;5;124m is deprecated as of pyarrow 15.0.0 \u001b[39m\u001b[38;5;124m\"\u001b[39m\n\u001b[0;32m   1772\u001b[0m         \u001b[38;5;124m\"\u001b[39m\u001b[38;5;124mand will be removed in a future version.\u001b[39m\u001b[38;5;124m\"\u001b[39m,\n\u001b[0;32m   1773\u001b[0m         \u001b[38;5;167;01mFutureWarning\u001b[39;00m, stacklevel\u001b[38;5;241m=\u001b[39m\u001b[38;5;241m2\u001b[39m)\n\u001b[0;32m   1775\u001b[0m \u001b[38;5;28;01mtry\u001b[39;00m:\n\u001b[1;32m-> 1776\u001b[0m     dataset \u001b[38;5;241m=\u001b[39m \u001b[43mParquetDataset\u001b[49m\u001b[43m(\u001b[49m\n\u001b[0;32m   1777\u001b[0m \u001b[43m        \u001b[49m\u001b[43msource\u001b[49m\u001b[43m,\u001b[49m\n\u001b[0;32m   1778\u001b[0m \u001b[43m        \u001b[49m\u001b[43mschema\u001b[49m\u001b[38;5;241;43m=\u001b[39;49m\u001b[43mschema\u001b[49m\u001b[43m,\u001b[49m\n\u001b[0;32m   1779\u001b[0m \u001b[43m        \u001b[49m\u001b[43mfilesystem\u001b[49m\u001b[38;5;241;43m=\u001b[39;49m\u001b[43mfilesystem\u001b[49m\u001b[43m,\u001b[49m\n\u001b[0;32m   1780\u001b[0m \u001b[43m        \u001b[49m\u001b[43mpartitioning\u001b[49m\u001b[38;5;241;43m=\u001b[39;49m\u001b[43mpartitioning\u001b[49m\u001b[43m,\u001b[49m\n\u001b[0;32m   1781\u001b[0m \u001b[43m        \u001b[49m\u001b[43mmemory_map\u001b[49m\u001b[38;5;241;43m=\u001b[39;49m\u001b[43mmemory_map\u001b[49m\u001b[43m,\u001b[49m\n\u001b[0;32m   1782\u001b[0m \u001b[43m        \u001b[49m\u001b[43mread_dictionary\u001b[49m\u001b[38;5;241;43m=\u001b[39;49m\u001b[43mread_dictionary\u001b[49m\u001b[43m,\u001b[49m\n\u001b[0;32m   1783\u001b[0m \u001b[43m        \u001b[49m\u001b[43mbuffer_size\u001b[49m\u001b[38;5;241;43m=\u001b[39;49m\u001b[43mbuffer_size\u001b[49m\u001b[43m,\u001b[49m\n\u001b[0;32m   1784\u001b[0m \u001b[43m        \u001b[49m\u001b[43mfilters\u001b[49m\u001b[38;5;241;43m=\u001b[39;49m\u001b[43mfilters\u001b[49m\u001b[43m,\u001b[49m\n\u001b[0;32m   1785\u001b[0m \u001b[43m        \u001b[49m\u001b[43mignore_prefixes\u001b[49m\u001b[38;5;241;43m=\u001b[39;49m\u001b[43mignore_prefixes\u001b[49m\u001b[43m,\u001b[49m\n\u001b[0;32m   1786\u001b[0m \u001b[43m        \u001b[49m\u001b[43mpre_buffer\u001b[49m\u001b[38;5;241;43m=\u001b[39;49m\u001b[43mpre_buffer\u001b[49m\u001b[43m,\u001b[49m\n\u001b[0;32m   1787\u001b[0m \u001b[43m        \u001b[49m\u001b[43mcoerce_int96_timestamp_unit\u001b[49m\u001b[38;5;241;43m=\u001b[39;49m\u001b[43mcoerce_int96_timestamp_unit\u001b[49m\u001b[43m,\u001b[49m\n\u001b[0;32m   1788\u001b[0m \u001b[43m        \u001b[49m\u001b[43mthrift_string_size_limit\u001b[49m\u001b[38;5;241;43m=\u001b[39;49m\u001b[43mthrift_string_size_limit\u001b[49m\u001b[43m,\u001b[49m\n\u001b[0;32m   1789\u001b[0m \u001b[43m        \u001b[49m\u001b[43mthrift_container_size_limit\u001b[49m\u001b[38;5;241;43m=\u001b[39;49m\u001b[43mthrift_container_size_limit\u001b[49m\u001b[43m,\u001b[49m\n\u001b[0;32m   1790\u001b[0m \u001b[43m        \u001b[49m\u001b[43mpage_checksum_verification\u001b[49m\u001b[38;5;241;43m=\u001b[39;49m\u001b[43mpage_checksum_verification\u001b[49m\u001b[43m,\u001b[49m\n\u001b[0;32m   1791\u001b[0m \u001b[43m    \u001b[49m\u001b[43m)\u001b[49m\n\u001b[0;32m   1792\u001b[0m \u001b[38;5;28;01mexcept\u001b[39;00m \u001b[38;5;167;01mImportError\u001b[39;00m:\n\u001b[0;32m   1793\u001b[0m     \u001b[38;5;66;03m# fall back on ParquetFile for simple cases when pyarrow.dataset\u001b[39;00m\n\u001b[0;32m   1794\u001b[0m     \u001b[38;5;66;03m# module is not available\u001b[39;00m\n\u001b[0;32m   1795\u001b[0m     \u001b[38;5;28;01mif\u001b[39;00m filters \u001b[38;5;129;01mis\u001b[39;00m \u001b[38;5;129;01mnot\u001b[39;00m \u001b[38;5;28;01mNone\u001b[39;00m:\n",
      "File \u001b[1;32mc:\\Users\\arjun.sridhar\\Anaconda3\\envs\\dr_summary\\lib\\site-packages\\pyarrow\\parquet\\core.py:1354\u001b[0m, in \u001b[0;36mParquetDataset.__init__\u001b[1;34m(self, path_or_paths, filesystem, schema, filters, read_dictionary, memory_map, buffer_size, partitioning, ignore_prefixes, pre_buffer, coerce_int96_timestamp_unit, decryption_properties, thrift_string_size_limit, thrift_container_size_limit, page_checksum_verification, use_legacy_dataset)\u001b[0m\n\u001b[0;32m   1350\u001b[0m \u001b[38;5;28;01mif\u001b[39;00m partitioning \u001b[38;5;241m==\u001b[39m \u001b[38;5;124m\"\u001b[39m\u001b[38;5;124mhive\u001b[39m\u001b[38;5;124m\"\u001b[39m:\n\u001b[0;32m   1351\u001b[0m     partitioning \u001b[38;5;241m=\u001b[39m ds\u001b[38;5;241m.\u001b[39mHivePartitioning\u001b[38;5;241m.\u001b[39mdiscover(\n\u001b[0;32m   1352\u001b[0m         infer_dictionary\u001b[38;5;241m=\u001b[39m\u001b[38;5;28;01mTrue\u001b[39;00m)\n\u001b[1;32m-> 1354\u001b[0m \u001b[38;5;28mself\u001b[39m\u001b[38;5;241m.\u001b[39m_dataset \u001b[38;5;241m=\u001b[39m \u001b[43mds\u001b[49m\u001b[38;5;241;43m.\u001b[39;49m\u001b[43mdataset\u001b[49m\u001b[43m(\u001b[49m\u001b[43mpath_or_paths\u001b[49m\u001b[43m,\u001b[49m\u001b[43m \u001b[49m\u001b[43mfilesystem\u001b[49m\u001b[38;5;241;43m=\u001b[39;49m\u001b[43mfilesystem\u001b[49m\u001b[43m,\u001b[49m\n\u001b[0;32m   1355\u001b[0m \u001b[43m                           \u001b[49m\u001b[43mschema\u001b[49m\u001b[38;5;241;43m=\u001b[39;49m\u001b[43mschema\u001b[49m\u001b[43m,\u001b[49m\u001b[43m \u001b[49m\u001b[38;5;28;43mformat\u001b[39;49m\u001b[38;5;241;43m=\u001b[39;49m\u001b[43mparquet_format\u001b[49m\u001b[43m,\u001b[49m\n\u001b[0;32m   1356\u001b[0m \u001b[43m                           \u001b[49m\u001b[43mpartitioning\u001b[49m\u001b[38;5;241;43m=\u001b[39;49m\u001b[43mpartitioning\u001b[49m\u001b[43m,\u001b[49m\n\u001b[0;32m   1357\u001b[0m \u001b[43m                           \u001b[49m\u001b[43mignore_prefixes\u001b[49m\u001b[38;5;241;43m=\u001b[39;49m\u001b[43mignore_prefixes\u001b[49m\u001b[43m)\u001b[49m\n",
      "File \u001b[1;32mc:\\Users\\arjun.sridhar\\Anaconda3\\envs\\dr_summary\\lib\\site-packages\\pyarrow\\dataset.py:782\u001b[0m, in \u001b[0;36mdataset\u001b[1;34m(source, schema, format, filesystem, partitioning, partition_base_dir, exclude_invalid_files, ignore_prefixes)\u001b[0m\n\u001b[0;32m    771\u001b[0m kwargs \u001b[38;5;241m=\u001b[39m \u001b[38;5;28mdict\u001b[39m(\n\u001b[0;32m    772\u001b[0m     schema\u001b[38;5;241m=\u001b[39mschema,\n\u001b[0;32m    773\u001b[0m     filesystem\u001b[38;5;241m=\u001b[39mfilesystem,\n\u001b[1;32m   (...)\u001b[0m\n\u001b[0;32m    778\u001b[0m     selector_ignore_prefixes\u001b[38;5;241m=\u001b[39mignore_prefixes\n\u001b[0;32m    779\u001b[0m )\n\u001b[0;32m    781\u001b[0m \u001b[38;5;28;01mif\u001b[39;00m _is_path_like(source):\n\u001b[1;32m--> 782\u001b[0m     \u001b[38;5;28;01mreturn\u001b[39;00m _filesystem_dataset(source, \u001b[38;5;241m*\u001b[39m\u001b[38;5;241m*\u001b[39mkwargs)\n\u001b[0;32m    783\u001b[0m \u001b[38;5;28;01melif\u001b[39;00m \u001b[38;5;28misinstance\u001b[39m(source, (\u001b[38;5;28mtuple\u001b[39m, \u001b[38;5;28mlist\u001b[39m)):\n\u001b[0;32m    784\u001b[0m     \u001b[38;5;28;01mif\u001b[39;00m \u001b[38;5;28mall\u001b[39m(_is_path_like(elem) \u001b[38;5;28;01mfor\u001b[39;00m elem \u001b[38;5;129;01min\u001b[39;00m source):\n",
      "File \u001b[1;32mc:\\Users\\arjun.sridhar\\Anaconda3\\envs\\dr_summary\\lib\\site-packages\\pyarrow\\dataset.py:465\u001b[0m, in \u001b[0;36m_filesystem_dataset\u001b[1;34m(source, schema, filesystem, partitioning, format, partition_base_dir, exclude_invalid_files, selector_ignore_prefixes)\u001b[0m\n\u001b[0;32m    463\u001b[0m     fs, paths_or_selector \u001b[38;5;241m=\u001b[39m _ensure_multiple_sources(source, filesystem)\n\u001b[0;32m    464\u001b[0m \u001b[38;5;28;01melse\u001b[39;00m:\n\u001b[1;32m--> 465\u001b[0m     fs, paths_or_selector \u001b[38;5;241m=\u001b[39m \u001b[43m_ensure_single_source\u001b[49m\u001b[43m(\u001b[49m\u001b[43msource\u001b[49m\u001b[43m,\u001b[49m\u001b[43m \u001b[49m\u001b[43mfilesystem\u001b[49m\u001b[43m)\u001b[49m\n\u001b[0;32m    467\u001b[0m options \u001b[38;5;241m=\u001b[39m FileSystemFactoryOptions(\n\u001b[0;32m    468\u001b[0m     partitioning\u001b[38;5;241m=\u001b[39mpartitioning,\n\u001b[0;32m    469\u001b[0m     partition_base_dir\u001b[38;5;241m=\u001b[39mpartition_base_dir,\n\u001b[0;32m    470\u001b[0m     exclude_invalid_files\u001b[38;5;241m=\u001b[39mexclude_invalid_files,\n\u001b[0;32m    471\u001b[0m     selector_ignore_prefixes\u001b[38;5;241m=\u001b[39mselector_ignore_prefixes\n\u001b[0;32m    472\u001b[0m )\n\u001b[0;32m    473\u001b[0m factory \u001b[38;5;241m=\u001b[39m FileSystemDatasetFactory(fs, paths_or_selector, \u001b[38;5;28mformat\u001b[39m, options)\n",
      "File \u001b[1;32mc:\\Users\\arjun.sridhar\\Anaconda3\\envs\\dr_summary\\lib\\site-packages\\pyarrow\\dataset.py:441\u001b[0m, in \u001b[0;36m_ensure_single_source\u001b[1;34m(path, filesystem)\u001b[0m\n\u001b[0;32m    439\u001b[0m     paths_or_selector \u001b[38;5;241m=\u001b[39m [path]\n\u001b[0;32m    440\u001b[0m \u001b[38;5;28;01melse\u001b[39;00m:\n\u001b[1;32m--> 441\u001b[0m     \u001b[38;5;28;01mraise\u001b[39;00m \u001b[38;5;167;01mFileNotFoundError\u001b[39;00m(path)\n\u001b[0;32m    443\u001b[0m \u001b[38;5;28;01mreturn\u001b[39;00m filesystem, paths_or_selector\n",
      "\u001b[1;31mFileNotFoundError\u001b[0m: aind-scratch-data/ben.hardcastle/cache/nwb_components/v0.0.188/consolidated/session.parquet"
     ]
    }
   ],
   "source": [
    "electrodes_original = dfs['electrodes']\n",
    "electrodes_original"
   ]
  },
  {
   "cell_type": "code",
   "execution_count": 22,
   "metadata": {},
   "outputs": [
    {
     "data": {
      "text/plain": [
       "num_spikes: double\n",
       "firing_rate: double\n",
       "presence_ratio: double\n",
       "snr: double\n",
       "isi_violations_ratio: double\n",
       "isi_violations_count: double\n",
       "rp_contamination: double\n",
       "rp_violations: double\n",
       "sliding_rp_violation: double\n",
       "amplitude_cutoff: double\n",
       "amplitude_median: double\n",
       "amplitude_cv_median: double\n",
       "amplitude_cv_range: double\n",
       "sync_spike_2: double\n",
       "sync_spike_4: double\n",
       "sync_spike_8: double\n",
       "firing_range: double\n",
       "drift_ptp: double\n",
       "drift_std: double\n",
       "drift_mad: double\n",
       "isolation_distance: double\n",
       "l_ratio: double\n",
       "d_prime: double\n",
       "silhouette: double\n",
       "nn_hit_rate: double\n",
       "nn_miss_rate: double\n",
       "peak_to_valley: double\n",
       "peak_trough_ratio: double\n",
       "half_width: double\n",
       "repolarization_slope: double\n",
       "recovery_slope: double\n",
       "num_positive_peaks: int64\n",
       "num_negative_peaks: int64\n",
       "velocity_above: double\n",
       "velocity_below: double\n",
       "exp_decay: double\n",
       "spread: double\n",
       "electrode_group_name: string\n",
       "peak_channel: int64\n",
       "cluster_id: int64\n",
       "default_qc: bool\n",
       "amplitude: double\n",
       "channels: list<element: int64>\n",
       "  child 0, element: int64\n",
       "unit_id: string\n",
       "peak_electrode: int64\n",
       "spike_times: list<element: double>\n",
       "  child 0, element: double\n",
       "obs_intervals: list<element: list<element: double>>\n",
       "  child 0, element: list<element: double>\n",
       "      child 0, element: double\n",
       "electrodes: list<element: int64>\n",
       "  child 0, element: int64\n",
       "waveform_mean: list<element: list<element: float>>\n",
       "  child 0, element: list<element: float>\n",
       "      child 0, element: float\n",
       "waveform_sd: list<element: list<element: float>>\n",
       "  child 0, element: list<element: float>\n",
       "      child 0, element: float\n",
       "device_name: string\n",
       "session_idx: int64\n",
       "date: date32[day]\n",
       "subject_id: int64\n",
       "session_id: string\n",
       "id: int64\n",
       "-- schema metadata --\n",
       "pandas: '{\"index_columns\": [\"id\"], \"column_indexes\": [{\"name\": null, \"fie' + 7224"
      ]
     },
     "execution_count": 22,
     "metadata": {},
     "output_type": "execute_result"
    }
   ],
   "source": [
    "import pyarrow.parquet as pq\n",
    "import npc_lims\n",
    "\n",
    "units = pq.ParquetDataset(npc_lims.get_cache_path('units'))\n",
    "units.schema"
   ]
  },
  {
   "cell_type": "code",
   "execution_count": 32,
   "metadata": {},
   "outputs": [],
   "source": [
    "electrodes_original = pq.ParquetDataset(npc_lims.get_cache_path(nwb_component='electrodes', version='v0.0.187')).read_pandas().to_pandas()\n",
    "units_structures = pq.ParquetDataset(npc_lims.get_cache_path(nwb_component='units', version='v0.0.187')).read(columns=['structure', 'location', 'peak_channel', 'subject_id', 'session_idx', 'date', \n",
    "                                       'ccf_ap', 'ccf_dv', 'ccf_ml', 'default_qc']).to_pandas()"
   ]
  },
  {
   "cell_type": "code",
   "execution_count": 35,
   "metadata": {},
   "outputs": [
    {
     "data": {
      "text/plain": [
       "Index(['structure', 'location', 'peak_channel', 'subject_id', 'session_idx',\n",
       "       'date', 'ccf_ap', 'ccf_dv', 'ccf_ml', 'default_qc', 'session_id',\n",
       "       'is_ephys', 'is_templeton', 'is_training', 'is_dynamic_routing',\n",
       "       'is_opto'],\n",
       "      dtype='object')"
      ]
     },
     "execution_count": 35,
     "metadata": {},
     "output_type": "execute_result"
    }
   ],
   "source": [
    "electrodes_original = dr.add_bool_columns(electrodes_original, version='v0.0.187')\n",
    "units_structures_with_bools = dr.add_bool_columns(units_structures, version='v0.0.187')\n",
    "units_structures_with_bools.dropna(inplace=True)\n",
    "units_structures_with_bools.columns"
   ]
  },
  {
   "cell_type": "code",
   "execution_count": 36,
   "metadata": {},
   "outputs": [],
   "source": [
    "import ipywidgets\n",
    "\n",
    "electrodes = electrodes_original.dropna()\n",
    "#electrodes = electrodes[~(electrodes['session_id'].str.contains('662892'))]\n",
    "electrodes = electrodes[~(electrodes['structure'].str.islower())]\n",
    "electrodes = electrodes[electrodes['is_dynamic_routing'] == True]"
   ]
  },
  {
   "cell_type": "code",
   "execution_count": 37,
   "metadata": {},
   "outputs": [
    {
     "data": {
      "text/plain": [
       "Index(['structure', 'location', 'peak_channel', 'subject_id', 'session_idx',\n",
       "       'date', 'ccf_ap', 'ccf_dv', 'ccf_ml', 'default_qc', 'session_id',\n",
       "       'is_ephys', 'is_templeton', 'is_training', 'is_dynamic_routing',\n",
       "       'is_opto'],\n",
       "      dtype='object')"
      ]
     },
     "execution_count": 37,
     "metadata": {},
     "output_type": "execute_result"
    }
   ],
   "source": [
    "units_structures_with_bools_dr = units_structures_with_bools[units_structures_with_bools['is_dynamic_routing'] == True]\n",
    "units_structures_with_bools_dr.columns"
   ]
  },
  {
   "cell_type": "code",
   "execution_count": 38,
   "metadata": {},
   "outputs": [],
   "source": [
    "from ipywidgets import interact, Box"
   ]
  },
  {
   "cell_type": "code",
   "execution_count": 39,
   "metadata": {},
   "outputs": [],
   "source": [
    "def get_subject_colors(electrodes_structures_area: pd.DataFrame) -> list[tuple[int, int, int]]: \n",
    "    subject_colors = dr.utils.generate_subject_random_colors(electrodes_structures_area)\n",
    "    subject_color_list = []\n",
    "\n",
    "    for index, row in electrodes_structures_area.iterrows():\n",
    "        subject_color_list.append(subject_colors[str(row['subject_id'])])\n",
    "    \n",
    "    return subject_color_list"
   ]
  },
  {
   "cell_type": "code",
   "execution_count": 40,
   "metadata": {},
   "outputs": [],
   "source": [
    "unique_implants = df_ccf['Implant'].unique().tolist()\n",
    "unique_implants.append('All')\n",
    "implants_dropdown = ipywidgets.Dropdown(options=unique_implants, value=unique_implants[-1], description='Implants', disabled=False)\n",
    "\n",
    "unique_holes = df_ccf['Hole'].unique().tolist()\n",
    "unique_holes.append('All')\n",
    "holes_dropdown = ipywidgets.Dropdown(options=unique_holes, value=unique_holes[-1], description='Holes', disabled=False)\n",
    "\n",
    "unique_probes = df_ccf['Probe'].unique().tolist()\n",
    "unique_probes.append('All')\n",
    "probes_dropdown = ipywidgets.Dropdown(options=unique_probes, value=unique_probes[-1], description='Probes', disabled=False)"
   ]
  },
  {
   "cell_type": "code",
   "execution_count": 69,
   "metadata": {},
   "outputs": [
    {
     "name": "stdout",
     "output_type": "stream",
     "text": [
      "(URN) disconnected from server\n",
      "(URN) connected to server\n",
      "Login sent with ID: 7f437664, copy this ID into the renderer to connect.\n"
     ]
    }
   ],
   "source": [
    "def update_3d_viewer_based_on_trajectory():\n",
    "    urchin.ccf25.clear()\n",
    "    urchin.clear_meshes()\n",
    "\n",
    "    if implants_dropdown.value == 'All':\n",
    "        pmeshes = urchin.meshes.create(len(electrodes)) #creates 2 primitives, stored in list pmeshes\n",
    "        electrodes_sessions = electrodes\n",
    "        coords = electrodes[['x', 'z', 'y']].to_numpy().tolist()\n",
    "    else:\n",
    "        probe_target_sessions = df_ccf[(df_ccf['Implant'] == implants_dropdown.value) & (df_ccf['Hole'] == holes_dropdown.value)\n",
    "                                    & (df_ccf['Probe'] == probes_dropdown.value)]['session'].tolist()\n",
    "        probe_target_sessions_filtered = []\n",
    "        for session in probe_target_sessions:\n",
    "            try:\n",
    "                session_record = npc_session.SessionRecord(session)\n",
    "                probe_target_sessions_filtered.append(f\"{session_record.subject}_{session_record.date}_{session_record.idx}\")\n",
    "            except ValueError:\n",
    "                pass\n",
    "        \n",
    "        electrodes_sessions = electrodes[electrodes['session_id'].isin(probe_target_sessions_filtered)]\n",
    "        electrodes_sessions = electrodes_sessions[electrodes_sessions['group_name'] == f\"probe{probes_dropdown.value}\"]\n",
    "        pmeshes = urchin.meshes.create(len(electrodes_sessions)) #creates 2 primitives, stored in list pmeshes\n",
    "        coords = electrodes_sessions[['x', 'z', 'y']].to_numpy().tolist()\n",
    "   \n",
    "    \n",
    "    print(f\"Implant {implants_dropdown.value} Hole {holes_dropdown.value} Probe {probes_dropdown.value}\")\n",
    "    print(f\"Sessions: {electrodes_sessions['session_id'].unique().tolist()}\")\n",
    "    urchin.ccf25.root.set_visibility(True)\n",
    "    urchin.ccf25.root.set_material('transparent-lit')\n",
    "    urchin.ccf25.root.set_alpha(0.15)\n",
    "    urchin.ccf25.root.set_color(\"#000000\")\n",
    "\n",
    "    # reorder to AP/ML/DV for Urchin and make a list of lists\n",
    "    coords_list = [[x[0], x[1], x[2]] for x in coords]\n",
    "    sizes_list = [[0.07,0.07,0.07]]*len(coords)\n",
    "\n",
    "    urchin.meshes.set_positions(pmeshes,coords_list) #sets the positions of the primitives\n",
    "    urchin.meshes.set_colors(pmeshes, get_subject_colors(electrodes_sessions))\n",
    "    urchin.meshes.set_scales(pmeshes, sizes_list)\n",
    "\n",
    "    area_list = urchin.ccf25.get_areas(electrodes_sessions['structure'].unique().tolist())\n",
    "    urchin.ccf25.set_visibilities(area_list, True, urchin.utils.Side.LEFT)\n",
    "    urchin.ccf25.set_materials(area_list, 'transparent-unlit', \"left\")\n",
    "    urchin.ccf25.set_alphas(area_list, 0.2, \"left\")"
   ]
  },
  {
   "cell_type": "code",
   "execution_count": 53,
   "metadata": {},
   "outputs": [],
   "source": [
    "def filter_by_implant(implant: str):\n",
    "    if implant == 'All':\n",
    "        holes_dropdown.options = unique_holes\n",
    "        holes_dropdown.value = 'All'\n",
    "    else:\n",
    "        df_implant = df_ccf[df_ccf['Implant'] == implant]\n",
    "        holes_dropdown.options = df_implant['Hole'].unique().tolist()\n",
    "        holes_dropdown.value = holes_dropdown.options[0]"
   ]
  },
  {
   "cell_type": "code",
   "execution_count": 54,
   "metadata": {},
   "outputs": [],
   "source": [
    "def filter_by_implant_hole(implant: str, hole: str):\n",
    "    if implant == 'All' and hole == 'All':\n",
    "        probes_dropdown.options = unique_probes\n",
    "        probes_dropdown.value = 'All'\n",
    "    else:\n",
    "        df_implant_hole = df_ccf[(df_ccf['Implant'] == implant) & (df_ccf['Hole'] == hole)]\n",
    "        probes_dropdown.options = df_implant_hole['Probe'].unique().tolist()\n",
    "        probes_dropdown.value = probes_dropdown.options[0]"
   ]
  },
  {
   "cell_type": "code",
   "execution_count": 44,
   "metadata": {},
   "outputs": [
    {
     "name": "stdout",
     "output_type": "stream",
     "text": [
      "(URN) connected to server\n",
      "Login sent with ID: 7f437664, copy this ID into the renderer to connect.\n"
     ]
    },
    {
     "name": "stdout",
     "output_type": "stream",
     "text": [
      "(URN) disconnected from server\n",
      "(URN) connected to server\n",
      "Login sent with ID: 7f437664, copy this ID into the renderer to connect.\n"
     ]
    }
   ],
   "source": [
    "urchin.setup()"
   ]
  },
  {
   "cell_type": "code",
   "execution_count": 45,
   "metadata": {},
   "outputs": [],
   "source": [
    "urchin.ccf25.load()"
   ]
  },
  {
   "cell_type": "code",
   "execution_count": 46,
   "metadata": {},
   "outputs": [
    {
     "data": {
      "application/vnd.jupyter.widget-view+json": {
       "model_id": "d44fbb9aa7834bf4aae12aea1a77ed9d",
       "version_major": 2,
       "version_minor": 0
      },
      "text/plain": [
       "interactive(children=(Dropdown(description='x', options=('coronal', 'axial', 'sagittal'), value='coronal'), Ou…"
      ]
     },
     "metadata": {},
     "output_type": "display_data"
    }
   ],
   "source": [
    "@interact(x=['coronal', 'axial', 'sagittal'])\n",
    "def camera_rotation(x):\n",
    "    urchin.camera.main.set_rotation(x)\n",
    "    urchin.camera.main.set_mode('perspective')\n",
    "    urchin.camera.main.set_background_color('#ffffff')"
   ]
  },
  {
   "cell_type": "code",
   "execution_count": 47,
   "metadata": {},
   "outputs": [
    {
     "data": {
      "application/vnd.jupyter.widget-view+json": {
       "model_id": "7913db1859ed44769d6cac77e80d06b8",
       "version_major": 2,
       "version_minor": 0
      },
      "text/plain": [
       "interactive(children=(IntSlider(value=45, description='x', max=60, min=5), Output()), _dom_classes=('widget-in…"
      ]
     },
     "metadata": {},
     "output_type": "display_data"
    }
   ],
   "source": [
    "@interact(x=(5, 60))\n",
    "def zoom(x=45):\n",
    "    urchin.camera.main.set_zoom(60-x)"
   ]
  },
  {
   "cell_type": "code",
   "execution_count": 48,
   "metadata": {},
   "outputs": [
    {
     "data": {
      "application/vnd.jupyter.widget-view+json": {
       "model_id": "dd3c5ceb40564ecbbcb5b79a9321f32b",
       "version_major": 2,
       "version_minor": 0
      },
      "text/plain": [
       "Box(children=(Dropdown(description='Implants', index=8, options=('41', 'football', 'TS1', 'TS5', '2002', 'temp…"
      ]
     },
     "execution_count": 48,
     "metadata": {},
     "output_type": "execute_result"
    }
   ],
   "source": [
    "items = [implants_dropdown, holes_dropdown, probes_dropdown]\n",
    "box = Box(children=items)\n",
    "box"
   ]
  },
  {
   "cell_type": "code",
   "execution_count": 62,
   "metadata": {},
   "outputs": [],
   "source": [
    "filter_by_implant(implants_dropdown.value)"
   ]
  },
  {
   "cell_type": "code",
   "execution_count": 63,
   "metadata": {},
   "outputs": [],
   "source": [
    "filter_by_implant_hole(implants_dropdown.value, holes_dropdown.value)"
   ]
  },
  {
   "cell_type": "code",
   "execution_count": 70,
   "metadata": {},
   "outputs": [
    {
     "name": "stdout",
     "output_type": "stream",
     "text": [
      "Implant 2002 Hole C1 Probe C\n",
      "Sessions: ['644867_2023-02-20_0', '649943_2023-02-13_0', '660023_2023-08-09_0', '666986_2023-08-16_0', '666986_2023-08-17_0', '667252_2023-09-25_0', '686740_2023-10-25_0', '686740_2023-10-26_0']\n"
     ]
    }
   ],
   "source": [
    "update_3d_viewer_based_on_trajectory()"
   ]
  },
  {
   "cell_type": "code",
   "execution_count": null,
   "metadata": {},
   "outputs": [],
   "source": [
    "unique_areas = electrodes['structure'].unique()\n",
    "unique_areas.sort()\n",
    "area_dropdown = ipywidgets.Dropdown(options=unique_areas, value=unique_areas[0], description='CCF Structure Area', disabled=False)\n",
    "area_dropdown\n",
    "\n",
    "@interact(x=unique_areas)\n",
    "def update_3d_viewer(x):\n",
    "    urchin.ccf25.clear()\n",
    "    urchin.clear_meshes()\n",
    "    units_structures_with_bools_dr_area = units_structures_with_bools_dr[units_structures_with_bools_dr['structure'] == x]\n",
    "    electrodes_structures_area = electrodes[electrodes['structure'] == x]\n",
    "\n",
    "    print(f\"{x}: {len(electrodes_structures_area['subject_id'].unique())} mice\")\n",
    "    print(f\"{x}: {len(electrodes_structures_area['session_id'].unique())} sessions\")\n",
    "    print(f\"{x}: {len(units_structures_with_bools_dr_area)} units\")\n",
    "\n",
    "    pmeshes = urchin.meshes.create(len(electrodes_structures_area)) #creates 2 primitives, stored in list pmeshes\n",
    "    coords = electrodes_structures_area[['x', 'z', 'y']].to_numpy().tolist()\n",
    "\n",
    "\n",
    "    urchin.ccf25.root.set_visibility(True)\n",
    "    urchin.ccf25.root.set_material('transparent-lit')\n",
    "    urchin.ccf25.root.set_alpha(0.15)\n",
    "    urchin.ccf25.root.set_color(\"#000000\")\n",
    "\n",
    "    # reorder to AP/ML/DV for Urchin and make a list of lists\n",
    "    coords_list = [[x[0], x[1], x[2]] for x in coords]\n",
    "    sizes_list = [[0.07,0.07,0.07]]*len(coords)\n",
    "\n",
    "    urchin.meshes.set_positions(pmeshes,coords_list) #sets the positions of the primitives\n",
    "    urchin.meshes.set_colors(pmeshes, get_subject_colors(electrodes_structures_area))\n",
    "    urchin.meshes.set_scales(pmeshes, sizes_list)\n",
    "\n",
    "    area_list = urchin.ccf25.get_areas([x])\n",
    "\n",
    "    urchin.ccf25.set_visibilities(area_list, True, urchin.utils.Side.LEFT)\n",
    "    urchin.ccf25.set_materials(area_list, 'transparent-unlit', \"left\")\n",
    "    urchin.ccf25.set_alphas(area_list, 0.2, \"left\")\n"
   ]
  },
  {
   "cell_type": "code",
   "execution_count": null,
   "metadata": {},
   "outputs": [],
   "source": [
    "counts = {'area': [], 'num_units': [], 'num_sessions': [], 'num_subjects': []}\n",
    "units_structure_areas_no_white_matter = units_structures_with_bools_dr[~(units_structures_with_bools_dr['structure'].str.islower())]\n",
    "for area in units_structure_areas_no_white_matter['structure'].unique():\n",
    "    units_structure_areas = units_structure_areas_no_white_matter[units_structure_areas_no_white_matter['structure'] == area]\n",
    "    counts['area'].append(area)\n",
    "    counts['num_sessions'].append(len(units_structure_areas['session_id'].unique()))\n",
    "    counts['num_subjects'].append(len(units_structure_areas['subject_id'].unique()))\n",
    "    counts['num_units'].append(len(units_structure_areas))\n",
    "\n",
    "df_counts = pd.DataFrame(counts)"
   ]
  },
  {
   "cell_type": "code",
   "execution_count": null,
   "metadata": {},
   "outputs": [],
   "source": [
    "df_counts.style.applymap(lambda x: 'background-color : red' if x>=3 else '', subset=['num_subjects']).applymap(lambda x: 'background-color : red' if x>150 else '', subset=['num_units'])"
   ]
  }
 ],
 "metadata": {
  "kernelspec": {
   "display_name": "dr_summary",
   "language": "python",
   "name": "python3"
  },
  "language_info": {
   "codemirror_mode": {
    "name": "ipython",
    "version": 3
   },
   "file_extension": ".py",
   "mimetype": "text/x-python",
   "name": "python",
   "nbconvert_exporter": "python",
   "pygments_lexer": "ipython3",
   "version": "3.10.13"
  }
 },
 "nbformat": 4,
 "nbformat_minor": 2
}
