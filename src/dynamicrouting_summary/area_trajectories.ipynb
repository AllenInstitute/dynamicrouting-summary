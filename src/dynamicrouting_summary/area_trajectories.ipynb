{
 "cells": [
  {
   "cell_type": "code",
   "execution_count": 1,
   "metadata": {},
   "outputs": [],
   "source": [
    "import dynamicrouting_summary as dr\n",
    "import pandas as pd\n",
    "import oursin as urchin\n",
    "import numpy as np\n",
    "import pyarrow.parquet as pq\n",
    "import npc_lims\n",
    "import npc_session"
   ]
  },
  {
   "cell_type": "code",
   "execution_count": 2,
   "metadata": {},
   "outputs": [],
   "source": [
    "VERSION = 'v0.0.201'"
   ]
  },
  {
   "cell_type": "code",
   "execution_count": 3,
   "metadata": {},
   "outputs": [
    {
     "data": {
      "text/html": [
       "<div>\n",
       "<style scoped>\n",
       "    .dataframe tbody tr th:only-of-type {\n",
       "        vertical-align: middle;\n",
       "    }\n",
       "\n",
       "    .dataframe tbody tr th {\n",
       "        vertical-align: top;\n",
       "    }\n",
       "\n",
       "    .dataframe thead th {\n",
       "        text-align: right;\n",
       "    }\n",
       "</style>\n",
       "<table border=\"1\" class=\"dataframe\">\n",
       "  <thead>\n",
       "    <tr style=\"text-align: right;\">\n",
       "      <th></th>\n",
       "      <th>session</th>\n",
       "      <th>Probe</th>\n",
       "      <th>Implant</th>\n",
       "      <th>Hole</th>\n",
       "    </tr>\n",
       "  </thead>\n",
       "  <tbody>\n",
       "    <tr>\n",
       "      <th>0</th>\n",
       "      <td>1167400342</td>\n",
       "      <td>A</td>\n",
       "      <td>41</td>\n",
       "      <td>None</td>\n",
       "    </tr>\n",
       "    <tr>\n",
       "      <th>1</th>\n",
       "      <td>1167400342</td>\n",
       "      <td>B</td>\n",
       "      <td>41</td>\n",
       "      <td>None</td>\n",
       "    </tr>\n",
       "    <tr>\n",
       "      <th>2</th>\n",
       "      <td>1167400342</td>\n",
       "      <td>C</td>\n",
       "      <td>41</td>\n",
       "      <td>None</td>\n",
       "    </tr>\n",
       "    <tr>\n",
       "      <th>3</th>\n",
       "      <td>1167400342</td>\n",
       "      <td>D</td>\n",
       "      <td>41</td>\n",
       "      <td>None</td>\n",
       "    </tr>\n",
       "    <tr>\n",
       "      <th>4</th>\n",
       "      <td>1167400342</td>\n",
       "      <td>E</td>\n",
       "      <td>41</td>\n",
       "      <td>None</td>\n",
       "    </tr>\n",
       "    <tr>\n",
       "      <th>...</th>\n",
       "      <td>...</td>\n",
       "      <td>...</td>\n",
       "      <td>...</td>\n",
       "      <td>...</td>\n",
       "    </tr>\n",
       "    <tr>\n",
       "      <th>1207</th>\n",
       "      <td>686176_2023-12-07</td>\n",
       "      <td>B</td>\n",
       "      <td>2002</td>\n",
       "      <td>F1</td>\n",
       "    </tr>\n",
       "    <tr>\n",
       "      <th>1208</th>\n",
       "      <td>686176_2023-12-07</td>\n",
       "      <td>C</td>\n",
       "      <td>2002</td>\n",
       "      <td>F3</td>\n",
       "    </tr>\n",
       "    <tr>\n",
       "      <th>1209</th>\n",
       "      <td>686176_2023-12-07</td>\n",
       "      <td>D</td>\n",
       "      <td>2002</td>\n",
       "      <td>D2</td>\n",
       "    </tr>\n",
       "    <tr>\n",
       "      <th>1210</th>\n",
       "      <td>686176_2023-12-07</td>\n",
       "      <td>E</td>\n",
       "      <td>2002</td>\n",
       "      <td>E2</td>\n",
       "    </tr>\n",
       "    <tr>\n",
       "      <th>1211</th>\n",
       "      <td>686176_2023-12-07</td>\n",
       "      <td>F</td>\n",
       "      <td>2002</td>\n",
       "      <td>E1</td>\n",
       "    </tr>\n",
       "  </tbody>\n",
       "</table>\n",
       "<p>1212 rows × 4 columns</p>\n",
       "</div>"
      ],
      "text/plain": [
       "                session Probe Implant  Hole\n",
       "0            1167400342     A      41  None\n",
       "1            1167400342     B      41  None\n",
       "2            1167400342     C      41  None\n",
       "3            1167400342     D      41  None\n",
       "4            1167400342     E      41  None\n",
       "...                 ...   ...     ...   ...\n",
       "1207  686176_2023-12-07     B    2002    F1\n",
       "1208  686176_2023-12-07     C    2002    F3\n",
       "1209  686176_2023-12-07     D    2002    D2\n",
       "1210  686176_2023-12-07     E    2002    E2\n",
       "1211  686176_2023-12-07     F    2002    E1\n",
       "\n",
       "[1212 rows x 4 columns]"
      ]
     },
     "execution_count": 3,
     "metadata": {},
     "output_type": "execute_result"
    }
   ],
   "source": [
    "connection = npc_lims.get_probe_target_db()\n",
    "\n",
    "cursor = connection.execute(\n",
    "    f\"SELECT * FROM channel_ccf_coords\"\n",
    ")\n",
    "channel_ccf_coords = cursor.fetchall()\n",
    "df_ccf = pd.DataFrame(channel_ccf_coords)[['session', 'Probe', 'Implant', 'Hole']]\n",
    "df_ccf"
   ]
  },
  {
   "cell_type": "code",
   "execution_count": 4,
   "metadata": {},
   "outputs": [
    {
     "data": {
      "text/html": [
       "<div>\n",
       "<style scoped>\n",
       "    .dataframe tbody tr th:only-of-type {\n",
       "        vertical-align: middle;\n",
       "    }\n",
       "\n",
       "    .dataframe tbody tr th {\n",
       "        vertical-align: top;\n",
       "    }\n",
       "\n",
       "    .dataframe thead th {\n",
       "        text-align: right;\n",
       "    }\n",
       "</style>\n",
       "<table border=\"1\" class=\"dataframe\">\n",
       "  <thead>\n",
       "    <tr style=\"text-align: right;\">\n",
       "      <th></th>\n",
       "      <th>index</th>\n",
       "      <th>session</th>\n",
       "      <th>MID</th>\n",
       "      <th>Day</th>\n",
       "      <th>Probe</th>\n",
       "      <th>Implant</th>\n",
       "      <th>Hole</th>\n",
       "      <th>Rig</th>\n",
       "      <th>ACAd</th>\n",
       "      <th>ACAv</th>\n",
       "      <th>...</th>\n",
       "      <th>VISrl</th>\n",
       "      <th>VL</th>\n",
       "      <th>VM</th>\n",
       "      <th>VPL</th>\n",
       "      <th>VPM</th>\n",
       "      <th>VTA</th>\n",
       "      <th>ZI</th>\n",
       "      <th>AUDp</th>\n",
       "      <th>CLA</th>\n",
       "      <th>MGd</th>\n",
       "    </tr>\n",
       "  </thead>\n",
       "  <tbody>\n",
       "    <tr>\n",
       "      <th>0</th>\n",
       "      <td>0</td>\n",
       "      <td>1167400342</td>\n",
       "      <td>599657</td>\n",
       "      <td>1</td>\n",
       "      <td>A</td>\n",
       "      <td>41</td>\n",
       "      <td>None</td>\n",
       "      <td>NP1</td>\n",
       "      <td>894.241234</td>\n",
       "      <td>293.496541</td>\n",
       "      <td>...</td>\n",
       "      <td>3717.397571</td>\n",
       "      <td>1511.714669</td>\n",
       "      <td>1757.501399</td>\n",
       "      <td>2187.950086</td>\n",
       "      <td>2065.528254</td>\n",
       "      <td>2957.023173</td>\n",
       "      <td>2435.497622</td>\n",
       "      <td>4777.061628</td>\n",
       "      <td>3258.406881</td>\n",
       "      <td>None</td>\n",
       "    </tr>\n",
       "    <tr>\n",
       "      <th>1</th>\n",
       "      <td>1</td>\n",
       "      <td>1167400342</td>\n",
       "      <td>599657</td>\n",
       "      <td>1</td>\n",
       "      <td>B</td>\n",
       "      <td>41</td>\n",
       "      <td>None</td>\n",
       "      <td>NP1</td>\n",
       "      <td>3766.656459</td>\n",
       "      <td>3092.767608</td>\n",
       "      <td>...</td>\n",
       "      <td>2537.813094</td>\n",
       "      <td>2216.655435</td>\n",
       "      <td>1915.572059</td>\n",
       "      <td>1958.401341</td>\n",
       "      <td>1584.688959</td>\n",
       "      <td>1707.117166</td>\n",
       "      <td>1822.079975</td>\n",
       "      <td>3884.160363</td>\n",
       "      <td>4155.860785</td>\n",
       "      <td>None</td>\n",
       "    </tr>\n",
       "    <tr>\n",
       "      <th>2</th>\n",
       "      <td>2</td>\n",
       "      <td>1167400342</td>\n",
       "      <td>599657</td>\n",
       "      <td>1</td>\n",
       "      <td>C</td>\n",
       "      <td>41</td>\n",
       "      <td>None</td>\n",
       "      <td>NP1</td>\n",
       "      <td>4842.923394</td>\n",
       "      <td>4219.463946</td>\n",
       "      <td>...</td>\n",
       "      <td>1073.084355</td>\n",
       "      <td>2332.296716</td>\n",
       "      <td>2315.841831</td>\n",
       "      <td>1433.220425</td>\n",
       "      <td>1365.191267</td>\n",
       "      <td>2270.079219</td>\n",
       "      <td>1508.884649</td>\n",
       "      <td>1979.643105</td>\n",
       "      <td>3250.989101</td>\n",
       "      <td>None</td>\n",
       "    </tr>\n",
       "    <tr>\n",
       "      <th>3</th>\n",
       "      <td>3</td>\n",
       "      <td>1167400342</td>\n",
       "      <td>599657</td>\n",
       "      <td>1</td>\n",
       "      <td>D</td>\n",
       "      <td>41</td>\n",
       "      <td>None</td>\n",
       "      <td>NP1</td>\n",
       "      <td>4770.699363</td>\n",
       "      <td>4167.564594</td>\n",
       "      <td>...</td>\n",
       "      <td>758.046498</td>\n",
       "      <td>2302.547298</td>\n",
       "      <td>1846.667289</td>\n",
       "      <td>1370.515003</td>\n",
       "      <td>1223.321302</td>\n",
       "      <td>1499.822519</td>\n",
       "      <td>1050.299251</td>\n",
       "      <td>1458.094812</td>\n",
       "      <td>3412.316956</td>\n",
       "      <td>None</td>\n",
       "    </tr>\n",
       "    <tr>\n",
       "      <th>4</th>\n",
       "      <td>4</td>\n",
       "      <td>1167400342</td>\n",
       "      <td>599657</td>\n",
       "      <td>1</td>\n",
       "      <td>E</td>\n",
       "      <td>41</td>\n",
       "      <td>None</td>\n",
       "      <td>NP1</td>\n",
       "      <td>1620.032438</td>\n",
       "      <td>1035.375340</td>\n",
       "      <td>...</td>\n",
       "      <td>2304.300264</td>\n",
       "      <td>999.356398</td>\n",
       "      <td>1974.711467</td>\n",
       "      <td>2173.203355</td>\n",
       "      <td>2076.896767</td>\n",
       "      <td>3216.244474</td>\n",
       "      <td>2615.137481</td>\n",
       "      <td>3631.178804</td>\n",
       "      <td>3050.176347</td>\n",
       "      <td>None</td>\n",
       "    </tr>\n",
       "    <tr>\n",
       "      <th>...</th>\n",
       "      <td>...</td>\n",
       "      <td>...</td>\n",
       "      <td>...</td>\n",
       "      <td>...</td>\n",
       "      <td>...</td>\n",
       "      <td>...</td>\n",
       "      <td>...</td>\n",
       "      <td>...</td>\n",
       "      <td>...</td>\n",
       "      <td>...</td>\n",
       "      <td>...</td>\n",
       "      <td>...</td>\n",
       "      <td>...</td>\n",
       "      <td>...</td>\n",
       "      <td>...</td>\n",
       "      <td>...</td>\n",
       "      <td>...</td>\n",
       "      <td>...</td>\n",
       "      <td>...</td>\n",
       "      <td>...</td>\n",
       "      <td>...</td>\n",
       "    </tr>\n",
       "    <tr>\n",
       "      <th>1207</th>\n",
       "      <td>1207</td>\n",
       "      <td>686176_2023-12-07</td>\n",
       "      <td>686176</td>\n",
       "      <td>4</td>\n",
       "      <td>B</td>\n",
       "      <td>2002</td>\n",
       "      <td>F1</td>\n",
       "      <td>NP3</td>\n",
       "      <td>2591.920856</td>\n",
       "      <td>2765.588811</td>\n",
       "      <td>...</td>\n",
       "      <td>3569.017130</td>\n",
       "      <td>2323.897410</td>\n",
       "      <td>3580.924882</td>\n",
       "      <td>3037.090758</td>\n",
       "      <td>3270.414301</td>\n",
       "      <td>4958.656451</td>\n",
       "      <td>3691.219065</td>\n",
       "      <td>3915.334805</td>\n",
       "      <td>1188.457602</td>\n",
       "      <td>None</td>\n",
       "    </tr>\n",
       "    <tr>\n",
       "      <th>1208</th>\n",
       "      <td>1208</td>\n",
       "      <td>686176_2023-12-07</td>\n",
       "      <td>686176</td>\n",
       "      <td>4</td>\n",
       "      <td>C</td>\n",
       "      <td>2002</td>\n",
       "      <td>F3</td>\n",
       "      <td>NP3</td>\n",
       "      <td>2276.133680</td>\n",
       "      <td>2326.687364</td>\n",
       "      <td>...</td>\n",
       "      <td>3105.363375</td>\n",
       "      <td>1988.264169</td>\n",
       "      <td>3343.772839</td>\n",
       "      <td>2931.298471</td>\n",
       "      <td>3101.518885</td>\n",
       "      <td>4803.332762</td>\n",
       "      <td>3621.864320</td>\n",
       "      <td>3923.606615</td>\n",
       "      <td>1743.293099</td>\n",
       "      <td>None</td>\n",
       "    </tr>\n",
       "    <tr>\n",
       "      <th>1209</th>\n",
       "      <td>1209</td>\n",
       "      <td>686176_2023-12-07</td>\n",
       "      <td>686176</td>\n",
       "      <td>4</td>\n",
       "      <td>D</td>\n",
       "      <td>2002</td>\n",
       "      <td>D2</td>\n",
       "      <td>NP3</td>\n",
       "      <td>4661.180886</td>\n",
       "      <td>3957.726410</td>\n",
       "      <td>...</td>\n",
       "      <td>1128.271822</td>\n",
       "      <td>2269.143510</td>\n",
       "      <td>1609.781997</td>\n",
       "      <td>1398.306175</td>\n",
       "      <td>1160.684177</td>\n",
       "      <td>1227.248106</td>\n",
       "      <td>1000.282247</td>\n",
       "      <td>2330.878239</td>\n",
       "      <td>3564.377748</td>\n",
       "      <td>None</td>\n",
       "    </tr>\n",
       "    <tr>\n",
       "      <th>1210</th>\n",
       "      <td>1210</td>\n",
       "      <td>686176_2023-12-07</td>\n",
       "      <td>686176</td>\n",
       "      <td>4</td>\n",
       "      <td>E</td>\n",
       "      <td>2002</td>\n",
       "      <td>E2</td>\n",
       "      <td>NP3</td>\n",
       "      <td>5168.735656</td>\n",
       "      <td>4534.621039</td>\n",
       "      <td>...</td>\n",
       "      <td>995.529015</td>\n",
       "      <td>2887.414931</td>\n",
       "      <td>3165.131237</td>\n",
       "      <td>2407.682701</td>\n",
       "      <td>2203.856048</td>\n",
       "      <td>2851.911062</td>\n",
       "      <td>2504.471400</td>\n",
       "      <td>1883.482418</td>\n",
       "      <td>4302.805416</td>\n",
       "      <td>None</td>\n",
       "    </tr>\n",
       "    <tr>\n",
       "      <th>1211</th>\n",
       "      <td>1211</td>\n",
       "      <td>686176_2023-12-07</td>\n",
       "      <td>686176</td>\n",
       "      <td>4</td>\n",
       "      <td>F</td>\n",
       "      <td>2002</td>\n",
       "      <td>E1</td>\n",
       "      <td>NP3</td>\n",
       "      <td>4424.235215</td>\n",
       "      <td>3943.435652</td>\n",
       "      <td>...</td>\n",
       "      <td>480.142751</td>\n",
       "      <td>2200.163781</td>\n",
       "      <td>1869.626985</td>\n",
       "      <td>1384.438735</td>\n",
       "      <td>1307.513775</td>\n",
       "      <td>1371.205605</td>\n",
       "      <td>1056.199221</td>\n",
       "      <td>1508.281943</td>\n",
       "      <td>3264.804359</td>\n",
       "      <td>None</td>\n",
       "    </tr>\n",
       "  </tbody>\n",
       "</table>\n",
       "<p>1212 rows × 139 columns</p>\n",
       "</div>"
      ],
      "text/plain": [
       "      index            session     MID  Day Probe Implant  Hole  Rig  \\\n",
       "0         0         1167400342  599657    1     A      41  None  NP1   \n",
       "1         1         1167400342  599657    1     B      41  None  NP1   \n",
       "2         2         1167400342  599657    1     C      41  None  NP1   \n",
       "3         3         1167400342  599657    1     D      41  None  NP1   \n",
       "4         4         1167400342  599657    1     E      41  None  NP1   \n",
       "...     ...                ...     ...  ...   ...     ...   ...  ...   \n",
       "1207   1207  686176_2023-12-07  686176    4     B    2002    F1  NP3   \n",
       "1208   1208  686176_2023-12-07  686176    4     C    2002    F3  NP3   \n",
       "1209   1209  686176_2023-12-07  686176    4     D    2002    D2  NP3   \n",
       "1210   1210  686176_2023-12-07  686176    4     E    2002    E2  NP3   \n",
       "1211   1211  686176_2023-12-07  686176    4     F    2002    E1  NP3   \n",
       "\n",
       "             ACAd         ACAv  ...        VISrl           VL           VM  \\\n",
       "0      894.241234   293.496541  ...  3717.397571  1511.714669  1757.501399   \n",
       "1     3766.656459  3092.767608  ...  2537.813094  2216.655435  1915.572059   \n",
       "2     4842.923394  4219.463946  ...  1073.084355  2332.296716  2315.841831   \n",
       "3     4770.699363  4167.564594  ...   758.046498  2302.547298  1846.667289   \n",
       "4     1620.032438  1035.375340  ...  2304.300264   999.356398  1974.711467   \n",
       "...           ...          ...  ...          ...          ...          ...   \n",
       "1207  2591.920856  2765.588811  ...  3569.017130  2323.897410  3580.924882   \n",
       "1208  2276.133680  2326.687364  ...  3105.363375  1988.264169  3343.772839   \n",
       "1209  4661.180886  3957.726410  ...  1128.271822  2269.143510  1609.781997   \n",
       "1210  5168.735656  4534.621039  ...   995.529015  2887.414931  3165.131237   \n",
       "1211  4424.235215  3943.435652  ...   480.142751  2200.163781  1869.626985   \n",
       "\n",
       "              VPL          VPM          VTA           ZI         AUDp  \\\n",
       "0     2187.950086  2065.528254  2957.023173  2435.497622  4777.061628   \n",
       "1     1958.401341  1584.688959  1707.117166  1822.079975  3884.160363   \n",
       "2     1433.220425  1365.191267  2270.079219  1508.884649  1979.643105   \n",
       "3     1370.515003  1223.321302  1499.822519  1050.299251  1458.094812   \n",
       "4     2173.203355  2076.896767  3216.244474  2615.137481  3631.178804   \n",
       "...           ...          ...          ...          ...          ...   \n",
       "1207  3037.090758  3270.414301  4958.656451  3691.219065  3915.334805   \n",
       "1208  2931.298471  3101.518885  4803.332762  3621.864320  3923.606615   \n",
       "1209  1398.306175  1160.684177  1227.248106  1000.282247  2330.878239   \n",
       "1210  2407.682701  2203.856048  2851.911062  2504.471400  1883.482418   \n",
       "1211  1384.438735  1307.513775  1371.205605  1056.199221  1508.281943   \n",
       "\n",
       "              CLA   MGd  \n",
       "0     3258.406881  None  \n",
       "1     4155.860785  None  \n",
       "2     3250.989101  None  \n",
       "3     3412.316956  None  \n",
       "4     3050.176347  None  \n",
       "...           ...   ...  \n",
       "1207  1188.457602  None  \n",
       "1208  1743.293099  None  \n",
       "1209  3564.377748  None  \n",
       "1210  4302.805416  None  \n",
       "1211  3264.804359  None  \n",
       "\n",
       "[1212 rows x 139 columns]"
      ]
     },
     "execution_count": 4,
     "metadata": {},
     "output_type": "execute_result"
    }
   ],
   "source": [
    "cursor = connection.execute(\n",
    "    f\"SELECT * FROM min_distance_to_region\"\n",
    ")\n",
    "min_distance = cursor.fetchall()\n",
    "df_min_distance = pd.DataFrame(min_distance)\n",
    "areas_of_interest = df_min_distance.columns[8:].to_list()\n",
    "df_min_distance"
   ]
  },
  {
   "cell_type": "code",
   "execution_count": 5,
   "metadata": {},
   "outputs": [
    {
     "data": {
      "text/plain": [
       "num_spikes: double\n",
       "firing_rate: double\n",
       "presence_ratio: double\n",
       "snr: double\n",
       "isi_violations_ratio: double\n",
       "isi_violations_count: double\n",
       "rp_contamination: double\n",
       "rp_violations: double\n",
       "sliding_rp_violation: double\n",
       "amplitude_cutoff: double\n",
       "drift_ptp: double\n",
       "drift_std: double\n",
       "drift_mad: double\n",
       "isolation_distance: double\n",
       "l_ratio: double\n",
       "d_prime: double\n",
       "peak_to_valley: double\n",
       "peak_trough_ratio: double\n",
       "half_width: double\n",
       "repolarization_slope: double\n",
       "recovery_slope: double\n",
       "electrode_group_name: string\n",
       "peak_channel: int64\n",
       "cluster_id: int64\n",
       "default_qc: bool\n",
       "amplitude: double\n",
       "channels: list<element: int64>\n",
       "  child 0, element: int64\n",
       "unit_id: string\n",
       "group_name: string\n",
       "ccf_ap: double\n",
       "ccf_dv: double\n",
       "ccf_ml: double\n",
       "structure: string\n",
       "location: string\n",
       "peak_electrode: int64\n",
       "obs_intervals: list<element: list<element: double>>\n",
       "  child 0, element: list<element: double>\n",
       "      child 0, element: double\n",
       "electrodes: list<element: int64>\n",
       "  child 0, element: int64\n",
       "device_name: string\n",
       "session_idx: int64\n",
       "date: date32[day]\n",
       "subject_id: int64\n",
       "session_id: string\n",
       "id: int64\n",
       "-- schema metadata --\n",
       "pandas: '{\"index_columns\": [\"id\"], \"column_indexes\": [{\"name\": null, \"fie' + 5883"
      ]
     },
     "execution_count": 5,
     "metadata": {},
     "output_type": "execute_result"
    }
   ],
   "source": [
    "units = pq.ParquetDataset(npc_lims.get_cache_path('units'))\n",
    "units.schema"
   ]
  },
  {
   "cell_type": "code",
   "execution_count": 6,
   "metadata": {},
   "outputs": [],
   "source": [
    "electrode_groups = pq.ParquetDataset(npc_lims.get_cache_path('electrode_groups', version=VERSION)).read_pandas().to_pandas()\n",
    "electrodes_original = pq.ParquetDataset(npc_lims.get_cache_path('electrodes', version=VERSION)).read_pandas().to_pandas()\n",
    "units_structures = pq.ParquetDataset(npc_lims.get_cache_path('units', version=VERSION)).read(columns=['structure', 'location', 'peak_channel', 'subject_id', 'session_idx', 'date', \n",
    "                                      'ccf_ap', 'ccf_dv', 'ccf_ml', 'default_qc']).to_pandas()"
   ]
  },
  {
   "cell_type": "code",
   "execution_count": 7,
   "metadata": {},
   "outputs": [
    {
     "data": {
      "text/plain": [
       "Index(['structure', 'location', 'peak_channel', 'subject_id', 'session_idx',\n",
       "       'date', 'ccf_ap', 'ccf_dv', 'ccf_ml', 'default_qc', 'session_id',\n",
       "       'is_ephys', 'is_templeton', 'is_training', 'is_dynamic_routing',\n",
       "       'is_opto'],\n",
       "      dtype='object')"
      ]
     },
     "execution_count": 7,
     "metadata": {},
     "output_type": "execute_result"
    }
   ],
   "source": [
    "electrodes_original = dr.add_bool_columns(electrodes_original, version=VERSION)\n",
    "units_structures_with_bools = dr.add_bool_columns(units_structures, version=VERSION)\n",
    "units_structures_with_bools.dropna(inplace=True)\n",
    "units_structures_with_bools.columns"
   ]
  },
  {
   "cell_type": "code",
   "execution_count": 8,
   "metadata": {},
   "outputs": [
    {
     "data": {
      "text/plain": [
       "Index(['location', 'group_name', 'structure', 'x', 'y', 'z', 'channel',\n",
       "       'rel_x', 'rel_y', 'reference', 'imp', 'session_idx', 'date',\n",
       "       'subject_id', 'session_id', 'is_ephys', 'is_templeton', 'is_training',\n",
       "       'is_dynamic_routing', 'is_opto'],\n",
       "      dtype='object')"
      ]
     },
     "execution_count": 8,
     "metadata": {},
     "output_type": "execute_result"
    }
   ],
   "source": [
    "electrodes_original.columns"
   ]
  },
  {
   "cell_type": "code",
   "execution_count": 9,
   "metadata": {},
   "outputs": [
    {
     "data": {
      "text/plain": [
       "Index(['location', 'group_name', 'structure', 'x', 'y', 'z', 'channel',\n",
       "       'rel_x', 'rel_y', 'reference', 'imp', 'session_idx', 'date',\n",
       "       'subject_id', 'session_id', 'is_ephys', 'is_templeton', 'is_training',\n",
       "       'is_dynamic_routing', 'is_opto'],\n",
       "      dtype='object')"
      ]
     },
     "execution_count": 9,
     "metadata": {},
     "output_type": "execute_result"
    }
   ],
   "source": [
    "import ipywidgets\n",
    "\n",
    "electrodes = electrodes_original.dropna()\n",
    "electrodes = electrodes[~(electrodes['session_id'].str.contains('662892'))]\n",
    "electrodes = electrodes[~(electrodes['structure'].str.islower())]\n",
    "electrodes = electrodes[electrodes['is_dynamic_routing'] == True]\n",
    "electrodes.columns"
   ]
  },
  {
   "cell_type": "code",
   "execution_count": 27,
   "metadata": {},
   "outputs": [
    {
     "data": {
      "text/html": [
       "<div>\n",
       "<style scoped>\n",
       "    .dataframe tbody tr th:only-of-type {\n",
       "        vertical-align: middle;\n",
       "    }\n",
       "\n",
       "    .dataframe tbody tr th {\n",
       "        vertical-align: top;\n",
       "    }\n",
       "\n",
       "    .dataframe thead th {\n",
       "        text-align: right;\n",
       "    }\n",
       "</style>\n",
       "<table border=\"1\" class=\"dataframe\">\n",
       "  <thead>\n",
       "    <tr style=\"text-align: right;\">\n",
       "      <th></th>\n",
       "      <th>session_id</th>\n",
       "      <th>location_y</th>\n",
       "    </tr>\n",
       "  </thead>\n",
       "  <tbody>\n",
       "    <tr>\n",
       "      <th>0</th>\n",
       "      <td>626791_2022-08-15_0</td>\n",
       "      <td>templ A1</td>\n",
       "    </tr>\n",
       "    <tr>\n",
       "      <th>1</th>\n",
       "      <td>626791_2022-08-15_0</td>\n",
       "      <td>templ A1</td>\n",
       "    </tr>\n",
       "    <tr>\n",
       "      <th>2</th>\n",
       "      <td>626791_2022-08-15_0</td>\n",
       "      <td>templ A1</td>\n",
       "    </tr>\n",
       "    <tr>\n",
       "      <th>3</th>\n",
       "      <td>626791_2022-08-15_0</td>\n",
       "      <td>templ A1</td>\n",
       "    </tr>\n",
       "    <tr>\n",
       "      <th>4</th>\n",
       "      <td>626791_2022-08-15_0</td>\n",
       "      <td>templ A1</td>\n",
       "    </tr>\n",
       "    <tr>\n",
       "      <th>...</th>\n",
       "      <td>...</td>\n",
       "      <td>...</td>\n",
       "    </tr>\n",
       "    <tr>\n",
       "      <th>82169</th>\n",
       "      <td>690706_2023-11-30_0</td>\n",
       "      <td>2005 D1</td>\n",
       "    </tr>\n",
       "    <tr>\n",
       "      <th>82170</th>\n",
       "      <td>690706_2023-11-30_0</td>\n",
       "      <td>2005 D1</td>\n",
       "    </tr>\n",
       "    <tr>\n",
       "      <th>82171</th>\n",
       "      <td>690706_2023-11-30_0</td>\n",
       "      <td>2005 D1</td>\n",
       "    </tr>\n",
       "    <tr>\n",
       "      <th>82172</th>\n",
       "      <td>690706_2023-11-30_0</td>\n",
       "      <td>2005 D1</td>\n",
       "    </tr>\n",
       "    <tr>\n",
       "      <th>82173</th>\n",
       "      <td>690706_2023-11-30_0</td>\n",
       "      <td>2005 D1</td>\n",
       "    </tr>\n",
       "  </tbody>\n",
       "</table>\n",
       "<p>82174 rows × 2 columns</p>\n",
       "</div>"
      ],
      "text/plain": [
       "                session_id location_y\n",
       "0      626791_2022-08-15_0   templ A1\n",
       "1      626791_2022-08-15_0   templ A1\n",
       "2      626791_2022-08-15_0   templ A1\n",
       "3      626791_2022-08-15_0   templ A1\n",
       "4      626791_2022-08-15_0   templ A1\n",
       "...                    ...        ...\n",
       "82169  690706_2023-11-30_0    2005 D1\n",
       "82170  690706_2023-11-30_0    2005 D1\n",
       "82171  690706_2023-11-30_0    2005 D1\n",
       "82172  690706_2023-11-30_0    2005 D1\n",
       "82173  690706_2023-11-30_0    2005 D1\n",
       "\n",
       "[82174 rows x 2 columns]"
      ]
     },
     "execution_count": 27,
     "metadata": {},
     "output_type": "execute_result"
    },
    {
     "name": "stdout",
     "output_type": "stream",
     "text": [
      "(URN) disconnected from server\n",
      "(URN) connected to server\n",
      "Login sent with ID: 54871758, copy this ID into the renderer to connect.\n",
      "(URN) disconnected from server\n",
      "(URN) connected to server\n",
      "Login sent with ID: 54871758, copy this ID into the renderer to connect.\n",
      "(URN) disconnected from server\n",
      "(URN) connected to server\n",
      "Login sent with ID: 54871758, copy this ID into the renderer to connect.\n",
      "(URN) disconnected from server\n",
      "(URN) connected to server\n",
      "Login sent with ID: 54871758, copy this ID into the renderer to connect.\n"
     ]
    }
   ],
   "source": [
    "electrodes[['session_id', 'location_y']]"
   ]
  },
  {
   "cell_type": "code",
   "execution_count": 10,
   "metadata": {},
   "outputs": [
    {
     "data": {
      "text/plain": [
       "Index(['location_x', 'group_name', 'structure', 'x', 'y', 'z', 'channel',\n",
       "       'rel_x', 'rel_y', 'reference', 'imp', 'session_idx_x', 'date_x',\n",
       "       'subject_id_x', 'session_id', 'is_ephys', 'is_templeton', 'is_training',\n",
       "       'is_dynamic_routing', 'is_opto', 'description', 'location_y', 'name',\n",
       "       'session_idx_y', 'date_y', 'subject_id_y'],\n",
       "      dtype='object')"
      ]
     },
     "execution_count": 10,
     "metadata": {},
     "output_type": "execute_result"
    }
   ],
   "source": [
    "electrodes = electrodes.merge(electrode_groups, left_on=['session_id', 'group_name'], right_on=['session_id', 'name'])\n",
    "electrodes.columns"
   ]
  },
  {
   "cell_type": "code",
   "execution_count": 11,
   "metadata": {},
   "outputs": [
    {
     "data": {
      "text/plain": [
       "Index(['structure', 'location', 'peak_channel', 'subject_id', 'session_idx',\n",
       "       'date', 'ccf_ap', 'ccf_dv', 'ccf_ml', 'default_qc', 'session_id',\n",
       "       'is_ephys', 'is_templeton', 'is_training', 'is_dynamic_routing',\n",
       "       'is_opto'],\n",
       "      dtype='object')"
      ]
     },
     "execution_count": 11,
     "metadata": {},
     "output_type": "execute_result"
    }
   ],
   "source": [
    "units_structures_with_bools_dr = units_structures_with_bools[units_structures_with_bools['is_dynamic_routing'] == True]\n",
    "units_structures_with_bools_dr.columns"
   ]
  },
  {
   "cell_type": "code",
   "execution_count": 12,
   "metadata": {},
   "outputs": [],
   "source": [
    "from ipywidgets import interact, Box"
   ]
  },
  {
   "cell_type": "code",
   "execution_count": 13,
   "metadata": {},
   "outputs": [],
   "source": [
    "def get_subject_colors(electrodes_structures_area: pd.DataFrame) -> list[tuple[int, int, int]]: \n",
    "    subject_colors = dr.utils.generate_subject_random_colors(electrodes_structures_area)\n",
    "    subject_color_list = []\n",
    "\n",
    "    for index, row in electrodes_structures_area.iterrows():\n",
    "        subject_color_list.append(subject_colors[str(row['subject_id_x'])])\n",
    "    \n",
    "    return subject_color_list"
   ]
  },
  {
   "cell_type": "code",
   "execution_count": 14,
   "metadata": {},
   "outputs": [],
   "source": [
    "unique_implants = df_ccf['Implant'].unique().tolist()\n",
    "unique_implants.append('All')\n",
    "implants_dropdown = ipywidgets.Dropdown(options=unique_implants, value=unique_implants[-1], description='Implants', disabled=False)\n",
    "\n",
    "unique_holes = df_ccf['Hole'].unique().tolist()\n",
    "unique_holes.append('All')\n",
    "holes_dropdown = ipywidgets.Dropdown(options=unique_holes, value=unique_holes[-1], description='Holes', disabled=False)\n",
    "\n",
    "unique_probes = df_ccf['Probe'].unique().tolist()\n",
    "unique_probes.append('All')\n",
    "probes_dropdown = ipywidgets.Dropdown(options=unique_probes, value=unique_probes[-1], description='Probes', disabled=False)"
   ]
  },
  {
   "cell_type": "code",
   "execution_count": 15,
   "metadata": {},
   "outputs": [],
   "source": [
    "def update_3d_viewer_based_on_trajectory() -> tuple[list]:\n",
    "    urchin.ccf25.clear()\n",
    "    urchin.clear_meshes()\n",
    "\n",
    "    if implants_dropdown.value == 'All':\n",
    "        pmeshes = urchin.meshes.create(len(electrodes)) #creates 2 primitives, stored in list pmeshes\n",
    "        electrodes_sessions = electrodes\n",
    "        coords = electrodes[['x', 'z', 'y']].to_numpy().tolist()\n",
    "    else:\n",
    "        probe_target_sessions = df_ccf[(df_ccf['Implant'] == implants_dropdown.value) & (df_ccf['Hole'] == holes_dropdown.value)\n",
    "                                    & (df_ccf['Probe'] == probes_dropdown.value)]['session'].tolist()\n",
    "        probe_target_sessions_filtered = []\n",
    "        for session in probe_target_sessions:\n",
    "            try:\n",
    "                session_record = npc_session.SessionRecord(session)\n",
    "                probe_target_sessions_filtered.append(f\"{session_record.subject}_{session_record.date}_{session_record.idx}\")\n",
    "            except ValueError:\n",
    "                pass\n",
    "        \n",
    "        electrodes_sessions = electrodes[electrodes['session_id'].isin(probe_target_sessions_filtered)]\n",
    "        electrodes_sessions = electrodes_sessions[electrodes_sessions['group_name'] == f\"probe{probes_dropdown.value}\"]\n",
    "        pmeshes = urchin.meshes.create(len(electrodes_sessions)) #creates 2 primitives, stored in list pmeshes\n",
    "        coords = electrodes_sessions[['x', 'z', 'y']].to_numpy().tolist()\n",
    "   \n",
    "    callback_ids = [mesh.id for mesh in pmeshes]\n",
    "    print(f\"Implant {implants_dropdown.value} Hole {holes_dropdown.value} Probe {probes_dropdown.value}\")\n",
    "    print(f\"Sessions: {electrodes_sessions['session_id'].unique().tolist()}\")\n",
    "    print(f\"Areas: {electrodes_sessions['structure'].unique().tolist()}\")\n",
    "    urchin.ccf25.root.set_visibility(True)\n",
    "    urchin.ccf25.root.set_material('transparent-lit')\n",
    "    urchin.ccf25.root.set_alpha(0.15)\n",
    "    urchin.ccf25.root.set_color(\"#000000\")\n",
    "\n",
    "    # reorder to AP/ML/DV for Urchin and make a list of lists\n",
    "    coords_list = [[x[0], x[1], x[2]] for x in coords]\n",
    "    session_list = electrodes_sessions[['session_id', 'location_y', 'group_name']].to_numpy().tolist()\n",
    "    sizes_list = [[0.07,0.07,0.07]]*len(coords)\n",
    "\n",
    "    urchin.meshes.set_positions(pmeshes,coords_list) #sets the positions of the primitives\n",
    "    urchin.meshes.set_colors(pmeshes, get_subject_colors(electrodes_sessions))\n",
    "    urchin.meshes.set_scales(pmeshes, sizes_list)\n",
    "\n",
    "    area_list = urchin.ccf25.get_areas(electrodes_sessions['structure'].unique().tolist())\n",
    "    urchin.ccf25.set_visibilities(area_list, True, urchin.utils.Side.LEFT)\n",
    "    urchin.ccf25.set_materials(area_list, 'transparent-unlit', \"left\")\n",
    "    urchin.ccf25.set_alphas(area_list, 0.2, \"left\")\n",
    "\n",
    "    return callback_ids, session_list"
   ]
  },
  {
   "cell_type": "code",
   "execution_count": 16,
   "metadata": {},
   "outputs": [],
   "source": [
    "def filter_by_implant(implant: str):\n",
    "    if implant == 'All':\n",
    "        holes_dropdown.options = unique_holes\n",
    "        holes_dropdown.value = 'All'\n",
    "    else:\n",
    "        df_implant = df_ccf[df_ccf['Implant'] == implant]\n",
    "        holes_dropdown.options = df_implant['Hole'].unique().tolist()\n",
    "        holes_dropdown.value = holes_dropdown.options[0]"
   ]
  },
  {
   "cell_type": "code",
   "execution_count": 17,
   "metadata": {},
   "outputs": [],
   "source": [
    "def filter_by_implant_hole(implant: str, hole: str):\n",
    "    if implant == 'All' and hole == 'All':\n",
    "        probes_dropdown.options = unique_probes\n",
    "        probes_dropdown.value = 'All'\n",
    "    else:\n",
    "        df_implant_hole = df_ccf[(df_ccf['Implant'] == implant) & (df_ccf['Hole'] == hole)]\n",
    "        probes_dropdown.options = sorted(df_implant_hole['Probe'].unique().tolist())\n",
    "        probes_dropdown.value = probes_dropdown.options[0]"
   ]
  },
  {
   "cell_type": "code",
   "execution_count": 18,
   "metadata": {},
   "outputs": [
    {
     "name": "stdout",
     "output_type": "stream",
     "text": [
      "(URN) connected to server\n",
      "Login sent with ID: 54871758, copy this ID into the renderer to connect.\n"
     ]
    },
    {
     "name": "stdout",
     "output_type": "stream",
     "text": [
      "(URN) disconnected from server\n",
      "(URN) connected to server\n",
      "Login sent with ID: 54871758, copy this ID into the renderer to connect.\n"
     ]
    }
   ],
   "source": [
    "urchin.setup()"
   ]
  },
  {
   "cell_type": "code",
   "execution_count": 19,
   "metadata": {},
   "outputs": [],
   "source": [
    "urchin.ccf25.load()"
   ]
  },
  {
   "cell_type": "code",
   "execution_count": 20,
   "metadata": {},
   "outputs": [
    {
     "data": {
      "application/vnd.jupyter.widget-view+json": {
       "model_id": "bdd556d859c5416090f1c17a34c62cf6",
       "version_major": 2,
       "version_minor": 0
      },
      "text/plain": [
       "interactive(children=(Dropdown(description='x', options=('coronal', 'axial', 'sagittal'), value='coronal'), Ou…"
      ]
     },
     "metadata": {},
     "output_type": "display_data"
    }
   ],
   "source": [
    "@interact(x=['coronal', 'axial', 'sagittal'])\n",
    "def camera_rotation(x):\n",
    "    urchin.camera.main.set_rotation(x)\n",
    "    urchin.camera.main.set_mode('perspective')\n",
    "    urchin.camera.main.set_background_color('#ffffff')"
   ]
  },
  {
   "cell_type": "code",
   "execution_count": 21,
   "metadata": {},
   "outputs": [
    {
     "data": {
      "application/vnd.jupyter.widget-view+json": {
       "model_id": "7fad8cc6c4364dfea4ba8187f36f7b79",
       "version_major": 2,
       "version_minor": 0
      },
      "text/plain": [
       "interactive(children=(IntSlider(value=45, description='x', max=60, min=5), Output()), _dom_classes=('widget-in…"
      ]
     },
     "metadata": {},
     "output_type": "display_data"
    }
   ],
   "source": [
    "@interact(x=(5, 60))\n",
    "def zoom(x=45):\n",
    "    urchin.camera.main.set_zoom(60-x)"
   ]
  },
  {
   "cell_type": "code",
   "execution_count": 22,
   "metadata": {},
   "outputs": [
    {
     "data": {
      "application/vnd.jupyter.widget-view+json": {
       "model_id": "f888aaa8392942c491b7656f6b5c3629",
       "version_major": 2,
       "version_minor": 0
      },
      "text/plain": [
       "Box(children=(Dropdown(description='Implants', index=8, options=('41', 'football', 'TS1', 'TS5', '2002', 'temp…"
      ]
     },
     "execution_count": 22,
     "metadata": {},
     "output_type": "execute_result"
    }
   ],
   "source": [
    "items = [implants_dropdown, holes_dropdown, probes_dropdown]\n",
    "box = Box(children=items)\n",
    "box"
   ]
  },
  {
   "cell_type": "code",
   "execution_count": null,
   "metadata": {},
   "outputs": [],
   "source": [
    "filter_by_implant(implants_dropdown.value)"
   ]
  },
  {
   "cell_type": "code",
   "execution_count": null,
   "metadata": {},
   "outputs": [],
   "source": [
    "filter_by_implant_hole(implants_dropdown.value, holes_dropdown.value)"
   ]
  },
  {
   "cell_type": "code",
   "execution_count": null,
   "metadata": {},
   "outputs": [],
   "source": [
    "call_back_ids, session_list = update_3d_viewer_based_on_trajectory()"
   ]
  },
  {
   "cell_type": "code",
   "execution_count": null,
   "metadata": {},
   "outputs": [],
   "source": [
    "unique_areas = electrodes['structure'].unique()\n",
    "unique_areas.sort()\n",
    "area_dropdown = ipywidgets.Dropdown(options=unique_areas, value=unique_areas[0], description='CCF Structure Area', disabled=False)\n",
    "\n",
    "def update_3d_viewer(area: str) -> tuple[list]:\n",
    "    urchin.ccf25.clear()\n",
    "    urchin.clear_meshes()\n",
    "    units_structures_with_bools_dr_area = units_structures_with_bools_dr[units_structures_with_bools_dr['structure'] == area]\n",
    "    electrodes_structures_area = electrodes[electrodes['structure'] == area]\n",
    "\n",
    "    print(f\"{area}: {len(electrodes_structures_area['subject_id'].unique())} mice\")\n",
    "    print(f\"{area}: {len(electrodes_structures_area['session_id'].unique())} sessions\")\n",
    "    print(f\"{area}: {len(units_structures_with_bools_dr_area)} units\")\n",
    "\n",
    "    pmeshes = urchin.meshes.create(len(electrodes_structures_area)) #creates 2 primitives, stored in list pmeshes\n",
    "    coords = electrodes_structures_area[['x', 'z', 'y']].to_numpy().tolist()\n",
    "    callback_ids = [mesh.id for mesh in pmeshes]\n",
    "    session_list = electrodes_structures_area[['session_id', 'location_y', 'group_name']].to_numpy().tolist()\n",
    "\n",
    "    urchin.ccf25.root.set_visibility(True)\n",
    "    urchin.ccf25.root.set_material('transparent-lit')\n",
    "    urchin.ccf25.root.set_alpha(0.15)\n",
    "    urchin.ccf25.root.set_color(\"#000000\")\n",
    "\n",
    "    # reorder to AP/ML/DV for Urchin and make a list of lists\n",
    "    coords_list = [[x[0], x[1], x[2]] for x in coords]\n",
    "    sizes_list = [[0.07,0.07,0.07]]*len(coords)\n",
    "\n",
    "    urchin.meshes.set_positions(pmeshes,coords_list) #sets the positions of the primitives\n",
    "    urchin.meshes.set_colors(pmeshes, get_subject_colors(electrodes_structures_area))\n",
    "    urchin.meshes.set_scales(pmeshes, sizes_list)\n",
    "\n",
    "    area_list = urchin.ccf25.get_areas([x])\n",
    "\n",
    "    urchin.ccf25.set_visibilities(area_list, True, urchin.utils.Side.LEFT)\n",
    "    urchin.ccf25.set_materials(area_list, 'transparent-unlit', \"left\")\n",
    "    urchin.ccf25.set_alphas(area_list, 0.2, \"left\")\n",
    "\n",
    "    return callback_ids, session_list\n",
    "\n",
    "area_dropdown\n"
   ]
  },
  {
   "cell_type": "code",
   "execution_count": null,
   "metadata": {},
   "outputs": [],
   "source": [
    "call_back_ids, session_list = update_3d_viewer(area_dropdown.value)"
   ]
  },
  {
   "cell_type": "code",
   "execution_count": 24,
   "metadata": {},
   "outputs": [
    {
     "data": {
      "application/vnd.jupyter.widget-view+json": {
       "model_id": "72913f4b739f440c9576d748c03ad5a0",
       "version_major": 2,
       "version_minor": 0
      },
      "text/plain": [
       "Dropdown(description='Areas for min distance viewer', options=('ACAd', 'ACAv', 'ACB', 'AD', 'AM', 'AON', 'APN'…"
      ]
     },
     "execution_count": 24,
     "metadata": {},
     "output_type": "execute_result"
    }
   ],
   "source": [
    "area_dropdown_min_distance = ipywidgets.Dropdown(options=areas_of_interest, value=areas_of_interest[0], description='Areas for min distance viewer', disabled=False)\n",
    "area_dropdown_min_distance"
   ]
  },
  {
   "cell_type": "code",
   "execution_count": 25,
   "metadata": {},
   "outputs": [
    {
     "data": {
      "application/vnd.jupyter.widget-view+json": {
       "model_id": "df067012d46a42cfbed62c2f029ee36e",
       "version_major": 2,
       "version_minor": 0
      },
      "text/plain": [
       "interactive(children=(IntSlider(value=300, description='min_distance_to_area', max=500, min=250), Output()), _…"
      ]
     },
     "metadata": {},
     "output_type": "display_data"
    }
   ],
   "source": [
    "@interact(min_distance_to_area=(250, 500))\n",
    "def min_distance_viewer(min_distance_to_area=300):\n",
    "    urchin.ccf25.clear()\n",
    "    urchin.clear_meshes()\n",
    "\n",
    "    probe_target_sessions = df_min_distance[(df_min_distance[area_dropdown_min_distance.value] / 25) <= min_distance_to_area]\n",
    "    probe_target_sessions_filtered = []\n",
    "    for session in probe_target_sessions['session'].tolist():\n",
    "        try:\n",
    "            session_record = npc_session.SessionRecord(session)\n",
    "            probe_target_sessions_filtered.append(f\"{session_record.subject}_{session_record.date}_{session_record.idx}\")\n",
    "        except ValueError:\n",
    "            pass\n",
    "    \n",
    "    electrodes_sessions = electrodes[electrodes['session_id'].isin(probe_target_sessions_filtered)]\n",
    "    electrodes_sessions = electrodes_sessions[electrodes_sessions['structure'] == area_dropdown_min_distance.value]\n",
    "    pmeshes = urchin.meshes.create(len(electrodes_sessions)) #creates 2 primitives, stored in list pmeshes\n",
    "    coords = electrodes_sessions[['x', 'z', 'y']].to_numpy().tolist()\n",
    "   \n",
    "    print(f\"Sessions: {electrodes_sessions['session_id'].unique().tolist()}\")\n",
    "  \n",
    "    \n",
    "    urchin.ccf25.root.set_visibility(True)\n",
    "    urchin.ccf25.root.set_material('transparent-lit')\n",
    "    urchin.ccf25.root.set_alpha(0.15)\n",
    "    urchin.ccf25.root.set_color(\"#000000\")\n",
    "\n",
    "    # reorder to AP/ML/DV for Urchin and make a list of lists\n",
    "    coords_list = [[x[0], x[1], x[2]] for x in coords]\n",
    "    session_list = electrodes_sessions['session_id'].tolist()\n",
    "    sizes_list = [[0.07,0.07,0.07]]*len(coords)\n",
    "\n",
    "    urchin.meshes.set_positions(pmeshes,coords_list) #sets the positions of the primitives\n",
    "    urchin.meshes.set_colors(pmeshes, get_subject_colors(electrodes_sessions))\n",
    "    urchin.meshes.set_scales(pmeshes, sizes_list)\n",
    "\n",
    "    area_list = urchin.ccf25.get_areas(electrodes_sessions['structure'].unique().tolist())\n",
    "    urchin.ccf25.set_visibilities(area_list, True, urchin.utils.Side.LEFT)\n",
    "    urchin.ccf25.set_materials(area_list, 'transparent-unlit', \"left\")\n",
    "    urchin.ccf25.set_alphas(area_list, 0.2, \"left\")\n",
    "    "
   ]
  },
  {
   "cell_type": "code",
   "execution_count": null,
   "metadata": {},
   "outputs": [],
   "source": [
    "counts = {'area': [], 'num_units': [], 'num_sessions': [], 'num_subjects': []}\n",
    "units_structure_areas_no_white_matter = units_structures_with_bools_dr[~(units_structures_with_bools_dr['structure'].str.islower())]\n",
    "for area in units_structure_areas_no_white_matter['structure'].unique():\n",
    "    units_structure_areas = units_structure_areas_no_white_matter[units_structure_areas_no_white_matter['structure'] == area]\n",
    "    counts['area'].append(area)\n",
    "    counts['num_sessions'].append(len(units_structure_areas['session_id'].unique()))\n",
    "    counts['num_subjects'].append(len(units_structure_areas['subject_id'].unique()))\n",
    "    counts['num_units'].append(len(units_structure_areas))\n",
    "\n",
    "df_counts = pd.DataFrame(counts)"
   ]
  },
  {
   "cell_type": "code",
   "execution_count": null,
   "metadata": {},
   "outputs": [],
   "source": [
    "df_counts.style.applymap(lambda x: 'background-color : red' if x>=3 else '', subset=['num_subjects']).applymap(lambda x: 'background-color : red' if x>150 else '', subset=['num_units'])"
   ]
  },
  {
   "cell_type": "code",
   "execution_count": null,
   "metadata": {},
   "outputs": [],
   "source": [
    "from IPython.display import display, clear_output\n",
    "\n",
    "def display_session_trajectory(index: str):\n",
    "    clear_output()\n",
    "    session = session_list[call_back_ids.index(index)]\n",
    "    display(session)\n",
    "\n",
    "urchin.meshes.callback = display_session_trajectory"
   ]
  },
  {
   "cell_type": "code",
   "execution_count": null,
   "metadata": {},
   "outputs": [],
   "source": []
  }
 ],
 "metadata": {
  "kernelspec": {
   "display_name": "dr_summary",
   "language": "python",
   "name": "python3"
  },
  "language_info": {
   "codemirror_mode": {
    "name": "ipython",
    "version": 3
   },
   "file_extension": ".py",
   "mimetype": "text/x-python",
   "name": "python",
   "nbconvert_exporter": "python",
   "pygments_lexer": "ipython3",
   "version": "3.10.13"
  }
 },
 "nbformat": 4,
 "nbformat_minor": 2
}
