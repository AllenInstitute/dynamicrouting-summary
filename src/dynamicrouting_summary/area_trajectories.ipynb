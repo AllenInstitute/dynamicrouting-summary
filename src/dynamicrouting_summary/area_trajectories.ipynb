{
 "cells": [
  {
   "cell_type": "code",
   "execution_count": 7,
   "metadata": {},
   "outputs": [],
   "source": [
    "import dynamicrouting_summary as dr\n",
    "import pandas as pd\n",
    "import oursin as urchin\n",
    "import numpy as np\n",
    "import pyarrow.parquet as pq\n",
    "import npc_lims\n",
    "import pathlib\n",
    "import npc_session\n",
    "import s3fs\n",
    "import sqlite3\n",
    "from sqlalchemy import create_engine"
   ]
  },
  {
   "cell_type": "code",
   "execution_count": 8,
   "metadata": {},
   "outputs": [],
   "source": [
    "VERSION = 'v0.0.195'"
   ]
  },
  {
   "cell_type": "code",
   "execution_count": 9,
   "metadata": {},
   "outputs": [
    {
     "data": {
      "text/html": [
       "<div>\n",
       "<style scoped>\n",
       "    .dataframe tbody tr th:only-of-type {\n",
       "        vertical-align: middle;\n",
       "    }\n",
       "\n",
       "    .dataframe tbody tr th {\n",
       "        vertical-align: top;\n",
       "    }\n",
       "\n",
       "    .dataframe thead th {\n",
       "        text-align: right;\n",
       "    }\n",
       "</style>\n",
       "<table border=\"1\" class=\"dataframe\">\n",
       "  <thead>\n",
       "    <tr style=\"text-align: right;\">\n",
       "      <th></th>\n",
       "      <th>session</th>\n",
       "      <th>MID</th>\n",
       "      <th>Probe</th>\n",
       "      <th>Implant</th>\n",
       "      <th>Hole</th>\n",
       "    </tr>\n",
       "  </thead>\n",
       "  <tbody>\n",
       "    <tr>\n",
       "      <th>0</th>\n",
       "      <td>1167400342</td>\n",
       "      <td>599657</td>\n",
       "      <td>A</td>\n",
       "      <td>41</td>\n",
       "      <td>None</td>\n",
       "    </tr>\n",
       "    <tr>\n",
       "      <th>1</th>\n",
       "      <td>1167400342</td>\n",
       "      <td>599657</td>\n",
       "      <td>B</td>\n",
       "      <td>41</td>\n",
       "      <td>None</td>\n",
       "    </tr>\n",
       "    <tr>\n",
       "      <th>2</th>\n",
       "      <td>1167400342</td>\n",
       "      <td>599657</td>\n",
       "      <td>C</td>\n",
       "      <td>41</td>\n",
       "      <td>None</td>\n",
       "    </tr>\n",
       "    <tr>\n",
       "      <th>3</th>\n",
       "      <td>1167400342</td>\n",
       "      <td>599657</td>\n",
       "      <td>D</td>\n",
       "      <td>41</td>\n",
       "      <td>None</td>\n",
       "    </tr>\n",
       "    <tr>\n",
       "      <th>4</th>\n",
       "      <td>1167400342</td>\n",
       "      <td>599657</td>\n",
       "      <td>E</td>\n",
       "      <td>41</td>\n",
       "      <td>None</td>\n",
       "    </tr>\n",
       "    <tr>\n",
       "      <th>...</th>\n",
       "      <td>...</td>\n",
       "      <td>...</td>\n",
       "      <td>...</td>\n",
       "      <td>...</td>\n",
       "      <td>...</td>\n",
       "    </tr>\n",
       "    <tr>\n",
       "      <th>1207</th>\n",
       "      <td>686176_2023-12-07</td>\n",
       "      <td>686176</td>\n",
       "      <td>B</td>\n",
       "      <td>2002</td>\n",
       "      <td>F1</td>\n",
       "    </tr>\n",
       "    <tr>\n",
       "      <th>1208</th>\n",
       "      <td>686176_2023-12-07</td>\n",
       "      <td>686176</td>\n",
       "      <td>C</td>\n",
       "      <td>2002</td>\n",
       "      <td>F3</td>\n",
       "    </tr>\n",
       "    <tr>\n",
       "      <th>1209</th>\n",
       "      <td>686176_2023-12-07</td>\n",
       "      <td>686176</td>\n",
       "      <td>D</td>\n",
       "      <td>2002</td>\n",
       "      <td>D2</td>\n",
       "    </tr>\n",
       "    <tr>\n",
       "      <th>1210</th>\n",
       "      <td>686176_2023-12-07</td>\n",
       "      <td>686176</td>\n",
       "      <td>E</td>\n",
       "      <td>2002</td>\n",
       "      <td>E2</td>\n",
       "    </tr>\n",
       "    <tr>\n",
       "      <th>1211</th>\n",
       "      <td>686176_2023-12-07</td>\n",
       "      <td>686176</td>\n",
       "      <td>F</td>\n",
       "      <td>2002</td>\n",
       "      <td>E1</td>\n",
       "    </tr>\n",
       "  </tbody>\n",
       "</table>\n",
       "<p>1212 rows × 5 columns</p>\n",
       "</div>"
      ],
      "text/plain": [
       "                session     MID Probe Implant  Hole\n",
       "0            1167400342  599657     A      41  None\n",
       "1            1167400342  599657     B      41  None\n",
       "2            1167400342  599657     C      41  None\n",
       "3            1167400342  599657     D      41  None\n",
       "4            1167400342  599657     E      41  None\n",
       "...                 ...     ...   ...     ...   ...\n",
       "1207  686176_2023-12-07  686176     B    2002    F1\n",
       "1208  686176_2023-12-07  686176     C    2002    F3\n",
       "1209  686176_2023-12-07  686176     D    2002    D2\n",
       "1210  686176_2023-12-07  686176     E    2002    E2\n",
       "1211  686176_2023-12-07  686176     F    2002    E1\n",
       "\n",
       "[1212 rows x 5 columns]"
      ]
     },
     "execution_count": 9,
     "metadata": {},
     "output_type": "execute_result"
    }
   ],
   "source": [
    " # allow integers >8 bytes to be stored in sqlite3\n",
    "sqlite3.register_adapter(np.int64, lambda val: int(val))\n",
    "sqlite3.register_adapter(np.int32, lambda val: int(val))\n",
    "# ------------------------------------------------------------------------------------\n",
    "DB_PATH = pathlib.Path('//allen/programs/mindscope/workgroups/dynamicrouting/dynamic_gating_insertions/dr_master.db')\n",
    "# with contextlib.suppress(OSError):\n",
    "#     DB_PATH.unlink()\n",
    "sqlite3.connect(DB_PATH).close()\n",
    "DB = f\"sqlite:///{DB_PATH}\"\n",
    "ENGINE = create_engine(DB, echo=False)\n",
    "\n",
    "df_ccf = pd.read_sql('channel_ccf_coords', con=ENGINE)[['session', 'MID', 'Probe', 'Implant', 'Hole']]\n",
    "df_ccf"
   ]
  },
  {
   "cell_type": "code",
   "execution_count": 10,
   "metadata": {},
   "outputs": [],
   "source": [
    "df_min_distance = pd.read_sql('min_distance_to_region', con=ENGINE)\n",
    "areas_of_interest = df_min_distance.columns[8:].to_list()"
   ]
  },
  {
   "cell_type": "code",
   "execution_count": 11,
   "metadata": {},
   "outputs": [
    {
     "data": {
      "text/plain": [
       "num_spikes: double\n",
       "firing_rate: double\n",
       "presence_ratio: double\n",
       "snr: double\n",
       "isi_violations_ratio: double\n",
       "isi_violations_count: double\n",
       "rp_contamination: double\n",
       "rp_violations: double\n",
       "sliding_rp_violation: double\n",
       "amplitude_cutoff: double\n",
       "drift_ptp: double\n",
       "drift_std: double\n",
       "drift_mad: double\n",
       "isolation_distance: double\n",
       "l_ratio: double\n",
       "d_prime: double\n",
       "peak_to_valley: double\n",
       "peak_trough_ratio: double\n",
       "half_width: double\n",
       "repolarization_slope: double\n",
       "recovery_slope: double\n",
       "electrode_group_name: string\n",
       "peak_channel: int64\n",
       "cluster_id: int64\n",
       "default_qc: bool\n",
       "amplitude: double\n",
       "channels: list<element: int64>\n",
       "  child 0, element: int64\n",
       "unit_id: string\n",
       "group_name: string\n",
       "ccf_ap: double\n",
       "ccf_dv: double\n",
       "ccf_ml: double\n",
       "structure: string\n",
       "location: string\n",
       "peak_electrode: int64\n",
       "spike_times: list<element: double>\n",
       "  child 0, element: double\n",
       "obs_intervals: list<element: list<element: double>>\n",
       "  child 0, element: list<element: double>\n",
       "      child 0, element: double\n",
       "electrodes: list<element: int64>\n",
       "  child 0, element: int64\n",
       "waveform_mean: list<element: list<element: float>>\n",
       "  child 0, element: list<element: float>\n",
       "      child 0, element: float\n",
       "waveform_sd: list<element: list<element: float>>\n",
       "  child 0, element: list<element: float>\n",
       "      child 0, element: float\n",
       "device_name: string\n",
       "session_idx: int64\n",
       "date: date32[day]\n",
       "subject_id: int64\n",
       "session_id: string\n",
       "id: int64\n",
       "-- schema metadata --\n",
       "pandas: '{\"index_columns\": [\"id\"], \"column_indexes\": [{\"name\": null, \"fie' + 5883"
      ]
     },
     "execution_count": 11,
     "metadata": {},
     "output_type": "execute_result"
    }
   ],
   "source": [
    "units = pq.ParquetDataset(npc_lims.get_cache_path('units'))\n",
    "units.schema"
   ]
  },
  {
   "cell_type": "code",
   "execution_count": 12,
   "metadata": {},
   "outputs": [],
   "source": [
    "s3 = s3fs.S3FileSystem()\n",
    "electrode_groups_cache_dir = npc_lims.get_all_cache_paths(nwb_component='electrode_groups', version=VERSION)[0].parent.as_posix()[5:]\n",
    "electrodes_cache_dir = npc_lims.get_all_cache_paths(nwb_component='electrodes', version=VERSION)[0].parent.as_posix()[5:]\n",
    "units_cache_dir = npc_lims.get_all_cache_paths(nwb_component='units', version=VERSION)[0].parent.as_posix()[5:]\n",
    "\n",
    "electrode_groups = pq.ParquetDataset(electrode_groups_cache_dir, filesystem=s3).read_pandas().to_pandas()\n",
    "electrodes_original = pq.ParquetDataset(electrodes_cache_dir, filesystem=s3).read_pandas().to_pandas()\n",
    "units_structures = pq.ParquetDataset(units_cache_dir, filesystem=s3).read(columns=['structure', 'location', 'peak_channel', 'subject_id', 'session_idx', 'date', \n",
    "                                      'ccf_ap', 'ccf_dv', 'ccf_ml', 'default_qc']).to_pandas()"
   ]
  },
  {
   "cell_type": "code",
   "execution_count": 13,
   "metadata": {},
   "outputs": [
    {
     "data": {
      "text/plain": [
       "Index(['structure', 'location', 'peak_channel', 'subject_id', 'session_idx',\n",
       "       'date', 'ccf_ap', 'ccf_dv', 'ccf_ml', 'default_qc', 'session_id',\n",
       "       'is_ephys', 'is_templeton', 'is_training', 'is_dynamic_routing',\n",
       "       'is_opto'],\n",
       "      dtype='object')"
      ]
     },
     "execution_count": 13,
     "metadata": {},
     "output_type": "execute_result"
    }
   ],
   "source": [
    "electrodes_original = dr.add_bool_columns(electrodes_original, version=VERSION)\n",
    "units_structures_with_bools = dr.add_bool_columns(units_structures, version=VERSION)\n",
    "units_structures_with_bools.dropna(inplace=True)\n",
    "units_structures_with_bools.columns"
   ]
  },
  {
   "cell_type": "code",
   "execution_count": 14,
   "metadata": {},
   "outputs": [
    {
     "data": {
      "text/plain": [
       "Index(['location', 'group_name', 'structure', 'x', 'y', 'z', 'channel',\n",
       "       'rel_x', 'rel_y', 'reference', 'imp', 'session_idx', 'date',\n",
       "       'subject_id', 'session_id', 'is_ephys', 'is_templeton', 'is_training',\n",
       "       'is_dynamic_routing', 'is_opto'],\n",
       "      dtype='object')"
      ]
     },
     "execution_count": 14,
     "metadata": {},
     "output_type": "execute_result"
    }
   ],
   "source": [
    "electrodes_original.columns"
   ]
  },
  {
   "cell_type": "code",
   "execution_count": 15,
   "metadata": {},
   "outputs": [],
   "source": [
    "import ipywidgets\n",
    "\n",
    "electrodes = electrodes_original.dropna()\n",
    "electrodes = electrodes[~(electrodes['session_id'].str.contains('662892'))]\n",
    "electrodes = electrodes[~(electrodes['structure'].str.islower())]\n",
    "electrodes = electrodes[electrodes['is_dynamic_routing'] == True]"
   ]
  },
  {
   "cell_type": "code",
   "execution_count": 16,
   "metadata": {},
   "outputs": [
    {
     "data": {
      "text/plain": [
       "Index(['structure', 'location', 'peak_channel', 'subject_id', 'session_idx',\n",
       "       'date', 'ccf_ap', 'ccf_dv', 'ccf_ml', 'default_qc', 'session_id',\n",
       "       'is_ephys', 'is_templeton', 'is_training', 'is_dynamic_routing',\n",
       "       'is_opto'],\n",
       "      dtype='object')"
      ]
     },
     "execution_count": 16,
     "metadata": {},
     "output_type": "execute_result"
    }
   ],
   "source": [
    "units_structures_with_bools_dr = units_structures_with_bools[units_structures_with_bools['is_dynamic_routing'] == True]\n",
    "units_structures_with_bools_dr.columns"
   ]
  },
  {
   "cell_type": "code",
   "execution_count": 17,
   "metadata": {},
   "outputs": [],
   "source": [
    "from ipywidgets import interact, Box"
   ]
  },
  {
   "cell_type": "code",
   "execution_count": 18,
   "metadata": {},
   "outputs": [],
   "source": [
    "def get_subject_colors(electrodes_structures_area: pd.DataFrame) -> list[tuple[int, int, int]]: \n",
    "    subject_colors = dr.utils.generate_subject_random_colors(electrodes_structures_area)\n",
    "    subject_color_list = []\n",
    "\n",
    "    for index, row in electrodes_structures_area.iterrows():\n",
    "        subject_color_list.append(subject_colors[str(row['subject_id'])])\n",
    "    \n",
    "    return subject_color_list"
   ]
  },
  {
   "cell_type": "code",
   "execution_count": 19,
   "metadata": {},
   "outputs": [],
   "source": [
    "unique_implants = df_ccf['Implant'].unique().tolist()\n",
    "unique_implants.append('All')\n",
    "implants_dropdown = ipywidgets.Dropdown(options=unique_implants, value=unique_implants[-1], description='Implants', disabled=False)\n",
    "\n",
    "unique_holes = df_ccf['Hole'].unique().tolist()\n",
    "unique_holes.append('All')\n",
    "holes_dropdown = ipywidgets.Dropdown(options=unique_holes, value=unique_holes[-1], description='Holes', disabled=False)\n",
    "\n",
    "unique_probes = df_ccf['Probe'].unique().tolist()\n",
    "unique_probes.append('All')\n",
    "probes_dropdown = ipywidgets.Dropdown(options=unique_probes, value=unique_probes[-1], description='Probes', disabled=False)"
   ]
  },
  {
   "cell_type": "code",
   "execution_count": 30,
   "metadata": {},
   "outputs": [],
   "source": [
    "def update_3d_viewer_based_on_trajectory() -> None:\n",
    "    urchin.ccf25.clear()\n",
    "    urchin.clear_meshes()\n",
    "\n",
    "    if implants_dropdown.value == 'All':\n",
    "        pmeshes = urchin.meshes.create(len(electrodes)) #creates 2 primitives, stored in list pmeshes\n",
    "        electrodes_sessions = electrodes\n",
    "        coords = electrodes[['x', 'z', 'y']].to_numpy().tolist()\n",
    "    else:\n",
    "        probe_target_sessions = df_ccf[(df_ccf['Implant'] == implants_dropdown.value) & (df_ccf['Hole'] == holes_dropdown.value)\n",
    "                                    & (df_ccf['Probe'] == probes_dropdown.value)]['session'].tolist()\n",
    "        probe_target_sessions_filtered = []\n",
    "        for session in probe_target_sessions:\n",
    "            try:\n",
    "                session_record = npc_session.SessionRecord(session)\n",
    "                probe_target_sessions_filtered.append(f\"{session_record.subject}_{session_record.date}_{session_record.idx}\")\n",
    "            except ValueError:\n",
    "                pass\n",
    "        \n",
    "        electrodes_sessions = electrodes[electrodes['session_id'].isin(probe_target_sessions_filtered)]\n",
    "        electrodes_sessions = electrodes_sessions[electrodes_sessions['group_name'] == f\"probe{probes_dropdown.value}\"]\n",
    "        pmeshes = urchin.meshes.create(len(electrodes_sessions)) #creates 2 primitives, stored in list pmeshes\n",
    "        coords = electrodes_sessions[['x', 'z', 'y']].to_numpy().tolist()\n",
    "   \n",
    "    \n",
    "    print(f\"Implant {implants_dropdown.value} Hole {holes_dropdown.value} Probe {probes_dropdown.value}\")\n",
    "    print(f\"Sessions: {electrodes_sessions['session_id'].unique().tolist()}\")\n",
    "    print(f\"Areas: {electrodes_sessions['structure'].unique().tolist()}\")\n",
    "    urchin.ccf25.root.set_visibility(True)\n",
    "    urchin.ccf25.root.set_material('transparent-lit')\n",
    "    urchin.ccf25.root.set_alpha(0.15)\n",
    "    urchin.ccf25.root.set_color(\"#000000\")\n",
    "\n",
    "    # reorder to AP/ML/DV for Urchin and make a list of lists\n",
    "    coords_list = [[x[0], x[1], x[2]] for x in coords]\n",
    "    session_list = electrodes_sessions['session_id'].tolist()\n",
    "    sizes_list = [[0.07,0.07,0.07]]*len(coords)\n",
    "\n",
    "    urchin.meshes.set_positions(pmeshes,coords_list) #sets the positions of the primitives\n",
    "    urchin.meshes.set_colors(pmeshes, get_subject_colors(electrodes_sessions))\n",
    "    urchin.meshes.set_scales(pmeshes, sizes_list)\n",
    "\n",
    "    area_list = urchin.ccf25.get_areas(electrodes_sessions['structure'].unique().tolist())\n",
    "    urchin.ccf25.set_visibilities(area_list, True, urchin.utils.Side.LEFT)\n",
    "    urchin.ccf25.set_materials(area_list, 'transparent-unlit', \"left\")\n",
    "    urchin.ccf25.set_alphas(area_list, 0.2, \"left\")"
   ]
  },
  {
   "cell_type": "code",
   "execution_count": 21,
   "metadata": {},
   "outputs": [],
   "source": [
    "def filter_by_implant(implant: str):\n",
    "    if implant == 'All':\n",
    "        holes_dropdown.options = unique_holes\n",
    "        holes_dropdown.value = 'All'\n",
    "    else:\n",
    "        df_implant = df_ccf[df_ccf['Implant'] == implant]\n",
    "        holes_dropdown.options = df_implant['Hole'].unique().tolist()\n",
    "        holes_dropdown.value = holes_dropdown.options[0]"
   ]
  },
  {
   "cell_type": "code",
   "execution_count": 22,
   "metadata": {},
   "outputs": [],
   "source": [
    "def filter_by_implant_hole(implant: str, hole: str):\n",
    "    if implant == 'All' and hole == 'All':\n",
    "        probes_dropdown.options = unique_probes\n",
    "        probes_dropdown.value = 'All'\n",
    "    else:\n",
    "        df_implant_hole = df_ccf[(df_ccf['Implant'] == implant) & (df_ccf['Hole'] == hole)]\n",
    "        probes_dropdown.options = sorted(df_implant_hole['Probe'].unique().tolist())\n",
    "        probes_dropdown.value = probes_dropdown.options[0]"
   ]
  },
  {
   "cell_type": "code",
   "execution_count": 23,
   "metadata": {},
   "outputs": [
    {
     "name": "stdout",
     "output_type": "stream",
     "text": [
      "(URN) connected to server\n",
      "Login sent with ID: 6ff1b22e, copy this ID into the renderer to connect.\n"
     ]
    }
   ],
   "source": [
    "urchin.setup()"
   ]
  },
  {
   "cell_type": "code",
   "execution_count": 24,
   "metadata": {},
   "outputs": [],
   "source": [
    "urchin.ccf25.load()"
   ]
  },
  {
   "cell_type": "code",
   "execution_count": 25,
   "metadata": {},
   "outputs": [
    {
     "data": {
      "application/vnd.jupyter.widget-view+json": {
       "model_id": "e350bd74bbd7421a9df71c7294cfea67",
       "version_major": 2,
       "version_minor": 0
      },
      "text/plain": [
       "interactive(children=(Dropdown(description='x', options=('coronal', 'axial', 'sagittal'), value='coronal'), Ou…"
      ]
     },
     "metadata": {},
     "output_type": "display_data"
    }
   ],
   "source": [
    "@interact(x=['coronal', 'axial', 'sagittal'])\n",
    "def camera_rotation(x):\n",
    "    urchin.camera.main.set_rotation(x)\n",
    "    urchin.camera.main.set_mode('perspective')\n",
    "    urchin.camera.main.set_background_color('#ffffff')"
   ]
  },
  {
   "cell_type": "code",
   "execution_count": 26,
   "metadata": {},
   "outputs": [
    {
     "data": {
      "application/vnd.jupyter.widget-view+json": {
       "model_id": "f76e15e610dc40b1a53a3fef9506d910",
       "version_major": 2,
       "version_minor": 0
      },
      "text/plain": [
       "interactive(children=(IntSlider(value=45, description='x', max=60, min=5), Output()), _dom_classes=('widget-in…"
      ]
     },
     "metadata": {},
     "output_type": "display_data"
    }
   ],
   "source": [
    "@interact(x=(5, 60))\n",
    "def zoom(x=45):\n",
    "    urchin.camera.main.set_zoom(60-x)"
   ]
  },
  {
   "cell_type": "code",
   "execution_count": 27,
   "metadata": {},
   "outputs": [
    {
     "data": {
      "application/vnd.jupyter.widget-view+json": {
       "model_id": "13e04274f7344e968cc21fca2b5ab937",
       "version_major": 2,
       "version_minor": 0
      },
      "text/plain": [
       "Box(children=(Dropdown(description='Implants', index=8, options=('41', 'football', 'TS1', 'TS5', '2002', 'temp…"
      ]
     },
     "execution_count": 27,
     "metadata": {},
     "output_type": "execute_result"
    }
   ],
   "source": [
    "items = [implants_dropdown, holes_dropdown, probes_dropdown]\n",
    "box = Box(children=items)\n",
    "box"
   ]
  },
  {
   "cell_type": "code",
   "execution_count": 28,
   "metadata": {},
   "outputs": [],
   "source": [
    "filter_by_implant(implants_dropdown.value)"
   ]
  },
  {
   "cell_type": "code",
   "execution_count": 34,
   "metadata": {},
   "outputs": [],
   "source": [
    "filter_by_implant_hole(implants_dropdown.value, holes_dropdown.value)"
   ]
  },
  {
   "cell_type": "code",
   "execution_count": 35,
   "metadata": {},
   "outputs": [
    {
     "name": "stdout",
     "output_type": "stream",
     "text": [
      "Implant 2002 Hole F1 Probe A\n",
      "Sessions: ['664851_2023-11-13_0', '664851_2023-11-14_0', '668755_2023-08-30_0', '668755_2023-08-31_0', '676909_2023-12-12_0', '686740_2023-10-23_0', '686740_2023-10-24_0']\n",
      "Areas: ['CP', 'SSp', 'PIR', 'OLF', 'CTXsp', 'EPd', 'AId', 'GU', 'MOp']\n"
     ]
    },
    {
     "data": {
      "text/plain": [
       "'2254'"
      ]
     },
     "metadata": {},
     "output_type": "display_data"
    }
   ],
   "source": [
    "update_3d_viewer_based_on_trajectory()"
   ]
  },
  {
   "cell_type": "code",
   "execution_count": 28,
   "metadata": {},
   "outputs": [
    {
     "data": {
      "application/vnd.jupyter.widget-view+json": {
       "model_id": "2105c722496e4743b895baf783c11a24",
       "version_major": 2,
       "version_minor": 0
      },
      "text/plain": [
       "interactive(children=(Dropdown(description='x', options=('ACAd', 'ACAv', 'ACB', 'AD', 'AId', 'AIv', 'AMd', 'AM…"
      ]
     },
     "metadata": {},
     "output_type": "display_data"
    }
   ],
   "source": [
    "unique_areas = electrodes['structure'].unique()\n",
    "unique_areas.sort()\n",
    "area_dropdown = ipywidgets.Dropdown(options=unique_areas, value=unique_areas[0], description='CCF Structure Area', disabled=False)\n",
    "area_dropdown\n",
    "\n",
    "@interact(x=unique_areas)\n",
    "def update_3d_viewer(x):\n",
    "    urchin.ccf25.clear()\n",
    "    urchin.clear_meshes()\n",
    "    units_structures_with_bools_dr_area = units_structures_with_bools_dr[units_structures_with_bools_dr['structure'] == x]\n",
    "    electrodes_structures_area = electrodes[electrodes['structure'] == x]\n",
    "\n",
    "    print(f\"{x}: {len(electrodes_structures_area['subject_id'].unique())} mice\")\n",
    "    print(f\"{x}: {len(electrodes_structures_area['session_id'].unique())} sessions\")\n",
    "    print(f\"{x}: {len(units_structures_with_bools_dr_area)} units\")\n",
    "\n",
    "    pmeshes = urchin.meshes.create(len(electrodes_structures_area)) #creates 2 primitives, stored in list pmeshes\n",
    "    coords = electrodes_structures_area[['x', 'z', 'y']].to_numpy().tolist()\n",
    "\n",
    "\n",
    "    urchin.ccf25.root.set_visibility(True)\n",
    "    urchin.ccf25.root.set_material('transparent-lit')\n",
    "    urchin.ccf25.root.set_alpha(0.15)\n",
    "    urchin.ccf25.root.set_color(\"#000000\")\n",
    "\n",
    "    # reorder to AP/ML/DV for Urchin and make a list of lists\n",
    "    coords_list = [[x[0], x[1], x[2]] for x in coords]\n",
    "    sizes_list = [[0.07,0.07,0.07]]*len(coords)\n",
    "\n",
    "    urchin.meshes.set_positions(pmeshes,coords_list) #sets the positions of the primitives\n",
    "    urchin.meshes.set_colors(pmeshes, get_subject_colors(electrodes_structures_area))\n",
    "    urchin.meshes.set_scales(pmeshes, sizes_list)\n",
    "\n",
    "    area_list = urchin.ccf25.get_areas([x])\n",
    "\n",
    "    urchin.ccf25.set_visibilities(area_list, True, urchin.utils.Side.LEFT)\n",
    "    urchin.ccf25.set_materials(area_list, 'transparent-unlit', \"left\")\n",
    "    urchin.ccf25.set_alphas(area_list, 0.2, \"left\")\n"
   ]
  },
  {
   "cell_type": "code",
   "execution_count": 33,
   "metadata": {},
   "outputs": [
    {
     "data": {
      "application/vnd.jupyter.widget-view+json": {
       "model_id": "89f48695172b4a709f8f49c8ba5b6d1a",
       "version_major": 2,
       "version_minor": 0
      },
      "text/plain": [
       "Dropdown(description='Areas for min distance viewer', options=('ACAd', 'ACAv', 'ACB', 'AD', 'AM', 'AON', 'APN'…"
      ]
     },
     "execution_count": 33,
     "metadata": {},
     "output_type": "execute_result"
    }
   ],
   "source": [
    "area_dropdown = ipywidgets.Dropdown(options=areas_of_interest, value=areas_of_interest[0], description='Areas for min distance viewer', disabled=False)\n",
    "area_dropdown"
   ]
  },
  {
   "cell_type": "code",
   "execution_count": 36,
   "metadata": {},
   "outputs": [
    {
     "data": {
      "application/vnd.jupyter.widget-view+json": {
       "model_id": "96e5014592834de697ec462fe68463a1",
       "version_major": 2,
       "version_minor": 0
      },
      "text/plain": [
       "interactive(children=(IntSlider(value=300, description='min_distance_to_area', max=500, min=250), Output()), _…"
      ]
     },
     "metadata": {},
     "output_type": "display_data"
    }
   ],
   "source": [
    "@interact(min_distance_to_area=(250, 500))\n",
    "def min_distance_viewer(min_distance_to_area=300):\n",
    "    print()"
   ]
  },
  {
   "cell_type": "code",
   "execution_count": null,
   "metadata": {},
   "outputs": [],
   "source": [
    "counts = {'area': [], 'num_units': [], 'num_sessions': [], 'num_subjects': []}\n",
    "units_structure_areas_no_white_matter = units_structures_with_bools_dr[~(units_structures_with_bools_dr['structure'].str.islower())]\n",
    "for area in units_structure_areas_no_white_matter['structure'].unique():\n",
    "    units_structure_areas = units_structure_areas_no_white_matter[units_structure_areas_no_white_matter['structure'] == area]\n",
    "    counts['area'].append(area)\n",
    "    counts['num_sessions'].append(len(units_structure_areas['session_id'].unique()))\n",
    "    counts['num_subjects'].append(len(units_structure_areas['subject_id'].unique()))\n",
    "    counts['num_units'].append(len(units_structure_areas))\n",
    "\n",
    "df_counts = pd.DataFrame(counts)"
   ]
  },
  {
   "cell_type": "code",
   "execution_count": null,
   "metadata": {},
   "outputs": [],
   "source": [
    "df_counts.style.applymap(lambda x: 'background-color : red' if x>=3 else '', subset=['num_subjects']).applymap(lambda x: 'background-color : red' if x>150 else '', subset=['num_units'])"
   ]
  },
  {
   "cell_type": "code",
   "execution_count": 36,
   "metadata": {},
   "outputs": [
    {
     "data": {
      "text/plain": [
       "'2467'"
      ]
     },
     "metadata": {},
     "output_type": "display_data"
    }
   ],
   "source": [
    "from IPython.display import display, Image, clear_output\n",
    "\n",
    "def print_index(index):\n",
    "    display(index)\n",
    "\n",
    "urchin.meshes.callback = print_index"
   ]
  },
  {
   "cell_type": "code",
   "execution_count": null,
   "metadata": {},
   "outputs": [],
   "source": []
  }
 ],
 "metadata": {
  "kernelspec": {
   "display_name": "dr_summary",
   "language": "python",
   "name": "python3"
  },
  "language_info": {
   "codemirror_mode": {
    "name": "ipython",
    "version": 3
   },
   "file_extension": ".py",
   "mimetype": "text/x-python",
   "name": "python",
   "nbconvert_exporter": "python",
   "pygments_lexer": "ipython3",
   "version": "3.10.13"
  }
 },
 "nbformat": 4,
 "nbformat_minor": 2
}
