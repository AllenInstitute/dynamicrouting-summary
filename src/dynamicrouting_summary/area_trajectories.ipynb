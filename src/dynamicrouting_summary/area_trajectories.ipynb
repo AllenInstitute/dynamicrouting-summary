{
 "cells": [
  {
   "cell_type": "code",
   "execution_count": 1,
   "metadata": {},
   "outputs": [],
   "source": [
    "import dynamicrouting_summary as dr\n",
    "import pandas as pd\n",
    "import oursin as urchin\n",
    "import numpy as np\n",
    "import pyarrow.parquet as pq \n",
    "import npc_lims\n",
    "import npc_session"
   ]
  },
  {
   "cell_type": "code",
   "execution_count": 2,
   "metadata": {},
   "outputs": [],
   "source": [
    "VERSION = '0.0.214'"
   ]
  },
  {
   "cell_type": "code",
   "execution_count": 3,
   "metadata": {},
   "outputs": [
    {
     "data": {
      "text/plain": [
       "Index(['index', 'session', 'MID', 'Day', 'Probe', 'Implant', 'Hole', 'Rig',\n",
       "       'Channel_annotation_file', 'Channel_0_AP',\n",
       "       ...\n",
       "       'Channel_381_ML', 'Channel_381_region', 'Channel_382_AP',\n",
       "       'Channel_382_DV', 'Channel_382_ML', 'Channel_382_region',\n",
       "       'Channel_383_AP', 'Channel_383_DV', 'Channel_383_ML',\n",
       "       'Channel_383_region'],\n",
       "      dtype='object', length=1545)"
      ]
     },
     "execution_count": 3,
     "metadata": {},
     "output_type": "execute_result"
    }
   ],
   "source": [
    "connection = npc_lims.get_probe_target_db()\n",
    "\n",
    "cursor = connection.execute(\n",
    "    f\"SELECT * FROM channel_ccf_coords\"\n",
    ")\n",
    "channel_ccf_coords = cursor.fetchall()\n",
    "df_ccf = pd.DataFrame(channel_ccf_coords)\n",
    "df_ccf.columns"
   ]
  },
  {
   "cell_type": "code",
   "execution_count": 4,
   "metadata": {},
   "outputs": [
    {
     "data": {
      "text/html": [
       "<div>\n",
       "<style scoped>\n",
       "    .dataframe tbody tr th:only-of-type {\n",
       "        vertical-align: middle;\n",
       "    }\n",
       "\n",
       "    .dataframe tbody tr th {\n",
       "        vertical-align: top;\n",
       "    }\n",
       "\n",
       "    .dataframe thead th {\n",
       "        text-align: right;\n",
       "    }\n",
       "</style>\n",
       "<table border=\"1\" class=\"dataframe\">\n",
       "  <thead>\n",
       "    <tr style=\"text-align: right;\">\n",
       "      <th></th>\n",
       "      <th>index</th>\n",
       "      <th>session</th>\n",
       "      <th>MID</th>\n",
       "      <th>Day</th>\n",
       "      <th>Probe</th>\n",
       "      <th>Implant</th>\n",
       "      <th>Hole</th>\n",
       "      <th>Rig</th>\n",
       "      <th>ACAd</th>\n",
       "      <th>ACAv</th>\n",
       "      <th>...</th>\n",
       "      <th>VISrl</th>\n",
       "      <th>VL</th>\n",
       "      <th>VM</th>\n",
       "      <th>VPL</th>\n",
       "      <th>VPM</th>\n",
       "      <th>VTA</th>\n",
       "      <th>ZI</th>\n",
       "      <th>AUDp</th>\n",
       "      <th>CLA</th>\n",
       "      <th>MGd</th>\n",
       "    </tr>\n",
       "  </thead>\n",
       "  <tbody>\n",
       "    <tr>\n",
       "      <th>0</th>\n",
       "      <td>0</td>\n",
       "      <td>1167400342</td>\n",
       "      <td>599657</td>\n",
       "      <td>1</td>\n",
       "      <td>A</td>\n",
       "      <td>41</td>\n",
       "      <td>None</td>\n",
       "      <td>NP1</td>\n",
       "      <td>894.241234</td>\n",
       "      <td>293.496541</td>\n",
       "      <td>...</td>\n",
       "      <td>3717.397571</td>\n",
       "      <td>1511.714669</td>\n",
       "      <td>1757.501399</td>\n",
       "      <td>2187.950086</td>\n",
       "      <td>2065.528254</td>\n",
       "      <td>2957.023173</td>\n",
       "      <td>2435.497622</td>\n",
       "      <td>4777.061628</td>\n",
       "      <td>3258.406881</td>\n",
       "      <td>None</td>\n",
       "    </tr>\n",
       "    <tr>\n",
       "      <th>1</th>\n",
       "      <td>1</td>\n",
       "      <td>1167400342</td>\n",
       "      <td>599657</td>\n",
       "      <td>1</td>\n",
       "      <td>B</td>\n",
       "      <td>41</td>\n",
       "      <td>None</td>\n",
       "      <td>NP1</td>\n",
       "      <td>3766.656459</td>\n",
       "      <td>3092.767608</td>\n",
       "      <td>...</td>\n",
       "      <td>2537.813094</td>\n",
       "      <td>2216.655435</td>\n",
       "      <td>1915.572059</td>\n",
       "      <td>1958.401341</td>\n",
       "      <td>1584.688959</td>\n",
       "      <td>1707.117166</td>\n",
       "      <td>1822.079975</td>\n",
       "      <td>3884.160363</td>\n",
       "      <td>4155.860785</td>\n",
       "      <td>None</td>\n",
       "    </tr>\n",
       "    <tr>\n",
       "      <th>2</th>\n",
       "      <td>2</td>\n",
       "      <td>1167400342</td>\n",
       "      <td>599657</td>\n",
       "      <td>1</td>\n",
       "      <td>C</td>\n",
       "      <td>41</td>\n",
       "      <td>None</td>\n",
       "      <td>NP1</td>\n",
       "      <td>4842.923394</td>\n",
       "      <td>4219.463946</td>\n",
       "      <td>...</td>\n",
       "      <td>1073.084355</td>\n",
       "      <td>2332.296716</td>\n",
       "      <td>2315.841831</td>\n",
       "      <td>1433.220425</td>\n",
       "      <td>1365.191267</td>\n",
       "      <td>2270.079219</td>\n",
       "      <td>1508.884649</td>\n",
       "      <td>1979.643105</td>\n",
       "      <td>3250.989101</td>\n",
       "      <td>None</td>\n",
       "    </tr>\n",
       "    <tr>\n",
       "      <th>3</th>\n",
       "      <td>3</td>\n",
       "      <td>1167400342</td>\n",
       "      <td>599657</td>\n",
       "      <td>1</td>\n",
       "      <td>D</td>\n",
       "      <td>41</td>\n",
       "      <td>None</td>\n",
       "      <td>NP1</td>\n",
       "      <td>4770.699363</td>\n",
       "      <td>4167.564594</td>\n",
       "      <td>...</td>\n",
       "      <td>758.046498</td>\n",
       "      <td>2302.547298</td>\n",
       "      <td>1846.667289</td>\n",
       "      <td>1370.515003</td>\n",
       "      <td>1223.321302</td>\n",
       "      <td>1499.822519</td>\n",
       "      <td>1050.299251</td>\n",
       "      <td>1458.094812</td>\n",
       "      <td>3412.316956</td>\n",
       "      <td>None</td>\n",
       "    </tr>\n",
       "    <tr>\n",
       "      <th>4</th>\n",
       "      <td>4</td>\n",
       "      <td>1167400342</td>\n",
       "      <td>599657</td>\n",
       "      <td>1</td>\n",
       "      <td>E</td>\n",
       "      <td>41</td>\n",
       "      <td>None</td>\n",
       "      <td>NP1</td>\n",
       "      <td>1620.032438</td>\n",
       "      <td>1035.375340</td>\n",
       "      <td>...</td>\n",
       "      <td>2304.300264</td>\n",
       "      <td>999.356398</td>\n",
       "      <td>1974.711467</td>\n",
       "      <td>2173.203355</td>\n",
       "      <td>2076.896767</td>\n",
       "      <td>3216.244474</td>\n",
       "      <td>2615.137481</td>\n",
       "      <td>3631.178804</td>\n",
       "      <td>3050.176347</td>\n",
       "      <td>None</td>\n",
       "    </tr>\n",
       "    <tr>\n",
       "      <th>...</th>\n",
       "      <td>...</td>\n",
       "      <td>...</td>\n",
       "      <td>...</td>\n",
       "      <td>...</td>\n",
       "      <td>...</td>\n",
       "      <td>...</td>\n",
       "      <td>...</td>\n",
       "      <td>...</td>\n",
       "      <td>...</td>\n",
       "      <td>...</td>\n",
       "      <td>...</td>\n",
       "      <td>...</td>\n",
       "      <td>...</td>\n",
       "      <td>...</td>\n",
       "      <td>...</td>\n",
       "      <td>...</td>\n",
       "      <td>...</td>\n",
       "      <td>...</td>\n",
       "      <td>...</td>\n",
       "      <td>...</td>\n",
       "      <td>...</td>\n",
       "    </tr>\n",
       "    <tr>\n",
       "      <th>1411</th>\n",
       "      <td>1411</td>\n",
       "      <td>708016_2024-05-02</td>\n",
       "      <td>708016</td>\n",
       "      <td>4</td>\n",
       "      <td>B</td>\n",
       "      <td>2006</td>\n",
       "      <td>B2</td>\n",
       "      <td>NP3</td>\n",
       "      <td>NaN</td>\n",
       "      <td>NaN</td>\n",
       "      <td>...</td>\n",
       "      <td>NaN</td>\n",
       "      <td>NaN</td>\n",
       "      <td>NaN</td>\n",
       "      <td>NaN</td>\n",
       "      <td>NaN</td>\n",
       "      <td>NaN</td>\n",
       "      <td>NaN</td>\n",
       "      <td>NaN</td>\n",
       "      <td>NaN</td>\n",
       "      <td>None</td>\n",
       "    </tr>\n",
       "    <tr>\n",
       "      <th>1412</th>\n",
       "      <td>1412</td>\n",
       "      <td>708016_2024-05-02</td>\n",
       "      <td>708016</td>\n",
       "      <td>4</td>\n",
       "      <td>C</td>\n",
       "      <td>2006</td>\n",
       "      <td>C1</td>\n",
       "      <td>NP3</td>\n",
       "      <td>NaN</td>\n",
       "      <td>NaN</td>\n",
       "      <td>...</td>\n",
       "      <td>NaN</td>\n",
       "      <td>NaN</td>\n",
       "      <td>NaN</td>\n",
       "      <td>NaN</td>\n",
       "      <td>NaN</td>\n",
       "      <td>NaN</td>\n",
       "      <td>NaN</td>\n",
       "      <td>NaN</td>\n",
       "      <td>NaN</td>\n",
       "      <td>None</td>\n",
       "    </tr>\n",
       "    <tr>\n",
       "      <th>1413</th>\n",
       "      <td>1413</td>\n",
       "      <td>708016_2024-05-02</td>\n",
       "      <td>708016</td>\n",
       "      <td>4</td>\n",
       "      <td>D</td>\n",
       "      <td>2006</td>\n",
       "      <td>E2</td>\n",
       "      <td>NP3</td>\n",
       "      <td>NaN</td>\n",
       "      <td>NaN</td>\n",
       "      <td>...</td>\n",
       "      <td>NaN</td>\n",
       "      <td>NaN</td>\n",
       "      <td>NaN</td>\n",
       "      <td>NaN</td>\n",
       "      <td>NaN</td>\n",
       "      <td>NaN</td>\n",
       "      <td>NaN</td>\n",
       "      <td>NaN</td>\n",
       "      <td>NaN</td>\n",
       "      <td>None</td>\n",
       "    </tr>\n",
       "    <tr>\n",
       "      <th>1414</th>\n",
       "      <td>1414</td>\n",
       "      <td>708016_2024-05-02</td>\n",
       "      <td>708016</td>\n",
       "      <td>4</td>\n",
       "      <td>E</td>\n",
       "      <td>2006</td>\n",
       "      <td>F1</td>\n",
       "      <td>NP3</td>\n",
       "      <td>NaN</td>\n",
       "      <td>NaN</td>\n",
       "      <td>...</td>\n",
       "      <td>NaN</td>\n",
       "      <td>NaN</td>\n",
       "      <td>NaN</td>\n",
       "      <td>NaN</td>\n",
       "      <td>NaN</td>\n",
       "      <td>NaN</td>\n",
       "      <td>NaN</td>\n",
       "      <td>NaN</td>\n",
       "      <td>NaN</td>\n",
       "      <td>None</td>\n",
       "    </tr>\n",
       "    <tr>\n",
       "      <th>1415</th>\n",
       "      <td>1415</td>\n",
       "      <td>708016_2024-05-02</td>\n",
       "      <td>708016</td>\n",
       "      <td>4</td>\n",
       "      <td>F</td>\n",
       "      <td>2006</td>\n",
       "      <td>A1</td>\n",
       "      <td>NP3</td>\n",
       "      <td>NaN</td>\n",
       "      <td>NaN</td>\n",
       "      <td>...</td>\n",
       "      <td>NaN</td>\n",
       "      <td>NaN</td>\n",
       "      <td>NaN</td>\n",
       "      <td>NaN</td>\n",
       "      <td>NaN</td>\n",
       "      <td>NaN</td>\n",
       "      <td>NaN</td>\n",
       "      <td>NaN</td>\n",
       "      <td>NaN</td>\n",
       "      <td>None</td>\n",
       "    </tr>\n",
       "  </tbody>\n",
       "</table>\n",
       "<p>1416 rows × 139 columns</p>\n",
       "</div>"
      ],
      "text/plain": [
       "      index            session     MID  Day Probe Implant  Hole  Rig  \\\n",
       "0         0         1167400342  599657    1     A      41  None  NP1   \n",
       "1         1         1167400342  599657    1     B      41  None  NP1   \n",
       "2         2         1167400342  599657    1     C      41  None  NP1   \n",
       "3         3         1167400342  599657    1     D      41  None  NP1   \n",
       "4         4         1167400342  599657    1     E      41  None  NP1   \n",
       "...     ...                ...     ...  ...   ...     ...   ...  ...   \n",
       "1411   1411  708016_2024-05-02  708016    4     B    2006    B2  NP3   \n",
       "1412   1412  708016_2024-05-02  708016    4     C    2006    C1  NP3   \n",
       "1413   1413  708016_2024-05-02  708016    4     D    2006    E2  NP3   \n",
       "1414   1414  708016_2024-05-02  708016    4     E    2006    F1  NP3   \n",
       "1415   1415  708016_2024-05-02  708016    4     F    2006    A1  NP3   \n",
       "\n",
       "             ACAd         ACAv  ...        VISrl           VL           VM  \\\n",
       "0      894.241234   293.496541  ...  3717.397571  1511.714669  1757.501399   \n",
       "1     3766.656459  3092.767608  ...  2537.813094  2216.655435  1915.572059   \n",
       "2     4842.923394  4219.463946  ...  1073.084355  2332.296716  2315.841831   \n",
       "3     4770.699363  4167.564594  ...   758.046498  2302.547298  1846.667289   \n",
       "4     1620.032438  1035.375340  ...  2304.300264   999.356398  1974.711467   \n",
       "...           ...          ...  ...          ...          ...          ...   \n",
       "1411          NaN          NaN  ...          NaN          NaN          NaN   \n",
       "1412          NaN          NaN  ...          NaN          NaN          NaN   \n",
       "1413          NaN          NaN  ...          NaN          NaN          NaN   \n",
       "1414          NaN          NaN  ...          NaN          NaN          NaN   \n",
       "1415          NaN          NaN  ...          NaN          NaN          NaN   \n",
       "\n",
       "              VPL          VPM          VTA           ZI         AUDp  \\\n",
       "0     2187.950086  2065.528254  2957.023173  2435.497622  4777.061628   \n",
       "1     1958.401341  1584.688959  1707.117166  1822.079975  3884.160363   \n",
       "2     1433.220425  1365.191267  2270.079219  1508.884649  1979.643105   \n",
       "3     1370.515003  1223.321302  1499.822519  1050.299251  1458.094812   \n",
       "4     2173.203355  2076.896767  3216.244474  2615.137481  3631.178804   \n",
       "...           ...          ...          ...          ...          ...   \n",
       "1411          NaN          NaN          NaN          NaN          NaN   \n",
       "1412          NaN          NaN          NaN          NaN          NaN   \n",
       "1413          NaN          NaN          NaN          NaN          NaN   \n",
       "1414          NaN          NaN          NaN          NaN          NaN   \n",
       "1415          NaN          NaN          NaN          NaN          NaN   \n",
       "\n",
       "              CLA   MGd  \n",
       "0     3258.406881  None  \n",
       "1     4155.860785  None  \n",
       "2     3250.989101  None  \n",
       "3     3412.316956  None  \n",
       "4     3050.176347  None  \n",
       "...           ...   ...  \n",
       "1411          NaN  None  \n",
       "1412          NaN  None  \n",
       "1413          NaN  None  \n",
       "1414          NaN  None  \n",
       "1415          NaN  None  \n",
       "\n",
       "[1416 rows x 139 columns]"
      ]
     },
     "execution_count": 4,
     "metadata": {},
     "output_type": "execute_result"
    }
   ],
   "source": [
    "cursor = connection.execute(\n",
    "    f\"SELECT * FROM min_distance_to_region\"\n",
    ")\n",
    "min_distance = cursor.fetchall()\n",
    "df_min_distance = pd.DataFrame(min_distance)\n",
    "areas_of_interest = df_min_distance.columns[8:].to_list()\n",
    "df_min_distance"
   ]
  },
  {
   "cell_type": "code",
   "execution_count": 5,
   "metadata": {},
   "outputs": [
    {
     "data": {
      "text/plain": [
       "amplitude_cutoff: double\n",
       "amplitude_cv_median: double\n",
       "amplitude_cv_range: double\n",
       "amplitude_median: double\n",
       "drift_ptp: double\n",
       "drift_std: double\n",
       "drift_mad: double\n",
       "firing_range: double\n",
       "firing_rate: double\n",
       "isi_violations_ratio: double\n",
       "isi_violations_count: double\n",
       "num_spikes: double\n",
       "presence_ratio: double\n",
       "rp_contamination: double\n",
       "rp_violations: double\n",
       "sliding_rp_violation: double\n",
       "snr: double\n",
       "sync_spike_2: double\n",
       "sync_spike_4: double\n",
       "sync_spike_8: double\n",
       "d_prime: double\n",
       "isolation_distance: double\n",
       "l_ratio: double\n",
       "silhouette: double\n",
       "nn_hit_rate: double\n",
       "nn_miss_rate: double\n",
       "exp_decay: double\n",
       "half_width: double\n",
       "num_negative_peaks: int64\n",
       "num_positive_peaks: int64\n",
       "peak_to_valley: double\n",
       "peak_trough_ratio: double\n",
       "recovery_slope: double\n",
       "repolarization_slope: double\n",
       "spread: double\n",
       "velocity_above: double\n",
       "velocity_below: double\n",
       "electrode_group_name: string\n",
       "peak_channel: int64\n",
       "cluster_id: int64\n",
       "default_qc: bool\n",
       "amplitude: double\n",
       "channels: list<element: int64>\n",
       "  child 0, element: int64\n",
       "unit_id: string\n",
       "group_name: string\n",
       "ccf_ap: double\n",
       "ccf_dv: double\n",
       "ccf_ml: double\n",
       "structure: string\n",
       "location: string\n",
       "peak_electrode: int64\n",
       "obs_intervals: list<element: list<element: double>>\n",
       "  child 0, element: list<element: double>\n",
       "      child 0, element: double\n",
       "electrodes: list<element: int64>\n",
       "  child 0, element: int64\n",
       "device_name: string\n",
       "session_idx: int64\n",
       "date: date32[day]\n",
       "subject_id: int64\n",
       "session_id: string\n",
       "id: int64\n",
       "-- schema metadata --\n",
       "pandas: '{\"index_columns\": [\"id\"], \"column_indexes\": [{\"name\": null, \"fie' + 7917"
      ]
     },
     "execution_count": 5,
     "metadata": {},
     "output_type": "execute_result"
    }
   ],
   "source": [
    "units = pq.ParquetDataset(npc_lims.get_cache_path('units', version=VERSION))\n",
    "units.schema"
   ]
  },
  {
   "cell_type": "code",
   "execution_count": 6,
   "metadata": {},
   "outputs": [],
   "source": [
    "electrode_groups = pq.ParquetDataset(npc_lims.get_cache_path('electrode_groups', version=VERSION)).read_pandas().to_pandas()\n",
    "electrodes_original = pq.ParquetDataset(npc_lims.get_cache_path('electrodes', version=VERSION)).read_pandas().to_pandas()\n",
    "units_structures = pq.ParquetDataset(npc_lims.get_cache_path('units', version=VERSION)).read(columns=['structure', 'location', 'peak_channel', 'subject_id', 'session_idx', 'date', \n",
    "                                      'ccf_ap', 'ccf_dv', 'ccf_ml', 'group_name', 'default_qc', 'unit_id']).to_pandas()\n",
    "performance = pq.ParquetDataset(npc_lims.get_cache_path('performance', version=VERSION)).read_pandas().to_pandas()"
   ]
  },
  {
   "cell_type": "code",
   "execution_count": 7,
   "metadata": {},
   "outputs": [
    {
     "data": {
      "text/plain": [
       "['620263_2022-07-26_0',\n",
       " '620263_2022-07-27_0',\n",
       " '620264_2022-08-02_0',\n",
       " '626791_2022-08-15_0',\n",
       " '626791_2022-08-16_0',\n",
       " '626791_2022-08-17_0',\n",
       " '628801_2022-09-19_0',\n",
       " '636397_2022-09-26_0',\n",
       " '636397_2022-09-27_0',\n",
       " '636766_2023-01-23_0',\n",
       " '636766_2023-01-24_0',\n",
       " '636766_2023-01-25_0',\n",
       " '636766_2023-01-26_0',\n",
       " '644547_2022-12-05_0',\n",
       " '644547_2022-12-06_0',\n",
       " '644864_2023-01-30_0',\n",
       " '644864_2023-01-31_0',\n",
       " '644866_2023-02-07_0',\n",
       " '644866_2023-02-08_0',\n",
       " '644866_2023-02-09_0',\n",
       " '644866_2023-02-10_0',\n",
       " '646318_2023-01-17_0',\n",
       " '649943_2023-02-14_0',\n",
       " '649943_2023-02-15_0',\n",
       " '649943_2023-02-16_0',\n",
       " '649944_2023-02-27_0',\n",
       " '649944_2023-02-28_0',\n",
       " '662892_2023-08-21_0',\n",
       " '662892_2023-08-22_0',\n",
       " '662892_2023-08-23_0',\n",
       " '662892_2023-08-24_0',\n",
       " '662983_2023-05-15_0',\n",
       " '662983_2023-05-16_0',\n",
       " '664851_2023-11-13_0',\n",
       " '664851_2023-11-14_0',\n",
       " '664851_2023-11-15_0',\n",
       " '664851_2023-11-16_0',\n",
       " '666986_2023-08-16_0',\n",
       " '666986_2023-08-17_0',\n",
       " '667252_2023-09-26_0',\n",
       " '667252_2023-09-28_0',\n",
       " '668755_2023-08-31_0',\n",
       " '668759_2023-07-11_0',\n",
       " '670180_2023-07-27_0',\n",
       " '670248_2023-08-01_0',\n",
       " '674562_2023-10-02_0',\n",
       " '674562_2023-10-03_0',\n",
       " '674562_2023-10-04_0',\n",
       " '674562_2023-10-05_0',\n",
       " '676909_2023-12-11_0',\n",
       " '676909_2023-12-12_0',\n",
       " '676909_2023-12-13_0',\n",
       " '676909_2023-12-14_0',\n",
       " '681532_2023-10-16_0',\n",
       " '681532_2023-10-17_0',\n",
       " '681532_2023-10-18_0',\n",
       " '686176_2023-12-04_0',\n",
       " '686176_2023-12-05_0',\n",
       " '686176_2023-12-07_0',\n",
       " '686740_2023-10-25_0',\n",
       " '686740_2023-10-26_0',\n",
       " '690706_2023-11-27_0',\n",
       " '690706_2023-11-29_0',\n",
       " '690706_2023-11-30_0',\n",
       " '703880_2024-04-17_0']"
      ]
     },
     "execution_count": 7,
     "metadata": {},
     "output_type": "execute_result"
    }
   ],
   "source": [
    "electrodes_original['session_id'].unique().tolist()"
   ]
  },
  {
   "cell_type": "code",
   "execution_count": 8,
   "metadata": {},
   "outputs": [
    {
     "data": {
      "text/plain": [
       "Index(['structure', 'location', 'peak_channel', 'subject_id', 'session_idx',\n",
       "       'date', 'ccf_ap', 'ccf_dv', 'ccf_ml', 'group_name', 'default_qc',\n",
       "       'unit_id', 'session_id', 'is_ephys', 'is_templeton', 'is_training',\n",
       "       'is_dynamic_routing', 'is_opto'],\n",
       "      dtype='object')"
      ]
     },
     "execution_count": 8,
     "metadata": {},
     "output_type": "execute_result"
    }
   ],
   "source": [
    "electrodes_original = dr.add_bool_columns(electrodes_original, version=VERSION)\n",
    "units_structures_with_bools = dr.add_bool_columns(units_structures, version=VERSION)\n",
    "#electrodes_original = electrodes_original[electrodes_original['subject_id'].isin(subjects_passing_behavior)]\n",
    "\n",
    "units_structures_with_bools.dropna(inplace=True)\n",
    "units_structures_with_bools.columns"
   ]
  },
  {
   "cell_type": "code",
   "execution_count": 9,
   "metadata": {},
   "outputs": [
    {
     "name": "stdout",
     "output_type": "stream",
     "text": [
      "Number of units: 69170\n"
     ]
    }
   ],
   "source": [
    "units_structures_with_bools_dr = units_structures_with_bools[units_structures_with_bools['is_dynamic_routing'] == True]\n",
    "units_structures_with_bools_dr = units_structures_with_bools_dr[~(units_structures_with_bools_dr['structure'].str.islower())]\n",
    "print(f'Number of units: {len(units_structures_with_bools_dr)}')"
   ]
  },
  {
   "cell_type": "code",
   "execution_count": 10,
   "metadata": {},
   "outputs": [
    {
     "data": {
      "text/plain": [
       "Index(['location', 'group_name', 'structure', 'x', 'y', 'z', 'channel',\n",
       "       'rel_x', 'rel_y', 'reference', 'imp', 'raw_location', 'raw_structure',\n",
       "       'session_idx', 'date', 'subject_id', 'session_id', 'is_ephys',\n",
       "       'is_templeton', 'is_training', 'is_dynamic_routing', 'is_opto'],\n",
       "      dtype='object')"
      ]
     },
     "execution_count": 10,
     "metadata": {},
     "output_type": "execute_result"
    }
   ],
   "source": [
    "electrodes_original.columns"
   ]
  },
  {
   "cell_type": "code",
   "execution_count": 11,
   "metadata": {},
   "outputs": [
    {
     "data": {
      "text/plain": [
       "Index(['location', 'group_name', 'structure', 'x', 'y', 'z', 'channel',\n",
       "       'rel_x', 'rel_y', 'reference', 'imp', 'raw_location', 'raw_structure',\n",
       "       'session_idx', 'date', 'subject_id', 'session_id', 'is_ephys',\n",
       "       'is_templeton', 'is_training', 'is_dynamic_routing', 'is_opto'],\n",
       "      dtype='object')"
      ]
     },
     "execution_count": 11,
     "metadata": {},
     "output_type": "execute_result"
    }
   ],
   "source": [
    "import ipywidgets\n",
    "\n",
    "electrodes = electrodes_original.dropna()\n",
    "electrodes = electrodes[~(electrodes['session_id'].str.contains('662892'))]\n",
    "electrodes = electrodes[~(electrodes['structure'].str.islower())]\n",
    "electrodes = electrodes[electrodes['is_dynamic_routing'] == True]\n",
    "electrodes.columns"
   ]
  },
  {
   "cell_type": "code",
   "execution_count": 12,
   "metadata": {},
   "outputs": [
    {
     "data": {
      "text/plain": [
       "Index(['location_x', 'group_name', 'structure', 'x', 'y', 'z', 'channel',\n",
       "       'rel_x', 'rel_y', 'reference', 'imp', 'raw_location', 'raw_structure',\n",
       "       'session_idx_x', 'date_x', 'subject_id_x', 'session_id', 'is_ephys',\n",
       "       'is_templeton', 'is_training', 'is_dynamic_routing', 'is_opto',\n",
       "       'description', 'location_y', 'name', 'session_idx_y', 'date_y',\n",
       "       'subject_id_y'],\n",
       "      dtype='object')"
      ]
     },
     "execution_count": 12,
     "metadata": {},
     "output_type": "execute_result"
    }
   ],
   "source": [
    "electrodes = electrodes.merge(electrode_groups, left_on=['session_id', 'group_name'], right_on=['session_id', 'name'])\n",
    "electrodes.columns"
   ]
  },
  {
   "cell_type": "code",
   "execution_count": 13,
   "metadata": {},
   "outputs": [
    {
     "data": {
      "text/plain": [
       "Index(['structure', 'location', 'peak_channel', 'subject_id', 'session_idx',\n",
       "       'date', 'ccf_ap', 'ccf_dv', 'ccf_ml', 'group_name', 'default_qc',\n",
       "       'unit_id', 'session_id', 'is_ephys', 'is_templeton', 'is_training',\n",
       "       'is_dynamic_routing', 'is_opto'],\n",
       "      dtype='object')"
      ]
     },
     "execution_count": 13,
     "metadata": {},
     "output_type": "execute_result"
    }
   ],
   "source": [
    "units_structures_with_bools_dr = units_structures_with_bools[units_structures_with_bools['is_dynamic_routing'] == True]\n",
    "units_structures_with_bools_dr.columns"
   ]
  },
  {
   "cell_type": "code",
   "execution_count": 14,
   "metadata": {},
   "outputs": [
    {
     "data": {
      "text/plain": [
       "Index(['structure', 'location_x', 'peak_channel', 'subject_id_x',\n",
       "       'session_idx_x', 'date_x', 'ccf_ap', 'ccf_dv', 'ccf_ml', 'group_name',\n",
       "       'default_qc', 'unit_id', 'session_id', 'is_ephys', 'is_templeton',\n",
       "       'is_training', 'is_dynamic_routing', 'is_opto', 'description',\n",
       "       'location_y', 'name', 'session_idx_y', 'date_y', 'subject_id_y'],\n",
       "      dtype='object')"
      ]
     },
     "execution_count": 14,
     "metadata": {},
     "output_type": "execute_result"
    }
   ],
   "source": [
    "units_structures_with_bools_dr = units_structures_with_bools_dr.merge(electrode_groups, left_on=['session_id', 'group_name'], right_on=['session_id', 'name'])\n",
    "units_structures_with_bools_dr.columns"
   ]
  },
  {
   "cell_type": "code",
   "execution_count": 15,
   "metadata": {},
   "outputs": [],
   "source": [
    "from ipywidgets import interact, Box"
   ]
  },
  {
   "cell_type": "code",
   "execution_count": 16,
   "metadata": {},
   "outputs": [],
   "source": [
    "def get_subject_colors(electrodes_structures_area: pd.DataFrame) -> list[tuple[int, int, int]]: \n",
    "    subject_colors = dr.utils.generate_subject_random_colors(electrodes_structures_area)\n",
    "    subject_color_list = []\n",
    "\n",
    "    for index, row in electrodes_structures_area.iterrows():\n",
    "        if 'MID' in electrodes_structures_area.columns:\n",
    "            subject_color_list.append(subject_colors[str(row['MID'])])\n",
    "        else:\n",
    "            subject_color_list.append(subject_colors[str(row['subject_id_x'])])\n",
    "    \n",
    "    return subject_color_list"
   ]
  },
  {
   "cell_type": "code",
   "execution_count": 17,
   "metadata": {},
   "outputs": [],
   "source": [
    "unique_implants = df_ccf['Implant'].unique().tolist()\n",
    "unique_implants.append('All')\n",
    "implants_dropdown = ipywidgets.Dropdown(options=unique_implants, value=unique_implants[-1], description='Implants', disabled=False)\n",
    "\n",
    "unique_holes = df_ccf['Hole'].unique().tolist()\n",
    "unique_holes.append('All')\n",
    "holes_dropdown = ipywidgets.Dropdown(options=unique_holes, value=unique_holes[-1], description='Holes', disabled=False)\n",
    "\n",
    "unique_probes = df_ccf['Probe'].unique().tolist()\n",
    "unique_probes.append('All')\n",
    "probes_dropdown = ipywidgets.Dropdown(options=unique_probes, value=unique_probes[-1], description='Probes', disabled=False)"
   ]
  },
  {
   "cell_type": "code",
   "execution_count": 18,
   "metadata": {},
   "outputs": [],
   "source": [
    "def update_3d_viewer_based_on_trajectory() -> tuple[list]:\n",
    "    urchin.ccf25.clear()\n",
    "    urchin.clear_meshes()\n",
    "\n",
    "    if implants_dropdown.value == 'All':\n",
    "        pmeshes = urchin.meshes.create(len(electrodes)) #creates 2 primitives, stored in list pmeshes\n",
    "        electrodes_sessions = electrodes\n",
    "        coords = electrodes[['x', 'z', 'y']].to_numpy().tolist()\n",
    "    else:\n",
    "        probe_target_sessions = df_ccf[(df_ccf['Implant'] == implants_dropdown.value) & (df_ccf['Hole'] == holes_dropdown.value)\n",
    "                                    & (df_ccf['Probe'] == probes_dropdown.value)]\n",
    "        probe_target_sessions_filtered = []\n",
    "        \"\"\"\n",
    "        for session in probe_target_sessions:\n",
    "            try:\n",
    "                session_record = npc_session.SessionRecord(session)\n",
    "                probe_target_sessions_filtered.append(f\"{session_record.subject}_{session_record.date}_{session_record.idx}\")\n",
    "            except ValueError:\n",
    "                pass\n",
    "        \"\"\"\n",
    "        #electrodes_sessions = probe_target_sessions\n",
    "        #lectrodes_sessions = electrodes_sessions[electrodes_sessions['Probe'] == probes_dropdown.value]\n",
    "        \n",
    "        coords = probe_target_sessions.iloc[:, 9:].to_numpy()\n",
    "        \n",
    "        ccf_coords = None\n",
    "        for coord in coords:\n",
    "            coord_reshape = coord.reshape((384, 4))\n",
    "            if ccf_coords is None:\n",
    "                ccf_coords = coord_reshape\n",
    "            else:\n",
    "                ccf_coords = np.concatenate((ccf_coords, coord_reshape))\n",
    "\n",
    "    print(f\"Implant {implants_dropdown.value} Hole {holes_dropdown.value} Probe {probes_dropdown.value}\")\n",
    "    print(f\"Mice Day: {probe_target_sessions[['MID', 'Day']].values.tolist()}\")\n",
    "    print(f\"Areas: {np.unique(ccf_coords[:, 3]).tolist()}\")\n",
    "    urchin.ccf25.root.set_visibility(True)\n",
    "    urchin.ccf25.root.set_material('transparent-lit')\n",
    "    urchin.ccf25.root.set_alpha(0.15)\n",
    "    urchin.ccf25.root.set_color(\"#000000\")\n",
    "\n",
    "    # reorder to AP/ML/DV for Urchin and make a list of lists\n",
    "    #ccf_coords[:, [2, 1]] = ccf_coords[:, [1, 2]]\n",
    "    #ccf_coords = ccf_coords[ccf_coords[:, 0] > 0]\n",
    "    coords_list = []\n",
    "    for ccf_coord in ccf_coords:\n",
    "        if ccf_coord[0] > 0 and not np.isnan(ccf_coord[0]):\n",
    "            coords_list.append([ccf_coord[0] * 25, ccf_coord[2] * 25, ccf_coord[1] * 25])\n",
    "    \n",
    "    pmeshes = urchin.meshes.create(len(coords_list)) #creates 2 primitives, stored in list pmeshes\n",
    "    callback_ids = [mesh.id for mesh in pmeshes]\n",
    "    session_list = probe_target_sessions[['session', 'MID','Hole', 'Implant', 'Probe']].to_numpy().tolist()\n",
    "    sizes_list = [[0.03,0.03,0.03]]*len(coords_list)\n",
    "    urchin.meshes.set_positions(pmeshes,coords_list) #sets the positions of the primitives\n",
    "    urchin.meshes.set_colors(pmeshes, ['#FF0000'] * len(coords_list))\n",
    "    urchin.meshes.set_scales(pmeshes, sizes_list)\n",
    "\n",
    "    area_list = urchin.ccf25.get_areas(np.unique(ccf_coords[:, 3]).tolist())\n",
    "    \n",
    "    urchin.ccf25.set_visibilities(area_list, True, urchin.utils.Side.LEFT)\n",
    "    urchin.ccf25.set_materials(area_list, 'transparent-unlit', \"left\")\n",
    "    urchin.ccf25.set_alphas(area_list, 0.2, \"left\")\n",
    "    \n",
    "\n",
    "    return callback_ids, session_list"
   ]
  },
  {
   "cell_type": "code",
   "execution_count": 19,
   "metadata": {},
   "outputs": [],
   "source": [
    "def filter_by_implant(implant: str):\n",
    "    if implant == 'All':\n",
    "        holes_dropdown.options = unique_holes\n",
    "        holes_dropdown.value = 'All'\n",
    "    else:\n",
    "        df_implant = df_ccf[df_ccf['Implant'] == implant]\n",
    "        holes_dropdown.options = df_implant['Hole'].unique().tolist()\n",
    "        holes_dropdown.value = holes_dropdown.options[0]"
   ]
  },
  {
   "cell_type": "code",
   "execution_count": 20,
   "metadata": {},
   "outputs": [],
   "source": [
    "def filter_by_implant_hole(implant: str, hole: str):\n",
    "    if implant == 'All' and hole == 'All':\n",
    "        probes_dropdown.options = unique_probes\n",
    "        probes_dropdown.value = 'All'\n",
    "    else:\n",
    "        df_implant_hole = df_ccf[(df_ccf['Implant'] == implant) & (df_ccf['Hole'] == hole)]\n",
    "        probes_dropdown.options = sorted(df_implant_hole['Probe'].unique().tolist())\n",
    "        probes_dropdown.value = probes_dropdown.options[0]"
   ]
  },
  {
   "cell_type": "code",
   "execution_count": 21,
   "metadata": {},
   "outputs": [
    {
     "name": "stdout",
     "output_type": "stream",
     "text": [
      "(URN) connected to server\n",
      "Login sent with ID: 997a6c5b, copy this ID into the renderer to connect.\n"
     ]
    },
    {
     "name": "stdout",
     "output_type": "stream",
     "text": [
      "(URN) disconnected from server\n",
      "(URN) connected to server\n",
      "Login sent with ID: 997a6c5b, copy this ID into the renderer to connect.\n"
     ]
    }
   ],
   "source": [
    "urchin.setup()"
   ]
  },
  {
   "cell_type": "code",
   "execution_count": 22,
   "metadata": {},
   "outputs": [],
   "source": [
    "urchin.ccf25.load()"
   ]
  },
  {
   "cell_type": "code",
   "execution_count": 23,
   "metadata": {},
   "outputs": [
    {
     "data": {
      "application/vnd.jupyter.widget-view+json": {
       "model_id": "e42eddfca74749b38ea6df8b21a9bdab",
       "version_major": 2,
       "version_minor": 0
      },
      "text/plain": [
       "interactive(children=(Dropdown(description='x', options=('coronal', 'axial', 'sagittal'), value='coronal'), Ou…"
      ]
     },
     "metadata": {},
     "output_type": "display_data"
    }
   ],
   "source": [
    "@interact(x=['coronal', 'axial', 'sagittal'])\n",
    "def camera_rotation(x):\n",
    "    urchin.camera.main.set_rotation(x)\n",
    "    urchin.camera.main.set_mode('perspective')\n",
    "    urchin.camera.main.set_background_color('#ffffff')"
   ]
  },
  {
   "cell_type": "code",
   "execution_count": 24,
   "metadata": {},
   "outputs": [
    {
     "data": {
      "application/vnd.jupyter.widget-view+json": {
       "model_id": "b60b8306b7ab41b09c509e3bd03be65d",
       "version_major": 2,
       "version_minor": 0
      },
      "text/plain": [
       "interactive(children=(IntSlider(value=45, description='x', max=60, min=5), Output()), _dom_classes=('widget-in…"
      ]
     },
     "metadata": {},
     "output_type": "display_data"
    }
   ],
   "source": [
    "@interact(x=(5, 60))\n",
    "def zoom(x=45):\n",
    "    urchin.camera.main.set_zoom(60-x)"
   ]
  },
  {
   "cell_type": "code",
   "execution_count": 25,
   "metadata": {},
   "outputs": [
    {
     "data": {
      "application/vnd.jupyter.widget-view+json": {
       "model_id": "a39d6e332a6643e6b686c865357cca92",
       "version_major": 2,
       "version_minor": 0
      },
      "text/plain": [
       "Box(children=(Dropdown(description='Implants', index=9, options=('41', 'football', 'TS1', 'TS5', '2002', 'temp…"
      ]
     },
     "execution_count": 25,
     "metadata": {},
     "output_type": "execute_result"
    }
   ],
   "source": [
    "items = [implants_dropdown, holes_dropdown, probes_dropdown]\n",
    "box = Box(children=items)\n",
    "box"
   ]
  },
  {
   "cell_type": "code",
   "execution_count": 26,
   "metadata": {},
   "outputs": [],
   "source": [
    "filter_by_implant(implants_dropdown.value)"
   ]
  },
  {
   "cell_type": "code",
   "execution_count": 90,
   "metadata": {},
   "outputs": [],
   "source": [
    "filter_by_implant_hole(implants_dropdown.value, holes_dropdown.value)"
   ]
  },
  {
   "cell_type": "code",
   "execution_count": 113,
   "metadata": {},
   "outputs": [
    {
     "name": "stdout",
     "output_type": "stream",
     "text": [
      "Implant 2002 Hole A1 Probe A\n",
      "Mice Day: [[632296, 1], [632296, 3], [632295, 1], [632295, 3], [636740, 1], [636740, 3], [637483, 1], [637483, 3], [638387, 1], [638387, 3], [640887, 2], [640887, 4], [637488, 2], [637488, 4], [644867, 1], [644867, 2], [649943, 1], [649943, 2], [642504, 2], [666986, 3], [666986, 4], [667252, 1], [667252, 2], [681532, 2]]\n",
      "Areas: ['ACAd5', 'ACAd6a', 'ACAd6b', 'CA1', 'CA2', 'CA3', 'CL', 'DG-mo', 'DG-po', 'DG-sg', 'Eth', 'FC', 'HPF', 'IMD', 'LD', 'LH', 'LP', 'MB', 'MD', 'MH', 'MOp1', 'MOp2/3', 'MOp5', 'MOp6a', 'MOp6b', 'MOs1', 'MOs2/3', 'MOs5', 'MOs6a', 'MOs6b', 'OP', 'PAG', 'PO', 'PRC', 'PVT', 'RSPagl1', 'RSPagl2/3', 'RSPagl5', 'RSPagl6a', 'RSPagl6b', 'RSPd1', 'RSPd2/3', 'RSPd5', 'RSPd6a', 'RSPd6b', 'RSPv5', 'RSPv6a', 'RSPv6b', 'SPA', 'SSp-ll1', 'SSp-ll2/3', 'SSp-ll4', 'SSp-ll5', 'SSp-ll6a', 'SSp-ll6b', 'SSp-tr1', 'SSp-tr2/3', 'SSp-tr4', 'SSp-tr5', 'SSp-tr6a', 'SSp-tr6b', 'TH', 'Track not annotated', 'V3', 'VL', 'VPMpc', 'alv', 'ccb', 'ccs', 'chpl', 'cing', 'dhc', 'fi', 'fr', 'hbc', 'out of brain', 'root', 'sm']\n",
      "(Warning): Area Track not annotated couldnt be found in this atlas!\n",
      "(Warning): Area out of brain couldnt be found in this atlas!\n"
     ]
    }
   ],
   "source": [
    "call_back_ids, session_list = update_3d_viewer_based_on_trajectory()"
   ]
  },
  {
   "cell_type": "code",
   "execution_count": 31,
   "metadata": {},
   "outputs": [
    {
     "data": {
      "application/vnd.jupyter.widget-view+json": {
       "model_id": "e66a0f3f3cb4423fa1bda6e6f9b45307",
       "version_major": 2,
       "version_minor": 0
      },
      "text/plain": [
       "Dropdown(description='CCF Structure Area', options=('ACAd', 'ACAv', 'ACB', 'AD', 'AId', 'AIv', 'AMd', 'AMv', '…"
      ]
     },
     "execution_count": 31,
     "metadata": {},
     "output_type": "execute_result"
    }
   ],
   "source": [
    "unique_areas = electrodes['structure'].unique()\n",
    "unique_areas.sort()\n",
    "area_dropdown = ipywidgets.Dropdown(options=unique_areas, value=unique_areas[0], description='CCF Structure Area', disabled=False)\n",
    "\n",
    "def update_3d_viewer(area: str) -> tuple[list]:\n",
    "    urchin.ccf25.clear()\n",
    "    urchin.clear_meshes()\n",
    "    units_structures_with_bools_dr_area = units_structures_with_bools_dr[units_structures_with_bools_dr['structure'] == area]\n",
    "    electrodes_structures_area = electrodes[electrodes['structure'] == area]\n",
    "\n",
    "    print(f\"{area}: {len(electrodes_structures_area['subject_id_x'].unique())} mice\")\n",
    "    print(f\"{area}: {len(electrodes_structures_area['session_id'].unique())} sessions\")\n",
    "    print(f\"{area}: {len(units_structures_with_bools_dr_area)} units\")\n",
    "\n",
    "    pmeshes = urchin.meshes.create(len(units_structures_with_bools_dr_area)) #creates 2 primitives, stored in list pmeshes\n",
    "    coords = units_structures_with_bools_dr_area[['ccf_ap', 'ccf_ml', 'ccf_dv']].to_numpy().tolist()\n",
    "    callback_ids = [mesh.id for mesh in pmeshes]\n",
    "    session_list = units_structures_with_bools_dr_area[['session_id', 'location_y', 'group_name', 'unit_id']].to_numpy().tolist()\n",
    "\n",
    "    urchin.ccf25.root.set_visibility(True)\n",
    "    urchin.ccf25.root.set_material('transparent-lit')\n",
    "    urchin.ccf25.root.set_alpha(0.15)\n",
    "    urchin.ccf25.root.set_color(\"#000000\")\n",
    "\n",
    "    # reorder to AP/ML/DV for Urchin and make a list of lists\n",
    "    coords_list = [[x[0], x[1], x[2]] for x in coords]\n",
    "    print(session_list)\n",
    "    sizes_list = [[0.03,0.03,0.03]]*len(coords)\n",
    "\n",
    "    urchin.meshes.set_positions(pmeshes,coords_list) #sets the positions of the primitives\n",
    "    urchin.meshes.set_colors(pmeshes, get_subject_colors(units_structures_with_bools_dr_area))\n",
    "    urchin.meshes.set_scales(pmeshes, sizes_list)\n",
    "\n",
    "    area_list = urchin.ccf25.get_areas([area])\n",
    "\n",
    "    urchin.ccf25.set_visibilities(area_list, True, urchin.utils.Side.LEFT)\n",
    "    urchin.ccf25.set_materials(area_list, 'transparent-unlit', \"left\")\n",
    "    urchin.ccf25.set_alphas(area_list, 0.2, \"left\")\n",
    "\n",
    "    return callback_ids, session_list\n",
    "\n",
    "area_dropdown\n"
   ]
  },
  {
   "cell_type": "code",
   "execution_count": 32,
   "metadata": {},
   "outputs": [
    {
     "name": "stdout",
     "output_type": "stream",
     "text": [
      "ACAd: 10 mice\n",
      "ACAd: 22 sessions\n",
      "ACAd: 1997 units\n",
      "[['626791_2022-08-16_0', 'Templeton A2', 'probeA', '626791_2022-08-16_A-22'], ['626791_2022-08-16_0', 'Templeton A2', 'probeA', '626791_2022-08-16_A-88'], ['626791_2022-08-16_0', 'Templeton A2', 'probeA', '626791_2022-08-16_A-28'], ['626791_2022-08-16_0', 'Templeton A2', 'probeA', '626791_2022-08-16_A-27'], ['626791_2022-08-16_0', 'Templeton A2', 'probeA', '626791_2022-08-16_A-26'], ['626791_2022-08-16_0', 'Templeton A2', 'probeA', '626791_2022-08-16_A-25'], ['626791_2022-08-16_0', 'Templeton A2', 'probeA', '626791_2022-08-16_A-23'], ['626791_2022-08-16_0', 'Templeton A2', 'probeA', '626791_2022-08-16_A-89'], ['626791_2022-08-16_0', 'Templeton A2', 'probeA', '626791_2022-08-16_A-90'], ['626791_2022-08-16_0', 'Templeton A2', 'probeA', '626791_2022-08-16_A-20'], ['626791_2022-08-16_0', 'Templeton A2', 'probeA', '626791_2022-08-16_A-18'], ['626791_2022-08-16_0', 'Templeton A2', 'probeA', '626791_2022-08-16_A-17'], ['626791_2022-08-16_0', 'Templeton A2', 'probeA', '626791_2022-08-16_A-16'], ['626791_2022-08-16_0', 'Templeton A2', 'probeA', '626791_2022-08-16_A-15'], ['626791_2022-08-16_0', 'Templeton A2', 'probeA', '626791_2022-08-16_A-13'], ['626791_2022-08-16_0', 'Templeton A2', 'probeA', '626791_2022-08-16_A-21'], ['636766_2023-01-25_0', '2002 A2', 'probeF', '636766_2023-01-25_F-139'], ['636766_2023-01-25_0', '2002 A2', 'probeF', '636766_2023-01-25_F-140'], ['636766_2023-01-25_0', '2002 A2', 'probeF', '636766_2023-01-25_F-142'], ['636766_2023-01-25_0', '2002 A2', 'probeF', '636766_2023-01-25_F-317'], ['636766_2023-01-25_0', '2002 A2', 'probeF', '636766_2023-01-25_F-318'], ['636766_2023-01-25_0', '2002 A2', 'probeF', '636766_2023-01-25_F-138'], ['636766_2023-01-25_0', '2002 A2', 'probeF', '636766_2023-01-25_F-134'], ['636766_2023-01-25_0', '2002 A2', 'probeF', '636766_2023-01-25_F-135'], ['664851_2023-11-13_0', '2002 B3', 'probeC', '664851_2023-11-13_C-262'], ['664851_2023-11-13_0', '2002 B3', 'probeC', '664851_2023-11-13_C-544'], ['664851_2023-11-13_0', '2002 B3', 'probeC', '664851_2023-11-13_C-543'], ['664851_2023-11-13_0', '2002 B3', 'probeC', '664851_2023-11-13_C-542'], ['664851_2023-11-13_0', '2002 B3', 'probeC', '664851_2023-11-13_C-540'], ['664851_2023-11-13_0', '2002 B3', 'probeC', '664851_2023-11-13_C-539'], ['664851_2023-11-13_0', '2002 B3', 'probeC', '664851_2023-11-13_C-538'], ['664851_2023-11-13_0', '2002 B3', 'probeC', '664851_2023-11-13_C-536'], ['664851_2023-11-13_0', '2002 B3', 'probeC', '664851_2023-11-13_C-535'], ['664851_2023-11-13_0', '2002 B3', 'probeC', '664851_2023-11-13_C-534'], ['664851_2023-11-13_0', '2002 B3', 'probeC', '664851_2023-11-13_C-533'], ['664851_2023-11-13_0', '2002 B3', 'probeC', '664851_2023-11-13_C-532'], ['664851_2023-11-13_0', '2002 B3', 'probeC', '664851_2023-11-13_C-531'], ['664851_2023-11-13_0', '2002 B3', 'probeC', '664851_2023-11-13_C-530'], ['664851_2023-11-13_0', '2002 B3', 'probeC', '664851_2023-11-13_C-529'], ['664851_2023-11-13_0', '2002 B3', 'probeC', '664851_2023-11-13_C-528'], ['664851_2023-11-13_0', '2002 B3', 'probeC', '664851_2023-11-13_C-228'], ['664851_2023-11-13_0', '2002 B3', 'probeC', '664851_2023-11-13_C-230'], ['664851_2023-11-13_0', '2002 B3', 'probeC', '664851_2023-11-13_C-231'], ['664851_2023-11-13_0', '2002 B3', 'probeC', '664851_2023-11-13_C-232'], ['664851_2023-11-13_0', '2002 B3', 'probeC', '664851_2023-11-13_C-233'], ['664851_2023-11-13_0', '2002 B3', 'probeC', '664851_2023-11-13_C-234'], ['664851_2023-11-13_0', '2002 B3', 'probeC', '664851_2023-11-13_C-545'], ['664851_2023-11-13_0', '2002 B3', 'probeC', '664851_2023-11-13_C-235'], ['664851_2023-11-13_0', '2002 B3', 'probeC', '664851_2023-11-13_C-546'], ['664851_2023-11-13_0', '2002 B3', 'probeC', '664851_2023-11-13_C-548'], ['664851_2023-11-13_0', '2002 B3', 'probeC', '664851_2023-11-13_C-577'], ['664851_2023-11-13_0', '2002 B3', 'probeC', '664851_2023-11-13_C-575'], ['664851_2023-11-13_0', '2002 B3', 'probeC', '664851_2023-11-13_C-574'], ['664851_2023-11-13_0', '2002 B3', 'probeC', '664851_2023-11-13_C-573'], ['664851_2023-11-13_0', '2002 B3', 'probeC', '664851_2023-11-13_C-572'], ['664851_2023-11-13_0', '2002 B3', 'probeC', '664851_2023-11-13_C-571'], ['664851_2023-11-13_0', '2002 B3', 'probeC', '664851_2023-11-13_C-569'], ['664851_2023-11-13_0', '2002 B3', 'probeC', '664851_2023-11-13_C-566'], ['664851_2023-11-13_0', '2002 B3', 'probeC', '664851_2023-11-13_C-565'], ['664851_2023-11-13_0', '2002 B3', 'probeC', '664851_2023-11-13_C-564'], ['664851_2023-11-13_0', '2002 B3', 'probeC', '664851_2023-11-13_C-563'], ['664851_2023-11-13_0', '2002 B3', 'probeC', '664851_2023-11-13_C-562'], ['664851_2023-11-13_0', '2002 B3', 'probeC', '664851_2023-11-13_C-561'], ['664851_2023-11-13_0', '2002 B3', 'probeC', '664851_2023-11-13_C-558'], ['664851_2023-11-13_0', '2002 B3', 'probeC', '664851_2023-11-13_C-556'], ['664851_2023-11-13_0', '2002 B3', 'probeC', '664851_2023-11-13_C-555'], ['664851_2023-11-13_0', '2002 B3', 'probeC', '664851_2023-11-13_C-554'], ['664851_2023-11-13_0', '2002 B3', 'probeC', '664851_2023-11-13_C-553'], ['664851_2023-11-13_0', '2002 B3', 'probeC', '664851_2023-11-13_C-552'], ['664851_2023-11-13_0', '2002 B3', 'probeC', '664851_2023-11-13_C-550'], ['664851_2023-11-13_0', '2002 B3', 'probeC', '664851_2023-11-13_C-549'], ['664851_2023-11-13_0', '2002 B3', 'probeC', '664851_2023-11-13_C-547'], ['664851_2023-11-13_0', '2002 B3', 'probeC', '664851_2023-11-13_C-578'], ['664851_2023-11-13_0', '2002 B3', 'probeC', '664851_2023-11-13_C-236'], ['664851_2023-11-13_0', '2002 B3', 'probeC', '664851_2023-11-13_C-240'], ['664851_2023-11-13_0', '2002 B3', 'probeC', '664851_2023-11-13_C-269'], ['664851_2023-11-13_0', '2002 B3', 'probeC', '664851_2023-11-13_C-270'], ['664851_2023-11-13_0', '2002 B3', 'probeC', '664851_2023-11-13_C-271'], ['664851_2023-11-13_0', '2002 B3', 'probeC', '664851_2023-11-13_C-272'], ['664851_2023-11-13_0', '2002 B3', 'probeC', '664851_2023-11-13_C-274'], ['664851_2023-11-13_0', '2002 B3', 'probeC', '664851_2023-11-13_C-275'], ['664851_2023-11-13_0', '2002 B3', 'probeC', '664851_2023-11-13_C-276'], ['664851_2023-11-13_0', '2002 B3', 'probeC', '664851_2023-11-13_C-278'], ['664851_2023-11-13_0', '2002 B3', 'probeC', '664851_2023-11-13_C-279'], ['664851_2023-11-13_0', '2002 B3', 'probeC', '664851_2023-11-13_C-280'], ['664851_2023-11-13_0', '2002 B3', 'probeC', '664851_2023-11-13_C-281'], ['664851_2023-11-13_0', '2002 B3', 'probeC', '664851_2023-11-13_C-282'], ['664851_2023-11-13_0', '2002 B3', 'probeC', '664851_2023-11-13_C-284'], ['664851_2023-11-13_0', '2002 B3', 'probeC', '664851_2023-11-13_C-285'], ['664851_2023-11-13_0', '2002 B3', 'probeC', '664851_2023-11-13_C-286'], ['664851_2023-11-13_0', '2002 B3', 'probeC', '664851_2023-11-13_C-287'], ['664851_2023-11-13_0', '2002 B3', 'probeC', '664851_2023-11-13_C-289'], ['664851_2023-11-13_0', '2002 B3', 'probeC', '664851_2023-11-13_C-290'], ['664851_2023-11-13_0', '2002 B3', 'probeC', '664851_2023-11-13_C-291'], ['664851_2023-11-13_0', '2002 B3', 'probeC', '664851_2023-11-13_C-292'], ['664851_2023-11-13_0', '2002 B3', 'probeC', '664851_2023-11-13_C-293'], ['664851_2023-11-13_0', '2002 B3', 'probeC', '664851_2023-11-13_C-268'], ['664851_2023-11-13_0', '2002 B3', 'probeC', '664851_2023-11-13_C-239'], ['664851_2023-11-13_0', '2002 B3', 'probeC', '664851_2023-11-13_C-267'], ['664851_2023-11-13_0', '2002 B3', 'probeC', '664851_2023-11-13_C-265'], ['664851_2023-11-13_0', '2002 B3', 'probeC', '664851_2023-11-13_C-241'], ['664851_2023-11-13_0', '2002 B3', 'probeC', '664851_2023-11-13_C-242'], ['664851_2023-11-13_0', '2002 B3', 'probeC', '664851_2023-11-13_C-243'], ['664851_2023-11-13_0', '2002 B3', 'probeC', '664851_2023-11-13_C-244'], ['664851_2023-11-13_0', '2002 B3', 'probeC', '664851_2023-11-13_C-245'], ['664851_2023-11-13_0', '2002 B3', 'probeC', '664851_2023-11-13_C-246'], ['664851_2023-11-13_0', '2002 B3', 'probeC', '664851_2023-11-13_C-247'], ['664851_2023-11-13_0', '2002 B3', 'probeC', '664851_2023-11-13_C-249'], ['664851_2023-11-13_0', '2002 B3', 'probeC', '664851_2023-11-13_C-250'], ['664851_2023-11-13_0', '2002 B3', 'probeC', '664851_2023-11-13_C-251'], ['664851_2023-11-13_0', '2002 B3', 'probeC', '664851_2023-11-13_C-252'], ['664851_2023-11-13_0', '2002 B3', 'probeC', '664851_2023-11-13_C-253'], ['664851_2023-11-13_0', '2002 B3', 'probeC', '664851_2023-11-13_C-254'], ['664851_2023-11-13_0', '2002 B3', 'probeC', '664851_2023-11-13_C-255'], ['664851_2023-11-13_0', '2002 B3', 'probeC', '664851_2023-11-13_C-257'], ['664851_2023-11-13_0', '2002 B3', 'probeC', '664851_2023-11-13_C-258'], ['664851_2023-11-13_0', '2002 B3', 'probeC', '664851_2023-11-13_C-259'], ['664851_2023-11-13_0', '2002 B3', 'probeC', '664851_2023-11-13_C-260'], ['664851_2023-11-13_0', '2002 B3', 'probeC', '664851_2023-11-13_C-261'], ['664851_2023-11-13_0', '2002 B3', 'probeC', '664851_2023-11-13_C-263'], ['664851_2023-11-13_0', '2002 B3', 'probeC', '664851_2023-11-13_C-264'], ['664851_2023-11-13_0', '2002 B3', 'probeC', '664851_2023-11-13_C-266'], ['664851_2023-11-13_0', '2002 B3', 'probeC', '664851_2023-11-13_C-580'], ['664851_2023-11-13_0', '2002 B3', 'probeC', '664851_2023-11-13_C-557'], ['664851_2023-11-13_0', '2002 B3', 'probeC', '664851_2023-11-13_C-710'], ['664851_2023-11-13_0', '2002 B3', 'probeC', '664851_2023-11-13_C-711'], ['664851_2023-11-13_0', '2002 B3', 'probeC', '664851_2023-11-13_C-715'], ['664851_2023-11-13_0', '2002 B3', 'probeC', '664851_2023-11-13_C-709'], ['664851_2023-11-13_0', '2002 B3', 'probeC', '664851_2023-11-13_C-708'], ['664851_2023-11-13_0', '2002 B3', 'probeC', '664851_2023-11-13_C-707'], ['664851_2023-11-13_0', '2002 B3', 'probeC', '664851_2023-11-13_C-706'], ['664851_2023-11-13_0', '2002 B3', 'probeC', '664851_2023-11-13_C-705'], ['664851_2023-11-13_0', '2002 B3', 'probeC', '664851_2023-11-13_C-716'], ['664851_2023-11-13_0', '2002 B3', 'probeC', '664851_2023-11-13_C-717'], ['664851_2023-11-13_0', '2002 B3', 'probeC', '664851_2023-11-13_C-713'], ['664851_2023-11-13_0', '2002 B3', 'probeC', '664851_2023-11-13_C-722'], ['664851_2023-11-13_0', '2002 B3', 'probeC', '664851_2023-11-13_C-721'], ['664851_2023-11-13_0', '2002 B3', 'probeC', '664851_2023-11-13_C-714'], ['664851_2023-11-14_0', '2002 B3', 'probeC', '664851_2023-11-14_C-334'], ['664851_2023-11-14_0', '2002 B3', 'probeC', '664851_2023-11-14_C-843'], ['664851_2023-11-14_0', '2002 B3', 'probeC', '664851_2023-11-14_C-839'], ['664851_2023-11-14_0', '2002 B3', 'probeC', '664851_2023-11-14_C-838'], ['664851_2023-11-14_0', '2002 B3', 'probeC', '664851_2023-11-14_C-834'], ['664851_2023-11-14_0', '2002 B3', 'probeC', '664851_2023-11-14_C-833'], ['664851_2023-11-14_0', '2002 B3', 'probeC', '664851_2023-11-14_C-831'], ['664851_2023-11-14_0', '2002 B3', 'probeC', '664851_2023-11-14_C-626'], ['664851_2023-11-14_0', '2002 B3', 'probeC', '664851_2023-11-14_C-828'], ['664851_2023-11-14_0', '2002 B3', 'probeC', '664851_2023-11-14_C-822'], ['664851_2023-11-14_0', '2002 B3', 'probeC', '664851_2023-11-14_C-820'], ['664851_2023-11-14_0', '2002 B3', 'probeC', '664851_2023-11-14_C-819'], ['664851_2023-11-14_0', '2002 B3', 'probeC', '664851_2023-11-14_C-817'], ['664851_2023-11-14_0', '2002 B3', 'probeC', '664851_2023-11-14_C-816'], ['664851_2023-11-14_0', '2002 B3', 'probeC', '664851_2023-11-14_C-627'], ['664851_2023-11-14_0', '2002 B3', 'probeC', '664851_2023-11-14_C-824'], ['664851_2023-11-14_0', '2002 B3', 'probeC', '664851_2023-11-14_C-629'], ['664851_2023-11-14_0', '2002 B3', 'probeC', '664851_2023-11-14_C-625'], ['664851_2023-11-14_0', '2002 B3', 'probeC', '664851_2023-11-14_C-622'], ['664851_2023-11-14_0', '2002 B3', 'probeC', '664851_2023-11-14_C-601'], ['664851_2023-11-14_0', '2002 B3', 'probeC', '664851_2023-11-14_C-602'], ['664851_2023-11-14_0', '2002 B3', 'probeC', '664851_2023-11-14_C-605'], ['664851_2023-11-14_0', '2002 B3', 'probeC', '664851_2023-11-14_C-606'], ['664851_2023-11-14_0', '2002 B3', 'probeC', '664851_2023-11-14_C-607'], ['664851_2023-11-14_0', '2002 B3', 'probeC', '664851_2023-11-14_C-610'], ['664851_2023-11-14_0', '2002 B3', 'probeC', '664851_2023-11-14_C-624'], ['664851_2023-11-14_0', '2002 B3', 'probeC', '664851_2023-11-14_C-612'], ['664851_2023-11-14_0', '2002 B3', 'probeC', '664851_2023-11-14_C-616'], ['664851_2023-11-14_0', '2002 B3', 'probeC', '664851_2023-11-14_C-617'], ['664851_2023-11-14_0', '2002 B3', 'probeC', '664851_2023-11-14_C-618'], ['664851_2023-11-14_0', '2002 B3', 'probeC', '664851_2023-11-14_C-620'], ['664851_2023-11-14_0', '2002 B3', 'probeC', '664851_2023-11-14_C-621'], ['664851_2023-11-14_0', '2002 B3', 'probeC', '664851_2023-11-14_C-333'], ['664851_2023-11-14_0', '2002 B3', 'probeC', '664851_2023-11-14_C-613'], ['664851_2023-11-14_0', '2002 B3', 'probeC', '664851_2023-11-14_C-600'], ['664851_2023-11-14_0', '2002 B3', 'probeC', '664851_2023-11-14_C-630'], ['664851_2023-11-14_0', '2002 B3', 'probeC', '664851_2023-11-14_C-634'], ['664851_2023-11-14_0', '2002 B3', 'probeC', '664851_2023-11-14_C-354'], ['664851_2023-11-14_0', '2002 B3', 'probeC', '664851_2023-11-14_C-352'], ['664851_2023-11-14_0', '2002 B3', 'probeC', '664851_2023-11-14_C-351'], ['664851_2023-11-14_0', '2002 B3', 'probeC', '664851_2023-11-14_C-350'], ['664851_2023-11-14_0', '2002 B3', 'probeC', '664851_2023-11-14_C-349'], ['664851_2023-11-14_0', '2002 B3', 'probeC', '664851_2023-11-14_C-348'], ['664851_2023-11-14_0', '2002 B3', 'probeC', '664851_2023-11-14_C-669'], ['664851_2023-11-14_0', '2002 B3', 'probeC', '664851_2023-11-14_C-347'], ['664851_2023-11-14_0', '2002 B3', 'probeC', '664851_2023-11-14_C-345'], ['664851_2023-11-14_0', '2002 B3', 'probeC', '664851_2023-11-14_C-344'], ['664851_2023-11-14_0', '2002 B3', 'probeC', '664851_2023-11-14_C-342'], ['664851_2023-11-14_0', '2002 B3', 'probeC', '664851_2023-11-14_C-341'], ['664851_2023-11-14_0', '2002 B3', 'probeC', '664851_2023-11-14_C-339'], ['664851_2023-11-14_0', '2002 B3', 'probeC', '664851_2023-11-14_C-336'], ['664851_2023-11-14_0', '2002 B3', 'probeC', '664851_2023-11-14_C-346'], ['664851_2023-11-14_0', '2002 B3', 'probeC', '664851_2023-11-14_C-632'], ['664851_2023-11-14_0', '2002 B3', 'probeC', '664851_2023-11-14_C-668'], ['664851_2023-11-14_0', '2002 B3', 'probeC', '664851_2023-11-14_C-664'], ['664851_2023-11-14_0', '2002 B3', 'probeC', '664851_2023-11-14_C-635'], ['664851_2023-11-14_0', '2002 B3', 'probeC', '664851_2023-11-14_C-636'], ['664851_2023-11-14_0', '2002 B3', 'probeC', '664851_2023-11-14_C-638'], ['664851_2023-11-14_0', '2002 B3', 'probeC', '664851_2023-11-14_C-641'], ['664851_2023-11-14_0', '2002 B3', 'probeC', '664851_2023-11-14_C-647'], ['664851_2023-11-14_0', '2002 B3', 'probeC', '664851_2023-11-14_C-649'], ['664851_2023-11-14_0', '2002 B3', 'probeC', '664851_2023-11-14_C-666'], ['664851_2023-11-14_0', '2002 B3', 'probeC', '664851_2023-11-14_C-652'], ['664851_2023-11-14_0', '2002 B3', 'probeC', '664851_2023-11-14_C-654'], ['664851_2023-11-14_0', '2002 B3', 'probeC', '664851_2023-11-14_C-655'], ['664851_2023-11-14_0', '2002 B3', 'probeC', '664851_2023-11-14_C-657'], ['664851_2023-11-14_0', '2002 B3', 'probeC', '664851_2023-11-14_C-658'], ['664851_2023-11-14_0', '2002 B3', 'probeC', '664851_2023-11-14_C-661'], ['664851_2023-11-14_0', '2002 B3', 'probeC', '664851_2023-11-14_C-662'], ['664851_2023-11-14_0', '2002 B3', 'probeC', '664851_2023-11-14_C-653'], ['664851_2023-11-14_0', '2002 B3', 'probeC', '664851_2023-11-14_C-598'], ['664851_2023-11-14_0', '2002 B3', 'probeC', '664851_2023-11-14_C-609'], ['664851_2023-11-14_0', '2002 B3', 'probeC', '664851_2023-11-14_C-295'], ['664851_2023-11-14_0', '2002 B3', 'probeC', '664851_2023-11-14_C-300'], ['664851_2023-11-14_0', '2002 B3', 'probeC', '664851_2023-11-14_C-299'], ['664851_2023-11-14_0', '2002 B3', 'probeC', '664851_2023-11-14_C-267'], ['664851_2023-11-14_0', '2002 B3', 'probeC', '664851_2023-11-14_C-268'], ['664851_2023-11-14_0', '2002 B3', 'probeC', '664851_2023-11-14_C-270'], ['664851_2023-11-14_0', '2002 B3', 'probeC', '664851_2023-11-14_C-271'], ['664851_2023-11-14_0', '2002 B3', 'probeC', '664851_2023-11-14_C-272'], ['664851_2023-11-14_0', '2002 B3', 'probeC', '664851_2023-11-14_C-273'], ['664851_2023-11-14_0', '2002 B3', 'probeC', '664851_2023-11-14_C-274'], ['664851_2023-11-14_0', '2002 B3', 'probeC', '664851_2023-11-14_C-275'], ['664851_2023-11-14_0', '2002 B3', 'probeC', '664851_2023-11-14_C-276'], ['664851_2023-11-14_0', '2002 B3', 'probeC', '664851_2023-11-14_C-277'], ['664851_2023-11-14_0', '2002 B3', 'probeC', '664851_2023-11-14_C-278'], ['664851_2023-11-14_0', '2002 B3', 'probeC', '664851_2023-11-14_C-301'], ['664851_2023-11-14_0', '2002 B3', 'probeC', '664851_2023-11-14_C-279'], ['664851_2023-11-14_0', '2002 B3', 'probeC', '664851_2023-11-14_C-281'], ['664851_2023-11-14_0', '2002 B3', 'probeC', '664851_2023-11-14_C-282'], ['664851_2023-11-14_0', '2002 B3', 'probeC', '664851_2023-11-14_C-283'], ['664851_2023-11-14_0', '2002 B3', 'probeC', '664851_2023-11-14_C-284'], ['664851_2023-11-14_0', '2002 B3', 'probeC', '664851_2023-11-14_C-285'], ['664851_2023-11-14_0', '2002 B3', 'probeC', '664851_2023-11-14_C-286'], ['664851_2023-11-14_0', '2002 B3', 'probeC', '664851_2023-11-14_C-287'], ['664851_2023-11-14_0', '2002 B3', 'probeC', '664851_2023-11-14_C-288'], ['664851_2023-11-14_0', '2002 B3', 'probeC', '664851_2023-11-14_C-290'], ['664851_2023-11-14_0', '2002 B3', 'probeC', '664851_2023-11-14_C-292'], ['664851_2023-11-14_0', '2002 B3', 'probeC', '664851_2023-11-14_C-293'], ['664851_2023-11-14_0', '2002 B3', 'probeC', '664851_2023-11-14_C-294'], ['664851_2023-11-14_0', '2002 B3', 'probeC', '664851_2023-11-14_C-298'], ['664851_2023-11-14_0', '2002 B3', 'probeC', '664851_2023-11-14_C-280'], ['664851_2023-11-14_0', '2002 B3', 'probeC', '664851_2023-11-14_C-296'], ['664851_2023-11-14_0', '2002 B3', 'probeC', '664851_2023-11-14_C-302'], ['664851_2023-11-14_0', '2002 B3', 'probeC', '664851_2023-11-14_C-304'], ['664851_2023-11-14_0', '2002 B3', 'probeC', '664851_2023-11-14_C-331'], ['664851_2023-11-14_0', '2002 B3', 'probeC', '664851_2023-11-14_C-330'], ['664851_2023-11-14_0', '2002 B3', 'probeC', '664851_2023-11-14_C-329'], ['664851_2023-11-14_0', '2002 B3', 'probeC', '664851_2023-11-14_C-327'], ['664851_2023-11-14_0', '2002 B3', 'probeC', '664851_2023-11-14_C-325'], ['664851_2023-11-14_0', '2002 B3', 'probeC', '664851_2023-11-14_C-324'], ['664851_2023-11-14_0', '2002 B3', 'probeC', '664851_2023-11-14_C-303'], ['664851_2023-11-14_0', '2002 B3', 'probeC', '664851_2023-11-14_C-321'], ['664851_2023-11-14_0', '2002 B3', 'probeC', '664851_2023-11-14_C-320'], ['664851_2023-11-14_0', '2002 B3', 'probeC', '664851_2023-11-14_C-319'], ['664851_2023-11-14_0', '2002 B3', 'probeC', '664851_2023-11-14_C-322'], ['664851_2023-11-14_0', '2002 B3', 'probeC', '664851_2023-11-14_C-315'], ['664851_2023-11-14_0', '2002 B3', 'probeC', '664851_2023-11-14_C-316'], ['664851_2023-11-14_0', '2002 B3', 'probeC', '664851_2023-11-14_C-306'], ['664851_2023-11-14_0', '2002 B3', 'probeC', '664851_2023-11-14_C-307'], ['664851_2023-11-14_0', '2002 B3', 'probeC', '664851_2023-11-14_C-309'], ['664851_2023-11-14_0', '2002 B3', 'probeC', '664851_2023-11-14_C-305'], ['664851_2023-11-14_0', '2002 B3', 'probeC', '664851_2023-11-14_C-312'], ['664851_2023-11-14_0', '2002 B3', 'probeC', '664851_2023-11-14_C-314'], ['664851_2023-11-14_0', '2002 B3', 'probeC', '664851_2023-11-14_C-310'], ['664851_2023-11-14_0', '2002 B3', 'probeC', '664851_2023-11-14_C-297'], ['664851_2023-11-15_0', '2002 B3', 'probeA', '664851_2023-11-15_A-124'], ['664851_2023-11-15_0', '2002 B3', 'probeA', '664851_2023-11-15_A-136'], ['664851_2023-11-15_0', '2002 B3', 'probeA', '664851_2023-11-15_A-135'], ['664851_2023-11-15_0', '2002 B3', 'probeA', '664851_2023-11-15_A-134'], ['664851_2023-11-15_0', '2002 B3', 'probeA', '664851_2023-11-15_A-133'], ['664851_2023-11-15_0', '2002 B3', 'probeA', '664851_2023-11-15_A-132'], ['664851_2023-11-15_0', '2002 B3', 'probeA', '664851_2023-11-15_A-131'], ['664851_2023-11-15_0', '2002 B3', 'probeA', '664851_2023-11-15_A-130'], ['664851_2023-11-15_0', '2002 B3', 'probeA', '664851_2023-11-15_A-128'], ['664851_2023-11-15_0', '2002 B3', 'probeA', '664851_2023-11-15_A-127'], ['664851_2023-11-15_0', '2002 B3', 'probeA', '664851_2023-11-15_A-126'], ['664851_2023-11-15_0', '2002 B3', 'probeA', '664851_2023-11-15_A-356'], ['664851_2023-11-15_0', '2002 B3', 'probeA', '664851_2023-11-15_A-123'], ['664851_2023-11-15_0', '2002 B3', 'probeA', '664851_2023-11-15_A-122'], ['664851_2023-11-15_0', '2002 B3', 'probeA', '664851_2023-11-15_A-121'], ['664851_2023-11-15_0', '2002 B3', 'probeA', '664851_2023-11-15_A-120'], ['664851_2023-11-15_0', '2002 B3', 'probeA', '664851_2023-11-15_A-119'], ['664851_2023-11-15_0', '2002 B3', 'probeA', '664851_2023-11-15_A-118'], ['664851_2023-11-15_0', '2002 B3', 'probeA', '664851_2023-11-15_A-138'], ['664851_2023-11-15_0', '2002 B3', 'probeA', '664851_2023-11-15_A-117'], ['664851_2023-11-15_0', '2002 B3', 'probeA', '664851_2023-11-15_A-139'], ['664851_2023-11-15_0', '2002 B3', 'probeA', '664851_2023-11-15_A-141'], ['664851_2023-11-15_0', '2002 B3', 'probeA', '664851_2023-11-15_A-362'], ['664851_2023-11-15_0', '2002 B3', 'probeA', '664851_2023-11-15_A-366'], ['664851_2023-11-15_0', '2002 B3', 'probeA', '664851_2023-11-15_A-371'], ['664851_2023-11-15_0', '2002 B3', 'probeA', '664851_2023-11-15_A-163'], ['664851_2023-11-15_0', '2002 B3', 'probeA', '664851_2023-11-15_A-374'], ['664851_2023-11-15_0', '2002 B3', 'probeA', '664851_2023-11-15_A-375'], ['664851_2023-11-15_0', '2002 B3', 'probeA', '664851_2023-11-15_A-158'], ['664851_2023-11-15_0', '2002 B3', 'probeA', '664851_2023-11-15_A-157'], ['664851_2023-11-15_0', '2002 B3', 'probeA', '664851_2023-11-15_A-376'], ['664851_2023-11-15_0', '2002 B3', 'probeA', '664851_2023-11-15_A-155'], ['664851_2023-11-15_0', '2002 B3', 'probeA', '664851_2023-11-15_A-153'], ['664851_2023-11-15_0', '2002 B3', 'probeA', '664851_2023-11-15_A-152'], ['664851_2023-11-15_0', '2002 B3', 'probeA', '664851_2023-11-15_A-149'], ['664851_2023-11-15_0', '2002 B3', 'probeA', '664851_2023-11-15_A-147'], ['664851_2023-11-15_0', '2002 B3', 'probeA', '664851_2023-11-15_A-145'], ['664851_2023-11-15_0', '2002 B3', 'probeA', '664851_2023-11-15_A-143'], ['664851_2023-11-15_0', '2002 B3', 'probeA', '664851_2023-11-15_A-142'], ['664851_2023-11-15_0', '2002 B3', 'probeA', '664851_2023-11-15_A-140'], ['664851_2023-11-15_0', '2002 B3', 'probeA', '664851_2023-11-15_A-361'], ['664851_2023-11-15_0', '2002 B3', 'probeA', '664851_2023-11-15_A-359'], ['664851_2023-11-15_0', '2002 B3', 'probeA', '664851_2023-11-15_A-348'], ['664851_2023-11-15_0', '2002 B3', 'probeA', '664851_2023-11-15_A-380'], ['664851_2023-11-15_0', '2002 B3', 'probeA', '664851_2023-11-15_A-379'], ['664851_2023-11-15_0', '2002 B3', 'probeA', '664851_2023-11-15_A-383'], ['664851_2023-11-15_0', '2002 B3', 'probeA', '664851_2023-11-15_A-354'], ['664851_2023-11-15_0', '2002 B3', 'probeA', '664851_2023-11-15_A-553'], ['664851_2023-11-15_0', '2002 B3', 'probeA', '664851_2023-11-15_A-561'], ['664851_2023-11-15_0', '2002 B3', 'probeA', '664851_2023-11-15_A-565'], ['664851_2023-11-15_0', '2002 B3', 'probeA', '664851_2023-11-15_A-353'], ['664851_2023-11-15_0', '2002 B3', 'probeA', '664851_2023-11-15_A-691'], ['664851_2023-11-15_0', '2002 B3', 'probeA', '664851_2023-11-15_A-351'], ['664851_2023-11-15_0', '2002 B3', 'probeA', '664851_2023-11-15_A-350'], ['664851_2023-11-15_0', '2002 B3', 'probeA', '664851_2023-11-15_A-382'], ['664851_2023-11-15_0', '2002 B3', 'probeA', '664851_2023-11-15_A-347'], ['664851_2023-11-15_0', '2002 B3', 'probeA', '664851_2023-11-15_A-355'], ['664851_2023-11-15_0', '2002 B3', 'probeA', '664851_2023-11-15_A-762'], ['664851_2023-11-16_0', '2002 A2', 'probeD', '664851_2023-11-16_D-355'], ['664851_2023-11-16_0', '2002 A2', 'probeD', '664851_2023-11-16_D-353'], ['664851_2023-11-16_0', '2002 A2', 'probeD', '664851_2023-11-16_D-352'], ['664851_2023-11-16_0', '2002 A2', 'probeD', '664851_2023-11-16_D-350'], ['664851_2023-11-16_0', '2002 A2', 'probeD', '664851_2023-11-16_D-341'], ['664851_2023-11-16_0', '2002 A2', 'probeD', '664851_2023-11-16_D-160'], ['664851_2023-11-16_0', '2002 A2', 'probeD', '664851_2023-11-16_D-159'], ['664851_2023-11-16_0', '2002 A2', 'probeD', '664851_2023-11-16_D-158'], ['664851_2023-11-16_0', '2002 A2', 'probeD', '664851_2023-11-16_D-155'], ['664851_2023-11-16_0', '2002 A2', 'probeD', '664851_2023-11-16_D-154'], ['664851_2023-11-16_0', '2002 A2', 'probeD', '664851_2023-11-16_D-153'], ['664851_2023-11-16_0', '2002 A2', 'probeD', '664851_2023-11-16_D-151'], ['664851_2023-11-16_0', '2002 A2', 'probeD', '664851_2023-11-16_D-357'], ['664851_2023-11-16_0', '2002 A2', 'probeD', '664851_2023-11-16_D-150'], ['664851_2023-11-16_0', '2002 A2', 'probeD', '664851_2023-11-16_D-148'], ['664851_2023-11-16_0', '2002 A2', 'probeD', '664851_2023-11-16_D-146'], ['664851_2023-11-16_0', '2002 A2', 'probeD', '664851_2023-11-16_D-145'], ['664851_2023-11-16_0', '2002 A2', 'probeD', '664851_2023-11-16_D-144'], ['664851_2023-11-16_0', '2002 A2', 'probeD', '664851_2023-11-16_D-141'], ['664851_2023-11-16_0', '2002 A2', 'probeD', '664851_2023-11-16_D-140'], ['664851_2023-11-16_0', '2002 A2', 'probeD', '664851_2023-11-16_D-139'], ['664851_2023-11-16_0', '2002 A2', 'probeD', '664851_2023-11-16_D-137'], ['664851_2023-11-16_0', '2002 A2', 'probeD', '664851_2023-11-16_D-136'], ['664851_2023-11-16_0', '2002 A2', 'probeD', '664851_2023-11-16_D-135'], ['664851_2023-11-16_0', '2002 A2', 'probeD', '664851_2023-11-16_D-134'], ['664851_2023-11-16_0', '2002 A2', 'probeD', '664851_2023-11-16_D-149'], ['664851_2023-11-16_0', '2002 A2', 'probeD', '664851_2023-11-16_D-359'], ['664851_2023-11-16_0', '2002 A2', 'probeD', '664851_2023-11-16_D-354'], ['664851_2023-11-16_0', '2002 A2', 'probeD', '664851_2023-11-16_D-364'], ['664851_2023-11-16_0', '2002 A2', 'probeD', '664851_2023-11-16_D-522'], ['664851_2023-11-16_0', '2002 A2', 'probeD', '664851_2023-11-16_D-521'], ['664851_2023-11-16_0', '2002 A2', 'probeD', '664851_2023-11-16_D-519'], ['664851_2023-11-16_0', '2002 A2', 'probeD', '664851_2023-11-16_D-362'], ['664851_2023-11-16_0', '2002 A2', 'probeD', '664851_2023-11-16_D-482'], ['664851_2023-11-16_0', '2002 A2', 'probeD', '664851_2023-11-16_D-481'], ['664851_2023-11-16_0', '2002 A2', 'probeD', '664851_2023-11-16_D-480'], ['664851_2023-11-16_0', '2002 A2', 'probeD', '664851_2023-11-16_D-479'], ['664851_2023-11-16_0', '2002 A2', 'probeD', '664851_2023-11-16_D-477'], ['664851_2023-11-16_0', '2002 A2', 'probeD', '664851_2023-11-16_D-484'], ['664851_2023-11-16_0', '2002 A2', 'probeD', '664851_2023-11-16_D-474'], ['664851_2023-11-16_0', '2002 A2', 'probeD', '664851_2023-11-16_D-471'], ['664851_2023-11-16_0', '2002 A2', 'probeD', '664851_2023-11-16_D-369'], ['664851_2023-11-16_0', '2002 A2', 'probeD', '664851_2023-11-16_D-368'], ['664851_2023-11-16_0', '2002 A2', 'probeD', '664851_2023-11-16_D-367'], ['664851_2023-11-16_0', '2002 A2', 'probeD', '664851_2023-11-16_D-366'], ['664851_2023-11-16_0', '2002 A2', 'probeD', '664851_2023-11-16_D-365'], ['664851_2023-11-16_0', '2002 A2', 'probeD', '664851_2023-11-16_D-475'], ['664851_2023-11-16_0', '2002 B3', 'probeA', '664851_2023-11-16_A-91'], ['664851_2023-11-16_0', '2002 B3', 'probeA', '664851_2023-11-16_A-92'], ['664851_2023-11-16_0', '2002 B3', 'probeA', '664851_2023-11-16_A-93'], ['664851_2023-11-16_0', '2002 B3', 'probeA', '664851_2023-11-16_A-203'], ['664851_2023-11-16_0', '2002 B3', 'probeA', '664851_2023-11-16_A-188'], ['664851_2023-11-16_0', '2002 B3', 'probeA', '664851_2023-11-16_A-190'], ['664851_2023-11-16_0', '2002 B3', 'probeA', '664851_2023-11-16_A-197'], ['664851_2023-11-16_0', '2002 B3', 'probeA', '664851_2023-11-16_A-194'], ['664851_2023-11-16_0', '2002 B3', 'probeA', '664851_2023-11-16_A-196'], ['664851_2023-11-16_0', '2002 B3', 'probeA', '664851_2023-11-16_A-199'], ['664851_2023-11-16_0', '2002 B3', 'probeA', '664851_2023-11-16_A-200'], ['664851_2023-11-16_0', '2002 B3', 'probeA', '664851_2023-11-16_A-90'], ['664851_2023-11-16_0', '2002 B3', 'probeA', '664851_2023-11-16_A-191'], ['664851_2023-11-16_0', '2002 B3', 'probeA', '664851_2023-11-16_A-187'], ['664851_2023-11-16_0', '2002 B3', 'probeA', '664851_2023-11-16_A-89'], ['664851_2023-11-16_0', '2002 B3', 'probeA', '664851_2023-11-16_A-86'], ['664851_2023-11-16_0', '2002 B3', 'probeA', '664851_2023-11-16_A-87'], ['664851_2023-11-16_0', '2002 B3', 'probeA', '664851_2023-11-16_A-37'], ['664851_2023-11-16_0', '2002 B3', 'probeA', '664851_2023-11-16_A-36'], ['664851_2023-11-16_0', '2002 B3', 'probeA', '664851_2023-11-16_A-35'], ['664851_2023-11-16_0', '2002 B3', 'probeA', '664851_2023-11-16_A-34'], ['664851_2023-11-16_0', '2002 B3', 'probeA', '664851_2023-11-16_A-33'], ['664851_2023-11-16_0', '2002 B3', 'probeA', '664851_2023-11-16_A-205'], ['664851_2023-11-16_0', '2002 B3', 'probeA', '664851_2023-11-16_A-209'], ['664851_2023-11-16_0', '2002 B3', 'probeA', '664851_2023-11-16_A-30'], ['664851_2023-11-16_0', '2002 B3', 'probeA', '664851_2023-11-16_A-211'], ['664851_2023-11-16_0', '2002 B3', 'probeA', '664851_2023-11-16_A-212'], ['664851_2023-11-16_0', '2002 B3', 'probeA', '664851_2023-11-16_A-214'], ['664851_2023-11-16_0', '2002 B3', 'probeA', '664851_2023-11-16_A-215'], ['664851_2023-11-16_0', '2002 B3', 'probeA', '664851_2023-11-16_A-217'], ['664851_2023-11-16_0', '2002 B3', 'probeA', '664851_2023-11-16_A-219'], ['664851_2023-11-16_0', '2002 B3', 'probeA', '664851_2023-11-16_A-220'], ['664851_2023-11-16_0', '2002 B3', 'probeA', '664851_2023-11-16_A-223'], ['664851_2023-11-16_0', '2002 B3', 'probeA', '664851_2023-11-16_A-226'], ['664851_2023-11-16_0', '2002 B3', 'probeA', '664851_2023-11-16_A-280'], ['664851_2023-11-16_0', '2002 B3', 'probeA', '664851_2023-11-16_A-283'], ['664851_2023-11-16_0', '2002 B3', 'probeA', '664851_2023-11-16_A-286'], ['664851_2023-11-16_0', '2002 B3', 'probeA', '664851_2023-11-16_A-287'], ['664851_2023-11-16_0', '2002 B3', 'probeA', '664851_2023-11-16_A-290'], ['664851_2023-11-16_0', '2002 B3', 'probeA', '664851_2023-11-16_A-291'], ['664851_2023-11-16_0', '2002 B3', 'probeA', '664851_2023-11-16_A-292'], ['664851_2023-11-16_0', '2002 B3', 'probeA', '664851_2023-11-16_A-39'], ['664851_2023-11-16_0', '2002 B3', 'probeA', '664851_2023-11-16_A-40'], ['664851_2023-11-16_0', '2002 B3', 'probeA', '664851_2023-11-16_A-38'], ['664851_2023-11-16_0', '2002 B3', 'probeA', '664851_2023-11-16_A-42'], ['664851_2023-11-16_0', '2002 B3', 'probeA', '664851_2023-11-16_A-84'], ['664851_2023-11-16_0', '2002 B3', 'probeA', '664851_2023-11-16_A-82'], ['664851_2023-11-16_0', '2002 B3', 'probeA', '664851_2023-11-16_A-81'], ['664851_2023-11-16_0', '2002 B3', 'probeA', '664851_2023-11-16_A-80'], ['664851_2023-11-16_0', '2002 B3', 'probeA', '664851_2023-11-16_A-79'], ['664851_2023-11-16_0', '2002 B3', 'probeA', '664851_2023-11-16_A-77'], ['664851_2023-11-16_0', '2002 B3', 'probeA', '664851_2023-11-16_A-76'], ['664851_2023-11-16_0', '2002 B3', 'probeA', '664851_2023-11-16_A-75'], ['664851_2023-11-16_0', '2002 B3', 'probeA', '664851_2023-11-16_A-73'], ['664851_2023-11-16_0', '2002 B3', 'probeA', '664851_2023-11-16_A-72'], ['664851_2023-11-16_0', '2002 B3', 'probeA', '664851_2023-11-16_A-41'], ['664851_2023-11-16_0', '2002 B3', 'probeA', '664851_2023-11-16_A-67'], ['664851_2023-11-16_0', '2002 B3', 'probeA', '664851_2023-11-16_A-71'], ['664851_2023-11-16_0', '2002 B3', 'probeA', '664851_2023-11-16_A-65'], ['664851_2023-11-16_0', '2002 B3', 'probeA', '664851_2023-11-16_A-44'], ['664851_2023-11-16_0', '2002 B3', 'probeA', '664851_2023-11-16_A-46'], ['664851_2023-11-16_0', '2002 B3', 'probeA', '664851_2023-11-16_A-48'], ['664851_2023-11-16_0', '2002 B3', 'probeA', '664851_2023-11-16_A-49'], ['664851_2023-11-16_0', '2002 B3', 'probeA', '664851_2023-11-16_A-50'], ['664851_2023-11-16_0', '2002 B3', 'probeA', '664851_2023-11-16_A-55'], ['664851_2023-11-16_0', '2002 B3', 'probeA', '664851_2023-11-16_A-58'], ['664851_2023-11-16_0', '2002 B3', 'probeA', '664851_2023-11-16_A-186'], ['664851_2023-11-16_0', '2002 B3', 'probeA', '664851_2023-11-16_A-59'], ['664851_2023-11-16_0', '2002 B3', 'probeA', '664851_2023-11-16_A-60'], ['664851_2023-11-16_0', '2002 B3', 'probeA', '664851_2023-11-16_A-62'], ['664851_2023-11-16_0', '2002 B3', 'probeA', '664851_2023-11-16_A-64'], ['664851_2023-11-16_0', '2002 B3', 'probeA', '664851_2023-11-16_A-66'], ['668755_2023-08-31_0', '2002 B3', 'probeC', '668755_2023-08-31_C-206'], ['668755_2023-08-31_0', '2002 B3', 'probeC', '668755_2023-08-31_C-208'], ['668755_2023-08-31_0', '2002 B3', 'probeC', '668755_2023-08-31_C-195'], ['668755_2023-08-31_0', '2002 B3', 'probeC', '668755_2023-08-31_C-198'], ['668755_2023-08-31_0', '2002 B3', 'probeC', '668755_2023-08-31_C-199'], ['668755_2023-08-31_0', '2002 B3', 'probeC', '668755_2023-08-31_C-200'], ['668755_2023-08-31_0', '2002 B3', 'probeC', '668755_2023-08-31_C-201'], ['668755_2023-08-31_0', '2002 B3', 'probeC', '668755_2023-08-31_C-486'], ['668755_2023-08-31_0', '2002 B3', 'probeC', '668755_2023-08-31_C-205'], ['668755_2023-08-31_0', '2002 B3', 'probeC', '668755_2023-08-31_C-480'], ['668755_2023-08-31_0', '2002 B3', 'probeC', '668755_2023-08-31_C-204'], ['668755_2023-08-31_0', '2002 B3', 'probeC', '668755_2023-08-31_C-202'], ['668755_2023-08-31_0', '2002 B3', 'probeC', '668755_2023-08-31_C-483'], ['668755_2023-08-31_0', '2002 B3', 'probeC', '668755_2023-08-31_C-487'], ['668755_2023-08-31_0', '2002 B3', 'probeC', '668755_2023-08-31_C-257'], ['668755_2023-08-31_0', '2002 B3', 'probeC', '668755_2023-08-31_C-209'], ['668755_2023-08-31_0', '2002 B3', 'probeC', '668755_2023-08-31_C-488'], ['668755_2023-08-31_0', '2002 B3', 'probeC', '668755_2023-08-31_C-489'], ['668755_2023-08-31_0', '2002 B3', 'probeC', '668755_2023-08-31_C-493'], ['668755_2023-08-31_0', '2002 B3', 'probeC', '668755_2023-08-31_C-491'], ['668755_2023-08-31_0', '2002 B3', 'probeC', '668755_2023-08-31_C-210'], ['668755_2023-08-31_0', '2002 B3', 'probeC', '668755_2023-08-31_C-494'], ['668755_2023-08-31_0', '2002 B3', 'probeC', '668755_2023-08-31_C-495'], ['668755_2023-08-31_0', '2002 B3', 'probeC', '668755_2023-08-31_C-496'], ['668755_2023-08-31_0', '2002 B3', 'probeC', '668755_2023-08-31_C-497'], ['668755_2023-08-31_0', '2002 B3', 'probeC', '668755_2023-08-31_C-498'], ['668755_2023-08-31_0', '2002 B3', 'probeC', '668755_2023-08-31_C-502'], ['668755_2023-08-31_0', '2002 B3', 'probeC', '668755_2023-08-31_C-503'], ['668755_2023-08-31_0', '2002 B3', 'probeC', '668755_2023-08-31_C-619'], ['668755_2023-08-31_0', '2002 B3', 'probeC', '668755_2023-08-31_C-620'], ['668755_2023-08-31_0', '2002 B3', 'probeC', '668755_2023-08-31_C-490'], ['668755_2023-08-31_0', '2002 B3', 'probeC', '668755_2023-08-31_C-212'], ['668755_2023-08-31_0', '2002 B3', 'probeC', '668755_2023-08-31_C-211'], ['668755_2023-08-31_0', '2002 B3', 'probeC', '668755_2023-08-31_C-215'], ['668755_2023-08-31_0', '2002 B3', 'probeC', '668755_2023-08-31_C-255'], ['668755_2023-08-31_0', '2002 B3', 'probeC', '668755_2023-08-31_C-253'], ['668755_2023-08-31_0', '2002 B3', 'probeC', '668755_2023-08-31_C-252'], ['668755_2023-08-31_0', '2002 B3', 'probeC', '668755_2023-08-31_C-251'], ['668755_2023-08-31_0', '2002 B3', 'probeC', '668755_2023-08-31_C-250'], ['668755_2023-08-31_0', '2002 B3', 'probeC', '668755_2023-08-31_C-249'], ['668755_2023-08-31_0', '2002 B3', 'probeC', '668755_2023-08-31_C-248'], ['668755_2023-08-31_0', '2002 B3', 'probeC', '668755_2023-08-31_C-246'], ['668755_2023-08-31_0', '2002 B3', 'probeC', '668755_2023-08-31_C-245'], ['668755_2023-08-31_0', '2002 B3', 'probeC', '668755_2023-08-31_C-244'], ['668755_2023-08-31_0', '2002 B3', 'probeC', '668755_2023-08-31_C-242'], ['668755_2023-08-31_0', '2002 B3', 'probeC', '668755_2023-08-31_C-240'], ['668755_2023-08-31_0', '2002 B3', 'probeC', '668755_2023-08-31_C-237'], ['668755_2023-08-31_0', '2002 B3', 'probeC', '668755_2023-08-31_C-234'], ['668755_2023-08-31_0', '2002 B3', 'probeC', '668755_2023-08-31_C-213'], ['668755_2023-08-31_0', '2002 B3', 'probeC', '668755_2023-08-31_C-233'], ['668755_2023-08-31_0', '2002 B3', 'probeC', '668755_2023-08-31_C-231'], ['668755_2023-08-31_0', '2002 B3', 'probeC', '668755_2023-08-31_C-216'], ['668755_2023-08-31_0', '2002 B3', 'probeC', '668755_2023-08-31_C-217'], ['668755_2023-08-31_0', '2002 B3', 'probeC', '668755_2023-08-31_C-219'], ['668755_2023-08-31_0', '2002 B3', 'probeC', '668755_2023-08-31_C-220'], ['668755_2023-08-31_0', '2002 B3', 'probeC', '668755_2023-08-31_C-232'], ['668755_2023-08-31_0', '2002 B3', 'probeC', '668755_2023-08-31_C-222'], ['668755_2023-08-31_0', '2002 B3', 'probeC', '668755_2023-08-31_C-221'], ['668755_2023-08-31_0', '2002 B3', 'probeC', '668755_2023-08-31_C-225'], ['668755_2023-08-31_0', '2002 B3', 'probeC', '668755_2023-08-31_C-226'], ['668755_2023-08-31_0', '2002 B3', 'probeC', '668755_2023-08-31_C-227'], ['668755_2023-08-31_0', '2002 B3', 'probeC', '668755_2023-08-31_C-228'], ['668755_2023-08-31_0', '2002 B3', 'probeC', '668755_2023-08-31_C-229'], ['668755_2023-08-31_0', '2002 B3', 'probeC', '668755_2023-08-31_C-230'], ['668755_2023-08-31_0', '2002 B3', 'probeC', '668755_2023-08-31_C-224'], ['668755_2023-08-31_0', '2002 B3', 'probeC', '668755_2023-08-31_C-256'], ['674562_2023-10-02_0', '2002 B3', 'probeF', '674562_2023-10-02_F-631'], ['674562_2023-10-02_0', '2002 B3', 'probeF', '674562_2023-10-02_F-223'], ['674562_2023-10-02_0', '2002 B3', 'probeF', '674562_2023-10-02_F-450'], ['674562_2023-10-02_0', '2002 B3', 'probeF', '674562_2023-10-02_F-451'], ['674562_2023-10-02_0', '2002 B3', 'probeF', '674562_2023-10-02_F-452'], ['674562_2023-10-02_0', '2002 B3', 'probeF', '674562_2023-10-02_F-454'], ['674562_2023-10-02_0', '2002 B3', 'probeF', '674562_2023-10-02_F-457'], ['674562_2023-10-02_0', '2002 B3', 'probeF', '674562_2023-10-02_F-458'], ['674562_2023-10-02_0', '2002 B3', 'probeF', '674562_2023-10-02_F-459'], ['674562_2023-10-02_0', '2002 B3', 'probeF', '674562_2023-10-02_F-224'], ['674562_2023-10-02_0', '2002 B3', 'probeF', '674562_2023-10-02_F-225'], ['674562_2023-10-02_0', '2002 B3', 'probeF', '674562_2023-10-02_F-226'], ['674562_2023-10-02_0', '2002 B3', 'probeF', '674562_2023-10-02_F-227'], ['674562_2023-10-02_0', '2002 B3', 'probeF', '674562_2023-10-02_F-228'], ['674562_2023-10-02_0', '2002 B3', 'probeF', '674562_2023-10-02_F-629'], ['674562_2023-10-02_0', '2002 B3', 'probeF', '674562_2023-10-02_F-626'], ['674562_2023-10-02_0', '2002 B3', 'probeF', '674562_2023-10-02_F-448'], ['674562_2023-10-02_0', '2002 B3', 'probeF', '674562_2023-10-02_F-222'], ['674562_2023-10-02_0', '2002 B3', 'probeF', '674562_2023-10-02_F-447'], ['674562_2023-10-02_0', '2002 B3', 'probeF', '674562_2023-10-02_F-217'], ['674562_2023-10-02_0', '2002 B3', 'probeF', '674562_2023-10-02_F-215'], ['674562_2023-10-02_0', '2002 B3', 'probeF', '674562_2023-10-02_F-213'], ['674562_2023-10-02_0', '2002 B3', 'probeF', '674562_2023-10-02_F-210'], ['674562_2023-10-02_0', '2002 B3', 'probeF', '674562_2023-10-02_F-209'], ['674562_2023-10-02_0', '2002 B3', 'probeF', '674562_2023-10-02_F-221'], ['674562_2023-10-02_0', '2002 B3', 'probeF', '674562_2023-10-02_F-687'], ['674562_2023-10-03_0', '2002 B3', 'probeF', '674562_2023-10-03_F-222'], ['674562_2023-10-03_0', '2002 B3', 'probeF', '674562_2023-10-03_F-236'], ['674562_2023-10-03_0', '2002 B3', 'probeF', '674562_2023-10-03_F-237'], ['674562_2023-10-03_0', '2002 B3', 'probeF', '674562_2023-10-03_F-238'], ['674562_2023-10-03_0', '2002 B3', 'probeF', '674562_2023-10-03_F-239'], ['674562_2023-10-03_0', '2002 B3', 'probeF', '674562_2023-10-03_F-240'], ['674562_2023-10-03_0', '2002 B3', 'probeF', '674562_2023-10-03_F-241'], ['674562_2023-10-03_0', '2002 B3', 'probeF', '674562_2023-10-03_F-235'], ['674562_2023-10-03_0', '2002 B3', 'probeF', '674562_2023-10-03_F-242'], ['674562_2023-10-03_0', '2002 B3', 'probeF', '674562_2023-10-03_F-244'], ['674562_2023-10-03_0', '2002 B3', 'probeF', '674562_2023-10-03_F-210'], ['674562_2023-10-03_0', '2002 B3', 'probeF', '674562_2023-10-03_F-566'], ['674562_2023-10-03_0', '2002 B3', 'probeF', '674562_2023-10-03_F-562'], ['674562_2023-10-03_0', '2002 B3', 'probeF', '674562_2023-10-03_F-214'], ['674562_2023-10-03_0', '2002 B3', 'probeF', '674562_2023-10-03_F-557'], ['674562_2023-10-03_0', '2002 B3', 'probeF', '674562_2023-10-03_F-243'], ['674562_2023-10-03_0', '2002 B3', 'probeF', '674562_2023-10-03_F-234'], ['674562_2023-10-03_0', '2002 B3', 'probeF', '674562_2023-10-03_F-233'], ['674562_2023-10-03_0', '2002 B3', 'probeF', '674562_2023-10-03_F-232'], ['674562_2023-10-03_0', '2002 B3', 'probeF', '674562_2023-10-03_F-215'], ['674562_2023-10-03_0', '2002 B3', 'probeF', '674562_2023-10-03_F-216'], ['674562_2023-10-03_0', '2002 B3', 'probeF', '674562_2023-10-03_F-217'], ['674562_2023-10-03_0', '2002 B3', 'probeF', '674562_2023-10-03_F-218'], ['674562_2023-10-03_0', '2002 B3', 'probeF', '674562_2023-10-03_F-220'], ['674562_2023-10-03_0', '2002 B3', 'probeF', '674562_2023-10-03_F-221'], ['674562_2023-10-03_0', '2002 B3', 'probeF', '674562_2023-10-03_F-212'], ['674562_2023-10-03_0', '2002 B3', 'probeF', '674562_2023-10-03_F-223'], ['674562_2023-10-03_0', '2002 B3', 'probeF', '674562_2023-10-03_F-225'], ['674562_2023-10-03_0', '2002 B3', 'probeF', '674562_2023-10-03_F-226'], ['674562_2023-10-03_0', '2002 B3', 'probeF', '674562_2023-10-03_F-227'], ['674562_2023-10-03_0', '2002 B3', 'probeF', '674562_2023-10-03_F-228'], ['674562_2023-10-03_0', '2002 B3', 'probeF', '674562_2023-10-03_F-229'], ['674562_2023-10-03_0', '2002 B3', 'probeF', '674562_2023-10-03_F-230'], ['674562_2023-10-03_0', '2002 B3', 'probeF', '674562_2023-10-03_F-231'], ['674562_2023-10-03_0', '2002 B3', 'probeF', '674562_2023-10-03_F-707'], ['674562_2023-10-03_0', '2002 B3', 'probeF', '674562_2023-10-03_F-708'], ['674562_2023-10-03_0', '2002 B3', 'probeF', '674562_2023-10-03_F-213'], ['674562_2023-10-03_0', '2002 B3', 'probeF', '674562_2023-10-03_F-710'], ['674562_2023-10-03_0', '2002 B3', 'probeF', '674562_2023-10-03_F-268'], ['674562_2023-10-03_0', '2002 B3', 'probeF', '674562_2023-10-03_F-553'], ['674562_2023-10-03_0', '2002 B3', 'probeF', '674562_2023-10-03_F-552'], ['674562_2023-10-03_0', '2002 B3', 'probeF', '674562_2023-10-03_F-551'], ['674562_2023-10-03_0', '2002 B3', 'probeF', '674562_2023-10-03_F-546'], ['674562_2023-10-03_0', '2002 B3', 'probeF', '674562_2023-10-03_F-544'], ['674562_2023-10-03_0', '2002 B3', 'probeF', '674562_2023-10-03_F-543'], ['674562_2023-10-03_0', '2002 B3', 'probeF', '674562_2023-10-03_F-542'], ['674562_2023-10-03_0', '2002 B3', 'probeF', '674562_2023-10-03_F-541'], ['674562_2023-10-03_0', '2002 B3', 'probeF', '674562_2023-10-03_F-540'], ['674562_2023-10-03_0', '2002 B3', 'probeF', '674562_2023-10-03_F-539'], ['674562_2023-10-03_0', '2002 B3', 'probeF', '674562_2023-10-03_F-538'], ['674562_2023-10-03_0', '2002 B3', 'probeF', '674562_2023-10-03_F-537'], ['674562_2023-10-03_0', '2002 B3', 'probeF', '674562_2023-10-03_F-536'], ['674562_2023-10-03_0', '2002 B3', 'probeF', '674562_2023-10-03_F-535'], ['674562_2023-10-03_0', '2002 B3', 'probeF', '674562_2023-10-03_F-245'], ['674562_2023-10-03_0', '2002 B3', 'probeF', '674562_2023-10-03_F-556'], ['674562_2023-10-03_0', '2002 B3', 'probeF', '674562_2023-10-03_F-555'], ['674562_2023-10-03_0', '2002 B3', 'probeF', '674562_2023-10-03_F-260'], ['674562_2023-10-03_0', '2002 B3', 'probeF', '674562_2023-10-03_F-246'], ['674562_2023-10-03_0', '2002 B3', 'probeF', '674562_2023-10-03_F-247'], ['674562_2023-10-03_0', '2002 B3', 'probeF', '674562_2023-10-03_F-248'], ['674562_2023-10-03_0', '2002 B3', 'probeF', '674562_2023-10-03_F-262'], ['674562_2023-10-03_0', '2002 B3', 'probeF', '674562_2023-10-03_F-250'], ['674562_2023-10-03_0', '2002 B3', 'probeF', '674562_2023-10-03_F-249'], ['674562_2023-10-03_0', '2002 B3', 'probeF', '674562_2023-10-03_F-254'], ['674562_2023-10-03_0', '2002 B3', 'probeF', '674562_2023-10-03_F-256'], ['674562_2023-10-03_0', '2002 B3', 'probeF', '674562_2023-10-03_F-258'], ['674562_2023-10-03_0', '2002 B3', 'probeF', '674562_2023-10-03_F-259'], ['674562_2023-10-03_0', '2002 B3', 'probeF', '674562_2023-10-03_F-252'], ['674562_2023-10-04_0', '2002 B3', 'probeD', '674562_2023-10-04_D-365'], ['674562_2023-10-04_0', '2002 B3', 'probeD', '674562_2023-10-04_D-370'], ['674562_2023-10-04_0', '2002 B3', 'probeD', '674562_2023-10-04_D-600'], ['674562_2023-10-04_0', '2002 B3', 'probeD', '674562_2023-10-04_D-73'], ['674562_2023-10-04_0', '2002 B3', 'probeD', '674562_2023-10-04_D-684'], ['674562_2023-10-04_0', '2002 B3', 'probeD', '674562_2023-10-04_D-69'], ['674562_2023-10-04_0', '2002 B3', 'probeD', '674562_2023-10-04_D-75'], ['674562_2023-10-04_0', '2002 B3', 'probeD', '674562_2023-10-04_D-66'], ['674562_2023-10-04_0', '2002 B3', 'probeD', '674562_2023-10-04_D-63'], ['674562_2023-10-04_0', '2002 B3', 'probeD', '674562_2023-10-04_D-62'], ['674562_2023-10-04_0', '2002 B3', 'probeD', '674562_2023-10-04_D-710'], ['674562_2023-10-04_0', '2002 B3', 'probeD', '674562_2023-10-04_D-67'], ['674562_2023-10-04_0', '2002 B3', 'probeD', '674562_2023-10-04_D-371'], ['674562_2023-10-04_0', '2002 B3', 'probeD', '674562_2023-10-04_D-374'], ['674562_2023-10-04_0', '2002 B3', 'probeD', '674562_2023-10-04_D-376'], ['674562_2023-10-04_0', '2002 B3', 'probeD', '674562_2023-10-04_D-378'], ['674562_2023-10-04_0', '2002 B3', 'probeD', '674562_2023-10-04_D-379'], ['674562_2023-10-04_0', '2002 B3', 'probeD', '674562_2023-10-04_D-380'], ['674562_2023-10-04_0', '2002 B3', 'probeD', '674562_2023-10-04_D-381'], ['674562_2023-10-04_0', '2002 B3', 'probeD', '674562_2023-10-04_D-446'], ['674562_2023-10-04_0', '2002 B3', 'probeD', '674562_2023-10-04_D-388'], ['674562_2023-10-04_0', '2002 B3', 'probeD', '674562_2023-10-04_D-389'], ['674562_2023-10-04_0', '2002 B3', 'probeD', '674562_2023-10-04_D-393'], ['674562_2023-10-04_0', '2002 B3', 'probeD', '674562_2023-10-04_D-397'], ['674562_2023-10-04_0', '2002 B3', 'probeD', '674562_2023-10-04_D-400'], ['674562_2023-10-04_0', '2002 B3', 'probeD', '674562_2023-10-04_D-401'], ['674562_2023-10-04_0', '2002 B3', 'probeD', '674562_2023-10-04_D-402'], ['674562_2023-10-04_0', '2002 B3', 'probeD', '674562_2023-10-04_D-404'], ['674562_2023-10-04_0', '2002 B3', 'probeD', '674562_2023-10-04_D-387'], ['674562_2023-10-04_0', '2002 B3', 'probeD', '674562_2023-10-04_D-398'], ['674562_2023-10-04_0', '2002 B3', 'probeD', '674562_2023-10-04_D-196'], ['674562_2023-10-04_0', '2002 B3', 'probeD', '674562_2023-10-04_D-200'], ['674562_2023-10-04_0', '2002 B3', 'probeD', '674562_2023-10-04_D-176'], ['674562_2023-10-04_0', '2002 B3', 'probeD', '674562_2023-10-04_D-177'], ['674562_2023-10-04_0', '2002 B3', 'probeD', '674562_2023-10-04_D-178'], ['674562_2023-10-04_0', '2002 B3', 'probeD', '674562_2023-10-04_D-179'], ['674562_2023-10-04_0', '2002 B3', 'probeD', '674562_2023-10-04_D-180'], ['674562_2023-10-04_0', '2002 B3', 'probeD', '674562_2023-10-04_D-181'], ['674562_2023-10-04_0', '2002 B3', 'probeD', '674562_2023-10-04_D-183'], ['674562_2023-10-04_0', '2002 B3', 'probeD', '674562_2023-10-04_D-184'], ['674562_2023-10-04_0', '2002 B3', 'probeD', '674562_2023-10-04_D-186'], ['674562_2023-10-04_0', '2002 B3', 'probeD', '674562_2023-10-04_D-187'], ['674562_2023-10-04_0', '2002 B3', 'probeD', '674562_2023-10-04_D-189'], ['674562_2023-10-04_0', '2002 B3', 'probeD', '674562_2023-10-04_D-190'], ['674562_2023-10-04_0', '2002 B3', 'probeD', '674562_2023-10-04_D-193'], ['674562_2023-10-04_0', '2002 B3', 'probeD', '674562_2023-10-04_D-194'], ['674562_2023-10-04_0', '2002 B3', 'probeD', '674562_2023-10-04_D-405'], ['674562_2023-10-04_0', '2002 B3', 'probeD', '674562_2023-10-04_D-198'], ['674562_2023-10-04_0', '2002 B3', 'probeD', '674562_2023-10-04_D-199'], ['674562_2023-10-04_0', '2002 B3', 'probeD', '674562_2023-10-04_D-201'], ['674562_2023-10-04_0', '2002 B3', 'probeD', '674562_2023-10-04_D-406'], ['674562_2023-10-04_0', '2002 B3', 'probeD', '674562_2023-10-04_D-415'], ['674562_2023-10-04_0', '2002 B3', 'probeD', '674562_2023-10-04_D-410'], ['674562_2023-10-04_0', '2002 B3', 'probeD', '674562_2023-10-04_D-438'], ['674562_2023-10-04_0', '2002 B3', 'probeD', '674562_2023-10-04_D-439'], ['674562_2023-10-04_0', '2002 B3', 'probeD', '674562_2023-10-04_D-440'], ['674562_2023-10-04_0', '2002 B3', 'probeD', '674562_2023-10-04_D-442'], ['674562_2023-10-04_0', '2002 B3', 'probeD', '674562_2023-10-04_D-443'], ['674562_2023-10-04_0', '2002 B3', 'probeD', '674562_2023-10-04_D-445'], ['674562_2023-10-04_0', '2002 B3', 'probeD', '674562_2023-10-04_D-447'], ['674562_2023-10-04_0', '2002 B3', 'probeD', '674562_2023-10-04_D-448'], ['674562_2023-10-04_0', '2002 B3', 'probeD', '674562_2023-10-04_D-449'], ['674562_2023-10-04_0', '2002 B3', 'probeD', '674562_2023-10-04_D-451'], ['674562_2023-10-04_0', '2002 B3', 'probeD', '674562_2023-10-04_D-452'], ['674562_2023-10-04_0', '2002 B3', 'probeD', '674562_2023-10-04_D-453'], ['674562_2023-10-04_0', '2002 B3', 'probeD', '674562_2023-10-04_D-455'], ['674562_2023-10-04_0', '2002 B3', 'probeD', '674562_2023-10-04_D-458'], ['674562_2023-10-04_0', '2002 B3', 'probeD', '674562_2023-10-04_D-459'], ['674562_2023-10-04_0', '2002 B3', 'probeD', '674562_2023-10-04_D-460'], ['674562_2023-10-04_0', '2002 B3', 'probeD', '674562_2023-10-04_D-461'], ['674562_2023-10-04_0', '2002 B3', 'probeD', '674562_2023-10-04_D-437'], ['674562_2023-10-04_0', '2002 B3', 'probeD', '674562_2023-10-04_D-435'], ['674562_2023-10-04_0', '2002 B3', 'probeD', '674562_2023-10-04_D-434'], ['674562_2023-10-04_0', '2002 B3', 'probeD', '674562_2023-10-04_D-433'], ['674562_2023-10-04_0', '2002 B3', 'probeD', '674562_2023-10-04_D-411'], ['674562_2023-10-04_0', '2002 B3', 'probeD', '674562_2023-10-04_D-412'], ['674562_2023-10-04_0', '2002 B3', 'probeD', '674562_2023-10-04_D-413'], ['674562_2023-10-04_0', '2002 B3', 'probeD', '674562_2023-10-04_D-175'], ['674562_2023-10-04_0', '2002 B3', 'probeD', '674562_2023-10-04_D-416'], ['674562_2023-10-04_0', '2002 B3', 'probeD', '674562_2023-10-04_D-418'], ['674562_2023-10-04_0', '2002 B3', 'probeD', '674562_2023-10-04_D-419'], ['674562_2023-10-04_0', '2002 B3', 'probeD', '674562_2023-10-04_D-420'], ['674562_2023-10-04_0', '2002 B3', 'probeD', '674562_2023-10-04_D-408'], ['674562_2023-10-04_0', '2002 B3', 'probeD', '674562_2023-10-04_D-422'], ['674562_2023-10-04_0', '2002 B3', 'probeD', '674562_2023-10-04_D-424'], ['674562_2023-10-04_0', '2002 B3', 'probeD', '674562_2023-10-04_D-425'], ['674562_2023-10-04_0', '2002 B3', 'probeD', '674562_2023-10-04_D-427'], ['674562_2023-10-04_0', '2002 B3', 'probeD', '674562_2023-10-04_D-428'], ['674562_2023-10-04_0', '2002 B3', 'probeD', '674562_2023-10-04_D-429'], ['674562_2023-10-04_0', '2002 B3', 'probeD', '674562_2023-10-04_D-430'], ['674562_2023-10-04_0', '2002 B3', 'probeD', '674562_2023-10-04_D-431'], ['674562_2023-10-04_0', '2002 B3', 'probeD', '674562_2023-10-04_D-432'], ['674562_2023-10-04_0', '2002 B3', 'probeD', '674562_2023-10-04_D-423'], ['674562_2023-10-04_0', '2002 B3', 'probeD', '674562_2023-10-04_D-174'], ['674562_2023-10-04_0', '2002 B3', 'probeD', '674562_2023-10-04_D-169'], ['674562_2023-10-04_0', '2002 B3', 'probeD', '674562_2023-10-04_D-172'], ['674562_2023-10-04_0', '2002 B3', 'probeD', '674562_2023-10-04_D-108'], ['674562_2023-10-04_0', '2002 B3', 'probeD', '674562_2023-10-04_D-109'], ['674562_2023-10-04_0', '2002 B3', 'probeD', '674562_2023-10-04_D-110'], ['674562_2023-10-04_0', '2002 B3', 'probeD', '674562_2023-10-04_D-111'], ['674562_2023-10-04_0', '2002 B3', 'probeD', '674562_2023-10-04_D-112'], ['674562_2023-10-04_0', '2002 B3', 'probeD', '674562_2023-10-04_D-114'], ['674562_2023-10-04_0', '2002 B3', 'probeD', '674562_2023-10-04_D-115'], ['674562_2023-10-04_0', '2002 B3', 'probeD', '674562_2023-10-04_D-116'], ['674562_2023-10-04_0', '2002 B3', 'probeD', '674562_2023-10-04_D-117'], ['674562_2023-10-04_0', '2002 B3', 'probeD', '674562_2023-10-04_D-118'], ['674562_2023-10-04_0', '2002 B3', 'probeD', '674562_2023-10-04_D-119'], ['674562_2023-10-04_0', '2002 B3', 'probeD', '674562_2023-10-04_D-120'], ['674562_2023-10-04_0', '2002 B3', 'probeD', '674562_2023-10-04_D-121'], ['674562_2023-10-04_0', '2002 B3', 'probeD', '674562_2023-10-04_D-122'], ['674562_2023-10-04_0', '2002 B3', 'probeD', '674562_2023-10-04_D-123'], ['674562_2023-10-04_0', '2002 B3', 'probeD', '674562_2023-10-04_D-124'], ['674562_2023-10-04_0', '2002 B3', 'probeD', '674562_2023-10-04_D-125'], ['674562_2023-10-04_0', '2002 B3', 'probeD', '674562_2023-10-04_D-107'], ['674562_2023-10-04_0', '2002 B3', 'probeD', '674562_2023-10-04_D-106'], ['674562_2023-10-04_0', '2002 B3', 'probeD', '674562_2023-10-04_D-103'], ['674562_2023-10-04_0', '2002 B3', 'probeD', '674562_2023-10-04_D-102'], ['674562_2023-10-04_0', '2002 B3', 'probeD', '674562_2023-10-04_D-76'], ['674562_2023-10-04_0', '2002 B3', 'probeD', '674562_2023-10-04_D-77'], ['674562_2023-10-04_0', '2002 B3', 'probeD', '674562_2023-10-04_D-78'], ['674562_2023-10-04_0', '2002 B3', 'probeD', '674562_2023-10-04_D-79'], ['674562_2023-10-04_0', '2002 B3', 'probeD', '674562_2023-10-04_D-80'], ['674562_2023-10-04_0', '2002 B3', 'probeD', '674562_2023-10-04_D-84'], ['674562_2023-10-04_0', '2002 B3', 'probeD', '674562_2023-10-04_D-85'], ['674562_2023-10-04_0', '2002 B3', 'probeD', '674562_2023-10-04_D-87'], ['674562_2023-10-04_0', '2002 B3', 'probeD', '674562_2023-10-04_D-126'], ['674562_2023-10-04_0', '2002 B3', 'probeD', '674562_2023-10-04_D-88'], ['674562_2023-10-04_0', '2002 B3', 'probeD', '674562_2023-10-04_D-91'], ['674562_2023-10-04_0', '2002 B3', 'probeD', '674562_2023-10-04_D-92'], ['674562_2023-10-04_0', '2002 B3', 'probeD', '674562_2023-10-04_D-94'], ['674562_2023-10-04_0', '2002 B3', 'probeD', '674562_2023-10-04_D-95'], ['674562_2023-10-04_0', '2002 B3', 'probeD', '674562_2023-10-04_D-97'], ['674562_2023-10-04_0', '2002 B3', 'probeD', '674562_2023-10-04_D-98'], ['674562_2023-10-04_0', '2002 B3', 'probeD', '674562_2023-10-04_D-100'], ['674562_2023-10-04_0', '2002 B3', 'probeD', '674562_2023-10-04_D-101'], ['674562_2023-10-04_0', '2002 B3', 'probeD', '674562_2023-10-04_D-90'], ['674562_2023-10-04_0', '2002 B3', 'probeD', '674562_2023-10-04_D-173'], ['674562_2023-10-04_0', '2002 B3', 'probeD', '674562_2023-10-04_D-127'], ['674562_2023-10-04_0', '2002 B3', 'probeD', '674562_2023-10-04_D-129'], ['674562_2023-10-04_0', '2002 B3', 'probeD', '674562_2023-10-04_D-153'], ['674562_2023-10-04_0', '2002 B3', 'probeD', '674562_2023-10-04_D-154'], ['674562_2023-10-04_0', '2002 B3', 'probeD', '674562_2023-10-04_D-155'], ['674562_2023-10-04_0', '2002 B3', 'probeD', '674562_2023-10-04_D-157'], ['674562_2023-10-04_0', '2002 B3', 'probeD', '674562_2023-10-04_D-158'], ['674562_2023-10-04_0', '2002 B3', 'probeD', '674562_2023-10-04_D-159'], ['674562_2023-10-04_0', '2002 B3', 'probeD', '674562_2023-10-04_D-160'], ['674562_2023-10-04_0', '2002 B3', 'probeD', '674562_2023-10-04_D-161'], ['674562_2023-10-04_0', '2002 B3', 'probeD', '674562_2023-10-04_D-162'], ['674562_2023-10-04_0', '2002 B3', 'probeD', '674562_2023-10-04_D-163'], ['674562_2023-10-04_0', '2002 B3', 'probeD', '674562_2023-10-04_D-164'], ['674562_2023-10-04_0', '2002 B3', 'probeD', '674562_2023-10-04_D-166'], ['674562_2023-10-04_0', '2002 B3', 'probeD', '674562_2023-10-04_D-167'], ['674562_2023-10-04_0', '2002 B3', 'probeD', '674562_2023-10-04_D-168'], ['674562_2023-10-04_0', '2002 B3', 'probeD', '674562_2023-10-04_D-462'], ['674562_2023-10-04_0', '2002 B3', 'probeD', '674562_2023-10-04_D-170'], ['674562_2023-10-04_0', '2002 B3', 'probeD', '674562_2023-10-04_D-171'], ['674562_2023-10-04_0', '2002 B3', 'probeD', '674562_2023-10-04_D-152'], ['674562_2023-10-04_0', '2002 B3', 'probeD', '674562_2023-10-04_D-151'], ['674562_2023-10-04_0', '2002 B3', 'probeD', '674562_2023-10-04_D-150'], ['674562_2023-10-04_0', '2002 B3', 'probeD', '674562_2023-10-04_D-149'], ['674562_2023-10-04_0', '2002 B3', 'probeD', '674562_2023-10-04_D-130'], ['674562_2023-10-04_0', '2002 B3', 'probeD', '674562_2023-10-04_D-131'], ['674562_2023-10-04_0', '2002 B3', 'probeD', '674562_2023-10-04_D-132'], ['674562_2023-10-04_0', '2002 B3', 'probeD', '674562_2023-10-04_D-133'], ['674562_2023-10-04_0', '2002 B3', 'probeD', '674562_2023-10-04_D-134'], ['674562_2023-10-04_0', '2002 B3', 'probeD', '674562_2023-10-04_D-135'], ['674562_2023-10-04_0', '2002 B3', 'probeD', '674562_2023-10-04_D-136'], ['674562_2023-10-04_0', '2002 B3', 'probeD', '674562_2023-10-04_D-137'], ['674562_2023-10-04_0', '2002 B3', 'probeD', '674562_2023-10-04_D-128'], ['674562_2023-10-04_0', '2002 B3', 'probeD', '674562_2023-10-04_D-138'], ['674562_2023-10-04_0', '2002 B3', 'probeD', '674562_2023-10-04_D-141'], ['674562_2023-10-04_0', '2002 B3', 'probeD', '674562_2023-10-04_D-142'], ['674562_2023-10-04_0', '2002 B3', 'probeD', '674562_2023-10-04_D-143'], ['674562_2023-10-04_0', '2002 B3', 'probeD', '674562_2023-10-04_D-144'], ['674562_2023-10-04_0', '2002 B3', 'probeD', '674562_2023-10-04_D-145'], ['674562_2023-10-04_0', '2002 B3', 'probeD', '674562_2023-10-04_D-146'], ['674562_2023-10-04_0', '2002 B3', 'probeD', '674562_2023-10-04_D-147'], ['674562_2023-10-04_0', '2002 B3', 'probeD', '674562_2023-10-04_D-148'], ['674562_2023-10-04_0', '2002 B3', 'probeD', '674562_2023-10-04_D-139'], ['674562_2023-10-04_0', '2002 B3', 'probeD', '674562_2023-10-04_D-463'], ['674562_2023-10-04_0', '2002 B3', 'probeD', '674562_2023-10-04_D-409'], ['674562_2023-10-04_0', '2002 B3', 'probeD', '674562_2023-10-04_D-465'], ['674562_2023-10-04_0', '2002 B3', 'probeD', '674562_2023-10-04_D-691'], ['674562_2023-10-04_0', '2002 B3', 'probeD', '674562_2023-10-04_D-639'], ['674562_2023-10-04_0', '2002 B3', 'probeD', '674562_2023-10-04_D-638'], ['674562_2023-10-04_0', '2002 B3', 'probeD', '674562_2023-10-04_D-637'], ['674562_2023-10-04_0', '2002 B3', 'probeD', '674562_2023-10-04_D-635'], ['674562_2023-10-04_0', '2002 B3', 'probeD', '674562_2023-10-04_D-625'], ['674562_2023-10-04_0', '2002 B3', 'probeD', '674562_2023-10-04_D-624'], ['674562_2023-10-04_0', '2002 B3', 'probeD', '674562_2023-10-04_D-620'], ['674562_2023-10-04_0', '2002 B3', 'probeD', '674562_2023-10-04_D-618'], ['674562_2023-10-04_0', '2002 B3', 'probeD', '674562_2023-10-04_D-615'], ['674562_2023-10-04_0', '2002 B3', 'probeD', '674562_2023-10-04_D-612'], ['674562_2023-10-04_0', '2002 B3', 'probeD', '674562_2023-10-04_D-611'], ['674562_2023-10-04_0', '2002 B3', 'probeD', '674562_2023-10-04_D-607'], ['674562_2023-10-04_0', '2002 B3', 'probeD', '674562_2023-10-04_D-692'], ['674562_2023-10-04_0', '2002 B3', 'probeD', '674562_2023-10-04_D-605'], ['674562_2023-10-04_0', '2002 B3', 'probeD', '674562_2023-10-04_D-634'], ['674562_2023-10-04_0', '2002 B3', 'probeD', '674562_2023-10-04_D-464'], ['674562_2023-10-04_0', '2002 B3', 'probeD', '674562_2023-10-04_D-633'], ['674562_2023-10-04_0', '2002 B3', 'probeD', '674562_2023-10-04_D-632'], ['674562_2023-10-04_0', '2002 B3', 'probeD', '674562_2023-10-04_D-630'], ['674562_2023-10-04_0', '2002 B3', 'probeD', '674562_2023-10-04_D-629'], ['674562_2023-10-04_0', '2002 B3', 'probeD', '674562_2023-10-04_D-628'], ['674562_2023-10-04_0', '2002 B3', 'probeD', '674562_2023-10-04_D-627'], ['674562_2023-10-04_0', '2002 B3', 'probeD', '674562_2023-10-04_D-626'], ['674562_2023-10-04_0', '2002 B3', 'probeD', '674562_2023-10-04_D-472'], ['674562_2023-10-04_0', '2002 B3', 'probeD', '674562_2023-10-04_D-469'], ['674562_2023-10-04_0', '2002 B3', 'probeD', '674562_2023-10-04_D-467'], ['674562_2023-10-04_0', '2002 B3', 'probeD', '674562_2023-10-04_D-466'], ['674562_2023-10-04_0', '2002 B3', 'probeD', '674562_2023-10-04_D-604'], ['674562_2023-10-04_0', '2002 B3', 'probeD', '674562_2023-10-04_D-640'], ['674562_2023-10-05_0', '2002 B3', 'probeD', '674562_2023-10-05_D-625'], ['674562_2023-10-05_0', '2002 B3', 'probeD', '674562_2023-10-05_D-203'], ['674562_2023-10-05_0', '2002 B3', 'probeD', '674562_2023-10-05_D-206'], ['674562_2023-10-05_0', '2002 B3', 'probeD', '674562_2023-10-05_D-209'], ['674562_2023-10-05_0', '2002 B3', 'probeD', '674562_2023-10-05_D-212'], ['674562_2023-10-05_0', '2002 B3', 'probeD', '674562_2023-10-05_D-632'], ['674562_2023-10-05_0', '2002 B3', 'probeD', '674562_2023-10-05_D-634'], ['674562_2023-10-05_0', '2002 B3', 'probeD', '674562_2023-10-05_D-646'], ['674562_2023-10-05_0', '2002 B3', 'probeD', '674562_2023-10-05_D-636'], ['674562_2023-10-05_0', '2002 B3', 'probeD', '674562_2023-10-05_D-637'], ['674562_2023-10-05_0', '2002 B3', 'probeD', '674562_2023-10-05_D-641'], ['674562_2023-10-05_0', '2002 A2', 'probeE', '674562_2023-10-05_E-422'], ['674562_2023-10-05_0', '2002 A2', 'probeE', '674562_2023-10-05_E-421'], ['674562_2023-10-05_0', '2002 A2', 'probeE', '674562_2023-10-05_E-419'], ['674562_2023-10-05_0', '2002 A2', 'probeE', '674562_2023-10-05_E-423'], ['674562_2023-10-05_0', '2002 B3', 'probeD', '674562_2023-10-05_D-352'], ['674562_2023-10-05_0', '2002 A2', 'probeE', '674562_2023-10-05_E-420'], ['674562_2023-10-05_0', '2002 A2', 'probeE', '674562_2023-10-05_E-424'], ['674562_2023-10-05_0', '2002 A2', 'probeE', '674562_2023-10-05_E-432'], ['674562_2023-10-05_0', '2002 A2', 'probeE', '674562_2023-10-05_E-427'], ['674562_2023-10-05_0', '2002 A2', 'probeE', '674562_2023-10-05_E-431'], ['674562_2023-10-05_0', '2002 A2', 'probeE', '674562_2023-10-05_E-417'], ['674562_2023-10-05_0', '2002 A2', 'probeE', '674562_2023-10-05_E-441'], ['674562_2023-10-05_0', '2002 A2', 'probeE', '674562_2023-10-05_E-442'], ['674562_2023-10-05_0', '2002 A2', 'probeE', '674562_2023-10-05_E-444'], ['674562_2023-10-05_0', '2002 A2', 'probeE', '674562_2023-10-05_E-425'], ['674562_2023-10-05_0', '2002 A2', 'probeE', '674562_2023-10-05_E-416'], ['674562_2023-10-05_0', '2002 B3', 'probeD', '674562_2023-10-05_D-710'], ['674562_2023-10-05_0', '2002 A2', 'probeE', '674562_2023-10-05_E-446'], ['674562_2023-10-05_0', '2002 B3', 'probeD', '674562_2023-10-05_D-330'], ['674562_2023-10-05_0', '2002 B3', 'probeD', '674562_2023-10-05_D-331'], ['674562_2023-10-05_0', '2002 B3', 'probeD', '674562_2023-10-05_D-332'], ['674562_2023-10-05_0', '2002 B3', 'probeD', '674562_2023-10-05_D-333'], ['674562_2023-10-05_0', '2002 B3', 'probeD', '674562_2023-10-05_D-334'], ['674562_2023-10-05_0', '2002 B3', 'probeD', '674562_2023-10-05_D-335'], ['674562_2023-10-05_0', '2002 B3', 'probeD', '674562_2023-10-05_D-338'], ['674562_2023-10-05_0', '2002 B3', 'probeD', '674562_2023-10-05_D-339'], ['674562_2023-10-05_0', '2002 B3', 'probeD', '674562_2023-10-05_D-340'], ['674562_2023-10-05_0', '2002 A2', 'probeE', '674562_2023-10-05_E-415'], ['674562_2023-10-05_0', '2002 B3', 'probeD', '674562_2023-10-05_D-341'], ['674562_2023-10-05_0', '2002 B3', 'probeD', '674562_2023-10-05_D-343'], ['674562_2023-10-05_0', '2002 B3', 'probeD', '674562_2023-10-05_D-344'], ['674562_2023-10-05_0', '2002 B3', 'probeD', '674562_2023-10-05_D-345'], ['674562_2023-10-05_0', '2002 B3', 'probeD', '674562_2023-10-05_D-346'], ['674562_2023-10-05_0', '2002 B3', 'probeD', '674562_2023-10-05_D-347'], ['674562_2023-10-05_0', '2002 B3', 'probeD', '674562_2023-10-05_D-348'], ['674562_2023-10-05_0', '2002 A2', 'probeE', '674562_2023-10-05_E-410'], ['674562_2023-10-05_0', '2002 A2', 'probeE', '674562_2023-10-05_E-412'], ['674562_2023-10-05_0', '2002 B3', 'probeD', '674562_2023-10-05_D-349'], ['674562_2023-10-05_0', '2002 B3', 'probeD', '674562_2023-10-05_D-342'], ['674562_2023-10-05_0', '2002 A2', 'probeE', '674562_2023-10-05_E-414'], ['674562_2023-10-05_0', '2002 A2', 'probeE', '674562_2023-10-05_E-450'], ['674562_2023-10-05_0', '2002 B3', 'probeD', '674562_2023-10-05_D-329'], ['674562_2023-10-05_0', '2002 A2', 'probeE', '674562_2023-10-05_E-144'], ['674562_2023-10-05_0', '2002 A2', 'probeE', '674562_2023-10-05_E-143'], ['674562_2023-10-05_0', '2002 A2', 'probeE', '674562_2023-10-05_E-142'], ['674562_2023-10-05_0', '2002 A2', 'probeE', '674562_2023-10-05_E-141'], ['674562_2023-10-05_0', '2002 A2', 'probeE', '674562_2023-10-05_E-140'], ['674562_2023-10-05_0', '2002 A2', 'probeE', '674562_2023-10-05_E-139'], ['674562_2023-10-05_0', '2002 A2', 'probeE', '674562_2023-10-05_E-459'], ['674562_2023-10-05_0', '2002 A2', 'probeE', '674562_2023-10-05_E-460'], ['674562_2023-10-05_0', '2002 A2', 'probeE', '674562_2023-10-05_E-461'], ['674562_2023-10-05_0', '2002 A2', 'probeE', '674562_2023-10-05_E-147'], ['674562_2023-10-05_0', '2002 A2', 'probeE', '674562_2023-10-05_E-462'], ['674562_2023-10-05_0', '2002 A2', 'probeE', '674562_2023-10-05_E-466'], ['674562_2023-10-05_0', '2002 A2', 'probeE', '674562_2023-10-05_E-138'], ['674562_2023-10-05_0', '2002 A2', 'probeE', '674562_2023-10-05_E-137'], ['674562_2023-10-05_0', '2002 A2', 'probeE', '674562_2023-10-05_E-136'], ['674562_2023-10-05_0', '2002 A2', 'probeE', '674562_2023-10-05_E-132'], ['674562_2023-10-05_0', '2002 A2', 'probeE', '674562_2023-10-05_E-131'], ['674562_2023-10-05_0', '2002 A2', 'probeE', '674562_2023-10-05_E-129'], ['674562_2023-10-05_0', '2002 A2', 'probeE', '674562_2023-10-05_E-128'], ['674562_2023-10-05_0', '2002 A2', 'probeE', '674562_2023-10-05_E-127'], ['674562_2023-10-05_0', '2002 A2', 'probeE', '674562_2023-10-05_E-463'], ['674562_2023-10-05_0', '2002 A2', 'probeE', '674562_2023-10-05_E-449'], ['674562_2023-10-05_0', '2002 A2', 'probeE', '674562_2023-10-05_E-148'], ['674562_2023-10-05_0', '2002 A2', 'probeE', '674562_2023-10-05_E-154'], ['674562_2023-10-05_0', '2002 A2', 'probeE', '674562_2023-10-05_E-451'], ['674562_2023-10-05_0', '2002 A2', 'probeE', '674562_2023-10-05_E-452'], ['674562_2023-10-05_0', '2002 A2', 'probeE', '674562_2023-10-05_E-457'], ['674562_2023-10-05_0', '2002 B3', 'probeD', '674562_2023-10-05_D-354'], ['674562_2023-10-05_0', '2002 A2', 'probeE', '674562_2023-10-05_E-619'], ['674562_2023-10-05_0', '2002 A2', 'probeE', '674562_2023-10-05_E-622'], ['674562_2023-10-05_0', '2002 A2', 'probeE', '674562_2023-10-05_E-623'], ['674562_2023-10-05_0', '2002 A2', 'probeE', '674562_2023-10-05_E-626'], ['674562_2023-10-05_0', '2002 A2', 'probeE', '674562_2023-10-05_E-629'], ['674562_2023-10-05_0', '2002 A2', 'probeE', '674562_2023-10-05_E-153'], ['674562_2023-10-05_0', '2002 A2', 'probeE', '674562_2023-10-05_E-635'], ['674562_2023-10-05_0', '2002 A2', 'probeE', '674562_2023-10-05_E-638'], ['674562_2023-10-05_0', '2002 A2', 'probeE', '674562_2023-10-05_E-640'], ['674562_2023-10-05_0', '2002 A2', 'probeE', '674562_2023-10-05_E-644'], ['674562_2023-10-05_0', '2002 A2', 'probeE', '674562_2023-10-05_E-652'], ['674562_2023-10-05_0', '2002 A2', 'probeE', '674562_2023-10-05_E-163'], ['674562_2023-10-05_0', '2002 A2', 'probeE', '674562_2023-10-05_E-162'], ['674562_2023-10-05_0', '2002 A2', 'probeE', '674562_2023-10-05_E-161'], ['674562_2023-10-05_0', '2002 A2', 'probeE', '674562_2023-10-05_E-159'], ['674562_2023-10-05_0', '2002 A2', 'probeE', '674562_2023-10-05_E-158'], ['674562_2023-10-05_0', '2002 A2', 'probeE', '674562_2023-10-05_E-636'], ['674562_2023-10-05_0', '2002 B3', 'probeD', '674562_2023-10-05_D-328'], ['674562_2023-10-05_0', '2002 B3', 'probeD', '674562_2023-10-05_D-326'], ['674562_2023-10-05_0', '2002 A2', 'probeE', '674562_2023-10-05_E-126'], ['674562_2023-10-05_0', '2002 B3', 'probeD', '674562_2023-10-05_D-244'], ['674562_2023-10-05_0', '2002 B3', 'probeD', '674562_2023-10-05_D-247'], ['674562_2023-10-05_0', '2002 B3', 'probeD', '674562_2023-10-05_D-248'], ['674562_2023-10-05_0', '2002 B3', 'probeD', '674562_2023-10-05_D-249'], ['674562_2023-10-05_0', '2002 B3', 'probeD', '674562_2023-10-05_D-250'], ['674562_2023-10-05_0', '2002 B3', 'probeD', '674562_2023-10-05_D-251'], ['674562_2023-10-05_0', '2002 B3', 'probeD', '674562_2023-10-05_D-254'], ['674562_2023-10-05_0', '2002 B3', 'probeD', '674562_2023-10-05_D-255'], ['674562_2023-10-05_0', '2002 B3', 'probeD', '674562_2023-10-05_D-256'], ['674562_2023-10-05_0', '2002 B3', 'probeD', '674562_2023-10-05_D-243'], ['674562_2023-10-05_0', '2002 B3', 'probeD', '674562_2023-10-05_D-257'], ['674562_2023-10-05_0', '2002 B3', 'probeD', '674562_2023-10-05_D-260'], ['674562_2023-10-05_0', '2002 B3', 'probeD', '674562_2023-10-05_D-261'], ['674562_2023-10-05_0', '2002 B3', 'probeD', '674562_2023-10-05_D-262'], ['674562_2023-10-05_0', '2002 B3', 'probeD', '674562_2023-10-05_D-263'], ['674562_2023-10-05_0', '2002 B3', 'probeD', '674562_2023-10-05_D-264'], ['674562_2023-10-05_0', '2002 B3', 'probeD', '674562_2023-10-05_D-265'], ['674562_2023-10-05_0', '2002 B3', 'probeD', '674562_2023-10-05_D-266'], ['674562_2023-10-05_0', '2002 B3', 'probeD', '674562_2023-10-05_D-267'], ['674562_2023-10-05_0', '2002 B3', 'probeD', '674562_2023-10-05_D-269'], ['674562_2023-10-05_0', '2002 B3', 'probeD', '674562_2023-10-05_D-259'], ['674562_2023-10-05_0', '2002 B3', 'probeD', '674562_2023-10-05_D-270'], ['674562_2023-10-05_0', '2002 B3', 'probeD', '674562_2023-10-05_D-242'], ['674562_2023-10-05_0', '2002 B3', 'probeD', '674562_2023-10-05_D-240'], ['674562_2023-10-05_0', '2002 B3', 'probeD', '674562_2023-10-05_D-210'], ['674562_2023-10-05_0', '2002 B3', 'probeD', '674562_2023-10-05_D-213'], ['674562_2023-10-05_0', '2002 B3', 'probeD', '674562_2023-10-05_D-214'], ['674562_2023-10-05_0', '2002 B3', 'probeD', '674562_2023-10-05_D-215'], ['674562_2023-10-05_0', '2002 B3', 'probeD', '674562_2023-10-05_D-216'], ['674562_2023-10-05_0', '2002 B3', 'probeD', '674562_2023-10-05_D-217'], ['674562_2023-10-05_0', '2002 B3', 'probeD', '674562_2023-10-05_D-218'], ['674562_2023-10-05_0', '2002 B3', 'probeD', '674562_2023-10-05_D-220'], ['674562_2023-10-05_0', '2002 B3', 'probeD', '674562_2023-10-05_D-222'], ['674562_2023-10-05_0', '2002 B3', 'probeD', '674562_2023-10-05_D-241'], ['674562_2023-10-05_0', '2002 B3', 'probeD', '674562_2023-10-05_D-223'], ['674562_2023-10-05_0', '2002 B3', 'probeD', '674562_2023-10-05_D-226'], ['674562_2023-10-05_0', '2002 B3', 'probeD', '674562_2023-10-05_D-227'], ['674562_2023-10-05_0', '2002 B3', 'probeD', '674562_2023-10-05_D-229'], ['674562_2023-10-05_0', '2002 B3', 'probeD', '674562_2023-10-05_D-231'], ['674562_2023-10-05_0', '2002 B3', 'probeD', '674562_2023-10-05_D-233'], ['674562_2023-10-05_0', '2002 B3', 'probeD', '674562_2023-10-05_D-234'], ['674562_2023-10-05_0', '2002 B3', 'probeD', '674562_2023-10-05_D-235'], ['674562_2023-10-05_0', '2002 B3', 'probeD', '674562_2023-10-05_D-236'], ['674562_2023-10-05_0', '2002 B3', 'probeD', '674562_2023-10-05_D-237'], ['674562_2023-10-05_0', '2002 B3', 'probeD', '674562_2023-10-05_D-225'], ['674562_2023-10-05_0', '2002 B3', 'probeD', '674562_2023-10-05_D-327'], ['674562_2023-10-05_0', '2002 B3', 'probeD', '674562_2023-10-05_D-271'], ['674562_2023-10-05_0', '2002 B3', 'probeD', '674562_2023-10-05_D-273'], ['674562_2023-10-05_0', '2002 B3', 'probeD', '674562_2023-10-05_D-299'], ['674562_2023-10-05_0', '2002 B3', 'probeD', '674562_2023-10-05_D-300'], ['674562_2023-10-05_0', '2002 B3', 'probeD', '674562_2023-10-05_D-301'], ['674562_2023-10-05_0', '2002 B3', 'probeD', '674562_2023-10-05_D-302'], ['674562_2023-10-05_0', '2002 B3', 'probeD', '674562_2023-10-05_D-303'], ['674562_2023-10-05_0', '2002 B3', 'probeD', '674562_2023-10-05_D-304'], ['674562_2023-10-05_0', '2002 B3', 'probeD', '674562_2023-10-05_D-305'], ['674562_2023-10-05_0', '2002 B3', 'probeD', '674562_2023-10-05_D-307'], ['674562_2023-10-05_0', '2002 B3', 'probeD', '674562_2023-10-05_D-308'], ['674562_2023-10-05_0', '2002 B3', 'probeD', '674562_2023-10-05_D-298'], ['674562_2023-10-05_0', '2002 B3', 'probeD', '674562_2023-10-05_D-315'], ['674562_2023-10-05_0', '2002 B3', 'probeD', '674562_2023-10-05_D-317'], ['674562_2023-10-05_0', '2002 B3', 'probeD', '674562_2023-10-05_D-318'], ['674562_2023-10-05_0', '2002 B3', 'probeD', '674562_2023-10-05_D-319'], ['674562_2023-10-05_0', '2002 B3', 'probeD', '674562_2023-10-05_D-320'], ['674562_2023-10-05_0', '2002 B3', 'probeD', '674562_2023-10-05_D-321'], ['674562_2023-10-05_0', '2002 B3', 'probeD', '674562_2023-10-05_D-322'], ['674562_2023-10-05_0', '2002 B3', 'probeD', '674562_2023-10-05_D-323'], ['674562_2023-10-05_0', '2002 B3', 'probeD', '674562_2023-10-05_D-324'], ['674562_2023-10-05_0', '2002 B3', 'probeD', '674562_2023-10-05_D-325'], ['674562_2023-10-05_0', '2002 B3', 'probeD', '674562_2023-10-05_D-316'], ['674562_2023-10-05_0', '2002 B3', 'probeD', '674562_2023-10-05_D-272'], ['674562_2023-10-05_0', '2002 B3', 'probeD', '674562_2023-10-05_D-297'], ['674562_2023-10-05_0', '2002 B3', 'probeD', '674562_2023-10-05_D-295'], ['674562_2023-10-05_0', '2002 B3', 'probeD', '674562_2023-10-05_D-274'], ['674562_2023-10-05_0', '2002 B3', 'probeD', '674562_2023-10-05_D-275'], ['674562_2023-10-05_0', '2002 B3', 'probeD', '674562_2023-10-05_D-276'], ['674562_2023-10-05_0', '2002 B3', 'probeD', '674562_2023-10-05_D-277'], ['674562_2023-10-05_0', '2002 B3', 'probeD', '674562_2023-10-05_D-278'], ['674562_2023-10-05_0', '2002 B3', 'probeD', '674562_2023-10-05_D-279'], ['674562_2023-10-05_0', '2002 B3', 'probeD', '674562_2023-10-05_D-280'], ['674562_2023-10-05_0', '2002 B3', 'probeD', '674562_2023-10-05_D-281'], ['674562_2023-10-05_0', '2002 B3', 'probeD', '674562_2023-10-05_D-282'], ['674562_2023-10-05_0', '2002 B3', 'probeD', '674562_2023-10-05_D-296'], ['674562_2023-10-05_0', '2002 B3', 'probeD', '674562_2023-10-05_D-283'], ['674562_2023-10-05_0', '2002 B3', 'probeD', '674562_2023-10-05_D-285'], ['674562_2023-10-05_0', '2002 B3', 'probeD', '674562_2023-10-05_D-287'], ['674562_2023-10-05_0', '2002 B3', 'probeD', '674562_2023-10-05_D-288'], ['674562_2023-10-05_0', '2002 B3', 'probeD', '674562_2023-10-05_D-289'], ['674562_2023-10-05_0', '2002 B3', 'probeD', '674562_2023-10-05_D-290'], ['674562_2023-10-05_0', '2002 B3', 'probeD', '674562_2023-10-05_D-291'], ['674562_2023-10-05_0', '2002 B3', 'probeD', '674562_2023-10-05_D-292'], ['674562_2023-10-05_0', '2002 B3', 'probeD', '674562_2023-10-05_D-293'], ['674562_2023-10-05_0', '2002 B3', 'probeD', '674562_2023-10-05_D-294'], ['674562_2023-10-05_0', '2002 B3', 'probeD', '674562_2023-10-05_D-284'], ['674562_2023-10-05_0', '2002 A2', 'probeE', '674562_2023-10-05_E-125'], ['674562_2023-10-05_0', '2002 A2', 'probeE', '674562_2023-10-05_E-157'], ['674562_2023-10-05_0', '2002 A2', 'probeE', '674562_2023-10-05_E-122'], ['674562_2023-10-05_0', '2002 B3', 'probeD', '674562_2023-10-05_D-693'], ['674562_2023-10-05_0', '2002 B3', 'probeD', '674562_2023-10-05_D-694'], ['674562_2023-10-05_0', '2002 B3', 'probeD', '674562_2023-10-05_D-695'], ['674562_2023-10-05_0', '2002 B3', 'probeD', '674562_2023-10-05_D-696'], ['674562_2023-10-05_0', '2002 B3', 'probeD', '674562_2023-10-05_D-697'], ['674562_2023-10-05_0', '2002 B3', 'probeD', '674562_2023-10-05_D-698'], ['674562_2023-10-05_0', '2002 B3', 'probeD', '674562_2023-10-05_D-699'], ['674562_2023-10-05_0', '2002 B3', 'probeD', '674562_2023-10-05_D-702'], ['674562_2023-10-05_0', '2002 B3', 'probeD', '674562_2023-10-05_D-690'], ['674562_2023-10-05_0', '2002 B3', 'probeD', '674562_2023-10-05_D-703'], ['674562_2023-10-05_0', '2002 B3', 'probeD', '674562_2023-10-05_D-705'], ['674562_2023-10-05_0', '2002 B3', 'probeD', '674562_2023-10-05_D-706'], ['674562_2023-10-05_0', '2002 A2', 'probeE', '674562_2023-10-05_E-123'], ['674562_2023-10-05_0', '2002 B3', 'probeD', '674562_2023-10-05_D-708'], ['674562_2023-10-05_0', '2002 B3', 'probeD', '674562_2023-10-05_D-709'], ['674562_2023-10-05_0', '2002 B3', 'probeD', '674562_2023-10-05_D-711'], ['674562_2023-10-05_0', '2002 B3', 'probeD', '674562_2023-10-05_D-712'], ['674562_2023-10-05_0', '2002 B3', 'probeD', '674562_2023-10-05_D-715'], ['674562_2023-10-05_0', '2002 B3', 'probeD', '674562_2023-10-05_D-704'], ['674562_2023-10-05_0', '2002 B3', 'probeD', '674562_2023-10-05_D-716'], ['674562_2023-10-05_0', '2002 B3', 'probeD', '674562_2023-10-05_D-689'], ['674562_2023-10-05_0', '2002 B3', 'probeD', '674562_2023-10-05_D-687'], ['674562_2023-10-05_0', '2002 B3', 'probeD', '674562_2023-10-05_D-664'], ['674562_2023-10-05_0', '2002 B3', 'probeD', '674562_2023-10-05_D-665'], ['674562_2023-10-05_0', '2002 B3', 'probeD', '674562_2023-10-05_D-667'], ['674562_2023-10-05_0', '2002 B3', 'probeD', '674562_2023-10-05_D-669'], ['674562_2023-10-05_0', '2002 B3', 'probeD', '674562_2023-10-05_D-671'], ['674562_2023-10-05_0', '2002 B3', 'probeD', '674562_2023-10-05_D-672'], ['674562_2023-10-05_0', '2002 A2', 'probeE', '674562_2023-10-05_E-476'], ['674562_2023-10-05_0', '2002 B3', 'probeD', '674562_2023-10-05_D-673'], ['674562_2023-10-05_0', '2002 B3', 'probeD', '674562_2023-10-05_D-688'], ['674562_2023-10-05_0', '2002 B3', 'probeD', '674562_2023-10-05_D-674'], ['674562_2023-10-05_0', '2002 B3', 'probeD', '674562_2023-10-05_D-676'], ['674562_2023-10-05_0', '2002 B3', 'probeD', '674562_2023-10-05_D-677'], ['674562_2023-10-05_0', '2002 B3', 'probeD', '674562_2023-10-05_D-678'], ['674562_2023-10-05_0', '2002 B3', 'probeD', '674562_2023-10-05_D-679'], ['674562_2023-10-05_0', '2002 B3', 'probeD', '674562_2023-10-05_D-680'], ['674562_2023-10-05_0', '2002 B3', 'probeD', '674562_2023-10-05_D-681'], ['674562_2023-10-05_0', '2002 B3', 'probeD', '674562_2023-10-05_D-682'], ['674562_2023-10-05_0', '2002 B3', 'probeD', '674562_2023-10-05_D-684'], ['674562_2023-10-05_0', '2002 B3', 'probeD', '674562_2023-10-05_D-675'], ['674562_2023-10-05_0', '2002 B3', 'probeD', '674562_2023-10-05_D-718'], ['674562_2023-10-05_0', '2002 B3', 'probeD', '674562_2023-10-05_D-719'], ['674562_2023-10-05_0', '2002 B3', 'probeD', '674562_2023-10-05_D-721'], ['674562_2023-10-05_0', '2002 B3', 'probeD', '674562_2023-10-05_D-924'], ['674562_2023-10-05_0', '2002 B3', 'probeD', '674562_2023-10-05_D-925'], ['674562_2023-10-05_0', '2002 B3', 'probeD', '674562_2023-10-05_D-926'], ['674562_2023-10-05_0', '2002 B3', 'probeD', '674562_2023-10-05_D-927'], ['674562_2023-10-05_0', '2002 B3', 'probeD', '674562_2023-10-05_D-928'], ['674562_2023-10-05_0', '2002 B3', 'probeD', '674562_2023-10-05_D-929'], ['674562_2023-10-05_0', '2002 B3', 'probeD', '674562_2023-10-05_D-930'], ['674562_2023-10-05_0', '2002 B3', 'probeD', '674562_2023-10-05_D-931'], ['674562_2023-10-05_0', '2002 B3', 'probeD', '674562_2023-10-05_D-922'], ['674562_2023-10-05_0', '2002 B3', 'probeD', '674562_2023-10-05_D-932'], ['674562_2023-10-05_0', '2002 B3', 'probeD', '674562_2023-10-05_D-938'], ['674562_2023-10-05_0', '2002 B3', 'probeD', '674562_2023-10-05_D-941'], ['674562_2023-10-05_0', '2002 B3', 'probeD', '674562_2023-10-05_D-942'], ['674562_2023-10-05_0', '2002 B3', 'probeD', '674562_2023-10-05_D-944'], ['674562_2023-10-05_0', '2002 B3', 'probeD', '674562_2023-10-05_D-947'], ['674562_2023-10-05_0', '2002 B3', 'probeD', '674562_2023-10-05_D-950'], ['674562_2023-10-05_0', '2002 B3', 'probeD', '674562_2023-10-05_D-952'], ['674562_2023-10-05_0', '2002 A2', 'probeE', '674562_2023-10-05_E-709'], ['674562_2023-10-05_0', '2002 B3', 'probeD', '674562_2023-10-05_D-934'], ['674562_2023-10-05_0', '2002 B3', 'probeD', '674562_2023-10-05_D-921'], ['674562_2023-10-05_0', '2002 B3', 'probeD', '674562_2023-10-05_D-918'], ['674562_2023-10-05_0', '2002 B3', 'probeD', '674562_2023-10-05_D-917'], ['674562_2023-10-05_0', '2002 B3', 'probeD', '674562_2023-10-05_D-722'], ['674562_2023-10-05_0', '2002 B3', 'probeD', '674562_2023-10-05_D-723'], ['674562_2023-10-05_0', '2002 B3', 'probeD', '674562_2023-10-05_D-724'], ['674562_2023-10-05_0', '2002 B3', 'probeD', '674562_2023-10-05_D-725'], ['674562_2023-10-05_0', '2002 B3', 'probeD', '674562_2023-10-05_D-727'], ['674562_2023-10-05_0', '2002 B3', 'probeD', '674562_2023-10-05_D-729'], ['674562_2023-10-05_0', '2002 B3', 'probeD', '674562_2023-10-05_D-731'], ['674562_2023-10-05_0', '2002 B3', 'probeD', '674562_2023-10-05_D-732'], ['674562_2023-10-05_0', '2002 B3', 'probeD', '674562_2023-10-05_D-733'], ['674562_2023-10-05_0', '2002 B3', 'probeD', '674562_2023-10-05_D-1019'], ['674562_2023-10-05_0', '2002 B3', 'probeD', '674562_2023-10-05_D-1017'], ['674562_2023-10-05_0', '2002 B3', 'probeD', '674562_2023-10-05_D-1016'], ['674562_2023-10-05_0', '2002 B3', 'probeD', '674562_2023-10-05_D-1015'], ['674562_2023-10-05_0', '2002 B3', 'probeD', '674562_2023-10-05_D-1011'], ['674562_2023-10-05_0', '2002 B3', 'probeD', '674562_2023-10-05_D-1008'], ['674562_2023-10-05_0', '2002 B3', 'probeD', '674562_2023-10-05_D-1007'], ['674562_2023-10-05_0', '2002 B3', 'probeD', '674562_2023-10-05_D-1005'], ['674562_2023-10-05_0', '2002 B3', 'probeD', '674562_2023-10-05_D-915'], ['674562_2023-10-05_0', '2002 B3', 'probeD', '674562_2023-10-05_D-916'], ['674562_2023-10-05_0', '2002 B3', 'probeD', '674562_2023-10-05_D-663'], ['674562_2023-10-05_0', '2002 B3', 'probeD', '674562_2023-10-05_D-662'], ['674562_2023-10-05_0', '2002 B3', 'probeD', '674562_2023-10-05_D-707'], ['674562_2023-10-05_0', '2002 B3', 'probeD', '674562_2023-10-05_D-660'], ['674562_2023-10-05_0', '2002 A2', 'probeE', '674562_2023-10-05_E-469'], ['674562_2023-10-05_0', '2002 A2', 'probeE', '674562_2023-10-05_E-82'], ['674562_2023-10-05_0', '2002 B3', 'probeD', '674562_2023-10-05_D-661'], ['674562_2023-10-05_0', '2002 A2', 'probeE', '674562_2023-10-05_E-83'], ['674562_2023-10-05_0', '2002 A2', 'probeE', '674562_2023-10-05_E-84'], ['674562_2023-10-05_0', '2002 A2', 'probeE', '674562_2023-10-05_E-86'], ['674562_2023-10-05_0', '2002 A2', 'probeE', '674562_2023-10-05_E-87'], ['674562_2023-10-05_0', '2002 A2', 'probeE', '674562_2023-10-05_E-88'], ['674562_2023-10-05_0', '2002 A2', 'probeE', '674562_2023-10-05_E-90'], ['674562_2023-10-05_0', '2002 A2', 'probeE', '674562_2023-10-05_E-92'], ['674562_2023-10-05_0', '2002 A2', 'probeE', '674562_2023-10-05_E-93'], ['674562_2023-10-05_0', '2002 A2', 'probeE', '674562_2023-10-05_E-94'], ['674562_2023-10-05_0', '2002 A2', 'probeE', '674562_2023-10-05_E-95'], ['674562_2023-10-05_0', '2002 A2', 'probeE', '674562_2023-10-05_E-473'], ['674562_2023-10-05_0', '2002 A2', 'probeE', '674562_2023-10-05_E-96'], ['674562_2023-10-05_0', '2002 A2', 'probeE', '674562_2023-10-05_E-98'], ['674562_2023-10-05_0', '2002 A2', 'probeE', '674562_2023-10-05_E-99'], ['674562_2023-10-05_0', '2002 A2', 'probeE', '674562_2023-10-05_E-102'], ['674562_2023-10-05_0', '2002 A2', 'probeE', '674562_2023-10-05_E-103'], ['674562_2023-10-05_0', '2002 A2', 'probeE', '674562_2023-10-05_E-105'], ['674562_2023-10-05_0', '2002 A2', 'probeE', '674562_2023-10-05_E-108'], ['674562_2023-10-05_0', '2002 A2', 'probeE', '674562_2023-10-05_E-109'], ['674562_2023-10-05_0', '2002 A2', 'probeE', '674562_2023-10-05_E-110'], ['674562_2023-10-05_0', '2002 A2', 'probeE', '674562_2023-10-05_E-113'], ['674562_2023-10-05_0', '2002 A2', 'probeE', '674562_2023-10-05_E-114'], ['674562_2023-10-05_0', '2002 A2', 'probeE', '674562_2023-10-05_E-117'], ['674562_2023-10-05_0', '2002 A2', 'probeE', '674562_2023-10-05_E-118'], ['674562_2023-10-05_0', '2002 A2', 'probeE', '674562_2023-10-05_E-121'], ['674562_2023-10-05_0', '2002 A2', 'probeE', '674562_2023-10-05_E-97'], ['674562_2023-10-05_0', '2002 A2', 'probeE', '674562_2023-10-05_E-79'], ['674562_2023-10-05_0', '2002 A2', 'probeE', '674562_2023-10-05_E-468'], ['674562_2023-10-05_0', '2002 B3', 'probeD', '674562_2023-10-05_D-647'], ['674562_2023-10-05_0', '2002 B3', 'probeD', '674562_2023-10-05_D-658'], ['674562_2023-10-05_0', '2002 B3', 'probeD', '674562_2023-10-05_D-656'], ['674562_2023-10-05_0', '2002 B3', 'probeD', '674562_2023-10-05_D-654'], ['674562_2023-10-05_0', '2002 B3', 'probeD', '674562_2023-10-05_D-653'], ['674562_2023-10-05_0', '2002 B3', 'probeD', '674562_2023-10-05_D-652'], ['674562_2023-10-05_0', '2002 B3', 'probeD', '674562_2023-10-05_D-649'], ['674562_2023-10-05_0', '2002 B3', 'probeD', '674562_2023-10-05_D-645'], ['674562_2023-10-05_0', '2002 B3', 'probeD', '674562_2023-10-05_D-644'], ['674562_2023-10-05_0', '2002 B3', 'probeD', '674562_2023-10-05_D-635'], ['674562_2023-10-05_0', '2002 A3', 'probeF', '674562_2023-10-05_F-253'], ['674562_2023-10-05_0', '2002 A2', 'probeE', '674562_2023-10-05_E-155'], ['674562_2023-10-05_0', '2002 A2', 'probeE', '674562_2023-10-05_E-470'], ['674562_2023-10-05_0', '2002 A2', 'probeE', '674562_2023-10-05_E-738'], ['674562_2023-10-05_0', '2002 A2', 'probeE', '674562_2023-10-05_E-489'], ['674562_2023-10-05_0', '2002 A2', 'probeE', '674562_2023-10-05_E-477'], ['674562_2023-10-05_0', '2002 A2', 'probeE', '674562_2023-10-05_E-165'], ['674562_2023-10-05_0', '2002 A2', 'probeE', '674562_2023-10-05_E-488'], ['674562_2023-10-05_0', '2002 A2', 'probeE', '674562_2023-10-05_E-481'], ['674562_2023-10-05_0', '2002 A2', 'probeE', '674562_2023-10-05_E-486'], ['674562_2023-10-05_0', '2002 A2', 'probeE', '674562_2023-10-05_E-485'], ['674562_2023-10-05_0', '2002 A2', 'probeE', '674562_2023-10-05_E-483'], ['674562_2023-10-05_0', '2002 A3', 'probeF', '674562_2023-10-05_F-6'], ['674562_2023-10-05_0', '2002 A2', 'probeE', '674562_2023-10-05_E-480'], ['674562_2023-10-05_0', '2002 A2', 'probeE', '674562_2023-10-05_E-721'], ['674562_2023-10-05_0', '2002 A2', 'probeE', '674562_2023-10-05_E-487'], ['674562_2023-10-05_0', '2002 A3', 'probeF', '674562_2023-10-05_F-7'], ['674562_2023-10-05_0', '2002 A2', 'probeE', '674562_2023-10-05_E-479'], ['674562_2023-10-05_0', '2002 A2', 'probeE', '674562_2023-10-05_E-178'], ['674562_2023-10-05_0', '2002 A2', 'probeE', '674562_2023-10-05_E-171'], ['674562_2023-10-05_0', '2002 A2', 'probeE', '674562_2023-10-05_E-172'], ['674562_2023-10-05_0', '2002 A2', 'probeE', '674562_2023-10-05_E-175'], ['674562_2023-10-05_0', '2002 A2', 'probeE', '674562_2023-10-05_E-177'], ['674562_2023-10-05_0', '2002 A2', 'probeE', '674562_2023-10-05_E-166'], ['674562_2023-10-05_0', '2002 A2', 'probeE', '674562_2023-10-05_E-179'], ['674562_2023-10-05_0', '2002 A2', 'probeE', '674562_2023-10-05_E-180'], ['674562_2023-10-05_0', '2002 A2', 'probeE', '674562_2023-10-05_E-181'], ['674562_2023-10-05_0', '2002 A2', 'probeE', '674562_2023-10-05_E-182'], ['674562_2023-10-05_0', '2002 A2', 'probeE', '674562_2023-10-05_E-184'], ['674562_2023-10-05_0', '2002 A2', 'probeE', '674562_2023-10-05_E-185'], ['674562_2023-10-05_0', '2002 A2', 'probeE', '674562_2023-10-05_E-187'], ['674562_2023-10-05_0', '2002 A2', 'probeE', '674562_2023-10-05_E-188'], ['674562_2023-10-05_0', '2002 A2', 'probeE', '674562_2023-10-05_E-654'], ['674562_2023-10-05_0', '2002 A2', 'probeE', '674562_2023-10-05_E-653'], ['674562_2023-10-05_0', '2002 A2', 'probeE', '674562_2023-10-05_E-168'], ['674562_2023-10-05_0', '2002 A2', 'probeE', '674562_2023-10-05_E-649'], ['674562_2023-10-05_0', '2002 A2', 'probeE', '674562_2023-10-05_E-170'], ['674562_2023-10-05_0', '2002 A2', 'probeE', '674562_2023-10-05_E-169'], ['676909_2023-12-11_0', '2002 B3', 'probeC', '676909_2023-12-11_C-293'], ['676909_2023-12-11_0', '2002 B3', 'probeC', '676909_2023-12-11_C-299'], ['676909_2023-12-11_0', '2002 B3', 'probeC', '676909_2023-12-11_C-298'], ['676909_2023-12-11_0', '2002 B3', 'probeC', '676909_2023-12-11_C-297'], ['676909_2023-12-11_0', '2002 B3', 'probeC', '676909_2023-12-11_C-296'], ['676909_2023-12-11_0', '2002 B3', 'probeC', '676909_2023-12-11_C-289'], ['676909_2023-12-11_0', '2002 B3', 'probeC', '676909_2023-12-11_C-829'], ['676909_2023-12-11_0', '2002 B3', 'probeC', '676909_2023-12-11_C-834'], ['676909_2023-12-11_0', '2002 B3', 'probeC', '676909_2023-12-11_C-292'], ['676909_2023-12-11_0', '2002 B3', 'probeC', '676909_2023-12-11_C-291'], ['676909_2023-12-11_0', '2002 B3', 'probeC', '676909_2023-12-11_C-643'], ['676909_2023-12-11_0', '2002 B3', 'probeC', '676909_2023-12-11_C-644'], ['676909_2023-12-11_0', '2002 B3', 'probeC', '676909_2023-12-11_C-647'], ['676909_2023-12-11_0', '2002 B3', 'probeC', '676909_2023-12-11_C-648'], ['676909_2023-12-11_0', '2002 B3', 'probeC', '676909_2023-12-11_C-650'], ['676909_2023-12-11_0', '2002 B3', 'probeC', '676909_2023-12-11_C-652'], ['676909_2023-12-11_0', '2002 B3', 'probeC', '676909_2023-12-11_C-653'], ['676909_2023-12-11_0', '2002 B3', 'probeC', '676909_2023-12-11_C-302'], ['676909_2023-12-11_0', '2002 B3', 'probeC', '676909_2023-12-11_C-654'], ['676909_2023-12-11_0', '2002 B3', 'probeC', '676909_2023-12-11_C-300'], ['676909_2023-12-11_0', '2002 B3', 'probeC', '676909_2023-12-11_C-301'], ['676909_2023-12-11_0', '2002 B3', 'probeC', '676909_2023-12-11_C-328'], ['676909_2023-12-11_0', '2002 B3', 'probeC', '676909_2023-12-11_C-303'], ['676909_2023-12-11_0', '2002 B3', 'probeC', '676909_2023-12-11_C-304'], ['676909_2023-12-11_0', '2002 B3', 'probeC', '676909_2023-12-11_C-305'], ['676909_2023-12-11_0', '2002 B3', 'probeC', '676909_2023-12-11_C-325'], ['676909_2023-12-11_0', '2002 B3', 'probeC', '676909_2023-12-11_C-324'], ['676909_2023-12-11_0', '2002 B3', 'probeC', '676909_2023-12-11_C-323'], ['676909_2023-12-11_0', '2002 B3', 'probeC', '676909_2023-12-11_C-321'], ['676909_2023-12-11_0', '2002 B3', 'probeC', '676909_2023-12-11_C-320'], ['676909_2023-12-11_0', '2002 B3', 'probeC', '676909_2023-12-11_C-318'], ['676909_2023-12-11_0', '2002 B3', 'probeC', '676909_2023-12-11_C-317'], ['676909_2023-12-11_0', '2002 B3', 'probeC', '676909_2023-12-11_C-316'], ['676909_2023-12-11_0', '2002 B3', 'probeC', '676909_2023-12-11_C-655'], ['676909_2023-12-11_0', '2002 B3', 'probeC', '676909_2023-12-11_C-315'], ['676909_2023-12-11_0', '2002 B3', 'probeC', '676909_2023-12-11_C-313'], ['676909_2023-12-11_0', '2002 B3', 'probeC', '676909_2023-12-11_C-312'], ['676909_2023-12-11_0', '2002 B3', 'probeC', '676909_2023-12-11_C-311'], ['676909_2023-12-11_0', '2002 B3', 'probeC', '676909_2023-12-11_C-310'], ['676909_2023-12-11_0', '2002 B3', 'probeC', '676909_2023-12-11_C-309'], ['676909_2023-12-11_0', '2002 B3', 'probeC', '676909_2023-12-11_C-308'], ['676909_2023-12-11_0', '2002 B3', 'probeC', '676909_2023-12-11_C-307'], ['676909_2023-12-11_0', '2002 B3', 'probeC', '676909_2023-12-11_C-306'], ['676909_2023-12-11_0', '2002 B3', 'probeC', '676909_2023-12-11_C-314'], ['676909_2023-12-11_0', '2002 B3', 'probeC', '676909_2023-12-11_C-656'], ['676909_2023-12-11_0', '2002 B3', 'probeC', '676909_2023-12-11_C-659'], ['676909_2023-12-11_0', '2002 B3', 'probeC', '676909_2023-12-11_C-658'], ['676909_2023-12-11_0', '2002 B3', 'probeC', '676909_2023-12-11_C-901'], ['676909_2023-12-11_0', '2002 B3', 'probeC', '676909_2023-12-11_C-841'], ['676909_2023-12-11_0', '2002 B3', 'probeC', '676909_2023-12-11_C-840'], ['676909_2023-12-11_0', '2002 B3', 'probeC', '676909_2023-12-11_C-839'], ['676909_2023-12-11_0', '2002 B3', 'probeC', '676909_2023-12-11_C-836'], ['676909_2023-12-11_0', '2002 B3', 'probeC', '676909_2023-12-11_C-657'], ['676909_2023-12-11_0', '2002 B3', 'probeC', '676909_2023-12-11_C-332'], ['676909_2023-12-11_0', '2002 B3', 'probeC', '676909_2023-12-11_C-330'], ['676909_2023-12-11_0', '2002 B3', 'probeC', '676909_2023-12-11_C-329'], ['676909_2023-12-11_0', '2002 B3', 'probeC', '676909_2023-12-11_C-327'], ['676909_2023-12-11_0', '2002 B3', 'probeC', '676909_2023-12-11_C-670'], ['676909_2023-12-11_0', '2002 B3', 'probeC', '676909_2023-12-11_C-669'], ['676909_2023-12-11_0', '2002 B3', 'probeC', '676909_2023-12-11_C-326'], ['676909_2023-12-11_0', '2002 B3', 'probeC', '676909_2023-12-11_C-668'], ['676909_2023-12-11_0', '2002 B3', 'probeC', '676909_2023-12-11_C-660'], ['676909_2023-12-11_0', '2002 B3', 'probeC', '676909_2023-12-11_C-661'], ['676909_2023-12-11_0', '2002 B3', 'probeC', '676909_2023-12-11_C-662'], ['676909_2023-12-11_0', '2002 B3', 'probeC', '676909_2023-12-11_C-663'], ['676909_2023-12-11_0', '2002 B3', 'probeC', '676909_2023-12-11_C-672'], ['676909_2023-12-12_0', '2002 B3', 'probeC', '676909_2023-12-12_C-259'], ['676909_2023-12-12_0', '2002 B3', 'probeC', '676909_2023-12-12_C-555'], ['676909_2023-12-12_0', '2002 B3', 'probeC', '676909_2023-12-12_C-553'], ['676909_2023-12-12_0', '2002 B3', 'probeC', '676909_2023-12-12_C-552'], ['676909_2023-12-12_0', '2002 B3', 'probeC', '676909_2023-12-12_C-550'], ['676909_2023-12-12_0', '2002 B3', 'probeC', '676909_2023-12-12_C-549'], ['676909_2023-12-12_0', '2002 B3', 'probeC', '676909_2023-12-12_C-548'], ['676909_2023-12-12_0', '2002 B3', 'probeC', '676909_2023-12-12_C-547'], ['676909_2023-12-12_0', '2002 B3', 'probeC', '676909_2023-12-12_C-556'], ['676909_2023-12-12_0', '2002 B3', 'probeC', '676909_2023-12-12_C-546'], ['676909_2023-12-12_0', '2002 B3', 'probeC', '676909_2023-12-12_C-544'], ['676909_2023-12-12_0', '2002 B3', 'probeC', '676909_2023-12-12_C-543'], ['676909_2023-12-12_0', '2002 B3', 'probeC', '676909_2023-12-12_C-542'], ['676909_2023-12-12_0', '2002 B3', 'probeC', '676909_2023-12-12_C-541'], ['676909_2023-12-12_0', '2002 B3', 'probeC', '676909_2023-12-12_C-540'], ['676909_2023-12-12_0', '2002 B3', 'probeC', '676909_2023-12-12_C-539'], ['676909_2023-12-12_0', '2002 B3', 'probeC', '676909_2023-12-12_C-240'], ['676909_2023-12-12_0', '2002 B3', 'probeC', '676909_2023-12-12_C-545'], ['676909_2023-12-12_0', '2002 B3', 'probeC', '676909_2023-12-12_C-242'], ['676909_2023-12-12_0', '2002 B3', 'probeC', '676909_2023-12-12_C-557'], ['676909_2023-12-12_0', '2002 B3', 'probeC', '676909_2023-12-12_C-561'], ['676909_2023-12-12_0', '2002 B3', 'probeC', '676909_2023-12-12_C-585'], ['676909_2023-12-12_0', '2002 B3', 'probeC', '676909_2023-12-12_C-583'], ['676909_2023-12-12_0', '2002 B3', 'probeC', '676909_2023-12-12_C-578'], ['676909_2023-12-12_0', '2002 B3', 'probeC', '676909_2023-12-12_C-577'], ['676909_2023-12-12_0', '2002 B3', 'probeC', '676909_2023-12-12_C-576'], ['676909_2023-12-12_0', '2002 B3', 'probeC', '676909_2023-12-12_C-575'], ['676909_2023-12-12_0', '2002 B3', 'probeC', '676909_2023-12-12_C-264'], ['676909_2023-12-12_0', '2002 B3', 'probeC', '676909_2023-12-12_C-558'], ['676909_2023-12-12_0', '2002 B3', 'probeC', '676909_2023-12-12_C-573'], ['676909_2023-12-12_0', '2002 B3', 'probeC', '676909_2023-12-12_C-571'], ['676909_2023-12-12_0', '2002 B3', 'probeC', '676909_2023-12-12_C-570'], ['676909_2023-12-12_0', '2002 B3', 'probeC', '676909_2023-12-12_C-567'], ['676909_2023-12-12_0', '2002 B3', 'probeC', '676909_2023-12-12_C-566'], ['676909_2023-12-12_0', '2002 B3', 'probeC', '676909_2023-12-12_C-565'], ['676909_2023-12-12_0', '2002 B3', 'probeC', '676909_2023-12-12_C-564'], ['676909_2023-12-12_0', '2002 B3', 'probeC', '676909_2023-12-12_C-563'], ['676909_2023-12-12_0', '2002 B3', 'probeC', '676909_2023-12-12_C-572'], ['676909_2023-12-12_0', '2002 B3', 'probeC', '676909_2023-12-12_C-243'], ['676909_2023-12-12_0', '2002 B3', 'probeC', '676909_2023-12-12_C-244'], ['676909_2023-12-12_0', '2002 B3', 'probeC', '676909_2023-12-12_C-245'], ['676909_2023-12-12_0', '2002 B3', 'probeC', '676909_2023-12-12_C-284'], ['676909_2023-12-12_0', '2002 B3', 'probeC', '676909_2023-12-12_C-283'], ['676909_2023-12-12_0', '2002 B3', 'probeC', '676909_2023-12-12_C-281'], ['676909_2023-12-12_0', '2002 B3', 'probeC', '676909_2023-12-12_C-280'], ['676909_2023-12-12_0', '2002 B3', 'probeC', '676909_2023-12-12_C-279'], ['676909_2023-12-12_0', '2002 B3', 'probeC', '676909_2023-12-12_C-278'], ['676909_2023-12-12_0', '2002 B3', 'probeC', '676909_2023-12-12_C-276'], ['676909_2023-12-12_0', '2002 B3', 'probeC', '676909_2023-12-12_C-288'], ['676909_2023-12-12_0', '2002 B3', 'probeC', '676909_2023-12-12_C-274'], ['676909_2023-12-12_0', '2002 B3', 'probeC', '676909_2023-12-12_C-272'], ['676909_2023-12-12_0', '2002 B3', 'probeC', '676909_2023-12-12_C-271'], ['676909_2023-12-12_0', '2002 B3', 'probeC', '676909_2023-12-12_C-270'], ['676909_2023-12-12_0', '2002 B3', 'probeC', '676909_2023-12-12_C-269'], ['676909_2023-12-12_0', '2002 B3', 'probeC', '676909_2023-12-12_C-267'], ['676909_2023-12-12_0', '2002 B3', 'probeC', '676909_2023-12-12_C-266'], ['676909_2023-12-12_0', '2002 B3', 'probeC', '676909_2023-12-12_C-265'], ['676909_2023-12-12_0', '2002 B3', 'probeC', '676909_2023-12-12_C-273'], ['676909_2023-12-12_0', '2002 B3', 'probeC', '676909_2023-12-12_C-291'], ['676909_2023-12-12_0', '2002 B3', 'probeC', '676909_2023-12-12_C-292'], ['676909_2023-12-12_0', '2002 B3', 'probeC', '676909_2023-12-12_C-293'], ['676909_2023-12-12_0', '2002 B3', 'probeC', '676909_2023-12-12_C-246'], ['676909_2023-12-12_0', '2002 B3', 'probeC', '676909_2023-12-12_C-247'], ['676909_2023-12-12_0', '2002 B3', 'probeC', '676909_2023-12-12_C-248'], ['676909_2023-12-12_0', '2002 B3', 'probeC', '676909_2023-12-12_C-249'], ['676909_2023-12-12_0', '2002 B3', 'probeC', '676909_2023-12-12_C-250'], ['676909_2023-12-12_0', '2002 B3', 'probeC', '676909_2023-12-12_C-251'], ['676909_2023-12-12_0', '2002 B3', 'probeC', '676909_2023-12-12_C-252'], ['676909_2023-12-12_0', '2002 B3', 'probeC', '676909_2023-12-12_C-253'], ['676909_2023-12-12_0', '2002 B3', 'probeC', '676909_2023-12-12_C-255'], ['676909_2023-12-12_0', '2002 B3', 'probeC', '676909_2023-12-12_C-256'], ['676909_2023-12-12_0', '2002 B3', 'probeC', '676909_2023-12-12_C-257'], ['676909_2023-12-12_0', '2002 B3', 'probeC', '676909_2023-12-12_C-258'], ['676909_2023-12-12_0', '2002 B3', 'probeC', '676909_2023-12-12_C-260'], ['676909_2023-12-12_0', '2002 B3', 'probeC', '676909_2023-12-12_C-262'], ['676909_2023-12-12_0', '2002 B3', 'probeC', '676909_2023-12-12_C-297'], ['676909_2023-12-12_0', '2002 B3', 'probeC', '676909_2023-12-12_C-296'], ['676909_2023-12-12_0', '2002 B3', 'probeC', '676909_2023-12-12_C-294'], ['676909_2023-12-12_0', '2002 B3', 'probeC', '676909_2023-12-12_C-586'], ['676909_2023-12-12_0', '2002 B3', 'probeC', '676909_2023-12-12_C-587'], ['676909_2023-12-12_0', '2002 B3', 'probeC', '676909_2023-12-12_C-574'], ['676909_2023-12-12_0', '2002 B3', 'probeC', '676909_2023-12-12_C-263'], ['676909_2023-12-12_0', '2002 B3', 'probeC', '676909_2023-12-12_C-790'], ['676909_2023-12-12_0', '2002 B3', 'probeC', '676909_2023-12-12_C-789'], ['676909_2023-12-12_0', '2002 B3', 'probeC', '676909_2023-12-12_C-731'], ['676909_2023-12-12_0', '2002 B3', 'probeC', '676909_2023-12-12_C-728'], ['676909_2023-12-12_0', '2002 B3', 'probeC', '676909_2023-12-12_C-727'], ['676909_2023-12-12_0', '2002 B3', 'probeC', '676909_2023-12-12_C-721'], ['676909_2023-12-12_0', '2002 B3', 'probeC', '676909_2023-12-12_C-720'], ['676909_2023-12-12_0', '2002 B3', 'probeC', '676909_2023-12-12_C-719'], ['676909_2023-12-12_0', '2002 B3', 'probeC', '676909_2023-12-12_C-729'], ['676909_2023-12-12_0', '2002 B3', 'probeC', '676909_2023-12-12_C-299'], ['676909_2023-12-12_0', '2002 B3', 'probeC', '676909_2023-12-12_C-295'], ['676909_2023-12-12_0', '2002 B3', 'probeC', '676909_2023-12-12_C-302'], ['676909_2023-12-12_0', '2002 B3', 'probeC', '676909_2023-12-12_C-730'], ['676909_2023-12-12_0', '2002 B3', 'probeC', '676909_2023-12-12_C-285'], ['676909_2023-12-13_0', '2002 A3', 'probeE', '676909_2023-12-13_E-253'], ['676909_2023-12-13_0', '2002 A3', 'probeE', '676909_2023-12-13_E-79'], ['676909_2023-12-13_0', '2002 A3', 'probeE', '676909_2023-12-13_E-80'], ['676909_2023-12-13_0', '2002 A3', 'probeE', '676909_2023-12-13_E-81'], ['676909_2023-12-13_0', '2002 A3', 'probeE', '676909_2023-12-13_E-83'], ['676909_2023-12-13_0', '2002 A3', 'probeE', '676909_2023-12-13_E-84'], ['676909_2023-12-13_0', '2002 A3', 'probeE', '676909_2023-12-13_E-85'], ['676909_2023-12-13_0', '2002 A3', 'probeE', '676909_2023-12-13_E-87'], ['676909_2023-12-13_0', '2002 A3', 'probeE', '676909_2023-12-13_E-88'], ['676909_2023-12-13_0', '2002 A3', 'probeE', '676909_2023-12-13_E-90'], ['676909_2023-12-13_0', '2002 A3', 'probeE', '676909_2023-12-13_E-91'], ['676909_2023-12-13_0', '2002 A3', 'probeE', '676909_2023-12-13_E-92'], ['676909_2023-12-13_0', '2002 A3', 'probeE', '676909_2023-12-13_E-97'], ['676909_2023-12-13_0', '2002 A3', 'probeE', '676909_2023-12-13_E-89'], ['676909_2023-12-13_0', '2002 A3', 'probeE', '676909_2023-12-13_E-246'], ['676909_2023-12-13_0', '2002 A3', 'probeE', '676909_2023-12-13_E-248'], ['676909_2023-12-13_0', '2002 A3', 'probeE', '676909_2023-12-13_E-249'], ['676909_2023-12-13_0', '2002 A3', 'probeE', '676909_2023-12-13_E-257'], ['676909_2023-12-13_0', '2002 A3', 'probeE', '676909_2023-12-13_E-262'], ['676909_2023-12-13_0', '2002 A3', 'probeE', '676909_2023-12-13_E-364'], ['676909_2023-12-13_0', '2002 A3', 'probeE', '676909_2023-12-13_E-366'], ['676909_2023-12-13_0', '2002 A3', 'probeE', '676909_2023-12-13_E-370'], ['676909_2023-12-13_0', '2002 A3', 'probeE', '676909_2023-12-13_E-99'], ['676909_2023-12-14_0', '2002 B3', 'probeA', '676909_2023-12-14_A-141'], ['676909_2023-12-14_0', '2002 B3', 'probeA', '676909_2023-12-14_A-142'], ['676909_2023-12-14_0', '2002 B3', 'probeA', '676909_2023-12-14_A-49'], ['676909_2023-12-14_0', '2002 B3', 'probeA', '676909_2023-12-14_A-48'], ['676909_2023-12-14_0', '2002 B3', 'probeA', '676909_2023-12-14_A-47'], ['676909_2023-12-14_0', '2002 B3', 'probeA', '676909_2023-12-14_A-46'], ['676909_2023-12-14_0', '2002 B3', 'probeA', '676909_2023-12-14_A-45'], ['676909_2023-12-14_0', '2002 B3', 'probeA', '676909_2023-12-14_A-44'], ['676909_2023-12-14_0', '2002 B3', 'probeA', '676909_2023-12-14_A-43'], ['676909_2023-12-14_0', '2002 B3', 'probeA', '676909_2023-12-14_A-42'], ['676909_2023-12-14_0', '2002 B3', 'probeA', '676909_2023-12-14_A-39'], ['676909_2023-12-14_0', '2002 B3', 'probeA', '676909_2023-12-14_A-41'], ['676909_2023-12-14_0', '2002 B3', 'probeA', '676909_2023-12-14_A-38'], ['681532_2023-10-17_0', '2002 A2', 'probeF', '681532_2023-10-17_F-307'], ['681532_2023-10-17_0', '2002 A2', 'probeF', '681532_2023-10-17_F-293'], ['681532_2023-10-17_0', '2002 A2', 'probeF', '681532_2023-10-17_F-292'], ['681532_2023-10-17_0', '2002 A2', 'probeF', '681532_2023-10-17_F-290'], ['681532_2023-10-17_0', '2002 A2', 'probeF', '681532_2023-10-17_F-288'], ['681532_2023-10-17_0', '2002 A2', 'probeF', '681532_2023-10-17_F-287'], ['681532_2023-10-17_0', '2002 A2', 'probeF', '681532_2023-10-17_F-286'], ['681532_2023-10-17_0', '2002 A2', 'probeF', '681532_2023-10-17_F-285'], ['681532_2023-10-17_0', '2002 A2', 'probeF', '681532_2023-10-17_F-284'], ['681532_2023-10-17_0', '2002 A2', 'probeF', '681532_2023-10-17_F-283'], ['681532_2023-10-17_0', '2002 A2', 'probeF', '681532_2023-10-17_F-282'], ['681532_2023-10-17_0', '2002 A2', 'probeF', '681532_2023-10-17_F-281'], ['681532_2023-10-17_0', '2002 A2', 'probeF', '681532_2023-10-17_F-280'], ['681532_2023-10-17_0', '2002 A2', 'probeF', '681532_2023-10-17_F-278'], ['681532_2023-10-17_0', '2002 A2', 'probeF', '681532_2023-10-17_F-275'], ['681532_2023-10-17_0', '2002 A2', 'probeF', '681532_2023-10-17_F-274'], ['681532_2023-10-17_0', '2002 A2', 'probeF', '681532_2023-10-17_F-272'], ['681532_2023-10-17_0', '2002 A2', 'probeF', '681532_2023-10-17_F-271'], ['681532_2023-10-17_0', '2002 A2', 'probeF', '681532_2023-10-17_F-294'], ['681532_2023-10-17_0', '2002 A2', 'probeF', '681532_2023-10-17_F-298'], ['681532_2023-10-17_0', '2002 A2', 'probeF', '681532_2023-10-17_F-299'], ['681532_2023-10-17_0', '2002 A2', 'probeF', '681532_2023-10-17_F-301'], ['681532_2023-10-17_0', '2002 A2', 'probeF', '681532_2023-10-17_F-597'], ['681532_2023-10-17_0', '2002 A2', 'probeF', '681532_2023-10-17_F-595'], ['681532_2023-10-17_0', '2002 A2', 'probeF', '681532_2023-10-17_F-594'], ['681532_2023-10-17_0', '2002 A2', 'probeF', '681532_2023-10-17_F-593'], ['681532_2023-10-17_0', '2002 A2', 'probeF', '681532_2023-10-17_F-592'], ['681532_2023-10-17_0', '2002 A2', 'probeF', '681532_2023-10-17_F-590'], ['681532_2023-10-17_0', '2002 A2', 'probeF', '681532_2023-10-17_F-588'], ['681532_2023-10-17_0', '2002 A2', 'probeF', '681532_2023-10-17_F-587'], ['681532_2023-10-17_0', '2002 A2', 'probeF', '681532_2023-10-17_F-270'], ['681532_2023-10-17_0', '2002 A2', 'probeF', '681532_2023-10-17_F-585'], ['681532_2023-10-17_0', '2002 A2', 'probeF', '681532_2023-10-17_F-581'], ['681532_2023-10-17_0', '2002 A2', 'probeF', '681532_2023-10-17_F-580'], ['681532_2023-10-17_0', '2002 A2', 'probeF', '681532_2023-10-17_F-311'], ['681532_2023-10-17_0', '2002 A2', 'probeF', '681532_2023-10-17_F-308'], ['681532_2023-10-17_0', '2002 A2', 'probeF', '681532_2023-10-17_F-599'], ['681532_2023-10-17_0', '2002 A2', 'probeF', '681532_2023-10-17_F-306'], ['681532_2023-10-17_0', '2002 A2', 'probeF', '681532_2023-10-17_F-305'], ['681532_2023-10-17_0', '2002 A2', 'probeF', '681532_2023-10-17_F-304'], ['681532_2023-10-17_0', '2002 A2', 'probeF', '681532_2023-10-17_F-584'], ['681532_2023-10-17_0', '2002 A2', 'probeF', '681532_2023-10-17_F-268'], ['681532_2023-10-17_0', '2002 A2', 'probeF', '681532_2023-10-17_F-600'], ['681532_2023-10-17_0', '2002 A2', 'probeF', '681532_2023-10-17_F-818'], ['681532_2023-10-17_0', '2002 A2', 'probeF', '681532_2023-10-17_F-752'], ['681532_2023-10-17_0', '2002 A2', 'probeF', '681532_2023-10-17_F-753'], ['681532_2023-10-17_0', '2002 A2', 'probeF', '681532_2023-10-17_F-754'], ['681532_2023-10-17_0', '2002 A2', 'probeF', '681532_2023-10-17_F-756'], ['681532_2023-10-17_0', '2002 A2', 'probeF', '681532_2023-10-17_F-758'], ['681532_2023-10-17_0', '2002 A2', 'probeF', '681532_2023-10-17_F-759'], ['686176_2023-12-04_0', '2002 B3', 'probeF', '686176_2023-12-04_F-155'], ['686176_2023-12-04_0', '2002 B3', 'probeF', '686176_2023-12-04_F-421'], ['686176_2023-12-04_0', '2002 B3', 'probeF', '686176_2023-12-04_F-420'], ['686176_2023-12-04_0', '2002 B3', 'probeF', '686176_2023-12-04_F-419'], ['686176_2023-12-04_0', '2002 B3', 'probeF', '686176_2023-12-04_F-418'], ['686176_2023-12-04_0', '2002 B3', 'probeF', '686176_2023-12-04_F-417'], ['686176_2023-12-04_0', '2002 B3', 'probeF', '686176_2023-12-04_F-416'], ['686176_2023-12-04_0', '2002 B3', 'probeF', '686176_2023-12-04_F-415'], ['686176_2023-12-04_0', '2002 B3', 'probeF', '686176_2023-12-04_F-412'], ['686176_2023-12-04_0', '2002 B3', 'probeF', '686176_2023-12-04_F-411'], ['686176_2023-12-04_0', '2002 B3', 'probeF', '686176_2023-12-04_F-409'], ['686176_2023-12-04_0', '2002 B3', 'probeF', '686176_2023-12-04_F-408'], ['686176_2023-12-04_0', '2002 B3', 'probeF', '686176_2023-12-04_F-404'], ['686176_2023-12-04_0', '2002 B3', 'probeF', '686176_2023-12-04_F-403'], ['686176_2023-12-04_0', '2002 B3', 'probeF', '686176_2023-12-04_F-401'], ['686176_2023-12-04_0', '2002 B3', 'probeF', '686176_2023-12-04_F-398'], ['686176_2023-12-04_0', '2002 B3', 'probeF', '686176_2023-12-04_F-397'], ['686176_2023-12-04_0', '2002 B3', 'probeF', '686176_2023-12-04_F-547'], ['686176_2023-12-04_0', '2002 B3', 'probeF', '686176_2023-12-04_F-156'], ['686176_2023-12-04_0', '2002 B3', 'probeF', '686176_2023-12-04_F-158'], ['686176_2023-12-04_0', '2002 B3', 'probeF', '686176_2023-12-04_F-159'], ['686176_2023-12-04_0', '2002 B3', 'probeF', '686176_2023-12-04_F-201'], ['686176_2023-12-04_0', '2002 B3', 'probeF', '686176_2023-12-04_F-200'], ['686176_2023-12-04_0', '2002 B3', 'probeF', '686176_2023-12-04_F-199'], ['686176_2023-12-04_0', '2002 B3', 'probeF', '686176_2023-12-04_F-198'], ['686176_2023-12-04_0', '2002 B3', 'probeF', '686176_2023-12-04_F-197'], ['686176_2023-12-04_0', '2002 B3', 'probeF', '686176_2023-12-04_F-422'], ['686176_2023-12-04_0', '2002 B3', 'probeF', '686176_2023-12-04_F-423'], ['686176_2023-12-04_0', '2002 B3', 'probeF', '686176_2023-12-04_F-424'], ['686176_2023-12-04_0', '2002 B3', 'probeF', '686176_2023-12-04_F-426'], ['686176_2023-12-04_0', '2002 B3', 'probeF', '686176_2023-12-04_F-553'], ['686176_2023-12-04_0', '2002 B3', 'probeF', '686176_2023-12-04_F-603'], ['686176_2023-12-04_0', '2002 B3', 'probeF', '686176_2023-12-04_F-554'], ['686176_2023-12-04_0', '2002 B3', 'probeF', '686176_2023-12-04_F-555'], ['686176_2023-12-04_0', '2002 B3', 'probeF', '686176_2023-12-04_F-556'], ['686176_2023-12-04_0', '2002 B3', 'probeF', '686176_2023-12-04_F-558'], ['686176_2023-12-04_0', '2002 B3', 'probeF', '686176_2023-12-04_F-560'], ['686176_2023-12-04_0', '2002 B3', 'probeF', '686176_2023-12-04_F-561'], ['686176_2023-12-04_0', '2002 B3', 'probeF', '686176_2023-12-04_F-600'], ['686176_2023-12-04_0', '2002 B3', 'probeF', '686176_2023-12-04_F-601'], ['686176_2023-12-04_0', '2002 B3', 'probeF', '686176_2023-12-04_F-451'], ['686176_2023-12-04_0', '2002 B3', 'probeF', '686176_2023-12-04_F-447'], ['686176_2023-12-04_0', '2002 B3', 'probeF', '686176_2023-12-04_F-161'], ['686176_2023-12-04_0', '2002 B3', 'probeF', '686176_2023-12-04_F-163'], ['686176_2023-12-04_0', '2002 B3', 'probeF', '686176_2023-12-04_F-444'], ['686176_2023-12-04_0', '2002 B3', 'probeF', '686176_2023-12-04_F-443'], ['686176_2023-12-04_0', '2002 B3', 'probeF', '686176_2023-12-04_F-442'], ['686176_2023-12-04_0', '2002 B3', 'probeF', '686176_2023-12-04_F-441'], ['686176_2023-12-04_0', '2002 B3', 'probeF', '686176_2023-12-04_F-439'], ['686176_2023-12-04_0', '2002 B3', 'probeF', '686176_2023-12-04_F-438'], ['686176_2023-12-04_0', '2002 B3', 'probeF', '686176_2023-12-04_F-437'], ['686176_2023-12-04_0', '2002 B3', 'probeF', '686176_2023-12-04_F-436'], ['686176_2023-12-04_0', '2002 B3', 'probeF', '686176_2023-12-04_F-435'], ['686176_2023-12-04_0', '2002 B3', 'probeF', '686176_2023-12-04_F-431'], ['686176_2023-12-04_0', '2002 B3', 'probeF', '686176_2023-12-04_F-429'], ['686176_2023-12-04_0', '2002 B3', 'probeF', '686176_2023-12-04_F-427'], ['686176_2023-12-04_0', '2002 B3', 'probeF', '686176_2023-12-04_F-445'], ['686176_2023-12-04_0', '2002 B3', 'probeF', '686176_2023-12-04_F-195'], ['686176_2023-12-04_0', '2002 B3', 'probeF', '686176_2023-12-04_F-540'], ['686176_2023-12-04_0', '2002 B3', 'probeF', '686176_2023-12-04_F-191'], ['686176_2023-12-04_0', '2002 B3', 'probeF', '686176_2023-12-04_F-166'], ['686176_2023-12-04_0', '2002 B3', 'probeF', '686176_2023-12-04_F-165'], ['686176_2023-12-04_0', '2002 B3', 'probeF', '686176_2023-12-04_F-164'], ['686176_2023-12-04_0', '2002 B3', 'probeF', '686176_2023-12-04_F-192'], ['686176_2023-12-04_0', '2002 B3', 'probeF', '686176_2023-12-04_F-203'], ['686176_2023-12-04_0', '2002 B3', 'probeF', '686176_2023-12-04_F-205'], ['686176_2023-12-04_0', '2002 B3', 'probeF', '686176_2023-12-04_F-206'], ['686176_2023-12-04_0', '2002 B3', 'probeF', '686176_2023-12-04_F-208'], ['686176_2023-12-04_0', '2002 B3', 'probeF', '686176_2023-12-04_F-209'], ['686176_2023-12-04_0', '2002 B3', 'probeF', '686176_2023-12-04_F-210'], ['686176_2023-12-04_0', '2002 B3', 'probeF', '686176_2023-12-04_F-211'], ['686176_2023-12-04_0', '2002 B3', 'probeF', '686176_2023-12-04_F-212'], ['686176_2023-12-04_0', '2002 B3', 'probeF', '686176_2023-12-04_F-213'], ['686176_2023-12-04_0', '2002 B3', 'probeF', '686176_2023-12-04_F-214'], ['686176_2023-12-04_0', '2002 B3', 'probeF', '686176_2023-12-04_F-215'], ['686176_2023-12-04_0', '2002 B3', 'probeF', '686176_2023-12-04_F-216'], ['686176_2023-12-04_0', '2002 B3', 'probeF', '686176_2023-12-04_F-221'], ['686176_2023-12-04_0', '2002 B3', 'probeF', '686176_2023-12-04_F-222'], ['686176_2023-12-04_0', '2002 B3', 'probeF', '686176_2023-12-04_F-223'], ['686176_2023-12-04_0', '2002 B3', 'probeF', '686176_2023-12-04_F-224'], ['686176_2023-12-04_0', '2002 B3', 'probeF', '686176_2023-12-04_F-225'], ['686176_2023-12-04_0', '2002 B3', 'probeF', '686176_2023-12-04_F-226'], ['686176_2023-12-04_0', '2002 B3', 'probeF', '686176_2023-12-04_F-231'], ['686176_2023-12-04_0', '2002 B3', 'probeF', '686176_2023-12-04_F-167'], ['686176_2023-12-04_0', '2002 B3', 'probeF', '686176_2023-12-04_F-168'], ['686176_2023-12-04_0', '2002 B3', 'probeF', '686176_2023-12-04_F-202'], ['686176_2023-12-04_0', '2002 B3', 'probeF', '686176_2023-12-04_F-181'], ['686176_2023-12-04_0', '2002 B3', 'probeF', '686176_2023-12-04_F-185'], ['686176_2023-12-04_0', '2002 B3', 'probeF', '686176_2023-12-04_F-179'], ['686176_2023-12-04_0', '2002 B3', 'probeF', '686176_2023-12-04_F-178'], ['686176_2023-12-04_0', '2002 B3', 'probeF', '686176_2023-12-04_F-177'], ['686176_2023-12-04_0', '2002 B3', 'probeF', '686176_2023-12-04_F-176'], ['686176_2023-12-04_0', '2002 B3', 'probeF', '686176_2023-12-04_F-186'], ['686176_2023-12-04_0', '2002 B3', 'probeF', '686176_2023-12-04_F-175'], ['686176_2023-12-04_0', '2002 B3', 'probeF', '686176_2023-12-04_F-174'], ['686176_2023-12-04_0', '2002 B3', 'probeF', '686176_2023-12-04_F-173'], ['686176_2023-12-04_0', '2002 B3', 'probeF', '686176_2023-12-04_F-172'], ['686176_2023-12-04_0', '2002 B3', 'probeF', '686176_2023-12-04_F-188'], ['686176_2023-12-04_0', '2002 B3', 'probeF', '686176_2023-12-04_F-171'], ['686176_2023-12-04_0', '2002 B3', 'probeF', '686176_2023-12-04_F-190'], ['686176_2023-12-04_0', '2002 B3', 'probeF', '686176_2023-12-04_F-189'], ['686176_2023-12-04_0', '2002 B3', 'probeF', '686176_2023-12-04_F-184'], ['686176_2023-12-04_0', '2002 F2', 'probeE', '686176_2023-12-04_E-148'], ['686176_2023-12-04_0', '2002 F2', 'probeE', '686176_2023-12-04_E-150'], ['686176_2023-12-05_0', '2002 F2', 'probeE', '686176_2023-12-05_E-547'], ['686176_2023-12-05_0', '2002 F2', 'probeE', '686176_2023-12-05_E-701'], ['686176_2023-12-05_0', '2002 B3', 'probeF', '686176_2023-12-05_F-453'], ['686176_2023-12-05_0', '2002 F2', 'probeE', '686176_2023-12-05_E-546'], ['686176_2023-12-05_0', '2002 F2', 'probeE', '686176_2023-12-05_E-702'], ['686176_2023-12-05_0', '2002 F2', 'probeE', '686176_2023-12-05_E-549'], ['686176_2023-12-05_0', '2002 F2', 'probeE', '686176_2023-12-05_E-536'], ['686176_2023-12-05_0', '2002 F2', 'probeE', '686176_2023-12-05_E-541'], ['686176_2023-12-05_0', '2002 F2', 'probeE', '686176_2023-12-05_E-223'], ['686176_2023-12-05_0', '2002 F2', 'probeE', '686176_2023-12-05_E-542'], ['686176_2023-12-05_0', '2002 F2', 'probeE', '686176_2023-12-05_E-221'], ['686176_2023-12-05_0', '2002 F2', 'probeE', '686176_2023-12-05_E-550'], ['686176_2023-12-05_0', '2002 F2', 'probeE', '686176_2023-12-05_E-219'], ['686176_2023-12-05_0', '2002 F2', 'probeE', '686176_2023-12-05_E-210'], ['686176_2023-12-05_0', '2002 B3', 'probeF', '686176_2023-12-05_F-216'], ['686176_2023-12-05_0', '2002 B3', 'probeF', '686176_2023-12-05_F-552'], ['686176_2023-12-05_0', '2002 F2', 'probeE', '686176_2023-12-05_E-220'], ['686176_2023-12-05_0', '2002 F2', 'probeE', '686176_2023-12-05_E-703'], ['686176_2023-12-05_0', '2002 F2', 'probeE', '686176_2023-12-05_E-218'], ['686176_2023-12-05_0', '2002 F2', 'probeE', '686176_2023-12-05_E-216'], ['686176_2023-12-05_0', '2002 F2', 'probeE', '686176_2023-12-05_E-213'], ['686176_2023-12-05_0', '2002 F2', 'probeE', '686176_2023-12-05_E-214'], ['686176_2023-12-05_0', '2002 F2', 'probeE', '686176_2023-12-05_E-544'], ['686176_2023-12-05_0', '2002 F2', 'probeE', '686176_2023-12-05_E-552'], ['686176_2023-12-05_0', '2002 F2', 'probeE', '686176_2023-12-05_E-566'], ['686176_2023-12-05_0', '2002 F2', 'probeE', '686176_2023-12-05_E-565'], ['686176_2023-12-05_0', '2002 F2', 'probeE', '686176_2023-12-05_E-564'], ['686176_2023-12-05_0', '2002 F2', 'probeE', '686176_2023-12-05_E-562'], ['686176_2023-12-05_0', '2002 F2', 'probeE', '686176_2023-12-05_E-560'], ['686176_2023-12-05_0', '2002 F2', 'probeE', '686176_2023-12-05_E-557'], ['686176_2023-12-05_0', '2002 F2', 'probeE', '686176_2023-12-05_E-556'], ['686176_2023-12-05_0', '2002 F2', 'probeE', '686176_2023-12-05_E-555'], ['686176_2023-12-05_0', '2002 F2', 'probeE', '686176_2023-12-05_E-553'], ['686176_2023-12-05_0', '2002 F2', 'probeE', '686176_2023-12-05_E-561'], ['686176_2023-12-05_0', '2002 F2', 'probeE', '686176_2023-12-05_E-558'], ['686176_2023-12-05_0', '2002 F2', 'probeE', '686176_2023-12-05_E-247'], ['686176_2023-12-05_0', '2002 B3', 'probeF', '686176_2023-12-05_F-245'], ['686176_2023-12-05_0', '2002 B3', 'probeF', '686176_2023-12-05_F-218'], ['686176_2023-12-05_0', '2002 B3', 'probeF', '686176_2023-12-05_F-221'], ['686176_2023-12-05_0', '2002 B3', 'probeF', '686176_2023-12-05_F-222'], ['686176_2023-12-05_0', '2002 B3', 'probeF', '686176_2023-12-05_F-223'], ['686176_2023-12-05_0', '2002 B3', 'probeF', '686176_2023-12-05_F-224'], ['686176_2023-12-05_0', '2002 B3', 'probeF', '686176_2023-12-05_F-225'], ['686176_2023-12-05_0', '2002 B3', 'probeF', '686176_2023-12-05_F-226'], ['686176_2023-12-05_0', '2002 B3', 'probeF', '686176_2023-12-05_F-227'], ['686176_2023-12-05_0', '2002 F2', 'probeE', '686176_2023-12-05_E-709'], ['686176_2023-12-05_0', '2002 B3', 'probeF', '686176_2023-12-05_F-228'], ['686176_2023-12-05_0', '2002 B3', 'probeF', '686176_2023-12-05_F-231'], ['686176_2023-12-05_0', '2002 B3', 'probeF', '686176_2023-12-05_F-233'], ['686176_2023-12-05_0', '2002 B3', 'probeF', '686176_2023-12-05_F-235'], ['686176_2023-12-05_0', '2002 B3', 'probeF', '686176_2023-12-05_F-236'], ['686176_2023-12-05_0', '2002 B3', 'probeF', '686176_2023-12-05_F-237'], ['686176_2023-12-05_0', '2002 B3', 'probeF', '686176_2023-12-05_F-239'], ['686176_2023-12-05_0', '2002 B3', 'probeF', '686176_2023-12-05_F-241'], ['686176_2023-12-05_0', '2002 B3', 'probeF', '686176_2023-12-05_F-244'], ['686176_2023-12-05_0', '2002 B3', 'probeF', '686176_2023-12-05_F-229'], ['686176_2023-12-05_0', '2002 B3', 'probeF', '686176_2023-12-05_F-240'], ['686176_2023-12-05_0', '2002 F2', 'probeE', '686176_2023-12-05_E-563'], ['686176_2023-12-05_0', '2002 F2', 'probeE', '686176_2023-12-05_E-250'], ['686176_2023-12-05_0', '2002 B3', 'probeF', '686176_2023-12-05_F-455'], ['686176_2023-12-05_0', '2002 B3', 'probeF', '686176_2023-12-05_F-457'], ['686176_2023-12-05_0', '2002 B3', 'probeF', '686176_2023-12-05_F-459'], ['686176_2023-12-05_0', '2002 B3', 'probeF', '686176_2023-12-05_F-460'], ['686176_2023-12-05_0', '2002 B3', 'probeF', '686176_2023-12-05_F-461'], ['686176_2023-12-05_0', '2002 B3', 'probeF', '686176_2023-12-05_F-462'], ['686176_2023-12-05_0', '2002 B3', 'probeF', '686176_2023-12-05_F-463'], ['686176_2023-12-05_0', '2002 B3', 'probeF', '686176_2023-12-05_F-464'], ['686176_2023-12-05_0', '2002 B3', 'probeF', '686176_2023-12-05_F-465'], ['686176_2023-12-05_0', '2002 B3', 'probeF', '686176_2023-12-05_F-468'], ['686176_2023-12-05_0', '2002 B3', 'probeF', '686176_2023-12-05_F-469'], ['686176_2023-12-05_0', '2002 B3', 'probeF', '686176_2023-12-05_F-472'], ['686176_2023-12-05_0', '2002 F2', 'probeE', '686176_2023-12-05_E-227'], ['686176_2023-12-05_0', '2002 F2', 'probeE', '686176_2023-12-05_E-226'], ['686176_2023-12-05_0', '2002 F2', 'probeE', '686176_2023-12-05_E-225'], ['686176_2023-12-05_0', '2002 F2', 'probeE', '686176_2023-12-05_E-252'], ['686176_2023-12-05_0', '2002 F2', 'probeE', '686176_2023-12-05_E-222'], ['686176_2023-12-05_0', '2002 B3', 'probeF', '686176_2023-12-05_F-551'], ['686176_2023-12-05_0', '2002 B3', 'probeF', '686176_2023-12-05_F-556'], ['686176_2023-12-05_0', '2002 B3', 'probeF', '686176_2023-12-05_F-452'], ['686176_2023-12-05_0', '2002 F2', 'probeE', '686176_2023-12-05_E-228'], ['686176_2023-12-05_0', '2002 F2', 'probeE', '686176_2023-12-05_E-224'], ['686176_2023-12-05_0', '2002 F2', 'probeE', '686176_2023-12-05_E-246'], ['686176_2023-12-05_0', '2002 F2', 'probeE', '686176_2023-12-05_E-249'], ['686176_2023-12-05_0', '2002 F2', 'probeE', '686176_2023-12-05_E-248'], ['686176_2023-12-05_0', '2002 F2', 'probeE', '686176_2023-12-05_E-245'], ['686176_2023-12-05_0', '2002 F2', 'probeE', '686176_2023-12-05_E-244'], ['686176_2023-12-05_0', '2002 F2', 'probeE', '686176_2023-12-05_E-243'], ['686176_2023-12-05_0', '2002 F2', 'probeE', '686176_2023-12-05_E-242'], ['686176_2023-12-05_0', '2002 F2', 'probeE', '686176_2023-12-05_E-240'], ['686176_2023-12-05_0', '2002 F2', 'probeE', '686176_2023-12-05_E-238'], ['686176_2023-12-05_0', '2002 F2', 'probeE', '686176_2023-12-05_E-241'], ['686176_2023-12-05_0', '2002 F2', 'probeE', '686176_2023-12-05_E-234'], ['686176_2023-12-05_0', '2002 F2', 'probeE', '686176_2023-12-05_E-233'], ['686176_2023-12-05_0', '2002 F2', 'probeE', '686176_2023-12-05_E-232'], ['686176_2023-12-05_0', '2002 F2', 'probeE', '686176_2023-12-05_E-231'], ['686176_2023-12-05_0', '2002 F2', 'probeE', '686176_2023-12-05_E-230'], ['686176_2023-12-05_0', '2002 F2', 'probeE', '686176_2023-12-05_E-237'], ['686740_2023-10-25_0', '2002 A2', 'probeA', '686740_2023-10-25_A-155'], ['686740_2023-10-25_0', '2002 A2', 'probeA', '686740_2023-10-25_A-166'], ['686740_2023-10-25_0', '2002 A2', 'probeA', '686740_2023-10-25_A-168'], ['686740_2023-10-25_0', '2002 A2', 'probeA', '686740_2023-10-25_A-169'], ['686740_2023-10-25_0', '2002 A2', 'probeA', '686740_2023-10-25_A-170'], ['686740_2023-10-25_0', '2002 A2', 'probeA', '686740_2023-10-25_A-174'], ['686740_2023-10-25_0', '2002 A2', 'probeA', '686740_2023-10-25_A-176'], ['686740_2023-10-25_0', '2002 A2', 'probeA', '686740_2023-10-25_A-177'], ['686740_2023-10-25_0', '2002 A2', 'probeA', '686740_2023-10-25_A-178'], ['686740_2023-10-25_0', '2002 A2', 'probeA', '686740_2023-10-25_A-180'], ['686740_2023-10-25_0', '2002 A2', 'probeA', '686740_2023-10-25_A-181'], ['686740_2023-10-25_0', '2002 A2', 'probeA', '686740_2023-10-25_A-183'], ['686740_2023-10-25_0', '2002 A2', 'probeA', '686740_2023-10-25_A-184'], ['686740_2023-10-25_0', '2002 A2', 'probeA', '686740_2023-10-25_A-185'], ['686740_2023-10-25_0', '2002 A2', 'probeA', '686740_2023-10-25_A-186'], ['686740_2023-10-25_0', '2002 A2', 'probeA', '686740_2023-10-25_A-187'], ['686740_2023-10-25_0', '2002 A2', 'probeA', '686740_2023-10-25_A-189'], ['686740_2023-10-25_0', '2002 A2', 'probeA', '686740_2023-10-25_A-191'], ['686740_2023-10-25_0', '2002 A2', 'probeA', '686740_2023-10-25_A-192'], ['686740_2023-10-25_0', '2002 A2', 'probeA', '686740_2023-10-25_A-193'], ['686740_2023-10-25_0', '2002 A2', 'probeA', '686740_2023-10-25_A-195'], ['686740_2023-10-25_0', '2002 A2', 'probeA', '686740_2023-10-25_A-200'], ['686740_2023-10-25_0', '2002 A2', 'probeA', '686740_2023-10-25_A-165'], ['686740_2023-10-25_0', '2002 A2', 'probeA', '686740_2023-10-25_A-163'], ['686740_2023-10-25_0', '2002 A2', 'probeA', '686740_2023-10-25_A-162'], ['686740_2023-10-25_0', '2002 A2', 'probeA', '686740_2023-10-25_A-161'], ['686740_2023-10-25_0', '2002 A2', 'probeA', '686740_2023-10-25_A-132'], ['686740_2023-10-25_0', '2002 A2', 'probeA', '686740_2023-10-25_A-135'], ['686740_2023-10-25_0', '2002 A2', 'probeA', '686740_2023-10-25_A-136'], ['686740_2023-10-25_0', '2002 A2', 'probeA', '686740_2023-10-25_A-138'], ['686740_2023-10-25_0', '2002 A2', 'probeA', '686740_2023-10-25_A-139'], ['686740_2023-10-25_0', '2002 A2', 'probeA', '686740_2023-10-25_A-142'], ['686740_2023-10-25_0', '2002 A2', 'probeA', '686740_2023-10-25_A-143'], ['686740_2023-10-25_0', '2002 A2', 'probeA', '686740_2023-10-25_A-144'], ['686740_2023-10-25_0', '2002 A2', 'probeA', '686740_2023-10-25_A-145'], ['686740_2023-10-25_0', '2002 A2', 'probeA', '686740_2023-10-25_A-146'], ['686740_2023-10-25_0', '2002 A2', 'probeA', '686740_2023-10-25_A-201'], ['686740_2023-10-25_0', '2002 A2', 'probeA', '686740_2023-10-25_A-147'], ['686740_2023-10-25_0', '2002 A2', 'probeA', '686740_2023-10-25_A-149'], ['686740_2023-10-25_0', '2002 A2', 'probeA', '686740_2023-10-25_A-150'], ['686740_2023-10-25_0', '2002 A2', 'probeA', '686740_2023-10-25_A-151'], ['686740_2023-10-25_0', '2002 A2', 'probeA', '686740_2023-10-25_A-152'], ['686740_2023-10-25_0', '2002 A2', 'probeA', '686740_2023-10-25_A-153'], ['686740_2023-10-25_0', '2002 A2', 'probeA', '686740_2023-10-25_A-365'], ['686740_2023-10-25_0', '2002 A2', 'probeA', '686740_2023-10-25_A-156'], ['686740_2023-10-25_0', '2002 A2', 'probeA', '686740_2023-10-25_A-158'], ['686740_2023-10-25_0', '2002 A2', 'probeA', '686740_2023-10-25_A-159'], ['686740_2023-10-25_0', '2002 A2', 'probeA', '686740_2023-10-25_A-160'], ['686740_2023-10-25_0', '2002 A2', 'probeA', '686740_2023-10-25_A-148'], ['686740_2023-10-25_0', '2002 A2', 'probeA', '686740_2023-10-25_A-130'], ['686740_2023-10-25_0', '2002 A2', 'probeA', '686740_2023-10-25_A-202'], ['686740_2023-10-25_0', '2002 A2', 'probeA', '686740_2023-10-25_A-206'], ['686740_2023-10-25_0', '2002 A2', 'probeA', '686740_2023-10-25_A-381'], ['686740_2023-10-25_0', '2002 A2', 'probeA', '686740_2023-10-25_A-380'], ['686740_2023-10-25_0', '2002 A2', 'probeA', '686740_2023-10-25_A-379'], ['686740_2023-10-25_0', '2002 A2', 'probeA', '686740_2023-10-25_A-378'], ['686740_2023-10-25_0', '2002 A2', 'probeA', '686740_2023-10-25_A-375'], ['686740_2023-10-25_0', '2002 A2', 'probeA', '686740_2023-10-25_A-374'], ['686740_2023-10-25_0', '2002 A2', 'probeA', '686740_2023-10-25_A-372'], ['686740_2023-10-25_0', '2002 A2', 'probeA', '686740_2023-10-25_A-370'], ['686740_2023-10-25_0', '2002 A2', 'probeA', '686740_2023-10-25_A-369'], ['686740_2023-10-25_0', '2002 A2', 'probeA', '686740_2023-10-25_A-341'], ['686740_2023-10-25_0', '2002 A2', 'probeA', '686740_2023-10-25_A-342'], ['686740_2023-10-25_0', '2002 A2', 'probeA', '686740_2023-10-25_A-343'], ['686740_2023-10-25_0', '2002 A2', 'probeA', '686740_2023-10-25_A-353'], ['686740_2023-10-25_0', '2002 A2', 'probeA', '686740_2023-10-25_A-354'], ['686740_2023-10-25_0', '2002 A2', 'probeA', '686740_2023-10-25_A-355'], ['686740_2023-10-25_0', '2002 A2', 'probeA', '686740_2023-10-25_A-357'], ['686740_2023-10-25_0', '2002 A2', 'probeA', '686740_2023-10-25_A-358'], ['686740_2023-10-25_0', '2002 A2', 'probeA', '686740_2023-10-25_A-359'], ['686740_2023-10-25_0', '2002 A2', 'probeA', '686740_2023-10-25_A-360'], ['686740_2023-10-25_0', '2002 A2', 'probeA', '686740_2023-10-25_A-363'], ['686740_2023-10-25_0', '2002 A2', 'probeA', '686740_2023-10-25_A-364'], ['686740_2023-10-25_0', '2002 A2', 'probeA', '686740_2023-10-25_A-382'], ['686740_2023-10-25_0', '2002 A2', 'probeA', '686740_2023-10-25_A-383'], ['686740_2023-10-25_0', '2002 A2', 'probeA', '686740_2023-10-25_A-384'], ['686740_2023-10-25_0', '2002 A2', 'probeA', '686740_2023-10-25_A-385'], ['686740_2023-10-25_0', '2002 A2', 'probeA', '686740_2023-10-25_A-207'], ['686740_2023-10-25_0', '2002 A2', 'probeA', '686740_2023-10-25_A-208'], ['686740_2023-10-25_0', '2002 A2', 'probeA', '686740_2023-10-25_A-212'], ['686740_2023-10-25_0', '2002 A2', 'probeA', '686740_2023-10-25_A-216'], ['686740_2023-10-25_0', '2002 A2', 'probeA', '686740_2023-10-25_A-431'], ['686740_2023-10-25_0', '2002 A2', 'probeA', '686740_2023-10-25_A-421'], ['686740_2023-10-25_0', '2002 A2', 'probeA', '686740_2023-10-25_A-418'], ['686740_2023-10-25_0', '2002 A2', 'probeA', '686740_2023-10-25_A-416'], ['686740_2023-10-25_0', '2002 A2', 'probeA', '686740_2023-10-25_A-412'], ['686740_2023-10-25_0', '2002 A2', 'probeA', '686740_2023-10-25_A-410'], ['686740_2023-10-25_0', '2002 A2', 'probeA', '686740_2023-10-25_A-205'], ['686740_2023-10-25_0', '2002 A2', 'probeA', '686740_2023-10-25_A-409'], ['686740_2023-10-25_0', '2002 A2', 'probeA', '686740_2023-10-25_A-399'], ['686740_2023-10-25_0', '2002 A2', 'probeA', '686740_2023-10-25_A-397'], ['686740_2023-10-25_0', '2002 A2', 'probeA', '686740_2023-10-25_A-396'], ['686740_2023-10-25_0', '2002 A2', 'probeA', '686740_2023-10-25_A-395'], ['686740_2023-10-25_0', '2002 A2', 'probeA', '686740_2023-10-25_A-394'], ['686740_2023-10-25_0', '2002 A2', 'probeA', '686740_2023-10-25_A-391'], ['686740_2023-10-25_0', '2002 A2', 'probeA', '686740_2023-10-25_A-390'], ['686740_2023-10-25_0', '2002 A2', 'probeA', '686740_2023-10-25_A-389'], ['686740_2023-10-25_0', '2002 A2', 'probeA', '686740_2023-10-25_A-388'], ['686740_2023-10-25_0', '2002 A2', 'probeA', '686740_2023-10-25_A-386'], ['686740_2023-10-25_0', '2002 A2', 'probeA', '686740_2023-10-25_A-406'], ['686740_2023-10-25_0', '2002 A2', 'probeA', '686740_2023-10-25_A-129'], ['686740_2023-10-25_0', '2002 A2', 'probeA', '686740_2023-10-25_A-366'], ['686740_2023-10-25_0', '2002 A2', 'probeA', '686740_2023-10-25_A-127'], ['686740_2023-10-25_0', '2002 A2', 'probeA', '686740_2023-10-25_A-534'], ['686740_2023-10-25_0', '2002 A2', 'probeA', '686740_2023-10-25_A-528'], ['686740_2023-10-25_0', '2002 A2', 'probeA', '686740_2023-10-25_A-524'], ['686740_2023-10-25_0', '2002 A2', 'probeA', '686740_2023-10-25_A-522'], ['686740_2023-10-25_0', '2002 A2', 'probeA', '686740_2023-10-25_A-518'], ['686740_2023-10-25_0', '2002 A2', 'probeA', '686740_2023-10-25_A-513'], ['686740_2023-10-25_0', '2002 A2', 'probeA', '686740_2023-10-25_A-500'], ['686740_2023-10-25_0', '2002 A2', 'probeA', '686740_2023-10-25_A-499'], ['686740_2023-10-25_0', '2002 A2', 'probeA', '686740_2023-10-25_A-562'], ['686740_2023-10-25_0', '2002 A2', 'probeA', '686740_2023-10-25_A-563'], ['686740_2023-10-25_0', '2002 A2', 'probeA', '686740_2023-10-25_A-564'], ['686740_2023-10-25_0', '2002 A2', 'probeA', '686740_2023-10-25_A-537'], ['686740_2023-10-25_0', '2002 A2', 'probeA', '686740_2023-10-25_A-498'], ['686740_2023-10-25_0', '2002 A2', 'probeA', '686740_2023-10-25_A-128'], ['686740_2023-10-25_0', '2002 A2', 'probeA', '686740_2023-10-25_A-126'], ['686740_2023-10-25_0', '2002 A2', 'probeA', '686740_2023-10-25_A-125'], ['686740_2023-10-25_0', '2002 A2', 'probeA', '686740_2023-10-25_A-124'], ['686740_2023-10-25_0', '2002 A2', 'probeA', '686740_2023-10-25_A-123'], ['686740_2023-10-25_0', '2002 F2', 'probeF', '686740_2023-10-25_F-388'], ['686740_2023-10-25_0', '2002 F2', 'probeF', '686740_2023-10-25_F-138'], ['686740_2023-10-26_0', '2002 A2', 'probeA', '686740_2023-10-26_A-826'], ['686740_2023-10-26_0', '2002 A2', 'probeA', '686740_2023-10-26_A-401'], ['686740_2023-10-26_0', '2002 A2', 'probeA', '686740_2023-10-26_A-399'], ['686740_2023-10-26_0', '2002 A2', 'probeA', '686740_2023-10-26_A-395'], ['686740_2023-10-26_0', '2002 A2', 'probeA', '686740_2023-10-26_A-393'], ['686740_2023-10-26_0', '2002 A2', 'probeA', '686740_2023-10-26_A-392'], ['686740_2023-10-26_0', '2002 A2', 'probeA', '686740_2023-10-26_A-388'], ['686740_2023-10-26_0', '2002 A2', 'probeA', '686740_2023-10-26_A-402'], ['686740_2023-10-26_0', '2002 A2', 'probeA', '686740_2023-10-26_A-385'], ['686740_2023-10-26_0', '2002 A2', 'probeA', '686740_2023-10-26_A-382'], ['686740_2023-10-26_0', '2002 A2', 'probeA', '686740_2023-10-26_A-381'], ['686740_2023-10-26_0', '2002 A2', 'probeA', '686740_2023-10-26_A-380'], ['686740_2023-10-26_0', '2002 A2', 'probeA', '686740_2023-10-26_A-378'], ['686740_2023-10-26_0', '2002 A2', 'probeA', '686740_2023-10-26_A-377'], ['686740_2023-10-26_0', '2002 A2', 'probeA', '686740_2023-10-26_A-376'], ['686740_2023-10-26_0', '2002 A2', 'probeA', '686740_2023-10-26_A-384'], ['686740_2023-10-26_0', '2002 A2', 'probeA', '686740_2023-10-26_A-404'], ['686740_2023-10-26_0', '2002 A2', 'probeA', '686740_2023-10-26_A-406'], ['686740_2023-10-26_0', '2002 A2', 'probeA', '686740_2023-10-26_A-407'], ['686740_2023-10-26_0', '2002 A2', 'probeA', '686740_2023-10-26_A-423'], ['686740_2023-10-26_0', '2002 A2', 'probeA', '686740_2023-10-26_A-422'], ['686740_2023-10-26_0', '2002 A2', 'probeA', '686740_2023-10-26_A-421'], ['686740_2023-10-26_0', '2002 A2', 'probeA', '686740_2023-10-26_A-420'], ['686740_2023-10-26_0', '2002 A2', 'probeA', '686740_2023-10-26_A-419'], ['686740_2023-10-26_0', '2002 A2', 'probeA', '686740_2023-10-26_A-418'], ['686740_2023-10-26_0', '2002 A2', 'probeA', '686740_2023-10-26_A-417'], ['686740_2023-10-26_0', '2002 A2', 'probeA', '686740_2023-10-26_A-416'], ['686740_2023-10-26_0', '2002 A2', 'probeA', '686740_2023-10-26_A-415'], ['686740_2023-10-26_0', '2002 A2', 'probeA', '686740_2023-10-26_A-414'], ['686740_2023-10-26_0', '2002 A2', 'probeA', '686740_2023-10-26_A-412'], ['686740_2023-10-26_0', '2002 A2', 'probeA', '686740_2023-10-26_A-411'], ['686740_2023-10-26_0', '2002 A2', 'probeA', '686740_2023-10-26_A-410'], ['686740_2023-10-26_0', '2002 A2', 'probeA', '686740_2023-10-26_A-409'], ['686740_2023-10-26_0', '2002 A2', 'probeA', '686740_2023-10-26_A-408'], ['686740_2023-10-26_0', '2002 A2', 'probeA', '686740_2023-10-26_A-375'], ['686740_2023-10-26_0', '2002 A2', 'probeA', '686740_2023-10-26_A-374'], ['686740_2023-10-26_0', '2002 A2', 'probeA', '686740_2023-10-26_A-370'], ['686740_2023-10-26_0', '2002 A2', 'probeA', '686740_2023-10-26_A-367'], ['686740_2023-10-26_0', '2002 A2', 'probeA', '686740_2023-10-26_A-837'], ['686740_2023-10-26_0', '2002 A2', 'probeA', '686740_2023-10-26_A-327'], ['686740_2023-10-26_0', '2002 A2', 'probeA', '686740_2023-10-26_A-324'], ['686740_2023-10-26_0', '2002 A2', 'probeA', '686740_2023-10-26_A-323'], ['686740_2023-10-26_0', '2002 A2', 'probeA', '686740_2023-10-26_A-839'], ['686740_2023-10-26_0', '2002 A2', 'probeA', '686740_2023-10-26_A-844'], ['686740_2023-10-26_0', '2002 A2', 'probeA', '686740_2023-10-26_A-845'], ['686740_2023-10-26_0', '2002 A2', 'probeA', '686740_2023-10-26_A-847'], ['686740_2023-10-26_0', '2002 A2', 'probeA', '686740_2023-10-26_A-318'], ['686740_2023-10-26_0', '2002 A2', 'probeA', '686740_2023-10-26_A-849'], ['686740_2023-10-26_0', '2002 A2', 'probeA', '686740_2023-10-26_A-850'], ['686740_2023-10-26_0', '2002 A2', 'probeA', '686740_2023-10-26_A-852'], ['686740_2023-10-26_0', '2002 A2', 'probeA', '686740_2023-10-26_A-853'], ['686740_2023-10-26_0', '2002 A2', 'probeA', '686740_2023-10-26_A-854'], ['686740_2023-10-26_0', '2002 A2', 'probeA', '686740_2023-10-26_A-855'], ['686740_2023-10-26_0', '2002 A2', 'probeA', '686740_2023-10-26_A-334'], ['686740_2023-10-26_0', '2002 A2', 'probeA', '686740_2023-10-26_A-425'], ['686740_2023-10-26_0', '2002 A2', 'probeA', '686740_2023-10-26_A-335'], ['686740_2023-10-26_0', '2002 A2', 'probeA', '686740_2023-10-26_A-835'], ['686740_2023-10-26_0', '2002 A2', 'probeA', '686740_2023-10-26_A-365'], ['686740_2023-10-26_0', '2002 A2', 'probeA', '686740_2023-10-26_A-358'], ['686740_2023-10-26_0', '2002 A2', 'probeA', '686740_2023-10-26_A-356'], ['686740_2023-10-26_0', '2002 A2', 'probeA', '686740_2023-10-26_A-355'], ['686740_2023-10-26_0', '2002 A2', 'probeA', '686740_2023-10-26_A-354'], ['686740_2023-10-26_0', '2002 A2', 'probeA', '686740_2023-10-26_A-353'], ['686740_2023-10-26_0', '2002 A2', 'probeA', '686740_2023-10-26_A-352'], ['686740_2023-10-26_0', '2002 A2', 'probeA', '686740_2023-10-26_A-351'], ['686740_2023-10-26_0', '2002 A2', 'probeA', '686740_2023-10-26_A-347'], ['686740_2023-10-26_0', '2002 A2', 'probeA', '686740_2023-10-26_A-346'], ['686740_2023-10-26_0', '2002 A2', 'probeA', '686740_2023-10-26_A-345'], ['686740_2023-10-26_0', '2002 A2', 'probeA', '686740_2023-10-26_A-343'], ['686740_2023-10-26_0', '2002 A2', 'probeA', '686740_2023-10-26_A-342'], ['686740_2023-10-26_0', '2002 A2', 'probeA', '686740_2023-10-26_A-341'], ['686740_2023-10-26_0', '2002 A2', 'probeA', '686740_2023-10-26_A-340'], ['686740_2023-10-26_0', '2002 A2', 'probeA', '686740_2023-10-26_A-836'], ['686740_2023-10-26_0', '2002 A2', 'probeA', '686740_2023-10-26_A-426'], ['686740_2023-10-26_0', '2002 A2', 'probeA', '686740_2023-10-26_A-427'], ['686740_2023-10-26_0', '2002 A2', 'probeA', '686740_2023-10-26_A-433'], ['686740_2023-10-26_0', '2002 A2', 'probeA', '686740_2023-10-26_A-772'], ['686740_2023-10-26_0', '2002 A2', 'probeA', '686740_2023-10-26_A-774'], ['686740_2023-10-26_0', '2002 A2', 'probeA', '686740_2023-10-26_A-775'], ['686740_2023-10-26_0', '2002 A2', 'probeA', '686740_2023-10-26_A-777'], ['686740_2023-10-26_0', '2002 A2', 'probeA', '686740_2023-10-26_A-781'], ['686740_2023-10-26_0', '2002 A2', 'probeA', '686740_2023-10-26_A-782'], ['686740_2023-10-26_0', '2002 A2', 'probeA', '686740_2023-10-26_A-785'], ['686740_2023-10-26_0', '2002 A2', 'probeA', '686740_2023-10-26_A-788'], ['686740_2023-10-26_0', '2002 A2', 'probeA', '686740_2023-10-26_A-791'], ['686740_2023-10-26_0', '2002 A2', 'probeA', '686740_2023-10-26_A-800'], ['686740_2023-10-26_0', '2002 A2', 'probeA', '686740_2023-10-26_A-804'], ['686740_2023-10-26_0', '2002 A2', 'probeA', '686740_2023-10-26_A-806'], ['686740_2023-10-26_0', '2002 A2', 'probeA', '686740_2023-10-26_A-807'], ['686740_2023-10-26_0', '2002 A2', 'probeA', '686740_2023-10-26_A-809'], ['686740_2023-10-26_0', '2002 A2', 'probeA', '686740_2023-10-26_A-811'], ['686740_2023-10-26_0', '2002 A2', 'probeA', '686740_2023-10-26_A-768'], ['686740_2023-10-26_0', '2002 A2', 'probeA', '686740_2023-10-26_A-812'], ['686740_2023-10-26_0', '2002 A2', 'probeA', '686740_2023-10-26_A-764'], ['686740_2023-10-26_0', '2002 A2', 'probeA', '686740_2023-10-26_A-758'], ['686740_2023-10-26_0', '2002 A2', 'probeA', '686740_2023-10-26_A-725'], ['686740_2023-10-26_0', '2002 A2', 'probeA', '686740_2023-10-26_A-726'], ['686740_2023-10-26_0', '2002 A2', 'probeA', '686740_2023-10-26_A-729'], ['686740_2023-10-26_0', '2002 A2', 'probeA', '686740_2023-10-26_A-733'], ['686740_2023-10-26_0', '2002 A2', 'probeA', '686740_2023-10-26_A-734'], ['686740_2023-10-26_0', '2002 A2', 'probeA', '686740_2023-10-26_A-735'], ['686740_2023-10-26_0', '2002 A2', 'probeA', '686740_2023-10-26_A-736'], ['686740_2023-10-26_0', '2002 A2', 'probeA', '686740_2023-10-26_A-737'], ['686740_2023-10-26_0', '2002 A2', 'probeA', '686740_2023-10-26_A-739'], ['686740_2023-10-26_0', '2002 A2', 'probeA', '686740_2023-10-26_A-743'], ['686740_2023-10-26_0', '2002 A2', 'probeA', '686740_2023-10-26_A-744'], ['686740_2023-10-26_0', '2002 A2', 'probeA', '686740_2023-10-26_A-750'], ['686740_2023-10-26_0', '2002 A2', 'probeA', '686740_2023-10-26_A-752'], ['686740_2023-10-26_0', '2002 A2', 'probeA', '686740_2023-10-26_A-753'], ['686740_2023-10-26_0', '2002 A2', 'probeA', '686740_2023-10-26_A-757'], ['686740_2023-10-26_0', '2002 A2', 'probeA', '686740_2023-10-26_A-760'], ['686740_2023-10-26_0', '2002 A2', 'probeA', '686740_2023-10-26_A-856'], ['686740_2023-10-26_0', '2002 A2', 'probeA', '686740_2023-10-26_A-815'], ['686740_2023-10-26_0', '2002 A2', 'probeA', '686740_2023-10-26_A-821'], ['686740_2023-10-26_0', '2002 A2', 'probeA', '686740_2023-10-26_A-453'], ['686740_2023-10-26_0', '2002 A2', 'probeA', '686740_2023-10-26_A-452'], ['686740_2023-10-26_0', '2002 A2', 'probeA', '686740_2023-10-26_A-451'], ['686740_2023-10-26_0', '2002 A2', 'probeA', '686740_2023-10-26_A-450'], ['686740_2023-10-26_0', '2002 A2', 'probeA', '686740_2023-10-26_A-448'], ['686740_2023-10-26_0', '2002 A2', 'probeA', '686740_2023-10-26_A-447'], ['686740_2023-10-26_0', '2002 A2', 'probeA', '686740_2023-10-26_A-446'], ['686740_2023-10-26_0', '2002 A2', 'probeA', '686740_2023-10-26_A-444'], ['686740_2023-10-26_0', '2002 A2', 'probeA', '686740_2023-10-26_A-443'], ['686740_2023-10-26_0', '2002 A2', 'probeA', '686740_2023-10-26_A-442'], ['686740_2023-10-26_0', '2002 A2', 'probeA', '686740_2023-10-26_A-441'], ['686740_2023-10-26_0', '2002 A2', 'probeA', '686740_2023-10-26_A-438'], ['686740_2023-10-26_0', '2002 A2', 'probeA', '686740_2023-10-26_A-436'], ['686740_2023-10-26_0', '2002 A2', 'probeA', '686740_2023-10-26_A-435'], ['686740_2023-10-26_0', '2002 A2', 'probeA', '686740_2023-10-26_A-434'], ['686740_2023-10-26_0', '2002 A2', 'probeA', '686740_2023-10-26_A-454'], ['686740_2023-10-26_0', '2002 A2', 'probeA', '686740_2023-10-26_A-820'], ['686740_2023-10-26_0', '2002 A2', 'probeA', '686740_2023-10-26_A-455'], ['686740_2023-10-26_0', '2002 A2', 'probeA', '686740_2023-10-26_A-457'], ['686740_2023-10-26_0', '2002 A2', 'probeA', '686740_2023-10-26_A-822'], ['686740_2023-10-26_0', '2002 A2', 'probeA', '686740_2023-10-26_A-823'], ['686740_2023-10-26_0', '2002 A2', 'probeA', '686740_2023-10-26_A-824'], ['686740_2023-10-26_0', '2002 A2', 'probeA', '686740_2023-10-26_A-825'], ['686740_2023-10-26_0', '2002 A2', 'probeA', '686740_2023-10-26_A-828'], ['686740_2023-10-26_0', '2002 A2', 'probeA', '686740_2023-10-26_A-475'], ['686740_2023-10-26_0', '2002 A2', 'probeA', '686740_2023-10-26_A-473'], ['686740_2023-10-26_0', '2002 A2', 'probeA', '686740_2023-10-26_A-472'], ['686740_2023-10-26_0', '2002 A2', 'probeA', '686740_2023-10-26_A-831'], ['686740_2023-10-26_0', '2002 A2', 'probeA', '686740_2023-10-26_A-469'], ['686740_2023-10-26_0', '2002 A2', 'probeA', '686740_2023-10-26_A-833'], ['686740_2023-10-26_0', '2002 A2', 'probeA', '686740_2023-10-26_A-466'], ['686740_2023-10-26_0', '2002 A2', 'probeA', '686740_2023-10-26_A-464'], ['686740_2023-10-26_0', '2002 A2', 'probeA', '686740_2023-10-26_A-462'], ['686740_2023-10-26_0', '2002 A2', 'probeA', '686740_2023-10-26_A-460'], ['686740_2023-10-26_0', '2002 A2', 'probeA', '686740_2023-10-26_A-456'], ['686740_2023-10-26_0', '2002 A2', 'probeA', '686740_2023-10-26_A-858'], ['686740_2023-10-26_0', '2002 A2', 'probeA', '686740_2023-10-26_A-848'], ['686740_2023-10-26_0', '2002 A2', 'probeA', '686740_2023-10-26_A-1012'], ['686740_2023-10-26_0', '2002 A2', 'probeA', '686740_2023-10-26_A-859'], ['686740_2023-10-26_0', '2002 A2', 'probeA', '686740_2023-10-26_A-995'], ['686740_2023-10-26_0', '2002 A2', 'probeA', '686740_2023-10-26_A-1003'], ['686740_2023-10-26_0', '2002 A2', 'probeA', '686740_2023-10-26_A-1007'], ['686740_2023-10-26_0', '2002 A2', 'probeA', '686740_2023-10-26_A-1008'], ['686740_2023-10-26_0', '2002 A2', 'probeA', '686740_2023-10-26_A-1009'], ['686740_2023-10-26_0', '2002 A2', 'probeA', '686740_2023-10-26_A-1010'], ['686740_2023-10-26_0', '2002 A2', 'probeA', '686740_2023-10-26_A-1016'], ['686740_2023-10-26_0', '2002 A2', 'probeA', '686740_2023-10-26_A-1017'], ['686740_2023-10-26_0', '2002 A2', 'probeA', '686740_2023-10-26_A-862'], ['686740_2023-10-26_0', '2002 A2', 'probeA', '686740_2023-10-26_A-1020'], ['686740_2023-10-26_0', '2002 A2', 'probeA', '686740_2023-10-26_A-1023'], ['686740_2023-10-26_0', '2002 A2', 'probeA', '686740_2023-10-26_A-1030'], ['686740_2023-10-26_0', '2002 A2', 'probeA', '686740_2023-10-26_A-1034'], ['686740_2023-10-26_0', '2002 A2', 'probeA', '686740_2023-10-26_A-1036'], ['686740_2023-10-26_0', '2002 A2', 'probeA', '686740_2023-10-26_A-1040'], ['686740_2023-10-26_0', '2002 A2', 'probeA', '686740_2023-10-26_A-1044'], ['686740_2023-10-26_0', '2002 A2', 'probeA', '686740_2023-10-26_A-1048'], ['686740_2023-10-26_0', '2002 A2', 'probeA', '686740_2023-10-26_A-1051'], ['686740_2023-10-26_0', '2002 A2', 'probeA', '686740_2023-10-26_A-1053'], ['686740_2023-10-26_0', '2002 A2', 'probeA', '686740_2023-10-26_A-1022'], ['686740_2023-10-26_0', '2002 A2', 'probeA', '686740_2023-10-26_A-1054'], ['686740_2023-10-26_0', '2002 A2', 'probeA', '686740_2023-10-26_A-863'], ['686740_2023-10-26_0', '2002 A2', 'probeA', '686740_2023-10-26_A-865'], ['686740_2023-10-26_0', '2002 A2', 'probeA', '686740_2023-10-26_A-1145'], ['686740_2023-10-26_0', '2002 A2', 'probeA', '686740_2023-10-26_A-1139'], ['686740_2023-10-26_0', '2002 A2', 'probeA', '686740_2023-10-26_A-1137'], ['686740_2023-10-26_0', '2002 A2', 'probeA', '686740_2023-10-26_A-1118'], ['686740_2023-10-26_0', '2002 A2', 'probeA', '686740_2023-10-26_A-1116'], ['686740_2023-10-26_0', '2002 A2', 'probeA', '686740_2023-10-26_A-1110'], ['686740_2023-10-26_0', '2002 A2', 'probeA', '686740_2023-10-26_A-1107'], ['686740_2023-10-26_0', '2002 A2', 'probeA', '686740_2023-10-26_A-1105'], ['686740_2023-10-26_0', '2002 A2', 'probeA', '686740_2023-10-26_A-1103'], ['686740_2023-10-26_0', '2002 A2', 'probeA', '686740_2023-10-26_A-864'], ['686740_2023-10-26_0', '2002 A2', 'probeA', '686740_2023-10-26_A-1101'], ['686740_2023-10-26_0', '2002 A2', 'probeA', '686740_2023-10-26_A-981'], ['686740_2023-10-26_0', '2002 A2', 'probeA', '686740_2023-10-26_A-987'], ['686740_2023-10-26_0', '2002 A2', 'probeA', '686740_2023-10-26_A-989'], ['686740_2023-10-26_0', '2002 A2', 'probeA', '686740_2023-10-26_A-992'], ['686740_2023-10-26_0', '2002 A2', 'probeA', '686740_2023-10-26_A-994'], ['686740_2023-10-26_0', '2002 A2', 'probeA', '686740_2023-10-26_A-871'], ['686740_2023-10-26_0', '2002 A2', 'probeA', '686740_2023-10-26_A-1094'], ['690706_2023-11-27_0', '2005 A3', 'probeC', '690706_2023-11-27_C-202'], ['690706_2023-11-27_0', '2005 A3', 'probeC', '690706_2023-11-27_C-204'], ['690706_2023-11-27_0', '2005 A3', 'probeC', '690706_2023-11-27_C-201'], ['690706_2023-11-27_0', '2005 A3', 'probeC', '690706_2023-11-27_C-199'], ['690706_2023-11-27_0', '2005 A3', 'probeC', '690706_2023-11-27_C-197'], ['690706_2023-11-27_0', '2005 A3', 'probeC', '690706_2023-11-27_C-196'], ['690706_2023-11-27_0', '2005 A3', 'probeC', '690706_2023-11-27_C-194'], ['690706_2023-11-27_0', '2005 A3', 'probeC', '690706_2023-11-27_C-192'], ['690706_2023-11-27_0', '2005 A3', 'probeC', '690706_2023-11-27_C-191'], ['690706_2023-11-27_0', '2005 A3', 'probeC', '690706_2023-11-27_C-348'], ['690706_2023-11-27_0', '2005 A3', 'probeC', '690706_2023-11-27_C-350'], ['690706_2023-11-27_0', '2005 A3', 'probeC', '690706_2023-11-27_C-351'], ['690706_2023-11-27_0', '2005 A3', 'probeC', '690706_2023-11-27_C-205'], ['690706_2023-11-27_0', '2005 A3', 'probeC', '690706_2023-11-27_C-352'], ['690706_2023-11-27_0', '2005 A3', 'probeC', '690706_2023-11-27_C-355'], ['690706_2023-11-27_0', '2005 A3', 'probeC', '690706_2023-11-27_C-358'], ['690706_2023-11-27_0', '2005 A3', 'probeC', '690706_2023-11-27_C-359'], ['690706_2023-11-27_0', '2005 A3', 'probeC', '690706_2023-11-27_C-360'], ['690706_2023-11-27_0', '2005 A3', 'probeC', '690706_2023-11-27_C-361'], ['690706_2023-11-27_0', '2005 A3', 'probeC', '690706_2023-11-27_C-190'], ['690706_2023-11-27_0', '2005 A3', 'probeC', '690706_2023-11-27_C-414'], ['690706_2023-11-27_0', '2005 A3', 'probeC', '690706_2023-11-27_C-415'], ['690706_2023-11-27_0', '2005 A3', 'probeC', '690706_2023-11-27_C-420'], ['690706_2023-11-27_0', '2005 A3', 'probeC', '690706_2023-11-27_C-421'], ['690706_2023-11-27_0', '2005 A3', 'probeC', '690706_2023-11-27_C-423'], ['690706_2023-11-27_0', '2005 A3', 'probeC', '690706_2023-11-27_C-353'], ['690706_2023-11-27_0', '2005 A3', 'probeC', '690706_2023-11-27_C-439'], ['690706_2023-11-27_0', '2005 A3', 'probeC', '690706_2023-11-27_C-206'], ['690706_2023-11-27_0', '2005 A3', 'probeC', '690706_2023-11-27_C-210'], ['690706_2023-11-27_0', '2005 A3', 'probeC', '690706_2023-11-27_C-207'], ['690706_2023-11-27_0', '2005 A3', 'probeC', '690706_2023-11-27_C-218'], ['690706_2023-11-27_0', '2005 A3', 'probeC', '690706_2023-11-27_C-217'], ['690706_2023-11-27_0', '2005 A3', 'probeC', '690706_2023-11-27_C-441'], ['690706_2023-11-27_0', '2005 A3', 'probeC', '690706_2023-11-27_C-212'], ['690706_2023-11-27_0', '2005 A3', 'probeC', '690706_2023-11-27_C-211'], ['690706_2023-11-27_0', '2005 A3', 'probeC', '690706_2023-11-27_C-214'], ['690706_2023-11-29_0', '2005 A4', 'probeA', '690706_2023-11-29_A-215'], ['690706_2023-11-29_0', '2005 A4', 'probeA', '690706_2023-11-29_A-216'], ['690706_2023-11-29_0', '2005 A4', 'probeA', '690706_2023-11-29_A-209'], ['690706_2023-11-29_0', '2005 A4', 'probeA', '690706_2023-11-29_A-210'], ['690706_2023-11-29_0', '2005 A4', 'probeA', '690706_2023-11-29_A-214'], ['690706_2023-11-29_0', '2005 A4', 'probeA', '690706_2023-11-29_A-211'], ['690706_2023-11-29_0', '2005 A4', 'probeA', '690706_2023-11-29_A-219'], ['690706_2023-11-29_0', '2005 A4', 'probeA', '690706_2023-11-29_A-359'], ['690706_2023-11-29_0', '2005 A4', 'probeA', '690706_2023-11-29_A-363'], ['690706_2023-11-29_0', '2005 A4', 'probeA', '690706_2023-11-29_A-364'], ['690706_2023-11-29_0', '2005 A4', 'probeA', '690706_2023-11-29_A-212'], ['690706_2023-11-29_0', '2005 A4', 'probeA', '690706_2023-11-29_A-426'], ['690706_2023-11-29_0', '2005 A4', 'probeA', '690706_2023-11-29_A-425'], ['690706_2023-11-29_0', '2005 A4', 'probeA', '690706_2023-11-29_A-424'], ['690706_2023-11-29_0', '2005 A4', 'probeA', '690706_2023-11-29_A-362'], ['690706_2023-11-29_0', '2005 A4', 'probeA', '690706_2023-11-29_A-218'], ['690706_2023-11-29_0', '2005 A4', 'probeA', '690706_2023-11-29_A-358']]\n",
      "1997 1997\n"
     ]
    },
    {
     "name": "stdout",
     "output_type": "stream",
     "text": [
      "(URN) disconnected from server\n",
      "(URN) connected to server\n",
      "Login sent with ID: 997a6c5b, copy this ID into the renderer to connect.\n",
      "(URN) disconnected from server\n",
      "(URN) connected to server\n",
      "Login sent with ID: 997a6c5b, copy this ID into the renderer to connect.\n",
      "(URN) disconnected from server\n",
      "(URN) connected to server\n",
      "Login sent with ID: 997a6c5b, copy this ID into the renderer to connect.\n",
      "(URN) disconnected from server\n",
      "(URN) connected to server\n",
      "Login sent with ID: 997a6c5b, copy this ID into the renderer to connect.\n"
     ]
    }
   ],
   "source": [
    "call_back_ids, session_list = update_3d_viewer(area_dropdown.value)"
   ]
  },
  {
   "cell_type": "code",
   "execution_count": null,
   "metadata": {},
   "outputs": [],
   "source": [
    "area_dropdown_min_distance = ipywidgets.Dropdown(options=areas_of_interest, value=areas_of_interest[0], description='Areas for min distance viewer', disabled=False)\n",
    "area_dropdown_min_distance"
   ]
  },
  {
   "cell_type": "code",
   "execution_count": null,
   "metadata": {},
   "outputs": [],
   "source": [
    "@interact(min_distance_to_area=(250, 500))\n",
    "def min_distance_viewer(min_distance_to_area=300):\n",
    "    urchin.ccf25.clear()\n",
    "    urchin.clear_meshes()\n",
    "\n",
    "    probe_target_sessions = df_min_distance[(df_min_distance[area_dropdown_min_distance.value] / 25) <= min_distance_to_area]\n",
    "    probe_target_sessions_filtered = []\n",
    "    for session in probe_target_sessions['session'].tolist():\n",
    "        try:\n",
    "            session_record = npc_session.SessionRecord(session)\n",
    "            probe_target_sessions_filtered.append(f\"{session_record.subject}_{session_record.date}_{session_record.idx}\")\n",
    "        except ValueError:\n",
    "            pass\n",
    "    \n",
    "    electrodes_sessions = electrodes[electrodes['session_id'].isin(probe_target_sessions_filtered)]\n",
    "    electrodes_sessions = electrodes_sessions[electrodes_sessions['structure'] == area_dropdown_min_distance.value]\n",
    "    pmeshes = urchin.meshes.create(len(electrodes_sessions)) #creates 2 primitives, stored in list pmeshes\n",
    "    coords = electrodes_sessions[['x', 'z', 'y']].to_numpy().tolist()\n",
    "   \n",
    "    print(f\"Sessions: {electrodes_sessions['session_id'].unique().tolist()}\")\n",
    "  \n",
    "    \n",
    "    urchin.ccf25.root.set_visibility(True)\n",
    "    urchin.ccf25.root.set_material('transparent-lit')\n",
    "    urchin.ccf25.root.set_alpha(0.15)\n",
    "    urchin.ccf25.root.set_color(\"#000000\")\n",
    "\n",
    "    # reorder to AP/ML/DV for Urchin and make a list of lists\n",
    "    coords_list = [[x[0], x[1], x[2]] for x in coords]\n",
    "    session_list = electrodes_sessions['session_id'].tolist()\n",
    "    sizes_list = [[0.07,0.07,0.07]]*len(coords)\n",
    "\n",
    "    urchin.meshes.set_positions(pmeshes,coords_list) #sets the positions of the primitives\n",
    "    urchin.meshes.set_colors(pmeshes, get_subject_colors(electrodes_sessions))\n",
    "    urchin.meshes.set_scales(pmeshes, sizes_list)\n",
    "\n",
    "    area_list = urchin.ccf25.get_areas(electrodes_sessions['structure'].unique().tolist())\n",
    "    urchin.ccf25.set_visibilities(area_list, True, urchin.utils.Side.LEFT)\n",
    "    urchin.ccf25.set_materials(area_list, 'transparent-unlit', \"left\")\n",
    "    urchin.ccf25.set_alphas(area_list, 0.2, \"left\")\n",
    "    "
   ]
  },
  {
   "cell_type": "code",
   "execution_count": null,
   "metadata": {},
   "outputs": [],
   "source": [
    "counts = {'area': [], 'num_units': [], 'num_sessions': [], 'num_subjects': []}\n",
    "units_structure_areas_no_white_matter = units_structures_with_bools_dr[~(units_structures_with_bools_dr['structure'].str.islower())]\n",
    "for area in units_structure_areas_no_white_matter['structure'].unique():\n",
    "    units_structure_areas = units_structure_areas_no_white_matter[units_structure_areas_no_white_matter['structure'] == area]\n",
    "    counts['area'].append(area)\n",
    "    counts['num_sessions'].append(len(units_structure_areas['session_id'].unique()))\n",
    "    counts['num_subjects'].append(len(units_structure_areas['subject_id_x'].unique()))\n",
    "    counts['num_units'].append(len(units_structure_areas))\n",
    "\n",
    "df_counts = pd.DataFrame(counts)"
   ]
  },
  {
   "cell_type": "code",
   "execution_count": null,
   "metadata": {},
   "outputs": [],
   "source": [
    "df_counts.style.applymap(lambda x: 'background-color : red' if x>=3 else '', subset=['num_subjects']).applymap(lambda x: 'background-color : red' if x>150 else '', subset=['num_units'])"
   ]
  },
  {
   "cell_type": "code",
   "execution_count": 45,
   "metadata": {},
   "outputs": [],
   "source": [
    "import zarr\n",
    "times = zarr.open(npc_lims.get_cache_path('spike_times', version='any'))"
   ]
  },
  {
   "cell_type": "code",
   "execution_count": 46,
   "metadata": {},
   "outputs": [],
   "source": [
    "from IPython.display import display, Image, clear_output\n",
    "import matplotlib.pyplot as plt\n",
    "%matplotlib inline\n",
    "\n",
    "def display_session_trajectory(index: str):\n",
    "    session = session_list[call_back_ids.index(index)]\n",
    "    session_id = npc_session.SessionRecord(session[0])\n",
    "    hole_implant = session[1]\n",
    "    probe = session[2]\n",
    "    clicked_unit_id = session[3]\n",
    "    clear_output()\n",
    "    display(session)\n",
    "    unit_ids_session_probe_hole = units_structures_with_bools_dr[(units_structures_with_bools_dr['session_id'] == session_id)\n",
    "                                    & (units_structures_with_bools_dr['location_y'] == hole_implant)\n",
    "                                    & (units_structures_with_bools_dr['structure'] == area_dropdown.value)\n",
    "                                    & (units_structures_with_bools_dr['group_name'] == probe)]['unit_id'].tolist()\n",
    "    #display(unit_ids_session_probe_hole)\n",
    "    fig = dr.plot_unit_by_id(clicked_unit_id, times[f'/{session_id.subject}_{session_id.date}/{clicked_unit_id}'][:])\n",
    "    display(fig)\n",
    "    plt.close(fig)\n",
    "    unit_ids_session_probe_hole.remove(clicked_unit_id)\n",
    "    for unit_id in unit_ids_session_probe_hole[0:5]:\n",
    "        fig = dr.plot_unit_by_id(unit_id, times[f'/{session_id.subject}_{session_id.date}/{unit_id}'][:])\n",
    "        display(fig)\n",
    "        plt.close(fig)\n",
    "    \n",
    "urchin.meshes.callback = display_session_trajectory"
   ]
  },
  {
   "cell_type": "code",
   "execution_count": null,
   "metadata": {},
   "outputs": [],
   "source": []
  }
 ],
 "metadata": {
  "kernelspec": {
   "display_name": "dr_summary",
   "language": "python",
   "name": "python3"
  },
  "language_info": {
   "codemirror_mode": {
    "name": "ipython",
    "version": 3
   },
   "file_extension": ".py",
   "mimetype": "text/x-python",
   "name": "python",
   "nbconvert_exporter": "python",
   "pygments_lexer": "ipython3",
   "version": "3.10.13"
  }
 },
 "nbformat": 4,
 "nbformat_minor": 2
}
