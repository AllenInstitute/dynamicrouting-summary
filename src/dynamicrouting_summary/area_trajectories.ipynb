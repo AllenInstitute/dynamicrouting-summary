{
 "cells": [
  {
   "cell_type": "code",
   "execution_count": 1,
   "metadata": {},
   "outputs": [],
   "source": [
    "import dynamicrouting_summary as dr\n",
    "import pandas as pd\n",
    "import oursin as urchin\n",
    "import numpy as np\n",
    "import pyarrow.parquet as pq \n",
    "import npc_lims\n",
    "import npc_session"
   ]
  },
  {
   "cell_type": "code",
   "execution_count": 7,
   "metadata": {},
   "outputs": [],
   "source": [
    "VERSION = '0.0.224'"
   ]
  },
  {
   "cell_type": "code",
   "execution_count": 24,
   "metadata": {},
   "outputs": [
    {
     "data": {
      "text/plain": [
       "Index(['index', 'session', 'MID', 'Day', 'Probe', 'Implant', 'Hole', 'Rig',\n",
       "       'Channel_annotation_file', 'Channel_0_AP',\n",
       "       ...\n",
       "       'Channel_381_ML', 'Channel_381_region', 'Channel_382_AP',\n",
       "       'Channel_382_DV', 'Channel_382_ML', 'Channel_382_region',\n",
       "       'Channel_383_AP', 'Channel_383_DV', 'Channel_383_ML',\n",
       "       'Channel_383_region'],\n",
       "      dtype='object', length=1545)"
      ]
     },
     "execution_count": 24,
     "metadata": {},
     "output_type": "execute_result"
    }
   ],
   "source": [
    "connection = npc_lims.get_probe_target_db()\n",
    "\n",
    "cursor = connection.execute(\n",
    "    f\"SELECT * FROM channel_ccf_coords\"\n",
    ")\n",
    "channel_ccf_coords = cursor.fetchall()\n",
    "df_ccf = pd.DataFrame(channel_ccf_coords)\n",
    "df_ccf.columns"
   ]
  },
  {
   "cell_type": "code",
   "execution_count": 25,
   "metadata": {},
   "outputs": [
    {
     "data": {
      "text/html": [
       "<div>\n",
       "<style scoped>\n",
       "    .dataframe tbody tr th:only-of-type {\n",
       "        vertical-align: middle;\n",
       "    }\n",
       "\n",
       "    .dataframe tbody tr th {\n",
       "        vertical-align: top;\n",
       "    }\n",
       "\n",
       "    .dataframe thead th {\n",
       "        text-align: right;\n",
       "    }\n",
       "</style>\n",
       "<table border=\"1\" class=\"dataframe\">\n",
       "  <thead>\n",
       "    <tr style=\"text-align: right;\">\n",
       "      <th></th>\n",
       "      <th>index</th>\n",
       "      <th>session</th>\n",
       "      <th>MID</th>\n",
       "      <th>Day</th>\n",
       "      <th>Probe</th>\n",
       "      <th>Implant</th>\n",
       "      <th>Hole</th>\n",
       "      <th>Rig</th>\n",
       "      <th>ACAd</th>\n",
       "      <th>ACAv</th>\n",
       "      <th>...</th>\n",
       "      <th>VISrl</th>\n",
       "      <th>VL</th>\n",
       "      <th>VM</th>\n",
       "      <th>VPL</th>\n",
       "      <th>VPM</th>\n",
       "      <th>VTA</th>\n",
       "      <th>ZI</th>\n",
       "      <th>AUDp</th>\n",
       "      <th>CLA</th>\n",
       "      <th>MGd</th>\n",
       "    </tr>\n",
       "  </thead>\n",
       "  <tbody>\n",
       "    <tr>\n",
       "      <th>0</th>\n",
       "      <td>0</td>\n",
       "      <td>1167400342</td>\n",
       "      <td>599657</td>\n",
       "      <td>1</td>\n",
       "      <td>A</td>\n",
       "      <td>41</td>\n",
       "      <td>None</td>\n",
       "      <td>NP1</td>\n",
       "      <td>894.241234</td>\n",
       "      <td>293.496541</td>\n",
       "      <td>...</td>\n",
       "      <td>3717.397571</td>\n",
       "      <td>1511.714669</td>\n",
       "      <td>1757.501399</td>\n",
       "      <td>2187.950086</td>\n",
       "      <td>2065.528254</td>\n",
       "      <td>2957.023173</td>\n",
       "      <td>2435.497622</td>\n",
       "      <td>4777.061628</td>\n",
       "      <td>3258.406881</td>\n",
       "      <td>None</td>\n",
       "    </tr>\n",
       "    <tr>\n",
       "      <th>1</th>\n",
       "      <td>1</td>\n",
       "      <td>1167400342</td>\n",
       "      <td>599657</td>\n",
       "      <td>1</td>\n",
       "      <td>B</td>\n",
       "      <td>41</td>\n",
       "      <td>None</td>\n",
       "      <td>NP1</td>\n",
       "      <td>3766.656459</td>\n",
       "      <td>3092.767608</td>\n",
       "      <td>...</td>\n",
       "      <td>2537.813094</td>\n",
       "      <td>2216.655435</td>\n",
       "      <td>1915.572059</td>\n",
       "      <td>1958.401341</td>\n",
       "      <td>1584.688959</td>\n",
       "      <td>1707.117166</td>\n",
       "      <td>1822.079975</td>\n",
       "      <td>3884.160363</td>\n",
       "      <td>4155.860785</td>\n",
       "      <td>None</td>\n",
       "    </tr>\n",
       "    <tr>\n",
       "      <th>2</th>\n",
       "      <td>2</td>\n",
       "      <td>1167400342</td>\n",
       "      <td>599657</td>\n",
       "      <td>1</td>\n",
       "      <td>C</td>\n",
       "      <td>41</td>\n",
       "      <td>None</td>\n",
       "      <td>NP1</td>\n",
       "      <td>4842.923394</td>\n",
       "      <td>4219.463946</td>\n",
       "      <td>...</td>\n",
       "      <td>1073.084355</td>\n",
       "      <td>2332.296716</td>\n",
       "      <td>2315.841831</td>\n",
       "      <td>1433.220425</td>\n",
       "      <td>1365.191267</td>\n",
       "      <td>2270.079219</td>\n",
       "      <td>1508.884649</td>\n",
       "      <td>1979.643105</td>\n",
       "      <td>3250.989101</td>\n",
       "      <td>None</td>\n",
       "    </tr>\n",
       "    <tr>\n",
       "      <th>3</th>\n",
       "      <td>3</td>\n",
       "      <td>1167400342</td>\n",
       "      <td>599657</td>\n",
       "      <td>1</td>\n",
       "      <td>D</td>\n",
       "      <td>41</td>\n",
       "      <td>None</td>\n",
       "      <td>NP1</td>\n",
       "      <td>4770.699363</td>\n",
       "      <td>4167.564594</td>\n",
       "      <td>...</td>\n",
       "      <td>758.046498</td>\n",
       "      <td>2302.547298</td>\n",
       "      <td>1846.667289</td>\n",
       "      <td>1370.515003</td>\n",
       "      <td>1223.321302</td>\n",
       "      <td>1499.822519</td>\n",
       "      <td>1050.299251</td>\n",
       "      <td>1458.094812</td>\n",
       "      <td>3412.316956</td>\n",
       "      <td>None</td>\n",
       "    </tr>\n",
       "    <tr>\n",
       "      <th>4</th>\n",
       "      <td>4</td>\n",
       "      <td>1167400342</td>\n",
       "      <td>599657</td>\n",
       "      <td>1</td>\n",
       "      <td>E</td>\n",
       "      <td>41</td>\n",
       "      <td>None</td>\n",
       "      <td>NP1</td>\n",
       "      <td>1620.032438</td>\n",
       "      <td>1035.375340</td>\n",
       "      <td>...</td>\n",
       "      <td>2304.300264</td>\n",
       "      <td>999.356398</td>\n",
       "      <td>1974.711467</td>\n",
       "      <td>2173.203355</td>\n",
       "      <td>2076.896767</td>\n",
       "      <td>3216.244474</td>\n",
       "      <td>2615.137481</td>\n",
       "      <td>3631.178804</td>\n",
       "      <td>3050.176347</td>\n",
       "      <td>None</td>\n",
       "    </tr>\n",
       "    <tr>\n",
       "      <th>...</th>\n",
       "      <td>...</td>\n",
       "      <td>...</td>\n",
       "      <td>...</td>\n",
       "      <td>...</td>\n",
       "      <td>...</td>\n",
       "      <td>...</td>\n",
       "      <td>...</td>\n",
       "      <td>...</td>\n",
       "      <td>...</td>\n",
       "      <td>...</td>\n",
       "      <td>...</td>\n",
       "      <td>...</td>\n",
       "      <td>...</td>\n",
       "      <td>...</td>\n",
       "      <td>...</td>\n",
       "      <td>...</td>\n",
       "      <td>...</td>\n",
       "      <td>...</td>\n",
       "      <td>...</td>\n",
       "      <td>...</td>\n",
       "      <td>...</td>\n",
       "    </tr>\n",
       "    <tr>\n",
       "      <th>1411</th>\n",
       "      <td>1411</td>\n",
       "      <td>708016_2024-05-02</td>\n",
       "      <td>708016</td>\n",
       "      <td>4</td>\n",
       "      <td>B</td>\n",
       "      <td>2006</td>\n",
       "      <td>B2</td>\n",
       "      <td>NP3</td>\n",
       "      <td>NaN</td>\n",
       "      <td>NaN</td>\n",
       "      <td>...</td>\n",
       "      <td>NaN</td>\n",
       "      <td>NaN</td>\n",
       "      <td>NaN</td>\n",
       "      <td>NaN</td>\n",
       "      <td>NaN</td>\n",
       "      <td>NaN</td>\n",
       "      <td>NaN</td>\n",
       "      <td>NaN</td>\n",
       "      <td>NaN</td>\n",
       "      <td>None</td>\n",
       "    </tr>\n",
       "    <tr>\n",
       "      <th>1412</th>\n",
       "      <td>1412</td>\n",
       "      <td>708016_2024-05-02</td>\n",
       "      <td>708016</td>\n",
       "      <td>4</td>\n",
       "      <td>C</td>\n",
       "      <td>2006</td>\n",
       "      <td>C1</td>\n",
       "      <td>NP3</td>\n",
       "      <td>NaN</td>\n",
       "      <td>NaN</td>\n",
       "      <td>...</td>\n",
       "      <td>NaN</td>\n",
       "      <td>NaN</td>\n",
       "      <td>NaN</td>\n",
       "      <td>NaN</td>\n",
       "      <td>NaN</td>\n",
       "      <td>NaN</td>\n",
       "      <td>NaN</td>\n",
       "      <td>NaN</td>\n",
       "      <td>NaN</td>\n",
       "      <td>None</td>\n",
       "    </tr>\n",
       "    <tr>\n",
       "      <th>1413</th>\n",
       "      <td>1413</td>\n",
       "      <td>708016_2024-05-02</td>\n",
       "      <td>708016</td>\n",
       "      <td>4</td>\n",
       "      <td>D</td>\n",
       "      <td>2006</td>\n",
       "      <td>E2</td>\n",
       "      <td>NP3</td>\n",
       "      <td>NaN</td>\n",
       "      <td>NaN</td>\n",
       "      <td>...</td>\n",
       "      <td>NaN</td>\n",
       "      <td>NaN</td>\n",
       "      <td>NaN</td>\n",
       "      <td>NaN</td>\n",
       "      <td>NaN</td>\n",
       "      <td>NaN</td>\n",
       "      <td>NaN</td>\n",
       "      <td>NaN</td>\n",
       "      <td>NaN</td>\n",
       "      <td>None</td>\n",
       "    </tr>\n",
       "    <tr>\n",
       "      <th>1414</th>\n",
       "      <td>1414</td>\n",
       "      <td>708016_2024-05-02</td>\n",
       "      <td>708016</td>\n",
       "      <td>4</td>\n",
       "      <td>E</td>\n",
       "      <td>2006</td>\n",
       "      <td>F1</td>\n",
       "      <td>NP3</td>\n",
       "      <td>NaN</td>\n",
       "      <td>NaN</td>\n",
       "      <td>...</td>\n",
       "      <td>NaN</td>\n",
       "      <td>NaN</td>\n",
       "      <td>NaN</td>\n",
       "      <td>NaN</td>\n",
       "      <td>NaN</td>\n",
       "      <td>NaN</td>\n",
       "      <td>NaN</td>\n",
       "      <td>NaN</td>\n",
       "      <td>NaN</td>\n",
       "      <td>None</td>\n",
       "    </tr>\n",
       "    <tr>\n",
       "      <th>1415</th>\n",
       "      <td>1415</td>\n",
       "      <td>708016_2024-05-02</td>\n",
       "      <td>708016</td>\n",
       "      <td>4</td>\n",
       "      <td>F</td>\n",
       "      <td>2006</td>\n",
       "      <td>A1</td>\n",
       "      <td>NP3</td>\n",
       "      <td>NaN</td>\n",
       "      <td>NaN</td>\n",
       "      <td>...</td>\n",
       "      <td>NaN</td>\n",
       "      <td>NaN</td>\n",
       "      <td>NaN</td>\n",
       "      <td>NaN</td>\n",
       "      <td>NaN</td>\n",
       "      <td>NaN</td>\n",
       "      <td>NaN</td>\n",
       "      <td>NaN</td>\n",
       "      <td>NaN</td>\n",
       "      <td>None</td>\n",
       "    </tr>\n",
       "  </tbody>\n",
       "</table>\n",
       "<p>1416 rows × 139 columns</p>\n",
       "</div>"
      ],
      "text/plain": [
       "      index            session     MID  Day Probe Implant  Hole  Rig  \\\n",
       "0         0         1167400342  599657    1     A      41  None  NP1   \n",
       "1         1         1167400342  599657    1     B      41  None  NP1   \n",
       "2         2         1167400342  599657    1     C      41  None  NP1   \n",
       "3         3         1167400342  599657    1     D      41  None  NP1   \n",
       "4         4         1167400342  599657    1     E      41  None  NP1   \n",
       "...     ...                ...     ...  ...   ...     ...   ...  ...   \n",
       "1411   1411  708016_2024-05-02  708016    4     B    2006    B2  NP3   \n",
       "1412   1412  708016_2024-05-02  708016    4     C    2006    C1  NP3   \n",
       "1413   1413  708016_2024-05-02  708016    4     D    2006    E2  NP3   \n",
       "1414   1414  708016_2024-05-02  708016    4     E    2006    F1  NP3   \n",
       "1415   1415  708016_2024-05-02  708016    4     F    2006    A1  NP3   \n",
       "\n",
       "             ACAd         ACAv  ...        VISrl           VL           VM  \\\n",
       "0      894.241234   293.496541  ...  3717.397571  1511.714669  1757.501399   \n",
       "1     3766.656459  3092.767608  ...  2537.813094  2216.655435  1915.572059   \n",
       "2     4842.923394  4219.463946  ...  1073.084355  2332.296716  2315.841831   \n",
       "3     4770.699363  4167.564594  ...   758.046498  2302.547298  1846.667289   \n",
       "4     1620.032438  1035.375340  ...  2304.300264   999.356398  1974.711467   \n",
       "...           ...          ...  ...          ...          ...          ...   \n",
       "1411          NaN          NaN  ...          NaN          NaN          NaN   \n",
       "1412          NaN          NaN  ...          NaN          NaN          NaN   \n",
       "1413          NaN          NaN  ...          NaN          NaN          NaN   \n",
       "1414          NaN          NaN  ...          NaN          NaN          NaN   \n",
       "1415          NaN          NaN  ...          NaN          NaN          NaN   \n",
       "\n",
       "              VPL          VPM          VTA           ZI         AUDp  \\\n",
       "0     2187.950086  2065.528254  2957.023173  2435.497622  4777.061628   \n",
       "1     1958.401341  1584.688959  1707.117166  1822.079975  3884.160363   \n",
       "2     1433.220425  1365.191267  2270.079219  1508.884649  1979.643105   \n",
       "3     1370.515003  1223.321302  1499.822519  1050.299251  1458.094812   \n",
       "4     2173.203355  2076.896767  3216.244474  2615.137481  3631.178804   \n",
       "...           ...          ...          ...          ...          ...   \n",
       "1411          NaN          NaN          NaN          NaN          NaN   \n",
       "1412          NaN          NaN          NaN          NaN          NaN   \n",
       "1413          NaN          NaN          NaN          NaN          NaN   \n",
       "1414          NaN          NaN          NaN          NaN          NaN   \n",
       "1415          NaN          NaN          NaN          NaN          NaN   \n",
       "\n",
       "              CLA   MGd  \n",
       "0     3258.406881  None  \n",
       "1     4155.860785  None  \n",
       "2     3250.989101  None  \n",
       "3     3412.316956  None  \n",
       "4     3050.176347  None  \n",
       "...           ...   ...  \n",
       "1411          NaN  None  \n",
       "1412          NaN  None  \n",
       "1413          NaN  None  \n",
       "1414          NaN  None  \n",
       "1415          NaN  None  \n",
       "\n",
       "[1416 rows x 139 columns]"
      ]
     },
     "execution_count": 25,
     "metadata": {},
     "output_type": "execute_result"
    }
   ],
   "source": [
    "cursor = connection.execute(\n",
    "    f\"SELECT * FROM min_distance_to_region\"\n",
    ")\n",
    "min_distance = cursor.fetchall()\n",
    "df_min_distance = pd.DataFrame(min_distance)\n",
    "areas_of_interest = df_min_distance.columns[8:].to_list()\n",
    "df_min_distance"
   ]
  },
  {
   "cell_type": "code",
   "execution_count": 2,
   "metadata": {},
   "outputs": [],
   "source": [
    "electrode_paths = npc_lims.get_all_cache_paths('electrodes')\n",
    "units_paths = npc_lims.get_all_cache_paths('units')\n",
    "electrode_groups_paths = npc_lims.get_all_cache_paths('electrode_groups')"
   ]
  },
  {
   "cell_type": "code",
   "execution_count": 5,
   "metadata": {},
   "outputs": [],
   "source": [
    "electrodes_original = pd.concat(pd.read_parquet(electrode_path) for electrode_path in electrode_paths)\n",
    "#units_structures = pd.concat(pd.read_parquet(unit_path) for unit_path in units_paths)[['structure', 'location', 'peak_channel', 'subject_id', 'session_idx', 'date', \n",
    "  #                                    'ccf_ap', 'ccf_dv', 'ccf_ml', 'group_name', 'default_qc', 'unit_id']]\n",
    "electrode_groups = pd.concat(pd.read_parquet(electrode_group_path) for electrode_group_path in electrode_groups_paths)"
   ]
  },
  {
   "cell_type": "code",
   "execution_count": 8,
   "metadata": {},
   "outputs": [],
   "source": [
    "electrodes_original = dr.add_bool_columns(electrodes_original, version=VERSION, session_ids=tuple(electrodes_original['session_id'].unique().tolist()))\n",
    "#units_structures_with_bools = dr.add_bool_columns(units_structures, version=VERSION, session_ids=tuple(units_structures['session_id'].unique().tolist()))\n",
    "#electrodes_original = electrodes_original[electrodes_original['subject_id'].isin(subjects_passing_behavior)]\n",
    "\n",
    "#units_structures_with_bools.dropna(inplace=True)\n",
    "#units_structures_with_bools.columns"
   ]
  },
  {
   "cell_type": "code",
   "execution_count": 9,
   "metadata": {},
   "outputs": [
    {
     "data": {
      "text/plain": [
       "Index(['location', 'group_name', 'structure', 'x', 'y', 'z', 'channel',\n",
       "       'rel_x', 'rel_y', 'reference', 'imp', 'raw_location', 'raw_structure',\n",
       "       'session_idx', 'date', 'subject_id', 'session_id', 'is_ephys',\n",
       "       'is_templeton', 'is_training', 'is_dynamic_routing', 'is_opto'],\n",
       "      dtype='object')"
      ]
     },
     "execution_count": 9,
     "metadata": {},
     "output_type": "execute_result"
    }
   ],
   "source": [
    "electrodes_original.columns"
   ]
  },
  {
   "cell_type": "code",
   "execution_count": 10,
   "metadata": {},
   "outputs": [
    {
     "data": {
      "text/plain": [
       "Index(['location', 'group_name', 'structure', 'x', 'y', 'z', 'channel',\n",
       "       'rel_x', 'rel_y', 'reference', 'imp', 'raw_location', 'raw_structure',\n",
       "       'session_idx', 'date', 'subject_id', 'session_id', 'is_ephys',\n",
       "       'is_templeton', 'is_training', 'is_dynamic_routing', 'is_opto'],\n",
       "      dtype='object')"
      ]
     },
     "execution_count": 10,
     "metadata": {},
     "output_type": "execute_result"
    }
   ],
   "source": [
    "import ipywidgets\n",
    "\n",
    "electrodes = electrodes_original.dropna()\n",
    "electrodes = electrodes[~(electrodes['session_id'].str.contains('662892'))]\n",
    "electrodes = electrodes[~(electrodes['structure'].str.islower())]\n",
    "electrodes = electrodes[electrodes['is_dynamic_routing'] == True]\n",
    "electrodes.columns"
   ]
  },
  {
   "cell_type": "code",
   "execution_count": 11,
   "metadata": {},
   "outputs": [
    {
     "data": {
      "text/plain": [
       "Index(['location_x', 'group_name', 'structure', 'x', 'y', 'z', 'channel',\n",
       "       'rel_x', 'rel_y', 'reference', 'imp', 'raw_location', 'raw_structure',\n",
       "       'session_idx_x', 'date_x', 'subject_id_x', 'session_id', 'is_ephys',\n",
       "       'is_templeton', 'is_training', 'is_dynamic_routing', 'is_opto',\n",
       "       'description', 'location_y', 'name', 'session_idx_y', 'date_y',\n",
       "       'subject_id_y'],\n",
       "      dtype='object')"
      ]
     },
     "execution_count": 11,
     "metadata": {},
     "output_type": "execute_result"
    }
   ],
   "source": [
    "electrodes = electrodes.merge(electrode_groups, left_on=['session_id', 'group_name'], right_on=['session_id', 'name'])\n",
    "electrodes.columns"
   ]
  },
  {
   "cell_type": "code",
   "execution_count": 12,
   "metadata": {},
   "outputs": [],
   "source": [
    "from ipywidgets import interact, Box"
   ]
  },
  {
   "cell_type": "code",
   "execution_count": 13,
   "metadata": {},
   "outputs": [],
   "source": [
    "def get_subject_colors(electrodes_structures_area: pd.DataFrame) -> list[tuple[int, int, int]]: \n",
    "    subject_colors = dr.utils.generate_subject_random_colors(electrodes_structures_area)\n",
    "    subject_color_list = []\n",
    "\n",
    "    for index, row in electrodes_structures_area.iterrows():\n",
    "        if 'MID' in electrodes_structures_area.columns:\n",
    "            subject_color_list.append(subject_colors[str(row['MID'])])\n",
    "        else:\n",
    "            subject_color_list.append(subject_colors[str(row['subject_id_x'])])\n",
    "    \n",
    "    return subject_color_list"
   ]
  },
  {
   "cell_type": "code",
   "execution_count": 26,
   "metadata": {},
   "outputs": [],
   "source": [
    "unique_implants = df_ccf['Implant'].unique().tolist()\n",
    "unique_implants.append('All')\n",
    "implants_dropdown = ipywidgets.Dropdown(options=unique_implants, value=unique_implants[-1], description='Implants', disabled=False)\n",
    "\n",
    "unique_holes = df_ccf['Hole'].unique().tolist()\n",
    "unique_holes.append('All')\n",
    "holes_dropdown = ipywidgets.Dropdown(options=unique_holes, value=unique_holes[-1], description='Holes', disabled=False)\n",
    "\n",
    "unique_probes = df_ccf['Probe'].unique().tolist()\n",
    "unique_probes.append('All')\n",
    "probes_dropdown = ipywidgets.Dropdown(options=unique_probes, value=unique_probes[-1], description='Probes', disabled=False)"
   ]
  },
  {
   "cell_type": "code",
   "execution_count": 27,
   "metadata": {},
   "outputs": [],
   "source": [
    "def update_3d_viewer_based_on_trajectory() -> tuple[list]:\n",
    "    urchin.ccf25.clear()\n",
    "    urchin.clear_meshes()\n",
    "\n",
    "    if implants_dropdown.value == 'All':\n",
    "        pmeshes = urchin.meshes.create(len(electrodes)) #creates 2 primitives, stored in list pmeshes\n",
    "        electrodes_sessions = electrodes\n",
    "        coords = electrodes[['x', 'z', 'y']].to_numpy().tolist()\n",
    "    else:\n",
    "        probe_target_sessions = df_ccf[(df_ccf['Implant'] == implants_dropdown.value) & (df_ccf['Hole'] == holes_dropdown.value)\n",
    "                                    & (df_ccf['Probe'] == probes_dropdown.value)]\n",
    "        probe_target_sessions_filtered = []\n",
    "        \"\"\"\n",
    "        for session in probe_target_sessions:\n",
    "            try:\n",
    "                session_record = npc_session.SessionRecord(session)\n",
    "                probe_target_sessions_filtered.append(f\"{session_record.subject}_{session_record.date}_{session_record.idx}\")\n",
    "            except ValueError:\n",
    "                pass\n",
    "        \"\"\"\n",
    "        #electrodes_sessions = probe_target_sessions\n",
    "        #lectrodes_sessions = electrodes_sessions[electrodes_sessions['Probe'] == probes_dropdown.value]\n",
    "        \n",
    "        coords = probe_target_sessions.iloc[:, 9:].to_numpy()\n",
    "        \n",
    "        ccf_coords = None\n",
    "        for coord in coords:\n",
    "            coord_reshape = coord.reshape((384, 4))\n",
    "            if ccf_coords is None:\n",
    "                ccf_coords = coord_reshape\n",
    "            else:\n",
    "                ccf_coords = np.concatenate((ccf_coords, coord_reshape))\n",
    "\n",
    "    print(f\"Implant {implants_dropdown.value} Hole {holes_dropdown.value} Probe {probes_dropdown.value}\")\n",
    "    print(f\"Mice Day: {probe_target_sessions[['MID', 'Day']].values.tolist()}\")\n",
    "    print(f\"Areas: {np.unique(ccf_coords[:, 3]).tolist()}\")\n",
    "    urchin.ccf25.root.set_visibility(True)\n",
    "    urchin.ccf25.root.set_material('transparent-lit')\n",
    "    urchin.ccf25.root.set_alpha(0.15)\n",
    "    urchin.ccf25.root.set_color(\"#000000\")\n",
    "\n",
    "    # reorder to AP/ML/DV for Urchin and make a list of lists\n",
    "    #ccf_coords[:, [2, 1]] = ccf_coords[:, [1, 2]]\n",
    "    #ccf_coords = ccf_coords[ccf_coords[:, 0] > 0]\n",
    "    coords_list = []\n",
    "    for ccf_coord in ccf_coords:\n",
    "        if ccf_coord[0] > 0 and not np.isnan(ccf_coord[0]):\n",
    "            coords_list.append([ccf_coord[0] * 25, ccf_coord[2] * 25, ccf_coord[1] * 25])\n",
    "    \n",
    "    pmeshes = urchin.meshes.create(len(coords_list)) #creates 2 primitives, stored in list pmeshes\n",
    "    callback_ids = [mesh.id for mesh in pmeshes]\n",
    "    session_list = probe_target_sessions[['session', 'MID','Hole', 'Implant', 'Probe']].to_numpy().tolist()\n",
    "    sizes_list = [[0.03,0.03,0.03]]*len(coords_list)\n",
    "    urchin.meshes.set_positions(pmeshes,coords_list) #sets the positions of the primitives\n",
    "    urchin.meshes.set_colors(pmeshes, ['#FF0000'] * len(coords_list))\n",
    "    urchin.meshes.set_scales(pmeshes, sizes_list)\n",
    "\n",
    "    area_list = urchin.ccf25.get_areas(np.unique(ccf_coords[:, 3]).tolist())\n",
    "    \n",
    "    urchin.ccf25.set_visibilities(area_list, True, urchin.utils.Side.LEFT)\n",
    "    urchin.ccf25.set_materials(area_list, 'transparent-unlit', \"left\")\n",
    "    urchin.ccf25.set_alphas(area_list, 0.2, \"left\")\n",
    "    \n",
    "\n",
    "    return callback_ids, session_list"
   ]
  },
  {
   "cell_type": "code",
   "execution_count": 28,
   "metadata": {},
   "outputs": [],
   "source": [
    "def filter_by_implant(implant: str):\n",
    "    if implant == 'All':\n",
    "        holes_dropdown.options = unique_holes\n",
    "        holes_dropdown.value = 'All'\n",
    "    else:\n",
    "        df_implant = df_ccf[df_ccf['Implant'] == implant]\n",
    "        holes_dropdown.options = df_implant['Hole'].unique().tolist()\n",
    "        holes_dropdown.value = holes_dropdown.options[0]"
   ]
  },
  {
   "cell_type": "code",
   "execution_count": 29,
   "metadata": {},
   "outputs": [],
   "source": [
    "def filter_by_implant_hole(implant: str, hole: str):\n",
    "    if implant == 'All' and hole == 'All':\n",
    "        probes_dropdown.options = unique_probes\n",
    "        probes_dropdown.value = 'All'\n",
    "    else:\n",
    "        df_implant_hole = df_ccf[(df_ccf['Implant'] == implant) & (df_ccf['Hole'] == hole)]\n",
    "        probes_dropdown.options = sorted(df_implant_hole['Probe'].unique().tolist())\n",
    "        probes_dropdown.value = probes_dropdown.options[0]"
   ]
  },
  {
   "cell_type": "code",
   "execution_count": 30,
   "metadata": {},
   "outputs": [
    {
     "name": "stdout",
     "output_type": "stream",
     "text": [
      "(urchin) Client is already connected. Use ID: e0cecaae\n"
     ]
    }
   ],
   "source": [
    "urchin.setup()"
   ]
  },
  {
   "cell_type": "code",
   "execution_count": 31,
   "metadata": {},
   "outputs": [
    {
     "name": "stdout",
     "output_type": "stream",
     "text": [
      "(Warning) Atlas was already loaded, the renderer can have issues if you try to load an atlas twice.\n"
     ]
    }
   ],
   "source": [
    "urchin.ccf25.load()"
   ]
  },
  {
   "cell_type": "code",
   "execution_count": 32,
   "metadata": {},
   "outputs": [
    {
     "data": {
      "application/vnd.jupyter.widget-view+json": {
       "model_id": "429437b975e64f358c3e701e9dcad90f",
       "version_major": 2,
       "version_minor": 0
      },
      "text/plain": [
       "interactive(children=(Dropdown(description='x', options=('coronal', 'axial', 'sagittal'), value='coronal'), Ou…"
      ]
     },
     "metadata": {},
     "output_type": "display_data"
    }
   ],
   "source": [
    "@interact(x=['coronal', 'axial', 'sagittal'])\n",
    "def camera_rotation(x):\n",
    "    urchin.camera.main.set_rotation(x)\n",
    "    urchin.camera.main.set_mode('perspective')\n",
    "    urchin.camera.main.set_background_color('#ffffff')"
   ]
  },
  {
   "cell_type": "code",
   "execution_count": 33,
   "metadata": {},
   "outputs": [
    {
     "data": {
      "application/vnd.jupyter.widget-view+json": {
       "model_id": "dc67826db5634115af839c5b6dfad6b5",
       "version_major": 2,
       "version_minor": 0
      },
      "text/plain": [
       "interactive(children=(IntSlider(value=45, description='x', max=60, min=5), Output()), _dom_classes=('widget-in…"
      ]
     },
     "metadata": {},
     "output_type": "display_data"
    }
   ],
   "source": [
    "@interact(x=(5, 60))\n",
    "def zoom(x=45):\n",
    "    urchin.camera.main.set_zoom(60-x)"
   ]
  },
  {
   "cell_type": "code",
   "execution_count": 34,
   "metadata": {},
   "outputs": [
    {
     "data": {
      "application/vnd.jupyter.widget-view+json": {
       "model_id": "e41876e74da44b2a81f761a884ca2f03",
       "version_major": 2,
       "version_minor": 0
      },
      "text/plain": [
       "Box(children=(Dropdown(description='Implants', index=9, options=('41', 'football', 'TS1', 'TS5', '2002', 'temp…"
      ]
     },
     "execution_count": 34,
     "metadata": {},
     "output_type": "execute_result"
    }
   ],
   "source": [
    "items = [implants_dropdown, holes_dropdown, probes_dropdown]\n",
    "box = Box(children=items)\n",
    "box"
   ]
  },
  {
   "cell_type": "code",
   "execution_count": 35,
   "metadata": {},
   "outputs": [],
   "source": [
    "filter_by_implant(implants_dropdown.value)"
   ]
  },
  {
   "cell_type": "code",
   "execution_count": 90,
   "metadata": {},
   "outputs": [],
   "source": [
    "filter_by_implant_hole(implants_dropdown.value, holes_dropdown.value)"
   ]
  },
  {
   "cell_type": "code",
   "execution_count": 113,
   "metadata": {},
   "outputs": [
    {
     "name": "stdout",
     "output_type": "stream",
     "text": [
      "Implant 2002 Hole A1 Probe A\n",
      "Mice Day: [[632296, 1], [632296, 3], [632295, 1], [632295, 3], [636740, 1], [636740, 3], [637483, 1], [637483, 3], [638387, 1], [638387, 3], [640887, 2], [640887, 4], [637488, 2], [637488, 4], [644867, 1], [644867, 2], [649943, 1], [649943, 2], [642504, 2], [666986, 3], [666986, 4], [667252, 1], [667252, 2], [681532, 2]]\n",
      "Areas: ['ACAd5', 'ACAd6a', 'ACAd6b', 'CA1', 'CA2', 'CA3', 'CL', 'DG-mo', 'DG-po', 'DG-sg', 'Eth', 'FC', 'HPF', 'IMD', 'LD', 'LH', 'LP', 'MB', 'MD', 'MH', 'MOp1', 'MOp2/3', 'MOp5', 'MOp6a', 'MOp6b', 'MOs1', 'MOs2/3', 'MOs5', 'MOs6a', 'MOs6b', 'OP', 'PAG', 'PO', 'PRC', 'PVT', 'RSPagl1', 'RSPagl2/3', 'RSPagl5', 'RSPagl6a', 'RSPagl6b', 'RSPd1', 'RSPd2/3', 'RSPd5', 'RSPd6a', 'RSPd6b', 'RSPv5', 'RSPv6a', 'RSPv6b', 'SPA', 'SSp-ll1', 'SSp-ll2/3', 'SSp-ll4', 'SSp-ll5', 'SSp-ll6a', 'SSp-ll6b', 'SSp-tr1', 'SSp-tr2/3', 'SSp-tr4', 'SSp-tr5', 'SSp-tr6a', 'SSp-tr6b', 'TH', 'Track not annotated', 'V3', 'VL', 'VPMpc', 'alv', 'ccb', 'ccs', 'chpl', 'cing', 'dhc', 'fi', 'fr', 'hbc', 'out of brain', 'root', 'sm']\n",
      "(Warning): Area Track not annotated couldnt be found in this atlas!\n",
      "(Warning): Area out of brain couldnt be found in this atlas!\n"
     ]
    }
   ],
   "source": [
    "call_back_ids, session_list = update_3d_viewer_based_on_trajectory()"
   ]
  },
  {
   "cell_type": "code",
   "execution_count": 36,
   "metadata": {},
   "outputs": [
    {
     "data": {
      "application/vnd.jupyter.widget-view+json": {
       "model_id": "b52e77779c1d4bcdbbf8be34ad709c4c",
       "version_major": 2,
       "version_minor": 0
      },
      "text/plain": [
       "Dropdown(description='CCF Structure Area', options=('ACAd', 'ACAv', 'ACB', 'AD', 'AId', 'AIv', 'AMd', 'AMv', '…"
      ]
     },
     "execution_count": 36,
     "metadata": {},
     "output_type": "execute_result"
    }
   ],
   "source": [
    "unique_areas = electrodes['structure'].unique()\n",
    "unique_areas.sort()\n",
    "area_dropdown = ipywidgets.Dropdown(options=unique_areas, value=unique_areas[0], description='CCF Structure Area', disabled=False)\n",
    "\n",
    "def update_3d_viewer(area: str) -> tuple[list]:\n",
    "    urchin.ccf25.clear()\n",
    "    urchin.clear_meshes()\n",
    "    units_structures_with_bools_dr_area = electrodes[electrodes['structure'] == area]\n",
    "    electrodes_structures_area = electrodes[electrodes['structure'] == area]\n",
    "\n",
    "    print(f\"{area}: {len(electrodes_structures_area['subject_id_x'].unique())} mice\")\n",
    "    print(f\"{area}: {len(electrodes_structures_area['session_id'].unique())} sessions\")\n",
    "    #print(f\"{area}: {len(units_structures_with_bools_dr_area)} units\")\n",
    "\n",
    "    pmeshes = urchin.meshes.create(len(electrodes_structures_area)) #creates 2 primitives, stored in list pmeshes\n",
    "    coords = electrodes_structures_area[['x', 'z', 'y']].to_numpy().tolist()\n",
    "    callback_ids = [mesh.id for mesh in pmeshes]\n",
    "    session_list = electrodes_structures_area[['session_id', 'location_y', 'group_name']].to_numpy().tolist()\n",
    "\n",
    "    urchin.ccf25.root.set_visibility(True)\n",
    "    urchin.ccf25.root.set_material('transparent-lit')\n",
    "    urchin.ccf25.root.set_alpha(0.15)\n",
    "    urchin.ccf25.root.set_color(\"#000000\")\n",
    "\n",
    "    # reorder to AP/ML/DV for Urchin and make a list of lists\n",
    "    coords_list = [[x[0], x[1], x[2]] for x in coords]\n",
    "    print(session_list)\n",
    "    sizes_list = [[0.03,0.03,0.03]]*len(coords)\n",
    "\n",
    "    urchin.meshes.set_positions(pmeshes,coords_list) #sets the positions of the primitives\n",
    "    urchin.meshes.set_colors(pmeshes, get_subject_colors(units_structures_with_bools_dr_area))\n",
    "    urchin.meshes.set_scales(pmeshes, sizes_list)\n",
    "\n",
    "    area_list = urchin.ccf25.get_areas([area])\n",
    "\n",
    "    urchin.ccf25.set_visibilities(area_list, True, urchin.utils.Side.LEFT)\n",
    "    urchin.ccf25.set_materials(area_list, 'transparent-unlit', \"left\")\n",
    "    urchin.ccf25.set_alphas(area_list, 0.2, \"left\")\n",
    "\n",
    "    return callback_ids, session_list\n",
    "\n",
    "area_dropdown\n"
   ]
  },
  {
   "cell_type": "code",
   "execution_count": 37,
   "metadata": {},
   "outputs": [
    {
     "name": "stdout",
     "output_type": "stream",
     "text": [
      "VM: 4 mice\n",
      "VM: 4 sessions\n",
      "[['660023_2023-08-09_0', '2002 E1', 'probeE'], ['660023_2023-08-09_0', '2002 E1', 'probeE'], ['660023_2023-08-09_0', '2002 E1', 'probeE'], ['660023_2023-08-09_0', '2002 E1', 'probeE'], ['660023_2023-08-09_0', '2002 E1', 'probeE'], ['660023_2023-08-09_0', '2002 E1', 'probeE'], ['660023_2023-08-09_0', '2002 E1', 'probeE'], ['660023_2023-08-09_0', '2002 E1', 'probeE'], ['660023_2023-08-09_0', '2002 E1', 'probeE'], ['660023_2023-08-09_0', '2002 E1', 'probeE'], ['668755_2023-08-29_0', '2002 E3', 'probeE'], ['668755_2023-08-29_0', '2002 E3', 'probeE'], ['668755_2023-08-29_0', '2002 E3', 'probeE'], ['668755_2023-08-29_0', '2002 E3', 'probeE'], ['668755_2023-08-29_0', '2002 E3', 'probeE'], ['668755_2023-08-29_0', '2002 E3', 'probeE'], ['668755_2023-08-29_0', '2002 E3', 'probeE'], ['668755_2023-08-29_0', '2002 E3', 'probeE'], ['668755_2023-08-29_0', '2002 E3', 'probeE'], ['668755_2023-08-29_0', '2002 E3', 'probeE'], ['668755_2023-08-29_0', '2002 E3', 'probeE'], ['668755_2023-08-29_0', '2002 E3', 'probeE'], ['668755_2023-08-29_0', '2002 E3', 'probeE'], ['668755_2023-08-29_0', '2002 E3', 'probeE'], ['668755_2023-08-29_0', '2002 E3', 'probeE'], ['668755_2023-08-29_0', '2002 E3', 'probeE'], ['668755_2023-08-29_0', '2002 E3', 'probeE'], ['668759_2023-07-13_0', 'Templeton A1', 'probeB'], ['668759_2023-07-13_0', 'Templeton A1', 'probeB'], ['703333_2024-04-09_0', '2006 C2', 'probeC'], ['703333_2024-04-09_0', '2006 C2', 'probeC'], ['703333_2024-04-09_0', '2006 C2', 'probeC']]\n"
     ]
    }
   ],
   "source": [
    "call_back_ids, session_list = update_3d_viewer(area_dropdown.value)"
   ]
  },
  {
   "cell_type": "code",
   "execution_count": null,
   "metadata": {},
   "outputs": [],
   "source": [
    "area_dropdown_min_distance = ipywidgets.Dropdown(options=areas_of_interest, value=areas_of_interest[0], description='Areas for min distance viewer', disabled=False)\n",
    "area_dropdown_min_distance"
   ]
  },
  {
   "cell_type": "code",
   "execution_count": null,
   "metadata": {},
   "outputs": [],
   "source": [
    "@interact(min_distance_to_area=(250, 500))\n",
    "def min_distance_viewer(min_distance_to_area=300):\n",
    "    urchin.ccf25.clear()\n",
    "    urchin.clear_meshes()\n",
    "\n",
    "    probe_target_sessions = df_min_distance[(df_min_distance[area_dropdown_min_distance.value] / 25) <= min_distance_to_area]\n",
    "    probe_target_sessions_filtered = []\n",
    "    for session in probe_target_sessions['session'].tolist():\n",
    "        try:\n",
    "            session_record = npc_session.SessionRecord(session)\n",
    "            probe_target_sessions_filtered.append(f\"{session_record.subject}_{session_record.date}_{session_record.idx}\")\n",
    "        except ValueError:\n",
    "            pass\n",
    "    \n",
    "    electrodes_sessions = electrodes[electrodes['session_id'].isin(probe_target_sessions_filtered)]\n",
    "    electrodes_sessions = electrodes_sessions[electrodes_sessions['structure'] == area_dropdown_min_distance.value]\n",
    "    pmeshes = urchin.meshes.create(len(electrodes_sessions)) #creates 2 primitives, stored in list pmeshes\n",
    "    coords = electrodes_sessions[['x', 'z', 'y']].to_numpy().tolist()\n",
    "   \n",
    "    print(f\"Sessions: {electrodes_sessions['session_id'].unique().tolist()}\")\n",
    "  \n",
    "    \n",
    "    urchin.ccf25.root.set_visibility(True)\n",
    "    urchin.ccf25.root.set_material('transparent-lit')\n",
    "    urchin.ccf25.root.set_alpha(0.15)\n",
    "    urchin.ccf25.root.set_color(\"#000000\")\n",
    "\n",
    "    # reorder to AP/ML/DV for Urchin and make a list of lists\n",
    "    coords_list = [[x[0], x[1], x[2]] for x in coords]\n",
    "    session_list = electrodes_sessions['session_id'].tolist()\n",
    "    sizes_list = [[0.07,0.07,0.07]]*len(coords)\n",
    "\n",
    "    urchin.meshes.set_positions(pmeshes,coords_list) #sets the positions of the primitives\n",
    "    urchin.meshes.set_colors(pmeshes, get_subject_colors(electrodes_sessions))\n",
    "    urchin.meshes.set_scales(pmeshes, sizes_list)\n",
    "\n",
    "    area_list = urchin.ccf25.get_areas(electrodes_sessions['structure'].unique().tolist())\n",
    "    urchin.ccf25.set_visibilities(area_list, True, urchin.utils.Side.LEFT)\n",
    "    urchin.ccf25.set_materials(area_list, 'transparent-unlit', \"left\")\n",
    "    urchin.ccf25.set_alphas(area_list, 0.2, \"left\")\n",
    "    "
   ]
  },
  {
   "cell_type": "code",
   "execution_count": null,
   "metadata": {},
   "outputs": [],
   "source": [
    "counts = {'area': [], 'num_units': [], 'num_sessions': [], 'num_subjects': []}\n",
    "units_structure_areas_no_white_matter = units_structures_with_bools_dr[~(units_structures_with_bools_dr['structure'].str.islower())]\n",
    "for area in units_structure_areas_no_white_matter['structure'].unique():\n",
    "    units_structure_areas = units_structure_areas_no_white_matter[units_structure_areas_no_white_matter['structure'] == area]\n",
    "    counts['area'].append(area)\n",
    "    counts['num_sessions'].append(len(units_structure_areas['session_id'].unique()))\n",
    "    counts['num_subjects'].append(len(units_structure_areas['subject_id_x'].unique()))\n",
    "    counts['num_units'].append(len(units_structure_areas))\n",
    "\n",
    "df_counts = pd.DataFrame(counts)"
   ]
  },
  {
   "cell_type": "code",
   "execution_count": null,
   "metadata": {},
   "outputs": [],
   "source": [
    "df_counts.style.applymap(lambda x: 'background-color : red' if x>=3 else '', subset=['num_subjects']).applymap(lambda x: 'background-color : red' if x>150 else '', subset=['num_units'])"
   ]
  },
  {
   "cell_type": "code",
   "execution_count": 45,
   "metadata": {},
   "outputs": [],
   "source": [
    "import zarr\n",
    "times = zarr.open(npc_lims.get_cache_path('spike_times', version='any'))"
   ]
  },
  {
   "cell_type": "code",
   "execution_count": 46,
   "metadata": {},
   "outputs": [],
   "source": [
    "from IPython.display import display, Image, clear_output\n",
    "import matplotlib.pyplot as plt\n",
    "%matplotlib inline\n",
    "\n",
    "def display_session_trajectory(index: str):\n",
    "    session = session_list[call_back_ids.index(index)]\n",
    "    session_id = npc_session.SessionRecord(session[0])\n",
    "    hole_implant = session[1]\n",
    "    probe = session[2]\n",
    "    clicked_unit_id = session[3]\n",
    "    clear_output()\n",
    "    display(session)\n",
    "    unit_ids_session_probe_hole = units_structures_with_bools_dr[(units_structures_with_bools_dr['session_id'] == session_id)\n",
    "                                    & (units_structures_with_bools_dr['location_y'] == hole_implant)\n",
    "                                    & (units_structures_with_bools_dr['structure'] == area_dropdown.value)\n",
    "                                    & (units_structures_with_bools_dr['group_name'] == probe)]['unit_id'].tolist()\n",
    "    #display(unit_ids_session_probe_hole)\n",
    "    fig = dr.plot_unit_by_id(clicked_unit_id, times[f'/{session_id.subject}_{session_id.date}/{clicked_unit_id}'][:])\n",
    "    display(fig)\n",
    "    plt.close(fig)\n",
    "    unit_ids_session_probe_hole.remove(clicked_unit_id)\n",
    "    for unit_id in unit_ids_session_probe_hole[0:5]:\n",
    "        fig = dr.plot_unit_by_id(unit_id, times[f'/{session_id.subject}_{session_id.date}/{unit_id}'][:])\n",
    "        display(fig)\n",
    "        plt.close(fig)\n",
    "    \n",
    "urchin.meshes.callback = display_session_trajectory"
   ]
  },
  {
   "cell_type": "code",
   "execution_count": null,
   "metadata": {},
   "outputs": [],
   "source": []
  }
 ],
 "metadata": {
  "kernelspec": {
   "display_name": "dr_summary",
   "language": "python",
   "name": "python3"
  },
  "language_info": {
   "codemirror_mode": {
    "name": "ipython",
    "version": 3
   },
   "file_extension": ".py",
   "mimetype": "text/x-python",
   "name": "python",
   "nbconvert_exporter": "python",
   "pygments_lexer": "ipython3",
   "version": "3.10.13"
  }
 },
 "nbformat": 4,
 "nbformat_minor": 2
}
